{
 "cells": [
  {
   "cell_type": "code",
   "execution_count": 1,
   "metadata": {},
   "outputs": [],
   "source": [
    "import pandas as pd\n",
    "import numpy as np\n",
    "import matplotlib.pyplot as plt\n",
    "from statistics import mean"
   ]
  },
  {
   "cell_type": "code",
   "execution_count": 2,
   "metadata": {},
   "outputs": [],
   "source": [
    "train_df_path =\"/scratch/gobi2/projects/ml4h/datasets/CheXpert/split/July19/new_train.csv\"\n",
    "test_df_path =\"/scratch/gobi2/projects/ml4h/datasets/CheXpert/split/July19/new_test.csv\"\n",
    "val_df_path = \"/scratch/gobi2/projects/ml4h/datasets/CheXpert/split/July19/new_valid.csv\"\n",
    "\n",
    "val_df = pd.read_csv(val_df_path)\n",
    "train_df = pd.read_csv(train_df_path)\n",
    "test_df = pd.read_csv(test_df_path)"
   ]
  },
  {
   "cell_type": "code",
   "execution_count": 3,
   "metadata": {},
   "outputs": [
    {
     "name": "stdout",
     "output_type": "stream",
     "text": [
      "178352\n",
      "23022\n",
      "22274\n"
     ]
    }
   ],
   "source": [
    "print(len(train_df))\n",
    "print(len(val_df))\n",
    "print(len(test_df))"
   ]
  },
  {
   "cell_type": "code",
   "execution_count": null,
   "metadata": {},
   "outputs": [],
   "source": [
    "WholeData = test_df.append([val_df, train_df])"
   ]
  },
  {
   "cell_type": "code",
   "execution_count": null,
   "metadata": {
    "scrolled": false
   },
   "outputs": [],
   "source": [
    "WholeData.head(5)"
   ]
  },
  {
   "cell_type": "code",
   "execution_count": null,
   "metadata": {},
   "outputs": [],
   "source": [
    "WholeDataX =WholeData.groupby(\"Sex\")\n",
    "WholeDataX_df = WholeDataX.describe()\n",
    "WholeDataX_df"
   ]
  },
  {
   "cell_type": "code",
   "execution_count": null,
   "metadata": {},
   "outputs": [],
   "source": [
    "print(\"Number of images:\",len(WholeData) )\n",
    "Whole =WholeData.groupby(\"subject_id\")\n",
    "print(\"Number of unique patients:\",len(Whole.count()) )"
   ]
  },
  {
   "cell_type": "code",
   "execution_count": null,
   "metadata": {},
   "outputs": [],
   "source": [
    "dfWhole_Sex = WholeDataX_df[\"subject_id\"]['count']\n",
    "total_CXP= dfWhole_Sex[\"Female\"]+dfWhole_Sex[\"Male\"]\n",
    "Male_percent = 100*dfWhole_Sex[\"Male\"]/total_CXP\n",
    "print(\"Male Percent:  \",Male_percent)\n",
    "\n",
    "print(\"female Percent:  \",100*dfWhole_Sex[\"Female\"]/total_CXP)\n",
    "print(\"#images\",total_CXP) "
   ]
  },
  {
   "cell_type": "code",
   "execution_count": null,
   "metadata": {},
   "outputs": [],
   "source": [
    "print(\"male\",.8*59.2435184354535 + 0.1*(60.5638085309704  + 59.0778486127323))\n",
    "print(\"0-20\",.8*0.867946532699381 + 0.1*( 0.716705759708105 + 1.01912543773009))\n",
    "print(\"40-60\",.8*30.8726563200861 + 0.1*(32.3386326122839 + 30.6904911556074 ))"
   ]
  },
  {
   "cell_type": "code",
   "execution_count": null,
   "metadata": {},
   "outputs": [],
   "source": [
    "WholeData['Sex'].value_counts()"
   ]
  },
  {
   "cell_type": "code",
   "execution_count": null,
   "metadata": {},
   "outputs": [],
   "source": [
    "WholeData_020= WholeData[(WholeData['Age'] >= 0) & (WholeData['Age'] <= 19)]\n",
    "WholeData_2040= WholeData[(WholeData['Age'] >= 20) & (WholeData['Age'] <= 39)]\n",
    "WholeData_4060= WholeData[(WholeData['Age'] >= 40) & (WholeData['Age'] <= 59)]\n",
    "WholeData_6080= WholeData[(WholeData['Age'] >= 60) & (WholeData['Age'] <= 79)]\n",
    "WholeData_80= WholeData[(WholeData['Age'] >= 80) ]\n",
    "totalAgeCXP=len(WholeData_020)+len(WholeData_2040)+len(WholeData_4060)+len(WholeData_6080)+len(WholeData_80)\n"
   ]
  },
  {
   "cell_type": "code",
   "execution_count": null,
   "metadata": {},
   "outputs": [],
   "source": [
    "print(\"'0-20' Percent:  \",100*len(WholeData_020)/totalAgeCXP)\n",
    "print(\"'20-40' Percent:  \",100*len(WholeData_2040)/totalAgeCXP)\n",
    "print(\"'40-60' Percent:  \",100*len(WholeData_4060)/totalAgeCXP)\n",
    "print(\"'60-80' Percent:  \",100*len(WholeData_6080)/totalAgeCXP)\n",
    "print(\"'80-' Percent:  \",100*len(WholeData_80)/totalAgeCXP)\n",
    "16.010874230934327+38.93752682787237+31.005419230218916+13.178745170982973+0.8674345399914151"
   ]
  },
  {
   "cell_type": "code",
   "execution_count": null,
   "metadata": {},
   "outputs": [],
   "source": [
    "Eval5 = pd.read_csv(\"./results90/Eval5.csv\")\n",
    "Eval4= pd.read_csv(\"./results56/Eval4.csv\")\n",
    "Eval3 = pd.read_csv(\"./results60/Eval3.csv\")\n",
    "Eval2 = pd.read_csv(\"./results32/Eval2.csv\")\n",
    "Eval1 = pd.read_csv(\"./results40/Eval1.csv\")"
   ]
  },
  {
   "cell_type": "code",
   "execution_count": null,
   "metadata": {},
   "outputs": [],
   "source": [
    "Evalall = Eval1[['label','auc']]\n",
    "\n",
    "Evalall[\"auc2\"]=Eval2['auc']\n",
    "Evalall[\"auc3\"]=Eval3['auc']\n",
    "Evalall[\"auc4\"]=Eval4['auc']\n",
    "Evalall[\"auc5\"]=Eval5['auc']\n",
    "Evalall"
   ]
  },
  {
   "cell_type": "code",
   "execution_count": null,
   "metadata": {},
   "outputs": [],
   "source": [
    "Evalall.mean(axis=0)"
   ]
  },
  {
   "cell_type": "code",
   "execution_count": null,
   "metadata": {},
   "outputs": [],
   "source": [
    "print(\"CXP Mean of 14 aucs mean over 5 run:     \",round(Evalall.mean(axis=0).mean(),3))\n",
    "print(\"CXP Confidence interval of 14 aucs mean over 5 run:   \",round(1.96 * Evalall.mean(axis=0).std()/np.sqrt(5) ,3 ) )"
   ]
  },
  {
   "cell_type": "code",
   "execution_count": null,
   "metadata": {},
   "outputs": [],
   "source": [
    "print(\"CXP Mean of auce per disease over 5 run:     \")\n",
    "round(Evalall.mean(axis=1),3)"
   ]
  },
  {
   "cell_type": "code",
   "execution_count": null,
   "metadata": {},
   "outputs": [],
   "source": [
    "print(\"CXP Confidence interval of auce per disease over 5 run:     \")\n",
    "round(1.96 * Evalall.std(axis=1)/ np.sqrt(5),3)"
   ]
  },
  {
   "cell_type": "markdown",
   "metadata": {},
   "source": [
    "## Subgroup-specific underdiagnosis rate"
   ]
  },
  {
   "cell_type": "markdown",
   "metadata": {},
   "source": [
    "### Age"
   ]
  },
  {
   "cell_type": "code",
   "execution_count": null,
   "metadata": {},
   "outputs": [],
   "source": [
    "FP5_age = pd.read_csv(\"./results90/FP5_age.csv\")\n",
    "FP4_age= pd.read_csv(\"./results56/FP4_age.csv\")\n",
    "FP3_age = pd.read_csv(\"./results60/FP3_age.csv\")\n",
    "FP2_age = pd.read_csv(\"./results32/FP2_age.csv\")\n",
    "FP1_age = pd.read_csv(\"./results40/FP1_age.csv\")\n",
    "FP_age = FP1_age.append([FP2_age, FP3_age,FP4_age, FP5_age])\n",
    "F_age_df = FP_age.describe()"
   ]
  },
  {
   "cell_type": "code",
   "execution_count": null,
   "metadata": {},
   "outputs": [],
   "source": [
    "print(\"FPR distribiution in ages\")\n",
    "print(round(F_age_df.loc['mean'],3))"
   ]
  },
  {
   "cell_type": "code",
   "execution_count": null,
   "metadata": {},
   "outputs": [],
   "source": [
    "round(1.96 * F_age_df.loc['std'] / np.sqrt(5),3)"
   ]
  },
  {
   "cell_type": "code",
   "execution_count": null,
   "metadata": {},
   "outputs": [],
   "source": [
    "print(\"CXP: Mean FPR distribiution over ages\")\n",
    "mean([F_age_df.loc['mean'][\"60-80\"], F_age_df.loc['mean'][\"40-60\"],\n",
    "       F_age_df.loc['mean'][\"20-40\"], F_age_df.loc['mean'][\"0-20\"],\n",
    "       F_age_df.loc['mean'][\"80-\"]])"
   ]
  },
  {
   "cell_type": "code",
   "execution_count": null,
   "metadata": {},
   "outputs": [],
   "source": [
    "FP5_age = pd.read_csv(\"./results90/FPR5_FNR_NF_age.csv\")\n",
    "FP4_age= pd.read_csv(\"./results56/FPR4_FNR_NF_age.csv\")\n",
    "FP3_age = pd.read_csv(\"./results60/FPR3_FNR_NF_age.csv\")\n",
    "FP2_age = pd.read_csv(\"./results32/FPR2_FNR_NF_age.csv\")\n",
    "FP1_age = pd.read_csv(\"./results40/FPR1_FNR_NF_age.csv\")\n",
    "FP_age = FP1_age.append([FP2_age, FP3_age,FP4_age, FP5_age])\n",
    "F_age_df = FP_age.describe()"
   ]
  },
  {
   "cell_type": "code",
   "execution_count": null,
   "metadata": {},
   "outputs": [],
   "source": [
    "Age = ['0-20','20-40','40-60','60-80','80-' ]\n",
    "FPR_FNR_Age_df = pd.DataFrame(Age, columns=[\"Age\"])\n",
    "\n",
    "def FiveRunSubgroup(factors, df_in, df_out):\n",
    "    FPR = []\n",
    "    FNR = []\n",
    "    Percent = []\n",
    "    CI_FPR =[]\n",
    "    CI_FNR =[]\n",
    "    ConfI = 1.96 * df_in.loc['std'] / np.sqrt(5)\n",
    "    \n",
    "    for fact in factors:\n",
    "        Percent.append(round(df_in.loc['mean']['#'+fact],3))\n",
    "        FPR.append(round(df_in.loc['mean']['FPR_'+fact],3))\n",
    "        FNR.append(round(df_in.loc['mean']['FNR_'+fact],3))\n",
    "        CI_FPR.append(round(ConfI.loc['FPR_'+fact],3))\n",
    "        CI_FNR.append(round(ConfI.loc['FNR_'+fact],3))     \n",
    "        \n",
    "    df_out['#'] = Percent    \n",
    "    df_out['FPR']=FPR \n",
    "    df_out['CI_FPR']=CI_FPR  \n",
    "\n",
    "    df_out['FNR']=FNR \n",
    "    df_out['CI_FNR']=CI_FNR\n",
    "\n",
    "    return df_out\n",
    "\n",
    "FPR_FNR_Age_df=FiveRunSubgroup(Age, F_age_df, FPR_FNR_Age_df)\n",
    "FPR_FNR_Age_df.to_csv('./results/Subgroun_FNR_FPR_Age.csv')\n",
    "FPR_FNR_Age_df"
   ]
  },
  {
   "cell_type": "code",
   "execution_count": null,
   "metadata": {},
   "outputs": [],
   "source": []
  },
  {
   "cell_type": "code",
   "execution_count": null,
   "metadata": {},
   "outputs": [],
   "source": []
  },
  {
   "cell_type": "markdown",
   "metadata": {},
   "source": [
    "### Sex"
   ]
  },
  {
   "cell_type": "code",
   "execution_count": null,
   "metadata": {},
   "outputs": [],
   "source": [
    "FP5_sex = pd.read_csv(\"./results90/FP5_sex.csv\")\n",
    "FP4_sex= pd.read_csv(\"./results56/FP4_sex.csv\")\n",
    "FP3_sex = pd.read_csv(\"./results60/FP3_sex.csv\")\n",
    "FP2_sex = pd.read_csv(\"./results32/FP2_sex.csv\")\n",
    "FP1_sex = pd.read_csv(\"./results40/FP1_sex.csv\")\n",
    "FP_sex = FP1_sex.append([FP2_sex, FP3_sex,FP4_sex, FP5_sex])\n",
    "F_sex_df = FP_sex.describe()"
   ]
  },
  {
   "cell_type": "code",
   "execution_count": null,
   "metadata": {},
   "outputs": [],
   "source": [
    "print(\"FPR distribiution in sexes\")\n",
    "print(round(F_sex_df.loc['mean'],3))"
   ]
  },
  {
   "cell_type": "code",
   "execution_count": null,
   "metadata": {},
   "outputs": [],
   "source": [
    "print(\"FPR distribiution in sexes Confidence interval\")\n",
    "round(1.96 * F_sex_df.loc['std'] / np.sqrt(5),3)"
   ]
  },
  {
   "cell_type": "code",
   "execution_count": null,
   "metadata": {},
   "outputs": [],
   "source": [
    "print(\"CXP: Mean FPR distribiution over sexes\")\n",
    "mean([F_sex_df.loc['mean'][\"F\"], F_sex_df.loc['mean'][\"M\"]])"
   ]
  },
  {
   "cell_type": "code",
   "execution_count": null,
   "metadata": {},
   "outputs": [],
   "source": [
    "FP5_sex = pd.read_csv(\"./results90/FPR5_FNR_NF_sex.csv\")\n",
    "FP4_sex= pd.read_csv(\"./results56/FPR4_FNR_NF_sex.csv\")\n",
    "FP3_sex = pd.read_csv(\"./results60/FPR3_FNR_NF_sex.csv\")\n",
    "FP2_sex = pd.read_csv(\"./results32/FPR2_FNR_NF_sex.csv\")\n",
    "FP1_sex = pd.read_csv(\"./results40/FPR1_FNR_NF_sex.csv\")\n",
    "FP_sex = FP1_sex.append([FP2_sex, FP3_sex,FP4_sex, FP5_sex])\n",
    "F_sex_df = FP_sex.describe()"
   ]
  },
  {
   "cell_type": "code",
   "execution_count": null,
   "metadata": {},
   "outputs": [],
   "source": [
    "Sex = ['M','F' ]\n",
    "FPR_FNR_sex_df = pd.DataFrame(Sex, columns=[\"sex\"])\n",
    "\n",
    "FPR_FNR_sex_df=FiveRunSubgroup(Sex, F_sex_df, FPR_FNR_sex_df)\n",
    "FPR_FNR_sex_df.to_csv('./results/Subgroun_FNR_FPR_Sex.csv')\n",
    "FPR_FNR_sex_df"
   ]
  },
  {
   "cell_type": "markdown",
   "metadata": {},
   "source": [
    "# Intersectional identity"
   ]
  },
  {
   "cell_type": "code",
   "execution_count": null,
   "metadata": {},
   "outputs": [],
   "source": [
    "FP5_agesex = pd.read_csv(\"./results90/FP5_AgeSex.csv\")\n",
    "FP4_agesex= pd.read_csv(\"./results56/FP4_AgeSex.csv\")\n",
    "FP3_agesex = pd.read_csv(\"./results60/FP3_AgeSex.csv\")\n",
    "FP2_agesex = pd.read_csv(\"./results32/FP2_AgeSex.csv\")\n",
    "FP1_agesex = pd.read_csv(\"./results40/FP1_AgeSex.csv\")\n",
    "FP_agesex = FP1_agesex.append([FP2_agesex, FP3_agesex,FP4_agesex, FP5_agesex])\n",
    "FP_AgeSex =FP_agesex.groupby(\"SexAge\")                                     "
   ]
  },
  {
   "cell_type": "code",
   "execution_count": null,
   "metadata": {},
   "outputs": [],
   "source": [
    "FP_AgSx_df = FP_AgeSex.describe()"
   ]
  },
  {
   "cell_type": "code",
   "execution_count": null,
   "metadata": {},
   "outputs": [],
   "source": [
    "print(\"Age-Sex over male\")\n",
    "round(FP_AgSx_df['M']['mean'],3)"
   ]
  },
  {
   "cell_type": "code",
   "execution_count": null,
   "metadata": {},
   "outputs": [],
   "source": [
    "print(\"mean: \", round(FP_AgSx_df['M']['mean'],3).mean() )"
   ]
  },
  {
   "cell_type": "code",
   "execution_count": null,
   "metadata": {},
   "outputs": [],
   "source": [
    "round(1.96 * FP_AgSx_df['M'][\"std\"] / np.sqrt(5),3)"
   ]
  },
  {
   "cell_type": "code",
   "execution_count": null,
   "metadata": {},
   "outputs": [],
   "source": [
    "round(FP_AgSx_df['F']['mean'],3)"
   ]
  },
  {
   "cell_type": "code",
   "execution_count": null,
   "metadata": {},
   "outputs": [],
   "source": [
    "round(1.96 * FP_AgSx_df['F'][\"std\"] / np.sqrt(5),3)"
   ]
  },
  {
   "cell_type": "code",
   "execution_count": null,
   "metadata": {},
   "outputs": [],
   "source": [
    "print(\"mean: \", round(FP_AgSx_df['F']['mean'],3).mean() )"
   ]
  },
  {
   "cell_type": "code",
   "execution_count": null,
   "metadata": {},
   "outputs": [],
   "source": [
    "factors = ['F', 'M']\n",
    "age =['0-20', '20-40', '40-60', '60-80','80-']\n",
    "AgeSex_df = pd.DataFrame(age, columns=[\"Age\"])\n",
    "Num_df =  pd.read_csv(\"./results40/Num_AgeSex.csv\")\n",
    "\n",
    "\n",
    "def FiveRun(factors,want_df,df,Num):\n",
    "    for factor in factors:    \n",
    "        dfM0 = round(df[factor]['mean'],3)\n",
    "        dfM2 = round(1.96 * df[factor][\"std\"] / np.sqrt(5),3)\n",
    "        want_df[factor] = pd.DataFrame(dfM0.values.tolist(),columns =[factor])\n",
    "        want_df['CI_'+factor] = pd.DataFrame(dfM2.values.tolist(),columns =['CI_'+factor])\n",
    "        \n",
    "        Num['Num_'+factor] = Num[factor]\n",
    "    \n",
    "    Num = Num.drop(factors,axis=1)\n",
    "    want_df = want_df.merge(Num,left_on=\"Age\", right_on=\"Age\")\n",
    "    \n",
    "    return want_df\n",
    "\n",
    "want = FiveRun(factors,AgeSex_df,FP_AgSx_df,Num_df)\n",
    "want.to_csv('./results/Inter_AgeSex.csv')\n",
    "want"
   ]
  },
  {
   "cell_type": "markdown",
   "metadata": {},
   "source": [
    "## New from NIH"
   ]
  },
  {
   "cell_type": "code",
   "execution_count": 2,
   "metadata": {},
   "outputs": [],
   "source": [
    "def FiveRunSubgroup(factors, df_in, df_out):\n",
    "    FPR = []\n",
    "    FNR = []\n",
    "    Num_NNF = []\n",
    "    Num_PNF = []\n",
    "    CI_FPR =[]\n",
    "    CI_FNR =[]\n",
    "    ConfI = 1.96 * df_in.loc['std'] / np.sqrt(5)\n",
    "    \n",
    "    for fact in factors:\n",
    "        Num_NNF.append(round(df_in.loc['mean']['#NNF_'+fact],3))\n",
    "        Num_PNF.append(round(df_in.loc['mean']['#PNF_'+fact],3))\n",
    "        FPR.append(round(df_in.loc['mean']['FPR_'+fact],3))\n",
    "        FNR.append(round(df_in.loc['mean']['FNR_'+fact],3))\n",
    "        CI_FPR.append(round(ConfI.loc['FPR_'+fact],3))\n",
    "        CI_FNR.append(round(ConfI.loc['FNR_'+fact],3))     \n",
    "        \n",
    "    df_out['#NNF'] = Num_NNF\n",
    "    df_out['#PNF'] = Num_PNF\n",
    "    \n",
    "    df_out['FPR']=FPR \n",
    "    df_out['CI_FPR']=CI_FPR  \n",
    "\n",
    "    df_out['FNR']=FNR \n",
    "    df_out['CI_FNR']=CI_FNR\n",
    "\n",
    "    return df_out\n"
   ]
  },
  {
   "cell_type": "code",
   "execution_count": 3,
   "metadata": {},
   "outputs": [],
   "source": [
    "FP5_sex = pd.read_csv(\"./results32/FPRFNR_NF_sex.csv\")\n",
    "FP4_sex= pd.read_csv(\"./results40/FPRFNR_NF_sex.csv\")\n",
    "FP3_sex = pd.read_csv(\"./results56/FPRFNR_NF_sex.csv\")\n",
    "FP2_sex = pd.read_csv(\"./results60/FPRFNR_NF_sex.csv\")\n",
    "FP1_sex = pd.read_csv(\"./results90/FPRFNR_NF_sex.csv\")\n",
    "FP_sex = FP1_sex.append([FP2_sex, FP3_sex,FP4_sex, FP5_sex])\n",
    "F_sex_df = FP_sex.describe()"
   ]
  },
  {
   "cell_type": "code",
   "execution_count": 4,
   "metadata": {},
   "outputs": [
    {
     "data": {
      "text/html": [
       "<div>\n",
       "<style scoped>\n",
       "    .dataframe tbody tr th:only-of-type {\n",
       "        vertical-align: middle;\n",
       "    }\n",
       "\n",
       "    .dataframe tbody tr th {\n",
       "        vertical-align: top;\n",
       "    }\n",
       "\n",
       "    .dataframe thead th {\n",
       "        text-align: right;\n",
       "    }\n",
       "</style>\n",
       "<table border=\"1\" class=\"dataframe\">\n",
       "  <thead>\n",
       "    <tr style=\"text-align: right;\">\n",
       "      <th></th>\n",
       "      <th>sex</th>\n",
       "      <th>#NNF</th>\n",
       "      <th>#PNF</th>\n",
       "      <th>FPR</th>\n",
       "      <th>CI_FPR</th>\n",
       "      <th>FNR</th>\n",
       "      <th>CI_FNR</th>\n",
       "    </tr>\n",
       "  </thead>\n",
       "  <tbody>\n",
       "    <tr>\n",
       "      <th>0</th>\n",
       "      <td>M</td>\n",
       "      <td>11842.0</td>\n",
       "      <td>1317.0</td>\n",
       "      <td>0.093</td>\n",
       "      <td>0.006</td>\n",
       "      <td>0.357</td>\n",
       "      <td>0.018</td>\n",
       "    </tr>\n",
       "    <tr>\n",
       "      <th>1</th>\n",
       "      <td>F</td>\n",
       "      <td>8149.0</td>\n",
       "      <td>966.0</td>\n",
       "      <td>0.101</td>\n",
       "      <td>0.006</td>\n",
       "      <td>0.301</td>\n",
       "      <td>0.014</td>\n",
       "    </tr>\n",
       "  </tbody>\n",
       "</table>\n",
       "</div>"
      ],
      "text/plain": [
       "  sex     #NNF    #PNF    FPR  CI_FPR    FNR  CI_FNR\n",
       "0   M  11842.0  1317.0  0.093   0.006  0.357   0.018\n",
       "1   F   8149.0   966.0  0.101   0.006  0.301   0.014"
      ]
     },
     "execution_count": 4,
     "metadata": {},
     "output_type": "execute_result"
    }
   ],
   "source": [
    "Sex = ['M','F' ]\n",
    "FPR_FNR_sex_df = pd.DataFrame(Sex, columns=[\"sex\"])\n",
    "FPR_FNR_sex_df=FiveRunSubgroup(Sex, F_sex_df, FPR_FNR_sex_df)\n",
    "FPR_FNR_sex_df"
   ]
  },
  {
   "cell_type": "code",
   "execution_count": 4,
   "metadata": {},
   "outputs": [
    {
     "data": {
      "text/plain": [
       "22274"
      ]
     },
     "execution_count": 4,
     "metadata": {},
     "output_type": "execute_result"
    }
   ],
   "source": [
    "1317+966+11842+8149"
   ]
  },
  {
   "cell_type": "code",
   "execution_count": 5,
   "metadata": {},
   "outputs": [],
   "source": [
    "FP5_age = pd.read_csv(\"./results32/FPRFNR_NF_age.csv\")\n",
    "FP4_age= pd.read_csv(\"./results40/FPRFNR_NF_age.csv\")\n",
    "FP3_age = pd.read_csv(\"./results56/FPRFNR_NF_age.csv\")\n",
    "FP2_age = pd.read_csv(\"./results60/FPRFNR_NF_age.csv\")\n",
    "FP1_age = pd.read_csv(\"./results90/FPRFNR_NF_age.csv\")\n",
    "FP_age = FP1_age.append([FP2_age, FP3_age,FP4_age, FP5_age])\n",
    "F_age_df = FP_age.describe()"
   ]
  },
  {
   "cell_type": "code",
   "execution_count": 6,
   "metadata": {},
   "outputs": [
    {
     "data": {
      "text/html": [
       "<div>\n",
       "<style scoped>\n",
       "    .dataframe tbody tr th:only-of-type {\n",
       "        vertical-align: middle;\n",
       "    }\n",
       "\n",
       "    .dataframe tbody tr th {\n",
       "        vertical-align: top;\n",
       "    }\n",
       "\n",
       "    .dataframe thead th {\n",
       "        text-align: right;\n",
       "    }\n",
       "</style>\n",
       "<table border=\"1\" class=\"dataframe\">\n",
       "  <thead>\n",
       "    <tr style=\"text-align: right;\">\n",
       "      <th></th>\n",
       "      <th>Age</th>\n",
       "      <th>#NNF</th>\n",
       "      <th>#PNF</th>\n",
       "      <th>FPR</th>\n",
       "      <th>CI_FPR</th>\n",
       "      <th>FNR</th>\n",
       "      <th>CI_FNR</th>\n",
       "    </tr>\n",
       "  </thead>\n",
       "  <tbody>\n",
       "    <tr>\n",
       "      <th>0</th>\n",
       "      <td>0-20</td>\n",
       "      <td>185.0</td>\n",
       "      <td>42.0</td>\n",
       "      <td>0.164</td>\n",
       "      <td>0.019</td>\n",
       "      <td>0.281</td>\n",
       "      <td>0.038</td>\n",
       "    </tr>\n",
       "    <tr>\n",
       "      <th>1</th>\n",
       "      <td>20-40</td>\n",
       "      <td>2337.0</td>\n",
       "      <td>595.0</td>\n",
       "      <td>0.206</td>\n",
       "      <td>0.010</td>\n",
       "      <td>0.164</td>\n",
       "      <td>0.014</td>\n",
       "    </tr>\n",
       "    <tr>\n",
       "      <th>2</th>\n",
       "      <td>40-60</td>\n",
       "      <td>5950.0</td>\n",
       "      <td>886.0</td>\n",
       "      <td>0.134</td>\n",
       "      <td>0.007</td>\n",
       "      <td>0.267</td>\n",
       "      <td>0.016</td>\n",
       "    </tr>\n",
       "    <tr>\n",
       "      <th>3</th>\n",
       "      <td>60-80</td>\n",
       "      <td>7990.0</td>\n",
       "      <td>624.0</td>\n",
       "      <td>0.069</td>\n",
       "      <td>0.005</td>\n",
       "      <td>0.497</td>\n",
       "      <td>0.018</td>\n",
       "    </tr>\n",
       "    <tr>\n",
       "      <th>4</th>\n",
       "      <td>80-</td>\n",
       "      <td>3529.0</td>\n",
       "      <td>136.0</td>\n",
       "      <td>0.019</td>\n",
       "      <td>0.004</td>\n",
       "      <td>0.768</td>\n",
       "      <td>0.046</td>\n",
       "    </tr>\n",
       "  </tbody>\n",
       "</table>\n",
       "</div>"
      ],
      "text/plain": [
       "     Age    #NNF   #PNF    FPR  CI_FPR    FNR  CI_FNR\n",
       "0   0-20   185.0   42.0  0.164   0.019  0.281   0.038\n",
       "1  20-40  2337.0  595.0  0.206   0.010  0.164   0.014\n",
       "2  40-60  5950.0  886.0  0.134   0.007  0.267   0.016\n",
       "3  60-80  7990.0  624.0  0.069   0.005  0.497   0.018\n",
       "4    80-  3529.0  136.0  0.019   0.004  0.768   0.046"
      ]
     },
     "execution_count": 6,
     "metadata": {},
     "output_type": "execute_result"
    }
   ],
   "source": [
    "Age = ['0-20','20-40','40-60','60-80','80-' ]\n",
    "FPR_FNR_Age_df = pd.DataFrame(Age, columns=[\"Age\"])\n",
    "FPR_FNR_Age_df=FiveRunSubgroup(Age, F_age_df, FPR_FNR_Age_df)\n",
    "FPR_FNR_Age_df"
   ]
  },
  {
   "cell_type": "code",
   "execution_count": 5,
   "metadata": {},
   "outputs": [
    {
     "data": {
      "text/plain": [
       "22274"
      ]
     },
     "execution_count": 5,
     "metadata": {},
     "output_type": "execute_result"
    }
   ],
   "source": [
    "42+595+886+624+136+185+2337+5950+7990+3529\n"
   ]
  },
  {
   "cell_type": "code",
   "execution_count": 11,
   "metadata": {},
   "outputs": [],
   "source": [
    "def PlotSubgroup(Param,my_colors, NotEnough=False):\n",
    "    \n",
    "    fig, ax = plt.subplots(figsize=(3,2))\n",
    "    fontsize = 10\n",
    "\n",
    "    sex = ('Male', 'Female','','80-', '60-80', '40-60', '20-40','0-20')\n",
    "    sex_pos = np.arange(len(sex))\n",
    "\n",
    "    FPR =   (FPR_FNR_sex_df.loc[FPR_FNR_sex_df['sex']=='M',Param].tolist()[0],\n",
    "             FPR_FNR_sex_df.loc[FPR_FNR_sex_df['sex']=='F',Param].tolist()[0],\n",
    "             np.NaN,\n",
    "             FPR_FNR_Age_df.loc[FPR_FNR_Age_df['Age']=='80-',Param].tolist()[0],\n",
    "             FPR_FNR_Age_df.loc[FPR_FNR_Age_df['Age']=='60-80',Param].tolist()[0],\n",
    "             FPR_FNR_Age_df.loc[FPR_FNR_Age_df['Age']=='40-60',Param].tolist()[0],\n",
    "             FPR_FNR_Age_df.loc[FPR_FNR_Age_df['Age']=='20-40',Param].tolist()[0],\n",
    "             FPR_FNR_Age_df.loc[FPR_FNR_Age_df['Age']=='0-20',Param].tolist()[0])\n",
    "\n",
    "\n",
    "    error = (FPR_FNR_sex_df.loc[FPR_FNR_sex_df['sex']=='M','CI_'+Param].tolist()[0],\n",
    "             FPR_FNR_sex_df.loc[FPR_FNR_sex_df['sex']=='F','CI_'+Param].tolist()[0],\n",
    "             np.NaN,    \n",
    "             FPR_FNR_Age_df.loc[FPR_FNR_Age_df['Age']=='80-','CI_'+Param].tolist()[0],\n",
    "             FPR_FNR_Age_df.loc[FPR_FNR_Age_df['Age']=='60-80','CI_'+Param].tolist()[0],\n",
    "             FPR_FNR_Age_df.loc[FPR_FNR_Age_df['Age']=='40-60','CI_'+Param].tolist()[0],\n",
    "             FPR_FNR_Age_df.loc[FPR_FNR_Age_df['Age']=='20-40','CI_'+Param].tolist()[0],\n",
    "             FPR_FNR_Age_df.loc[FPR_FNR_Age_df['Age']=='0-20','CI_'+Param].tolist()[0])\n",
    "\n",
    "    print(FPR)\n",
    "\n",
    "    color = ['pink','pink','white','green','green','green','green','green']\n",
    "\n",
    "    ax.bar(sex_pos, FPR, yerr=error, align='center',color=color)\n",
    "\n",
    "\n",
    "    labels =['Male', 'Female','','80-', '60-80', '40-60', '20-40','0-20']\n",
    "    x_pos = np.arange(len(labels))\n",
    "  #  y_labels = ['0.0','0.1', '0.2','0.3', '0.4','0.5', '0.6','0.7','0.8']\n",
    "    ax.set_xticks(x_pos)\n",
    "    ax.set_xticklabels(labels, fontsize = fontsize,  rotation=90)\n",
    "   # ax.set_yticklabels(y_labels,fontsize = fontsize)\n",
    "    #ax.invert_yaxis()  # labels read top-to-bottom\n",
    "   # ax.set_ylabel('FPR',fontsize = fontsize)\n",
    "    #ax.set_title('FEMALE', fontsize = fontsize)\n",
    "    ax.set_ylim(top=0.8)\n",
    "    ax.yaxis.grid(True)\n",
    "    \n",
    "    if NotEnough:\n",
    "    \n",
    "    #my_colors = ['','grey', 'k','k', 'k','k']\n",
    "\n",
    "        for ticklabel, tickcolor in zip(plt.gca().get_xticklabels(), my_colors):\n",
    "\n",
    "            ticklabel.set_color(tickcolor)\n",
    "\n",
    "    plt.savefig('./FPRFNR/'+Param+'_NF.pdf',bbox_inches='tight')  \n",
    "    "
   ]
  },
  {
   "cell_type": "code",
   "execution_count": 12,
   "metadata": {},
   "outputs": [
    {
     "name": "stdout",
     "output_type": "stream",
     "text": [
      "(0.093, 0.101, nan, 0.019, 0.069, 0.134, 0.206, 0.164)\n"
     ]
    },
    {
     "data": {
      "image/png": "[encoded data removed]",
      "text/plain": [
       "<Figure size 216x144 with 1 Axes>"
      ]
     },
     "metadata": {
      "needs_background": "light"
     },
     "output_type": "display_data"
    }
   ],
   "source": [
    "PlotSubgroup('FPR',my_colors=[])"
   ]
  },
  {
   "cell_type": "code",
   "execution_count": 13,
   "metadata": {},
   "outputs": [
    {
     "name": "stdout",
     "output_type": "stream",
     "text": [
      "(0.357, 0.301, nan, 0.768, 0.497, 0.267, 0.164, 0.281)\n"
     ]
    },
    {
     "data": {
      "image/png": "[encoded data removed]",
      "text/plain": [
       "<Figure size 216x144 with 1 Axes>"
      ]
     },
     "metadata": {
      "needs_background": "light"
     },
     "output_type": "display_data"
    }
   ],
   "source": [
    "\n",
    "PlotSubgroup('FNR',my_colors=[])"
   ]
  },
  {
   "cell_type": "markdown",
   "metadata": {},
   "source": [
    "## Intersectiopnal"
   ]
  },
  {
   "cell_type": "code",
   "execution_count": 14,
   "metadata": {},
   "outputs": [],
   "source": [
    "FP5_agesex = pd.read_csv(\"./results32/FPFN_AgeSex.csv\")\n",
    "FP4_agesex= pd.read_csv(\"./results40/FPFN_AgeSex.csv\")\n",
    "FP3_agesex = pd.read_csv(\"./results56/FPFN_AgeSex.csv\")\n",
    "FP2_agesex = pd.read_csv(\"./results60/FPFN_AgeSex.csv\")\n",
    "FP1_agesex = pd.read_csv(\"./results90/FPFN_AgeSex.csv\")\n",
    "FP_agesex = FP1_agesex.append([FP2_agesex, FP3_agesex,FP4_agesex, FP5_agesex])\n",
    "FP_AgeSex =FP_agesex.groupby(\"SexAge\")\n",
    "FP_AgSx_df = FP_AgeSex.describe()"
   ]
  },
  {
   "cell_type": "code",
   "execution_count": 15,
   "metadata": {},
   "outputs": [
    {
     "data": {
      "text/html": [
       "<div>\n",
       "<style scoped>\n",
       "    .dataframe tbody tr th:only-of-type {\n",
       "        vertical-align: middle;\n",
       "    }\n",
       "\n",
       "    .dataframe tbody tr th {\n",
       "        vertical-align: top;\n",
       "    }\n",
       "\n",
       "    .dataframe thead th {\n",
       "        text-align: right;\n",
       "    }\n",
       "</style>\n",
       "<table border=\"1\" class=\"dataframe\">\n",
       "  <thead>\n",
       "    <tr style=\"text-align: right;\">\n",
       "      <th></th>\n",
       "      <th>Age</th>\n",
       "      <th>FPR_M</th>\n",
       "      <th>CI_FPR_M</th>\n",
       "      <th>FNR_M</th>\n",
       "      <th>CI_FNR_M</th>\n",
       "      <th>FPR_F</th>\n",
       "      <th>CI_FPR_F</th>\n",
       "      <th>FNR_F</th>\n",
       "      <th>CI_FNR_F</th>\n",
       "    </tr>\n",
       "  </thead>\n",
       "  <tbody>\n",
       "    <tr>\n",
       "      <th>0</th>\n",
       "      <td>0-20</td>\n",
       "      <td>0.202</td>\n",
       "      <td>0.023</td>\n",
       "      <td>0.293</td>\n",
       "      <td>0.034</td>\n",
       "      <td>0.117</td>\n",
       "      <td>0.021</td>\n",
       "      <td>0.257</td>\n",
       "      <td>0.056</td>\n",
       "    </tr>\n",
       "    <tr>\n",
       "      <th>1</th>\n",
       "      <td>20-40</td>\n",
       "      <td>0.188</td>\n",
       "      <td>0.010</td>\n",
       "      <td>0.188</td>\n",
       "      <td>0.017</td>\n",
       "      <td>0.236</td>\n",
       "      <td>0.011</td>\n",
       "      <td>0.129</td>\n",
       "      <td>0.012</td>\n",
       "    </tr>\n",
       "    <tr>\n",
       "      <th>2</th>\n",
       "      <td>40-60</td>\n",
       "      <td>0.126</td>\n",
       "      <td>0.008</td>\n",
       "      <td>0.297</td>\n",
       "      <td>0.022</td>\n",
       "      <td>0.146</td>\n",
       "      <td>0.006</td>\n",
       "      <td>0.231</td>\n",
       "      <td>0.013</td>\n",
       "    </tr>\n",
       "    <tr>\n",
       "      <th>3</th>\n",
       "      <td>60-80</td>\n",
       "      <td>0.068</td>\n",
       "      <td>0.005</td>\n",
       "      <td>0.525</td>\n",
       "      <td>0.022</td>\n",
       "      <td>0.070</td>\n",
       "      <td>0.005</td>\n",
       "      <td>0.453</td>\n",
       "      <td>0.022</td>\n",
       "    </tr>\n",
       "    <tr>\n",
       "      <th>4</th>\n",
       "      <td>80-</td>\n",
       "      <td>0.016</td>\n",
       "      <td>0.002</td>\n",
       "      <td>0.738</td>\n",
       "      <td>0.042</td>\n",
       "      <td>0.022</td>\n",
       "      <td>0.006</td>\n",
       "      <td>0.800</td>\n",
       "      <td>0.051</td>\n",
       "    </tr>\n",
       "  </tbody>\n",
       "</table>\n",
       "</div>"
      ],
      "text/plain": [
       "     Age  FPR_M  CI_FPR_M  FNR_M  CI_FNR_M  FPR_F  CI_FPR_F  FNR_F  CI_FNR_F\n",
       "0   0-20  0.202     0.023  0.293     0.034  0.117     0.021  0.257     0.056\n",
       "1  20-40  0.188     0.010  0.188     0.017  0.236     0.011  0.129     0.012\n",
       "2  40-60  0.126     0.008  0.297     0.022  0.146     0.006  0.231     0.013\n",
       "3  60-80  0.068     0.005  0.525     0.022  0.070     0.005  0.453     0.022\n",
       "4    80-  0.016     0.002  0.738     0.042  0.022     0.006  0.800     0.051"
      ]
     },
     "execution_count": 15,
     "metadata": {},
     "output_type": "execute_result"
    }
   ],
   "source": [
    "factors = ['FPR_M','FNR_M','FPR_F','FNR_F']\n",
    "age =['0-20', '20-40', '40-60', '60-80','80-']\n",
    "AgeSex_df = pd.DataFrame(age, columns=[\"Age\"])\n",
    "Num_df =  pd.read_csv(\"./results40/Num_PNF_AgeSex.csv\")\n",
    "\n",
    "\n",
    "def FiveRun(factors,want_df,df,Num):\n",
    "    for factor in factors:    \n",
    "        dfM0 = round(df[factor]['mean'],3)\n",
    "        dfM2 = round(1.96 * df[factor][\"std\"] / np.sqrt(5),3)\n",
    "        want_df[factor] = pd.DataFrame(dfM0.values.tolist(),columns =[factor])\n",
    "        want_df['CI_'+factor] = pd.DataFrame(dfM2.values.tolist(),columns =['CI_'+factor])\n",
    "    \n",
    "    return want_df\n",
    "\n",
    "# Thid Num_F and Num_M is number of patient with actual NF = 0\n",
    "want = FiveRun(factors,AgeSex_df,FP_AgSx_df,Num_df)\n",
    "want.to_csv('./results/Inter_FPFN_AgeSex.csv')\n",
    "want"
   ]
  },
  {
   "cell_type": "code",
   "execution_count": 16,
   "metadata": {},
   "outputs": [
    {
     "data": {
      "text/html": [
       "<div>\n",
       "<style scoped>\n",
       "    .dataframe tbody tr th:only-of-type {\n",
       "        vertical-align: middle;\n",
       "    }\n",
       "\n",
       "    .dataframe tbody tr th {\n",
       "        vertical-align: top;\n",
       "    }\n",
       "\n",
       "    .dataframe thead th {\n",
       "        text-align: right;\n",
       "    }\n",
       "</style>\n",
       "<table border=\"1\" class=\"dataframe\">\n",
       "  <thead>\n",
       "    <tr style=\"text-align: right;\">\n",
       "      <th></th>\n",
       "      <th>Unnamed: 0</th>\n",
       "      <th>Age</th>\n",
       "      <th>M</th>\n",
       "      <th>F</th>\n",
       "    </tr>\n",
       "  </thead>\n",
       "  <tbody>\n",
       "    <tr>\n",
       "      <th>0</th>\n",
       "      <td>0</td>\n",
       "      <td>40-60</td>\n",
       "      <td>490</td>\n",
       "      <td>396</td>\n",
       "    </tr>\n",
       "    <tr>\n",
       "      <th>1</th>\n",
       "      <td>1</td>\n",
       "      <td>60-80</td>\n",
       "      <td>377</td>\n",
       "      <td>247</td>\n",
       "    </tr>\n",
       "    <tr>\n",
       "      <th>2</th>\n",
       "      <td>2</td>\n",
       "      <td>20-40</td>\n",
       "      <td>351</td>\n",
       "      <td>244</td>\n",
       "    </tr>\n",
       "    <tr>\n",
       "      <th>3</th>\n",
       "      <td>3</td>\n",
       "      <td>80-</td>\n",
       "      <td>71</td>\n",
       "      <td>65</td>\n",
       "    </tr>\n",
       "    <tr>\n",
       "      <th>4</th>\n",
       "      <td>4</td>\n",
       "      <td>0-20</td>\n",
       "      <td>28</td>\n",
       "      <td>14</td>\n",
       "    </tr>\n",
       "  </tbody>\n",
       "</table>\n",
       "</div>"
      ],
      "text/plain": [
       "   Unnamed: 0    Age    M    F\n",
       "0           0  40-60  490  396\n",
       "1           1  60-80  377  247\n",
       "2           2  20-40  351  244\n",
       "3           3    80-   71   65\n",
       "4           4   0-20   28   14"
      ]
     },
     "execution_count": 16,
     "metadata": {},
     "output_type": "execute_result"
    }
   ],
   "source": [
    "pd.read_csv(\"./results40/Num_PNF_AgeSex.csv\") # use for FN"
   ]
  },
  {
   "cell_type": "code",
   "execution_count": 17,
   "metadata": {},
   "outputs": [
    {
     "data": {
      "text/html": [
       "<div>\n",
       "<style scoped>\n",
       "    .dataframe tbody tr th:only-of-type {\n",
       "        vertical-align: middle;\n",
       "    }\n",
       "\n",
       "    .dataframe tbody tr th {\n",
       "        vertical-align: top;\n",
       "    }\n",
       "\n",
       "    .dataframe thead th {\n",
       "        text-align: right;\n",
       "    }\n",
       "</style>\n",
       "<table border=\"1\" class=\"dataframe\">\n",
       "  <thead>\n",
       "    <tr style=\"text-align: right;\">\n",
       "      <th></th>\n",
       "      <th>Unnamed: 0</th>\n",
       "      <th>Age</th>\n",
       "      <th>M</th>\n",
       "      <th>F</th>\n",
       "    </tr>\n",
       "  </thead>\n",
       "  <tbody>\n",
       "    <tr>\n",
       "      <th>0</th>\n",
       "      <td>0</td>\n",
       "      <td>40-60</td>\n",
       "      <td>3550</td>\n",
       "      <td>2400</td>\n",
       "    </tr>\n",
       "    <tr>\n",
       "      <th>1</th>\n",
       "      <td>1</td>\n",
       "      <td>60-80</td>\n",
       "      <td>4864</td>\n",
       "      <td>3126</td>\n",
       "    </tr>\n",
       "    <tr>\n",
       "      <th>2</th>\n",
       "      <td>2</td>\n",
       "      <td>20-40</td>\n",
       "      <td>1476</td>\n",
       "      <td>861</td>\n",
       "    </tr>\n",
       "    <tr>\n",
       "      <th>3</th>\n",
       "      <td>3</td>\n",
       "      <td>80-</td>\n",
       "      <td>1849</td>\n",
       "      <td>1680</td>\n",
       "    </tr>\n",
       "    <tr>\n",
       "      <th>4</th>\n",
       "      <td>4</td>\n",
       "      <td>0-20</td>\n",
       "      <td>103</td>\n",
       "      <td>82</td>\n",
       "    </tr>\n",
       "  </tbody>\n",
       "</table>\n",
       "</div>"
      ],
      "text/plain": [
       "   Unnamed: 0    Age     M     F\n",
       "0           0  40-60  3550  2400\n",
       "1           1  60-80  4864  3126\n",
       "2           2  20-40  1476   861\n",
       "3           3    80-  1849  1680\n",
       "4           4   0-20   103    82"
      ]
     },
     "execution_count": 17,
     "metadata": {},
     "output_type": "execute_result"
    }
   ],
   "source": [
    "pd.read_csv(\"./results40/Num_NNF_AgeSex.csv\")"
   ]
  },
  {
   "cell_type": "code",
   "execution_count": 7,
   "metadata": {},
   "outputs": [
    {
     "data": {
      "text/plain": [
       "22274"
      ]
     },
     "execution_count": 7,
     "metadata": {},
     "output_type": "execute_result"
    }
   ],
   "source": [
    "103+28+1476+351+3550+490+4864+377+1849+71+82+14+861+244+2400+396+3126+247+1680+65\n"
   ]
  },
  {
   "cell_type": "markdown",
   "metadata": {},
   "source": [
    "### Intersectional FN"
   ]
  },
  {
   "cell_type": "code",
   "execution_count": 18,
   "metadata": {},
   "outputs": [
    {
     "data": {
      "image/png": "[encoded data removed]",
      "text/plain": [
       "<Figure size 200x200 with 1 Axes>"
      ]
     },
     "metadata": {},
     "output_type": "display_data"
    }
   ],
   "source": [
    "import matplotlib.pyplot as plt\n",
    "import numpy as np\n",
    "\n",
    "\n",
    "# Fixing random state for reproducibility\n",
    "np.random.seed(19680801)\n",
    "\n",
    "plt.rcdefaults()\n",
    "\n",
    "fig, ax = plt.subplots(figsize=(2,2))\n",
    "fontsize = 10\n",
    "\n",
    "# sex\n",
    "sex = ('80-', '60-80', '40-60', '20-40','0-20','')\n",
    "sex_pos = np.arange(len(sex))\n",
    "FNR =   (want.loc[want['Age']=='80-','FNR_F'].tolist()[0],\n",
    "         want.loc[want['Age']=='60-80','FNR_F'].tolist()[0],\n",
    "         want.loc[want['Age']=='40-60','FNR_F'].tolist()[0],\n",
    "         want.loc[want['Age']=='20-40','FNR_F'].tolist()[0],\n",
    "         np.NAN,np.NAN)\n",
    "\n",
    "#print(FNR)\n",
    "error = (#,np.NAN,\n",
    "         want.loc[want['Age']=='80-','CI_FNR_F'].tolist()[0],\n",
    "         want.loc[want['Age']=='60-80','CI_FNR_F'].tolist()[0],\n",
    "         want.loc[want['Age']=='40-60','CI_FNR_F'].tolist()[0],\n",
    "         want.loc[want['Age']=='20-40','CI_FNR_F'].tolist()[0],\n",
    "        np.NAN,np.NAN\n",
    "        )\n",
    "\n",
    "color = ['green','green','green','green','green','white']\n",
    "\n",
    "ax.bar(sex_pos, FNR, yerr=error, align='center',color=color)\n",
    "\n",
    "\n",
    "labels =['80-', '60-80', '40-60', '20-40','0-20','']\n",
    "x_pos = np.arange(len(labels))\n",
    "#y_labels = ['0.0', '0.2', '0.4', '0.6','0.8']\n",
    "ax.set_xticks(x_pos)\n",
    "ax.set_xticklabels(labels, fontsize = fontsize,  rotation=90)\n",
    "#ax.set_yticklabels(y_labels, fontsize = fontsize)\n",
    "#ax.invert_yaxis()  # labels read top-to-bottom\n",
    "#ax.set_ylabel('FNR',fontsize = fontsize)\n",
    "ax.set_title('FEMALE', fontsize = fontsize)\n",
    "ax.set_ylim(top=0.85)\n",
    "ax.yaxis.grid(True)\n",
    "\n",
    "my_colors = ['k', 'k','k', 'k','grey']\n",
    "\n",
    "for ticklabel, tickcolor in zip(plt.gca().get_xticklabels(), my_colors):\n",
    "    ticklabel.set_color(tickcolor)\n",
    "\n",
    "plt.savefig('./FPRFNR/Int_FNR_NF.pdf',bbox_inches='tight')"
   ]
  },
  {
   "cell_type": "markdown",
   "metadata": {},
   "source": [
    "### Intersectional FP"
   ]
  },
  {
   "cell_type": "code",
   "execution_count": 19,
   "metadata": {},
   "outputs": [
    {
     "data": {
      "image/png": "[encoded data removed]",
      "text/plain": [
       "<Figure size 200x200 with 1 Axes>"
      ]
     },
     "metadata": {},
     "output_type": "display_data"
    }
   ],
   "source": [
    "import matplotlib.pyplot as plt\n",
    "import numpy as np\n",
    "\n",
    "# Fixing random state for reproducibility\n",
    "np.random.seed(19680801)\n",
    "\n",
    "plt.rcdefaults()\n",
    "\n",
    "fig, ax = plt.subplots(figsize=(2,2))\n",
    "fontsize = 10\n",
    "\n",
    "# sex\n",
    "sex = ('80-', '60-80', '40-60', '20-40','0-20')\n",
    "sex_pos = np.arange(len(sex))\n",
    "FPR =   (want.loc[want['Age']=='80-','FPR_F'].tolist()[0],\n",
    "         want.loc[want['Age']=='60-80','FPR_F'].tolist()[0],\n",
    "         want.loc[want['Age']=='40-60','FPR_F'].tolist()[0],\n",
    "         want.loc[want['Age']=='20-40','FPR_F'].tolist()[0],\n",
    "         want.loc[want['Age']=='0-20','FPR_F'].tolist()[0])\n",
    "\n",
    "\n",
    "error = (want.loc[want['Age']=='80-','CI_FPR_F'].tolist()[0],\n",
    "         want.loc[want['Age']=='60-80','CI_FPR_F'].tolist()[0],\n",
    "         want.loc[want['Age']=='40-60','CI_FPR_F'].tolist()[0],\n",
    "         want.loc[want['Age']=='20-40','CI_FPR_F'].tolist()[0],\n",
    "         want.loc[want['Age']=='0-20','CI_FPR_F'].tolist()[0]\n",
    "        )\n",
    "\n",
    "color = ['green','green','green','green','green']\n",
    "\n",
    "ax.bar(sex_pos, FPR, yerr=error, align='center',color=color)\n",
    "\n",
    "\n",
    "labels =['80-', '60-80', '40-60', '20-40','0-20']\n",
    "x_pos = np.arange(len(labels))\n",
    "#y_labels = ['0.0', '0.2', '0.4', '0.6','0.8']\n",
    "ax.set_xticks(x_pos)\n",
    "ax.set_xticklabels(labels, fontsize = fontsize,  rotation=90)\n",
    "#ax.set_yticklabels(y_labels, fontsize = fontsize)\n",
    "#ax.invert_yaxis()  # labels read top-to-bottom\n",
    "#ax.set_ylabel('FPR',fontsize = fontsize)\n",
    "ax.set_title('FEMALE', fontsize = fontsize)\n",
    "ax.set_ylim(top=0.85)\n",
    "ax.yaxis.grid(True)\n",
    "\n",
    "my_colors = ['k', 'k','k', 'k','k']\n",
    "\n",
    "for ticklabel, tickcolor in zip(plt.gca().get_xticklabels(), my_colors):\n",
    "    ticklabel.set_color(tickcolor)\n",
    "\n",
    "plt.savefig('./FPRFNR/Int_FPR_NF.pdf',bbox_inches='tight')\n",
    "\n"
   ]
  },
  {
   "cell_type": "code",
   "execution_count": null,
   "metadata": {},
   "outputs": [],
   "source": []
  },
  {
   "cell_type": "code",
   "execution_count": null,
   "metadata": {},
   "outputs": [],
   "source": []
  }
 ],
 "metadata": {
  "kernelspec": {
   "display_name": "Python 3",
   "language": "python",
   "name": "python3"
  },
  "language_info": {
   "codemirror_mode": {
    "name": "ipython",
    "version": 3
   },
   "file_extension": ".py",
   "mimetype": "text/x-python",
   "name": "python",
   "nbconvert_exporter": "python",
   "pygments_lexer": "ipython3",
   "version": "3.7.3"
  }
 },
 "nbformat": 4,
 "nbformat_minor": 2
}
