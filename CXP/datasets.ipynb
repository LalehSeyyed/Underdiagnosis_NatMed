{
 "cells": [
  {
   "cell_type": "code",
   "execution_count": 1,
   "metadata": {},
   "outputs": [],
   "source": [
    "import pandas as pd\n",
    "import numpy as np"
   ]
  },
  {
   "cell_type": "code",
   "execution_count": 2,
   "metadata": {},
   "outputs": [],
   "source": [
    "test_df_path =\"/scratch/gobi2/projects/ml4h/datasets/CheXpert/split/July19/new_test.csv\""
   ]
  },
  {
   "cell_type": "code",
   "execution_count": 3,
   "metadata": {},
   "outputs": [],
   "source": [
    "test_df = pd.read_csv(test_df_path)\n",
    "def preprocess_CXP(split):\n",
    "    split['Age'] = np.where(split['Age'].between(0,19), 19, split['Age'])\n",
    "    split['Age'] = np.where(split['Age'].between(20,39), 39, split['Age'])\n",
    "    split['Age'] = np.where(split['Age'].between(40,59), 59, split['Age'])\n",
    "    split['Age'] = np.where(split['Age'].between(60,79), 79, split['Age'])\n",
    "    split['Age'] = np.where(split['Age']>=80, 81, split['Age'])\n",
    "    \n",
    "    copy_sunbjectid = split['subject_id'] \n",
    "    split.drop(columns = ['subject_id'])\n",
    "    split = split.replace([[None], -1, \"[False]\", \"[True]\", \"[ True]\", 19, 39, 59, 79, 81], \n",
    "                            [0, 0, 0, 1, 1, \"0-20\", \"20-40\", \"40-60\", \"60-80\", \"80-\"])\n",
    "    \n",
    "    split['subject_id'] = copy_sunbjectid\n",
    "    split['Sex'] = np.where(split['Sex']=='Female', 'F', split['Sex'])\n",
    "    split['Sex'] = np.where(split['Sex']=='Male', 'M', split['Sex'])\n",
    "    \n",
    "    return split\n",
    "\n",
    "\n",
    "test_df = preprocess_CXP(test_df)"
   ]
  },
  {
   "cell_type": "code",
   "execution_count": 4,
   "metadata": {},
   "outputs": [],
   "source": [
    "train_df_path =\"/scratch/gobi2/projects/ml4h/datasets/CheXpert/split/July19/new_train.csv\"\n",
    "test_df_path =\"/scratch/gobi2/projects/ml4h/datasets/CheXpert/split/July19/new_test.csv\"\n",
    "val_df_path =\"/scratch/gobi2/projects/ml4h/datasets/CheXpert/split/July19/new_valid.csv\""
   ]
  },
  {
   "cell_type": "code",
   "execution_count": 5,
   "metadata": {},
   "outputs": [],
   "source": [
    "train_df = pd.read_csv(train_df_path)\n",
    "Train_subject_id = train_df['subject_id']\n",
    "Train_subject_id.to_csv(\"TrainSubjectID.csv\", index=False)"
   ]
  },
  {
   "cell_type": "code",
   "execution_count": 6,
   "metadata": {},
   "outputs": [],
   "source": [
    "test_df = pd.read_csv(test_df_path)\n",
    "Test_subject_id = test_df['subject_id']\n",
    "Test_subject_id.to_csv(\"TestSubjectid.csv\", index=False)"
   ]
  },
  {
   "cell_type": "code",
   "execution_count": 7,
   "metadata": {},
   "outputs": [],
   "source": [
    "val_df = pd.read_csv(val_df_path)\n",
    "val_subject_id = val_df['subject_id']\n",
    "val_subject_id.to_csv(\"ValSubjectid.csv\", index=False)"
   ]
  },
  {
   "cell_type": "code",
   "execution_count": null,
   "metadata": {},
   "outputs": [],
   "source": [
    "\n"
   ]
  },
  {
   "cell_type": "code",
   "execution_count": null,
   "metadata": {},
   "outputs": [],
   "source": []
  },
  {
   "cell_type": "code",
   "execution_count": null,
   "metadata": {},
   "outputs": [],
   "source": []
  },
  {
   "cell_type": "code",
   "execution_count": null,
   "metadata": {},
   "outputs": [],
   "source": []
  },
  {
   "cell_type": "code",
   "execution_count": null,
   "metadata": {},
   "outputs": [],
   "source": []
  }
 ],
 "metadata": {
  "kernelspec": {
   "display_name": "Python 2",
   "language": "python",
   "name": "python2"
  },
  "language_info": {
   "codemirror_mode": {
    "name": "ipython",
    "version": 2
   },
   "file_extension": ".py",
   "mimetype": "text/x-python",
   "name": "python",
   "nbconvert_exporter": "python",
   "pygments_lexer": "ipython2",
   "version": "2.7.17"
  }
 },
 "nbformat": 4,
 "nbformat_minor": 2
}
