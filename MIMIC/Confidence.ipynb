{
 "cells": [
  {
   "cell_type": "code",
   "execution_count": 1,
   "metadata": {},
   "outputs": [],
   "source": [
    "import pandas as pd\n",
    "import os"
   ]
  },
  {
   "cell_type": "markdown",
   "metadata": {},
   "source": [
    "## Percentages"
   ]
  },
  {
   "cell_type": "code",
   "execution_count": 75,
   "metadata": {},
   "outputs": [],
   "source": [
    "train_df_path =\"/PATH TO DATASET CSV FILES IN YOUR SERVER/split/new_train.csv\"\n",
    "test_df_path =\"/PATH TO DATASET CSV FILES IN YOUR SERVER/split/new_test.csv\"\n",
    "val_df_path = \"/PATH TO DATASET CSV FILES IN YOUR SERVER/split/new_valid.csv\"\n",
    "val_df = pd.read_csv(val_df_path)\n",
    "train_df = pd.read_csv(train_df_path)\n",
    "test_df = pd.read_csv(test_df_path)"
   ]
  },
  {
   "cell_type": "code",
   "execution_count": 76,
   "metadata": {},
   "outputs": [
    {
     "name": "stdout",
     "output_type": "stream",
     "text": [
      "298137\n",
      "37300\n",
      "36421\n"
     ]
    }
   ],
   "source": [
    "print(len(train_df))\n",
    "print(len(val_df))\n",
    "print(len(test_df))"
   ]
  },
  {
   "cell_type": "code",
   "execution_count": 3,
   "metadata": {},
   "outputs": [],
   "source": [
    "WholeData = test_df.append([val_df, train_df])\n"
   ]
  },
  {
   "cell_type": "code",
   "execution_count": 5,
   "metadata": {},
   "outputs": [
    {
     "name": "stdout",
     "output_type": "stream",
     "text": [
      "Number of images: 371858\n",
      "Number of unique patients: 65079\n"
     ]
    }
   ],
   "source": [
    "print(\"Number of images:\",len(WholeData) )\n",
    "Whole =WholeData.groupby(\"subject_id\")\n",
    "print(\"Number of unique patients:\",len(Whole.count()) )\n"
   ]
  },
  {
   "cell_type": "code",
   "execution_count": 10,
   "metadata": {},
   "outputs": [],
   "source": [
    "def preprocess_MIMIC(split):\n",
    "    \n",
    "    details = pd.read_csv(\"/scratch/gobi2/projects/ml4h/datasets/new_split/mimic-cxr-metadata-detail.csv\")\n",
    "    details = details.drop(columns=['dicom_id', 'study_id', 'religion', 'marital_status', 'gender'])\n",
    "    details.drop_duplicates(subset=\"subject_id\", keep=\"first\", inplace=True)\n",
    "    df = pd.merge(split, details)\n",
    "    \n",
    "    copy_sunbjectid = df['subject_id'] \n",
    "    df.drop(columns = ['subject_id'])\n",
    "    \n",
    "    df = df.replace(\n",
    "            [[None], -1, \"[False]\", \"[True]\", \"[ True]\", 'UNABLE TO OBTAIN', 'UNKNOWN', 'MARRIED', 'LIFE PARTNER',\n",
    "             'DIVORCED', 'SEPARATED', '0-10', '10-20', '20-30', '30-40', '40-50', '50-60', '60-70', '70-80', '80-90',\n",
    "             '>=90'],\n",
    "            [0, 0, 0, 1, 1, 0, 0, 'MARRIED/LIFE PARTNER', 'MARRIED/LIFE PARTNER', 'DIVORCED/SEPARATED',\n",
    "             'DIVORCED/SEPARATED', '0-20', '0-20', '20-40', '20-40', '40-60', '40-60', '60-80', '60-80', '80-', '80-'])\n",
    "    \n",
    "    df['subject_id'] = copy_sunbjectid\n",
    "    df['Age'] = df[\"age_decile\"]\n",
    "    df['Sex'] = df[\"gender\"]\n",
    "    df = df.drop(columns=[\"age_decile\", 'gender'])\n",
    "\n",
    "    \n",
    "    return df"
   ]
  },
  {
   "cell_type": "code",
   "execution_count": 11,
   "metadata": {},
   "outputs": [],
   "source": [
    "test_df = preprocess_MIMIC(test_df)\n",
    "train_df = preprocess_MIMIC(train_df)\n",
    "val_df = preprocess_MIMIC(val_df)\n",
    "WholeData = test_df.append([val_df, train_df])"
   ]
  },
  {
   "cell_type": "code",
   "execution_count": 12,
   "metadata": {},
   "outputs": [
    {
     "data": {
      "text/html": [
       "<div>\n",
       "<style scoped>\n",
       "    .dataframe tbody tr th:only-of-type {\n",
       "        vertical-align: middle;\n",
       "    }\n",
       "\n",
       "    .dataframe tbody tr th {\n",
       "        vertical-align: top;\n",
       "    }\n",
       "\n",
       "    .dataframe thead tr th {\n",
       "        text-align: left;\n",
       "    }\n",
       "\n",
       "    .dataframe thead tr:last-of-type th {\n",
       "        text-align: right;\n",
       "    }\n",
       "</style>\n",
       "<table border=\"1\" class=\"dataframe\">\n",
       "  <thead>\n",
       "    <tr>\n",
       "      <th></th>\n",
       "      <th colspan=\"8\" halign=\"left\">subject_id</th>\n",
       "      <th colspan=\"2\" halign=\"left\">No Finding</th>\n",
       "      <th>...</th>\n",
       "      <th colspan=\"2\" halign=\"left\">Fracture</th>\n",
       "      <th colspan=\"8\" halign=\"left\">Support Devices</th>\n",
       "    </tr>\n",
       "    <tr>\n",
       "      <th></th>\n",
       "      <th>count</th>\n",
       "      <th>mean</th>\n",
       "      <th>std</th>\n",
       "      <th>min</th>\n",
       "      <th>25%</th>\n",
       "      <th>50%</th>\n",
       "      <th>75%</th>\n",
       "      <th>max</th>\n",
       "      <th>count</th>\n",
       "      <th>mean</th>\n",
       "      <th>...</th>\n",
       "      <th>75%</th>\n",
       "      <th>max</th>\n",
       "      <th>count</th>\n",
       "      <th>mean</th>\n",
       "      <th>std</th>\n",
       "      <th>min</th>\n",
       "      <th>25%</th>\n",
       "      <th>50%</th>\n",
       "      <th>75%</th>\n",
       "      <th>max</th>\n",
       "    </tr>\n",
       "    <tr>\n",
       "      <th>Sex</th>\n",
       "      <th></th>\n",
       "      <th></th>\n",
       "      <th></th>\n",
       "      <th></th>\n",
       "      <th></th>\n",
       "      <th></th>\n",
       "      <th></th>\n",
       "      <th></th>\n",
       "      <th></th>\n",
       "      <th></th>\n",
       "      <th></th>\n",
       "      <th></th>\n",
       "      <th></th>\n",
       "      <th></th>\n",
       "      <th></th>\n",
       "      <th></th>\n",
       "      <th></th>\n",
       "      <th></th>\n",
       "      <th></th>\n",
       "      <th></th>\n",
       "      <th></th>\n",
       "    </tr>\n",
       "  </thead>\n",
       "  <tbody>\n",
       "    <tr>\n",
       "      <th>F</th>\n",
       "      <td>177853.0</td>\n",
       "      <td>1.499090e+07</td>\n",
       "      <td>2.883554e+06</td>\n",
       "      <td>10000032.0</td>\n",
       "      <td>12489621.0</td>\n",
       "      <td>14985054.0</td>\n",
       "      <td>17503573.0</td>\n",
       "      <td>19999987.0</td>\n",
       "      <td>177853.0</td>\n",
       "      <td>0.409585</td>\n",
       "      <td>...</td>\n",
       "      <td>0.0</td>\n",
       "      <td>1.0</td>\n",
       "      <td>177853.0</td>\n",
       "      <td>0.193176</td>\n",
       "      <td>0.394791</td>\n",
       "      <td>0.0</td>\n",
       "      <td>0.0</td>\n",
       "      <td>0.0</td>\n",
       "      <td>0.0</td>\n",
       "      <td>1.0</td>\n",
       "    </tr>\n",
       "    <tr>\n",
       "      <th>M</th>\n",
       "      <td>194005.0</td>\n",
       "      <td>1.501641e+07</td>\n",
       "      <td>2.879538e+06</td>\n",
       "      <td>10000764.0</td>\n",
       "      <td>12493783.0</td>\n",
       "      <td>15053729.0</td>\n",
       "      <td>17487765.0</td>\n",
       "      <td>19999442.0</td>\n",
       "      <td>194005.0</td>\n",
       "      <td>0.354290</td>\n",
       "      <td>...</td>\n",
       "      <td>0.0</td>\n",
       "      <td>1.0</td>\n",
       "      <td>194005.0</td>\n",
       "      <td>0.253617</td>\n",
       "      <td>0.435082</td>\n",
       "      <td>0.0</td>\n",
       "      <td>0.0</td>\n",
       "      <td>0.0</td>\n",
       "      <td>1.0</td>\n",
       "      <td>1.0</td>\n",
       "    </tr>\n",
       "  </tbody>\n",
       "</table>\n",
       "<p>2 rows × 120 columns</p>\n",
       "</div>"
      ],
      "text/plain": [
       "    subject_id                                                      \\\n",
       "         count          mean           std         min         25%   \n",
       "Sex                                                                  \n",
       "F     177853.0  1.499090e+07  2.883554e+06  10000032.0  12489621.0   \n",
       "M     194005.0  1.501641e+07  2.879538e+06  10000764.0  12493783.0   \n",
       "\n",
       "                                        No Finding            ... Fracture  \\\n",
       "            50%         75%         max      count      mean  ...      75%   \n",
       "Sex                                                           ...            \n",
       "F    14985054.0  17503573.0  19999987.0   177853.0  0.409585  ...      0.0   \n",
       "M    15053729.0  17487765.0  19999442.0   194005.0  0.354290  ...      0.0   \n",
       "\n",
       "         Support Devices                                               \n",
       "     max           count      mean       std  min  25%  50%  75%  max  \n",
       "Sex                                                                    \n",
       "F    1.0        177853.0  0.193176  0.394791  0.0  0.0  0.0  0.0  1.0  \n",
       "M    1.0        194005.0  0.253617  0.435082  0.0  0.0  0.0  1.0  1.0  \n",
       "\n",
       "[2 rows x 120 columns]"
      ]
     },
     "execution_count": 12,
     "metadata": {},
     "output_type": "execute_result"
    }
   ],
   "source": [
    "WholeDataX =WholeData.groupby(\"Sex\")\n",
    "WholeDataX_df = WholeDataX.describe()\n",
    "WholeDataX_df"
   ]
  },
  {
   "cell_type": "code",
   "execution_count": 13,
   "metadata": {},
   "outputs": [
    {
     "name": "stdout",
     "output_type": "stream",
     "text": [
      "Male Percent:   52.17179676112925\n",
      "female Percent:   47.82820323887075\n",
      "#images 371858.0\n"
     ]
    }
   ],
   "source": [
    "dfWhole_Sex = WholeDataX_df[\"subject_id\"]['count']\n",
    "total_CXP= dfWhole_Sex[\"F\"]+dfWhole_Sex[\"M\"]\n",
    "Male_percent = 100*dfWhole_Sex[\"M\"]/total_CXP\n",
    "print(\"Male Percent:  \",Male_percent)\n",
    "\n",
    "print(\"female Percent:  \",100*dfWhole_Sex[\"F\"]/total_CXP)\n",
    "print(\"#images\",total_CXP) "
   ]
  },
  {
   "cell_type": "code",
   "execution_count": 14,
   "metadata": {},
   "outputs": [
    {
     "data": {
      "text/html": [
       "<div>\n",
       "<style scoped>\n",
       "    .dataframe tbody tr th:only-of-type {\n",
       "        vertical-align: middle;\n",
       "    }\n",
       "\n",
       "    .dataframe tbody tr th {\n",
       "        vertical-align: top;\n",
       "    }\n",
       "\n",
       "    .dataframe thead tr th {\n",
       "        text-align: left;\n",
       "    }\n",
       "\n",
       "    .dataframe thead tr:last-of-type th {\n",
       "        text-align: right;\n",
       "    }\n",
       "</style>\n",
       "<table border=\"1\" class=\"dataframe\">\n",
       "  <thead>\n",
       "    <tr>\n",
       "      <th></th>\n",
       "      <th colspan=\"8\" halign=\"left\">subject_id</th>\n",
       "      <th colspan=\"2\" halign=\"left\">No Finding</th>\n",
       "      <th>...</th>\n",
       "      <th colspan=\"2\" halign=\"left\">Fracture</th>\n",
       "      <th colspan=\"8\" halign=\"left\">Support Devices</th>\n",
       "    </tr>\n",
       "    <tr>\n",
       "      <th></th>\n",
       "      <th>count</th>\n",
       "      <th>mean</th>\n",
       "      <th>std</th>\n",
       "      <th>min</th>\n",
       "      <th>25%</th>\n",
       "      <th>50%</th>\n",
       "      <th>75%</th>\n",
       "      <th>max</th>\n",
       "      <th>count</th>\n",
       "      <th>mean</th>\n",
       "      <th>...</th>\n",
       "      <th>75%</th>\n",
       "      <th>max</th>\n",
       "      <th>count</th>\n",
       "      <th>mean</th>\n",
       "      <th>std</th>\n",
       "      <th>min</th>\n",
       "      <th>25%</th>\n",
       "      <th>50%</th>\n",
       "      <th>75%</th>\n",
       "      <th>max</th>\n",
       "    </tr>\n",
       "    <tr>\n",
       "      <th>Age</th>\n",
       "      <th></th>\n",
       "      <th></th>\n",
       "      <th></th>\n",
       "      <th></th>\n",
       "      <th></th>\n",
       "      <th></th>\n",
       "      <th></th>\n",
       "      <th></th>\n",
       "      <th></th>\n",
       "      <th></th>\n",
       "      <th></th>\n",
       "      <th></th>\n",
       "      <th></th>\n",
       "      <th></th>\n",
       "      <th></th>\n",
       "      <th></th>\n",
       "      <th></th>\n",
       "      <th></th>\n",
       "      <th></th>\n",
       "      <th></th>\n",
       "      <th></th>\n",
       "    </tr>\n",
       "  </thead>\n",
       "  <tbody>\n",
       "    <tr>\n",
       "      <th>0-20</th>\n",
       "      <td>8181.0</td>\n",
       "      <td>1.508950e+07</td>\n",
       "      <td>2.894724e+06</td>\n",
       "      <td>10002157.0</td>\n",
       "      <td>12641071.0</td>\n",
       "      <td>15172839.0</td>\n",
       "      <td>17632697.0</td>\n",
       "      <td>19999733.0</td>\n",
       "      <td>8181.0</td>\n",
       "      <td>0.705293</td>\n",
       "      <td>...</td>\n",
       "      <td>0.0</td>\n",
       "      <td>1.0</td>\n",
       "      <td>8181.0</td>\n",
       "      <td>0.089353</td>\n",
       "      <td>0.285271</td>\n",
       "      <td>0.0</td>\n",
       "      <td>0.0</td>\n",
       "      <td>0.0</td>\n",
       "      <td>0.0</td>\n",
       "      <td>1.0</td>\n",
       "    </tr>\n",
       "    <tr>\n",
       "      <th>20-40</th>\n",
       "      <td>72516.0</td>\n",
       "      <td>1.502293e+07</td>\n",
       "      <td>2.891342e+06</td>\n",
       "      <td>10001038.0</td>\n",
       "      <td>12532170.0</td>\n",
       "      <td>14993854.0</td>\n",
       "      <td>17518261.5</td>\n",
       "      <td>19999270.0</td>\n",
       "      <td>72516.0</td>\n",
       "      <td>0.580065</td>\n",
       "      <td>...</td>\n",
       "      <td>0.0</td>\n",
       "      <td>1.0</td>\n",
       "      <td>72516.0</td>\n",
       "      <td>0.157703</td>\n",
       "      <td>0.364465</td>\n",
       "      <td>0.0</td>\n",
       "      <td>0.0</td>\n",
       "      <td>0.0</td>\n",
       "      <td>0.0</td>\n",
       "      <td>1.0</td>\n",
       "    </tr>\n",
       "    <tr>\n",
       "      <th>40-60</th>\n",
       "      <td>138247.0</td>\n",
       "      <td>1.497541e+07</td>\n",
       "      <td>2.865755e+06</td>\n",
       "      <td>10000032.0</td>\n",
       "      <td>12473093.0</td>\n",
       "      <td>14976423.0</td>\n",
       "      <td>17421577.0</td>\n",
       "      <td>19999987.0</td>\n",
       "      <td>138247.0</td>\n",
       "      <td>0.403379</td>\n",
       "      <td>...</td>\n",
       "      <td>0.0</td>\n",
       "      <td>1.0</td>\n",
       "      <td>138247.0</td>\n",
       "      <td>0.218826</td>\n",
       "      <td>0.413452</td>\n",
       "      <td>0.0</td>\n",
       "      <td>0.0</td>\n",
       "      <td>0.0</td>\n",
       "      <td>0.0</td>\n",
       "      <td>1.0</td>\n",
       "    </tr>\n",
       "    <tr>\n",
       "      <th>60-80</th>\n",
       "      <td>126799.0</td>\n",
       "      <td>1.501545e+07</td>\n",
       "      <td>2.894507e+06</td>\n",
       "      <td>10000898.0</td>\n",
       "      <td>12457153.0</td>\n",
       "      <td>15056964.0</td>\n",
       "      <td>17536303.0</td>\n",
       "      <td>19999287.0</td>\n",
       "      <td>126799.0</td>\n",
       "      <td>0.261524</td>\n",
       "      <td>...</td>\n",
       "      <td>0.0</td>\n",
       "      <td>1.0</td>\n",
       "      <td>126799.0</td>\n",
       "      <td>0.267636</td>\n",
       "      <td>0.442729</td>\n",
       "      <td>0.0</td>\n",
       "      <td>0.0</td>\n",
       "      <td>0.0</td>\n",
       "      <td>1.0</td>\n",
       "      <td>1.0</td>\n",
       "    </tr>\n",
       "    <tr>\n",
       "      <th>80-</th>\n",
       "      <td>25877.0</td>\n",
       "      <td>1.501857e+07</td>\n",
       "      <td>2.869053e+06</td>\n",
       "      <td>10000764.0</td>\n",
       "      <td>12591968.0</td>\n",
       "      <td>15093387.0</td>\n",
       "      <td>17530381.0</td>\n",
       "      <td>19998497.0</td>\n",
       "      <td>25877.0</td>\n",
       "      <td>0.183329</td>\n",
       "      <td>...</td>\n",
       "      <td>0.0</td>\n",
       "      <td>1.0</td>\n",
       "      <td>25877.0</td>\n",
       "      <td>0.275843</td>\n",
       "      <td>0.446947</td>\n",
       "      <td>0.0</td>\n",
       "      <td>0.0</td>\n",
       "      <td>0.0</td>\n",
       "      <td>1.0</td>\n",
       "      <td>1.0</td>\n",
       "    </tr>\n",
       "  </tbody>\n",
       "</table>\n",
       "<p>5 rows × 120 columns</p>\n",
       "</div>"
      ],
      "text/plain": [
       "      subject_id                                                      \\\n",
       "           count          mean           std         min         25%   \n",
       "Age                                                                    \n",
       "0-20      8181.0  1.508950e+07  2.894724e+06  10002157.0  12641071.0   \n",
       "20-40    72516.0  1.502293e+07  2.891342e+06  10001038.0  12532170.0   \n",
       "40-60   138247.0  1.497541e+07  2.865755e+06  10000032.0  12473093.0   \n",
       "60-80   126799.0  1.501545e+07  2.894507e+06  10000898.0  12457153.0   \n",
       "80-      25877.0  1.501857e+07  2.869053e+06  10000764.0  12591968.0   \n",
       "\n",
       "                                          No Finding            ... Fracture  \\\n",
       "              50%         75%         max      count      mean  ...      75%   \n",
       "Age                                                             ...            \n",
       "0-20   15172839.0  17632697.0  19999733.0     8181.0  0.705293  ...      0.0   \n",
       "20-40  14993854.0  17518261.5  19999270.0    72516.0  0.580065  ...      0.0   \n",
       "40-60  14976423.0  17421577.0  19999987.0   138247.0  0.403379  ...      0.0   \n",
       "60-80  15056964.0  17536303.0  19999287.0   126799.0  0.261524  ...      0.0   \n",
       "80-    15093387.0  17530381.0  19998497.0    25877.0  0.183329  ...      0.0   \n",
       "\n",
       "           Support Devices                                               \n",
       "       max           count      mean       std  min  25%  50%  75%  max  \n",
       "Age                                                                      \n",
       "0-20   1.0          8181.0  0.089353  0.285271  0.0  0.0  0.0  0.0  1.0  \n",
       "20-40  1.0         72516.0  0.157703  0.364465  0.0  0.0  0.0  0.0  1.0  \n",
       "40-60  1.0        138247.0  0.218826  0.413452  0.0  0.0  0.0  0.0  1.0  \n",
       "60-80  1.0        126799.0  0.267636  0.442729  0.0  0.0  0.0  1.0  1.0  \n",
       "80-    1.0         25877.0  0.275843  0.446947  0.0  0.0  0.0  1.0  1.0  \n",
       "\n",
       "[5 rows x 120 columns]"
      ]
     },
     "execution_count": 14,
     "metadata": {},
     "output_type": "execute_result"
    }
   ],
   "source": [
    "WholeData_Age = WholeData[WholeData.Age != 0]\n",
    "WholeDataAge =WholeData_Age.groupby(\"Age\")\n",
    "WholeDataAge_df = WholeDataAge.describe()\n",
    "WholeDataAge_df"
   ]
  },
  {
   "cell_type": "code",
   "execution_count": 15,
   "metadata": {},
   "outputs": [
    {
     "name": "stdout",
     "output_type": "stream",
     "text": [
      "0-20 Percent:   2.2\n",
      "20-40 Percent:   19.51\n",
      "40-60 Percent:   37.2\n",
      "60-80 Percent:   34.12\n",
      "80- Percent:   6.96\n"
     ]
    },
    {
     "data": {
      "text/plain": [
       "99.99"
      ]
     },
     "execution_count": 15,
     "metadata": {},
     "output_type": "execute_result"
    }
   ],
   "source": [
    "dfWhole_Age1 = WholeDataAge_df[\"subject_id\"]['count']\n",
    "total_CXR = WholeDataAge_df[\"subject_id\"]['count'].sum()\n",
    "Age1 = round(100*(dfWhole_Age1[\"0-20\"])/total_CXR,2)\n",
    "Age2 = round(100*(dfWhole_Age1[\"20-40\"])/total_CXR,2)\n",
    "Age3 = round(100*(dfWhole_Age1[\"40-60\"])/total_CXR,2)\n",
    "Age4 = round(100*(dfWhole_Age1[\"60-80\"])/total_CXR,2)\n",
    "Age5 = round(100*(dfWhole_Age1[\"80-\"])/total_CXR,2)\n",
    "print(\"0-20 Percent:  \",Age1)\n",
    "print(\"20-40 Percent:  \",Age2)\n",
    "print(\"40-60 Percent:  \",Age3)\n",
    "print(\"60-80 Percent:  \",Age4)\n",
    "print(\"80- Percent:  \",Age5)\n",
    "2.2+ 19.51+37.20+34.12+6.96"
   ]
  },
  {
   "cell_type": "code",
   "execution_count": 16,
   "metadata": {},
   "outputs": [
    {
     "data": {
      "text/plain": [
       "99.99"
      ]
     },
     "execution_count": 16,
     "metadata": {},
     "output_type": "execute_result"
    }
   ],
   "source": [
    "2.2+ 19.51+37.20+34.12+6.96"
   ]
  },
  {
   "cell_type": "code",
   "execution_count": 17,
   "metadata": {},
   "outputs": [
    {
     "name": "stdout",
     "output_type": "stream",
     "text": [
      "Medicare Percent:   46.07218293015006\n",
      "Medicaid Percent:   8.977604745468328\n",
      "Other Percent:   44.95021232438161\n"
     ]
    },
    {
     "data": {
      "text/plain": [
       "100.0"
      ]
     },
     "execution_count": 17,
     "metadata": {},
     "output_type": "execute_result"
    }
   ],
   "source": [
    "WholeData_ins = WholeData[WholeData.insurance != 0]\n",
    "WholeDataI =WholeData_ins.groupby(\"insurance\")\n",
    "WholeDataI_df = WholeDataI.describe()\n",
    "total_CXR = WholeDataI_df[\"subject_id\"]['count'].sum()\n",
    "dfWhole_Ins = WholeDataI_df[\"subject_id\"]['count']\n",
    "Ins1 = 100*(dfWhole_Ins[\"Medicare\"])/total_CXR\n",
    "Ins2 = 100*(dfWhole_Ins[\"Medicaid\"])/total_CXR\n",
    "Ins3 = 100*(dfWhole_Ins[\"Other\"])/total_CXR\n",
    "\n",
    "print(\"Medicare Percent:  \",Ins1)\n",
    "print(\"Medicaid Percent:  \",Ins2)\n",
    "print(\"Other Percent:  \",Ins3)\n",
    "\n",
    "46.07 + 8.98 + 44.95"
   ]
  },
  {
   "cell_type": "code",
   "execution_count": 18,
   "metadata": {},
   "outputs": [
    {
     "data": {
      "text/html": [
       "<div>\n",
       "<style scoped>\n",
       "    .dataframe tbody tr th:only-of-type {\n",
       "        vertical-align: middle;\n",
       "    }\n",
       "\n",
       "    .dataframe tbody tr th {\n",
       "        vertical-align: top;\n",
       "    }\n",
       "\n",
       "    .dataframe thead tr th {\n",
       "        text-align: left;\n",
       "    }\n",
       "\n",
       "    .dataframe thead tr:last-of-type th {\n",
       "        text-align: right;\n",
       "    }\n",
       "</style>\n",
       "<table border=\"1\" class=\"dataframe\">\n",
       "  <thead>\n",
       "    <tr>\n",
       "      <th></th>\n",
       "      <th colspan=\"8\" halign=\"left\">subject_id</th>\n",
       "      <th colspan=\"2\" halign=\"left\">No Finding</th>\n",
       "      <th>...</th>\n",
       "      <th colspan=\"2\" halign=\"left\">Fracture</th>\n",
       "      <th colspan=\"8\" halign=\"left\">Support Devices</th>\n",
       "    </tr>\n",
       "    <tr>\n",
       "      <th></th>\n",
       "      <th>count</th>\n",
       "      <th>mean</th>\n",
       "      <th>std</th>\n",
       "      <th>min</th>\n",
       "      <th>25%</th>\n",
       "      <th>50%</th>\n",
       "      <th>75%</th>\n",
       "      <th>max</th>\n",
       "      <th>count</th>\n",
       "      <th>mean</th>\n",
       "      <th>...</th>\n",
       "      <th>75%</th>\n",
       "      <th>max</th>\n",
       "      <th>count</th>\n",
       "      <th>mean</th>\n",
       "      <th>std</th>\n",
       "      <th>min</th>\n",
       "      <th>25%</th>\n",
       "      <th>50%</th>\n",
       "      <th>75%</th>\n",
       "      <th>max</th>\n",
       "    </tr>\n",
       "    <tr>\n",
       "      <th>race</th>\n",
       "      <th></th>\n",
       "      <th></th>\n",
       "      <th></th>\n",
       "      <th></th>\n",
       "      <th></th>\n",
       "      <th></th>\n",
       "      <th></th>\n",
       "      <th></th>\n",
       "      <th></th>\n",
       "      <th></th>\n",
       "      <th></th>\n",
       "      <th></th>\n",
       "      <th></th>\n",
       "      <th></th>\n",
       "      <th></th>\n",
       "      <th></th>\n",
       "      <th></th>\n",
       "      <th></th>\n",
       "      <th></th>\n",
       "      <th></th>\n",
       "      <th></th>\n",
       "    </tr>\n",
       "  </thead>\n",
       "  <tbody>\n",
       "    <tr>\n",
       "      <th>AMERICAN INDIAN/ALASKA NATIVE</th>\n",
       "      <td>761.0</td>\n",
       "      <td>1.501666e+07</td>\n",
       "      <td>2.823667e+06</td>\n",
       "      <td>10248673.0</td>\n",
       "      <td>12493668.0</td>\n",
       "      <td>14382048.0</td>\n",
       "      <td>18116591.0</td>\n",
       "      <td>19998198.0</td>\n",
       "      <td>761.0</td>\n",
       "      <td>0.314060</td>\n",
       "      <td>...</td>\n",
       "      <td>0.0</td>\n",
       "      <td>1.0</td>\n",
       "      <td>761.0</td>\n",
       "      <td>0.392904</td>\n",
       "      <td>0.488717</td>\n",
       "      <td>0.0</td>\n",
       "      <td>0.0</td>\n",
       "      <td>0.0</td>\n",
       "      <td>1.0</td>\n",
       "      <td>1.0</td>\n",
       "    </tr>\n",
       "    <tr>\n",
       "      <th>ASIAN</th>\n",
       "      <td>8479.0</td>\n",
       "      <td>1.508827e+07</td>\n",
       "      <td>2.851218e+06</td>\n",
       "      <td>10005329.0</td>\n",
       "      <td>12567919.0</td>\n",
       "      <td>15206209.0</td>\n",
       "      <td>17651038.0</td>\n",
       "      <td>19990563.0</td>\n",
       "      <td>8479.0</td>\n",
       "      <td>0.326454</td>\n",
       "      <td>...</td>\n",
       "      <td>0.0</td>\n",
       "      <td>1.0</td>\n",
       "      <td>8479.0</td>\n",
       "      <td>0.286472</td>\n",
       "      <td>0.452139</td>\n",
       "      <td>0.0</td>\n",
       "      <td>0.0</td>\n",
       "      <td>0.0</td>\n",
       "      <td>1.0</td>\n",
       "      <td>1.0</td>\n",
       "    </tr>\n",
       "    <tr>\n",
       "      <th>BLACK/AFRICAN AMERICAN</th>\n",
       "      <td>48595.0</td>\n",
       "      <td>1.497838e+07</td>\n",
       "      <td>2.896457e+06</td>\n",
       "      <td>10000935.0</td>\n",
       "      <td>12468956.0</td>\n",
       "      <td>14936098.0</td>\n",
       "      <td>17479533.0</td>\n",
       "      <td>19999287.0</td>\n",
       "      <td>48595.0</td>\n",
       "      <td>0.413787</td>\n",
       "      <td>...</td>\n",
       "      <td>0.0</td>\n",
       "      <td>1.0</td>\n",
       "      <td>48595.0</td>\n",
       "      <td>0.182426</td>\n",
       "      <td>0.386199</td>\n",
       "      <td>0.0</td>\n",
       "      <td>0.0</td>\n",
       "      <td>0.0</td>\n",
       "      <td>0.0</td>\n",
       "      <td>1.0</td>\n",
       "    </tr>\n",
       "    <tr>\n",
       "      <th>HISPANIC/LATINO</th>\n",
       "      <td>16760.0</td>\n",
       "      <td>1.498038e+07</td>\n",
       "      <td>2.887127e+06</td>\n",
       "      <td>10011607.0</td>\n",
       "      <td>12373624.0</td>\n",
       "      <td>15056964.0</td>\n",
       "      <td>17421215.0</td>\n",
       "      <td>19983948.0</td>\n",
       "      <td>16760.0</td>\n",
       "      <td>0.451014</td>\n",
       "      <td>...</td>\n",
       "      <td>0.0</td>\n",
       "      <td>1.0</td>\n",
       "      <td>16760.0</td>\n",
       "      <td>0.186277</td>\n",
       "      <td>0.389342</td>\n",
       "      <td>0.0</td>\n",
       "      <td>0.0</td>\n",
       "      <td>0.0</td>\n",
       "      <td>0.0</td>\n",
       "      <td>1.0</td>\n",
       "    </tr>\n",
       "    <tr>\n",
       "      <th>OTHER</th>\n",
       "      <td>10010.0</td>\n",
       "      <td>1.508103e+07</td>\n",
       "      <td>2.991056e+06</td>\n",
       "      <td>10003637.0</td>\n",
       "      <td>12408654.0</td>\n",
       "      <td>15014371.0</td>\n",
       "      <td>17792682.0</td>\n",
       "      <td>19979173.0</td>\n",
       "      <td>10010.0</td>\n",
       "      <td>0.329870</td>\n",
       "      <td>...</td>\n",
       "      <td>0.0</td>\n",
       "      <td>1.0</td>\n",
       "      <td>10010.0</td>\n",
       "      <td>0.307592</td>\n",
       "      <td>0.461520</td>\n",
       "      <td>0.0</td>\n",
       "      <td>0.0</td>\n",
       "      <td>0.0</td>\n",
       "      <td>1.0</td>\n",
       "      <td>1.0</td>\n",
       "    </tr>\n",
       "    <tr>\n",
       "      <th>WHITE</th>\n",
       "      <td>176837.0</td>\n",
       "      <td>1.501440e+07</td>\n",
       "      <td>2.877738e+06</td>\n",
       "      <td>10000032.0</td>\n",
       "      <td>12515419.0</td>\n",
       "      <td>15067471.0</td>\n",
       "      <td>17481338.0</td>\n",
       "      <td>19999733.0</td>\n",
       "      <td>176837.0</td>\n",
       "      <td>0.305954</td>\n",
       "      <td>...</td>\n",
       "      <td>0.0</td>\n",
       "      <td>1.0</td>\n",
       "      <td>176837.0</td>\n",
       "      <td>0.281219</td>\n",
       "      <td>0.449596</td>\n",
       "      <td>0.0</td>\n",
       "      <td>0.0</td>\n",
       "      <td>0.0</td>\n",
       "      <td>1.0</td>\n",
       "      <td>1.0</td>\n",
       "    </tr>\n",
       "  </tbody>\n",
       "</table>\n",
       "<p>6 rows × 120 columns</p>\n",
       "</div>"
      ],
      "text/plain": [
       "                              subject_id                              \\\n",
       "                                   count          mean           std   \n",
       "race                                                                   \n",
       "AMERICAN INDIAN/ALASKA NATIVE      761.0  1.501666e+07  2.823667e+06   \n",
       "ASIAN                             8479.0  1.508827e+07  2.851218e+06   \n",
       "BLACK/AFRICAN AMERICAN           48595.0  1.497838e+07  2.896457e+06   \n",
       "HISPANIC/LATINO                  16760.0  1.498038e+07  2.887127e+06   \n",
       "OTHER                            10010.0  1.508103e+07  2.991056e+06   \n",
       "WHITE                           176837.0  1.501440e+07  2.877738e+06   \n",
       "\n",
       "                                                                               \\\n",
       "                                      min         25%         50%         75%   \n",
       "race                                                                            \n",
       "AMERICAN INDIAN/ALASKA NATIVE  10248673.0  12493668.0  14382048.0  18116591.0   \n",
       "ASIAN                          10005329.0  12567919.0  15206209.0  17651038.0   \n",
       "BLACK/AFRICAN AMERICAN         10000935.0  12468956.0  14936098.0  17479533.0   \n",
       "HISPANIC/LATINO                10011607.0  12373624.0  15056964.0  17421215.0   \n",
       "OTHER                          10003637.0  12408654.0  15014371.0  17792682.0   \n",
       "WHITE                          10000032.0  12515419.0  15067471.0  17481338.0   \n",
       "\n",
       "                                          No Finding            ... Fracture  \\\n",
       "                                      max      count      mean  ...      75%   \n",
       "race                                                            ...            \n",
       "AMERICAN INDIAN/ALASKA NATIVE  19998198.0      761.0  0.314060  ...      0.0   \n",
       "ASIAN                          19990563.0     8479.0  0.326454  ...      0.0   \n",
       "BLACK/AFRICAN AMERICAN         19999287.0    48595.0  0.413787  ...      0.0   \n",
       "HISPANIC/LATINO                19983948.0    16760.0  0.451014  ...      0.0   \n",
       "OTHER                          19979173.0    10010.0  0.329870  ...      0.0   \n",
       "WHITE                          19999733.0   176837.0  0.305954  ...      0.0   \n",
       "\n",
       "                                   Support Devices                           \\\n",
       "                               max           count      mean       std  min   \n",
       "race                                                                          \n",
       "AMERICAN INDIAN/ALASKA NATIVE  1.0           761.0  0.392904  0.488717  0.0   \n",
       "ASIAN                          1.0          8479.0  0.286472  0.452139  0.0   \n",
       "BLACK/AFRICAN AMERICAN         1.0         48595.0  0.182426  0.386199  0.0   \n",
       "HISPANIC/LATINO                1.0         16760.0  0.186277  0.389342  0.0   \n",
       "OTHER                          1.0         10010.0  0.307592  0.461520  0.0   \n",
       "WHITE                          1.0        176837.0  0.281219  0.449596  0.0   \n",
       "\n",
       "                                                   \n",
       "                               25%  50%  75%  max  \n",
       "race                                               \n",
       "AMERICAN INDIAN/ALASKA NATIVE  0.0  0.0  1.0  1.0  \n",
       "ASIAN                          0.0  0.0  1.0  1.0  \n",
       "BLACK/AFRICAN AMERICAN         0.0  0.0  0.0  1.0  \n",
       "HISPANIC/LATINO                0.0  0.0  0.0  1.0  \n",
       "OTHER                          0.0  0.0  1.0  1.0  \n",
       "WHITE                          0.0  0.0  1.0  1.0  \n",
       "\n",
       "[6 rows x 120 columns]"
      ]
     },
     "execution_count": 18,
     "metadata": {},
     "output_type": "execute_result"
    }
   ],
   "source": [
    "WholeData_Rac = WholeData[WholeData.race != 0]\n",
    "WholeDataR =WholeData_Rac.groupby(\"race\")\n",
    "WholeDataR_df = WholeDataR.describe()\n",
    "WholeDataR_df"
   ]
  },
  {
   "cell_type": "code",
   "execution_count": 19,
   "metadata": {},
   "outputs": [
    {
     "name": "stdout",
     "output_type": "stream",
     "text": [
      "WHITE Percent:   67.64\n",
      "BLACK/AFRICAN AMERICAN Percent:   18.59\n",
      "OTHER Percent:   3.83\n",
      "ASIAN Percent:   3.24\n",
      "HISPANIC/LATINO Percent:   6.41\n",
      "AMERICAN INDIAN/ALASKA NATIVE Percent:   0.29\n",
      "Unkhonwn or unable to obtain Percent:   0.0\n"
     ]
    },
    {
     "data": {
      "text/plain": [
       "99.99999999999999"
      ]
     },
     "execution_count": 19,
     "metadata": {},
     "output_type": "execute_result"
    }
   ],
   "source": [
    "WholeData_Rac = WholeData[WholeData.race != 0]\n",
    "WholeDataR =WholeData_Rac.groupby(\"race\")\n",
    "WholeDataR_df = WholeDataR.describe()\n",
    "total_CXR = WholeDataR_df[\"subject_id\"]['count'].sum()\n",
    "dfWhole_Race = WholeDataR_df[\"subject_id\"]['count']\n",
    "Rac1 = 100*(dfWhole_Race[\"WHITE\"])/total_CXR\n",
    "Rac2 = 100*(dfWhole_Race[\"BLACK/AFRICAN AMERICAN\"])/total_CXR\n",
    "Rac3 = 100*(dfWhole_Race[\"OTHER\"])/total_CXR\n",
    "Rac4 = 100*(dfWhole_Race[\"ASIAN\"])/total_CXR\n",
    "Rac5 = 100*(dfWhole_Race[\"HISPANIC/LATINO\"])/total_CXR\n",
    "Rac6 = 100*(dfWhole_Race[\"AMERICAN INDIAN/ALASKA NATIVE\"])/total_CXR\n",
    "\n",
    "print(\"WHITE Percent:  \",round( Rac1,2))\n",
    "print(\"BLACK/AFRICAN AMERICAN Percent:  \",round(Rac2,2))\n",
    "print(\"OTHER Percent:  \",round(Rac3,2))\n",
    "print(\"ASIAN Percent:  \",round(Rac4,2))\n",
    "print(\"HISPANIC/LATINO Percent:  \",round(Rac5,2))\n",
    "print(\"AMERICAN INDIAN/ALASKA NATIVE Percent:  \",round(Rac6,2))\n",
    "print(\"Unkhonwn or unable to obtain Percent:  \",round(100- (Rac1 + Rac2 + Rac3 +Rac4 + Rac5 + Rac6),2))\n",
    "\n",
    "Rac1 + Rac2 + Rac3 +Rac4 + Rac5 + Rac6"
   ]
  },
  {
   "cell_type": "markdown",
   "metadata": {},
   "source": [
    "## Subgroup-specific underdiagnosis rate"
   ]
  },
  {
   "cell_type": "markdown",
   "metadata": {},
   "source": [
    "### Sex"
   ]
  },
  {
   "cell_type": "code",
   "execution_count": 20,
   "metadata": {},
   "outputs": [],
   "source": [
    "FP5_sex = pd.read_csv(\"./results77/FPR_FNR_NF_sex.csv\")\n",
    "FP4_sex = pd.read_csv(\"./results19/FPR_FNR_NF_sex.csv\")\n",
    "FP3_sex = pd.read_csv(\"./results38/FPR_FNR_NF_sex.csv\")\n",
    "FP2_sex = pd.read_csv(\"./results47/FPR_FNR_NF_sex.csv\")\n",
    "FP1_sex = pd.read_csv(\"./results31/FPR_FNR_NF_sex.csv\")\n",
    "FP_sex = FP1_sex.append([FP2_sex, FP3_sex,FP4_sex, FP5_sex])\n",
    "F_sex_df = FP_sex.describe()"
   ]
  },
  {
   "cell_type": "code",
   "execution_count": 21,
   "metadata": {},
   "outputs": [
    {
     "name": "stdout",
     "output_type": "stream",
     "text": [
      "FPR and FNR distribiution in sexes\n",
      "Unnamed: 0        0.000\n",
      "#M            12094.000\n",
      "FPR_M             0.219\n",
      "FNR_M             0.198\n",
      "#F            10420.000\n",
      "FPR_F             0.250\n",
      "FNR_F             0.155\n",
      "Name: mean, dtype: float64\n"
     ]
    }
   ],
   "source": [
    "print(\"FPR and FNR distribiution in sexes\")\n",
    "print(round(F_sex_df.loc['mean'],3))"
   ]
  },
  {
   "cell_type": "code",
   "execution_count": 22,
   "metadata": {},
   "outputs": [
    {
     "name": "stdout",
     "output_type": "stream",
     "text": [
      "FPR and FNR distribiution in sexes Confidence interval\n"
     ]
    },
    {
     "data": {
      "text/plain": [
       "Unnamed: 0    0.000\n",
       "#M            0.000\n",
       "FPR_M         0.007\n",
       "FNR_M         0.007\n",
       "#F            0.000\n",
       "FPR_F         0.007\n",
       "FNR_F         0.005\n",
       "Name: std, dtype: float64"
      ]
     },
     "execution_count": 22,
     "metadata": {},
     "output_type": "execute_result"
    }
   ],
   "source": [
    "print(\"FPR and FNR distribiution in sexes Confidence interval\")\n",
    "round(1.96 * F_sex_df.loc['std'] / np.sqrt(5),3)"
   ]
  },
  {
   "cell_type": "code",
   "execution_count": 23,
   "metadata": {},
   "outputs": [
    {
     "name": "stdout",
     "output_type": "stream",
     "text": [
      "MIMIC: Mean FPR distribiution over sexes\n"
     ]
    },
    {
     "data": {
      "text/plain": [
       "0.2343"
      ]
     },
     "execution_count": 23,
     "metadata": {},
     "output_type": "execute_result"
    }
   ],
   "source": [
    "print(\"MIMIC: Mean FPR distribiution over sexes\")\n",
    "mean([F_sex_df.loc['mean'][\"FPR_F\"], F_sex_df.loc['mean'][\"FPR_M\"]])"
   ]
  },
  {
   "cell_type": "code",
   "execution_count": 24,
   "metadata": {},
   "outputs": [
    {
     "data": {
      "text/html": [
       "<div>\n",
       "<style scoped>\n",
       "    .dataframe tbody tr th:only-of-type {\n",
       "        vertical-align: middle;\n",
       "    }\n",
       "\n",
       "    .dataframe tbody tr th {\n",
       "        vertical-align: top;\n",
       "    }\n",
       "\n",
       "    .dataframe thead th {\n",
       "        text-align: right;\n",
       "    }\n",
       "</style>\n",
       "<table border=\"1\" class=\"dataframe\">\n",
       "  <thead>\n",
       "    <tr style=\"text-align: right;\">\n",
       "      <th></th>\n",
       "      <th>sex</th>\n",
       "      <th>#</th>\n",
       "      <th>FPR</th>\n",
       "      <th>CI_FPR</th>\n",
       "      <th>FNR</th>\n",
       "      <th>CI_FNR</th>\n",
       "    </tr>\n",
       "  </thead>\n",
       "  <tbody>\n",
       "    <tr>\n",
       "      <th>0</th>\n",
       "      <td>M</td>\n",
       "      <td>12094.0</td>\n",
       "      <td>0.219</td>\n",
       "      <td>0.007</td>\n",
       "      <td>0.198</td>\n",
       "      <td>0.007</td>\n",
       "    </tr>\n",
       "    <tr>\n",
       "      <th>1</th>\n",
       "      <td>F</td>\n",
       "      <td>10420.0</td>\n",
       "      <td>0.250</td>\n",
       "      <td>0.007</td>\n",
       "      <td>0.155</td>\n",
       "      <td>0.005</td>\n",
       "    </tr>\n",
       "  </tbody>\n",
       "</table>\n",
       "</div>"
      ],
      "text/plain": [
       "  sex        #    FPR  CI_FPR    FNR  CI_FNR\n",
       "0   M  12094.0  0.219   0.007  0.198   0.007\n",
       "1   F  10420.0  0.250   0.007  0.155   0.005"
      ]
     },
     "execution_count": 24,
     "metadata": {},
     "output_type": "execute_result"
    }
   ],
   "source": [
    "Sex = ['M','F' ]\n",
    "FPR_FNR_sex_df = pd.DataFrame(Sex, columns=[\"sex\"])\n",
    "\n",
    "def FiveRunSubgroup(factors, df_in, df_out):\n",
    "    FPR = []\n",
    "    FNR = []\n",
    "    Percent = []\n",
    "    CI_FPR =[]\n",
    "    CI_FNR =[]\n",
    "    ConfI = 1.96 * df_in.loc['std'] / np.sqrt(5)\n",
    "    \n",
    "    for fact in factors:\n",
    "        Percent.append(round(df_in.loc['mean']['#'+fact],3))\n",
    "        FPR.append(round(df_in.loc['mean']['FPR_'+fact],3))\n",
    "        FNR.append(round(df_in.loc['mean']['FNR_'+fact],3))\n",
    "        CI_FPR.append(round(ConfI.loc['FPR_'+fact],3))\n",
    "        CI_FNR.append(round(ConfI.loc['FNR_'+fact],3))     \n",
    "        \n",
    "    df_out['#'] = Percent    \n",
    "    df_out['FPR']=FPR \n",
    "    df_out['CI_FPR']=CI_FPR  \n",
    "\n",
    "    df_out['FNR']=FNR \n",
    "    df_out['CI_FNR']=CI_FNR\n",
    "\n",
    "    return df_out\n",
    "\n",
    "FPR_FNR_sex_df=FiveRunSubgroup(Sex, F_sex_df, FPR_FNR_sex_df)\n",
    "FPR_FNR_sex_df.to_csv('./results/Subgroun_FNR_FPR_Sex.csv')\n",
    "FPR_FNR_sex_df"
   ]
  },
  {
   "cell_type": "code",
   "execution_count": null,
   "metadata": {},
   "outputs": [],
   "source": []
  },
  {
   "cell_type": "markdown",
   "metadata": {},
   "source": [
    "### Age"
   ]
  },
  {
   "cell_type": "code",
   "execution_count": 25,
   "metadata": {},
   "outputs": [],
   "source": [
    "FP5_age = pd.read_csv(\"./results77/FPR_FNR_NF_age.csv\")\n",
    "FP4_age = pd.read_csv(\"./results19/FPR_FNR_NF_age.csv\")\n",
    "FP3_age = pd.read_csv(\"./results38/FPR_FNR_NF_age.csv\")\n",
    "FP2_age = pd.read_csv(\"./results47/FPR_FNR_NF_age.csv\")\n",
    "FP1_age = pd.read_csv(\"./results31/FPR_FNR_NF_age.csv\")\n",
    "FP_age = FP1_age.append([FP2_age, FP3_age,FP4_age, FP5_age])\n",
    "F_age_df = FP_age.describe()\n"
   ]
  },
  {
   "cell_type": "code",
   "execution_count": 26,
   "metadata": {},
   "outputs": [
    {
     "name": "stdout",
     "output_type": "stream",
     "text": [
      "FPR distribiution in ages\n",
      "Unnamed: 0       0.000\n",
      "#60-80        9006.000\n",
      "FPR_60-80        0.163\n",
      "FNR_60-80        0.328\n",
      "#40-60        8187.000\n",
      "FPR_40-60        0.274\n",
      "FNR_40-60        0.163\n",
      "#20-40        3060.000\n",
      "FPR_20-40        0.390\n",
      "FNR_20-40        0.064\n",
      "#80-          2016.000\n",
      "FPR_80-          0.114\n",
      "FNR_80-          0.420\n",
      "#0-20          245.000\n",
      "FPR_0-20         0.486\n",
      "FNR_0-20         0.028\n",
      "Name: mean, dtype: float64\n"
     ]
    }
   ],
   "source": [
    "print(\"FPR distribiution in ages\")\n",
    "print(round(F_age_df.loc['mean'],3))"
   ]
  },
  {
   "cell_type": "code",
   "execution_count": 27,
   "metadata": {},
   "outputs": [
    {
     "name": "stdout",
     "output_type": "stream",
     "text": [
      "MIMIC: Mean FPR distribiution over ages\n"
     ]
    },
    {
     "data": {
      "text/plain": [
       "0.28532"
      ]
     },
     "execution_count": 27,
     "metadata": {},
     "output_type": "execute_result"
    }
   ],
   "source": [
    "print(\"MIMIC: Mean FPR distribiution over ages\")\n",
    "mean([F_age_df.loc['mean'][\"FPR_60-80\"], F_age_df.loc['mean'][\"FPR_40-60\"],\n",
    "       F_age_df.loc['mean'][\"FPR_20-40\"], F_age_df.loc['mean'][\"FPR_0-20\"],\n",
    "       F_age_df.loc['mean'][\"FPR_80-\"]])"
   ]
  },
  {
   "cell_type": "code",
   "execution_count": 28,
   "metadata": {},
   "outputs": [
    {
     "data": {
      "text/plain": [
       "Unnamed: 0    0.000\n",
       "#60-80        0.000\n",
       "FPR_60-80     0.007\n",
       "FNR_60-80     0.012\n",
       "#40-60        0.000\n",
       "FPR_40-60     0.007\n",
       "FNR_40-60     0.006\n",
       "#20-40        0.000\n",
       "FPR_20-40     0.010\n",
       "FNR_20-40     0.003\n",
       "#80-          0.000\n",
       "FPR_80-       0.007\n",
       "FNR_80-       0.020\n",
       "#0-20         0.000\n",
       "FPR_0-20      0.024\n",
       "FNR_0-20      0.007\n",
       "Name: std, dtype: float64"
      ]
     },
     "execution_count": 28,
     "metadata": {},
     "output_type": "execute_result"
    }
   ],
   "source": [
    "round(1.96 * F_age_df.loc['std'] / np.sqrt(5),3)"
   ]
  },
  {
   "cell_type": "code",
   "execution_count": 29,
   "metadata": {},
   "outputs": [
    {
     "data": {
      "text/html": [
       "<div>\n",
       "<style scoped>\n",
       "    .dataframe tbody tr th:only-of-type {\n",
       "        vertical-align: middle;\n",
       "    }\n",
       "\n",
       "    .dataframe tbody tr th {\n",
       "        vertical-align: top;\n",
       "    }\n",
       "\n",
       "    .dataframe thead th {\n",
       "        text-align: right;\n",
       "    }\n",
       "</style>\n",
       "<table border=\"1\" class=\"dataframe\">\n",
       "  <thead>\n",
       "    <tr style=\"text-align: right;\">\n",
       "      <th></th>\n",
       "      <th>Age</th>\n",
       "      <th>#</th>\n",
       "      <th>FPR</th>\n",
       "      <th>CI_FPR</th>\n",
       "      <th>FNR</th>\n",
       "      <th>CI_FNR</th>\n",
       "    </tr>\n",
       "  </thead>\n",
       "  <tbody>\n",
       "    <tr>\n",
       "      <th>0</th>\n",
       "      <td>0-20</td>\n",
       "      <td>245.0</td>\n",
       "      <td>0.486</td>\n",
       "      <td>0.024</td>\n",
       "      <td>0.028</td>\n",
       "      <td>0.007</td>\n",
       "    </tr>\n",
       "    <tr>\n",
       "      <th>1</th>\n",
       "      <td>20-40</td>\n",
       "      <td>3060.0</td>\n",
       "      <td>0.390</td>\n",
       "      <td>0.010</td>\n",
       "      <td>0.064</td>\n",
       "      <td>0.003</td>\n",
       "    </tr>\n",
       "    <tr>\n",
       "      <th>2</th>\n",
       "      <td>40-60</td>\n",
       "      <td>8187.0</td>\n",
       "      <td>0.274</td>\n",
       "      <td>0.007</td>\n",
       "      <td>0.163</td>\n",
       "      <td>0.006</td>\n",
       "    </tr>\n",
       "    <tr>\n",
       "      <th>3</th>\n",
       "      <td>60-80</td>\n",
       "      <td>9006.0</td>\n",
       "      <td>0.163</td>\n",
       "      <td>0.007</td>\n",
       "      <td>0.328</td>\n",
       "      <td>0.012</td>\n",
       "    </tr>\n",
       "    <tr>\n",
       "      <th>4</th>\n",
       "      <td>80-</td>\n",
       "      <td>2016.0</td>\n",
       "      <td>0.114</td>\n",
       "      <td>0.007</td>\n",
       "      <td>0.420</td>\n",
       "      <td>0.020</td>\n",
       "    </tr>\n",
       "  </tbody>\n",
       "</table>\n",
       "</div>"
      ],
      "text/plain": [
       "     Age       #    FPR  CI_FPR    FNR  CI_FNR\n",
       "0   0-20   245.0  0.486   0.024  0.028   0.007\n",
       "1  20-40  3060.0  0.390   0.010  0.064   0.003\n",
       "2  40-60  8187.0  0.274   0.007  0.163   0.006\n",
       "3  60-80  9006.0  0.163   0.007  0.328   0.012\n",
       "4    80-  2016.0  0.114   0.007  0.420   0.020"
      ]
     },
     "execution_count": 29,
     "metadata": {},
     "output_type": "execute_result"
    }
   ],
   "source": [
    "Age = ['0-20','20-40','40-60','60-80','80-' ]\n",
    "FPR_FNR_Age_df = pd.DataFrame(Age, columns=[\"Age\"])\n",
    "\n",
    "FPR_FNR_Age_df=FiveRunSubgroup(Age, F_age_df, FPR_FNR_Age_df)\n",
    "FPR_FNR_Age_df.to_csv('./results/Subgroun_FNR_FPR_Age.csv')\n",
    "FPR_FNR_Age_df"
   ]
  },
  {
   "cell_type": "markdown",
   "metadata": {},
   "source": [
    "### Race"
   ]
  },
  {
   "cell_type": "code",
   "execution_count": 30,
   "metadata": {},
   "outputs": [],
   "source": [
    "FP5_race = pd.read_csv(\"./results77/FPR_FNR_NF_race.csv\")\n",
    "FP4_race = pd.read_csv(\"./results19/FPR_FNR_NF_race.csv\")\n",
    "FP3_race = pd.read_csv(\"./results38/FPR_FNR_NF_race.csv\")\n",
    "FP2_race = pd.read_csv(\"./results47/FPR_FNR_NF_race.csv\")\n",
    "FP1_race = pd.read_csv(\"./results31/FPR_FNR_NF_race.csv\")\n",
    "\n",
    "FP_race = FP1_race.append([FP2_race, FP3_race,FP4_race, FP5_race])\n",
    "F_race_df = FP_race.describe()"
   ]
  },
  {
   "cell_type": "code",
   "execution_count": 31,
   "metadata": {},
   "outputs": [
    {
     "name": "stdout",
     "output_type": "stream",
     "text": [
      "FPR distribiution in races\n",
      "Unnamed: 0          0.000\n",
      "#White          11620.000\n",
      "FPR_White           0.170\n",
      "FNR_White           0.253\n",
      "#Black           2924.000\n",
      "FPR_Black           0.276\n",
      "FNR_Black           0.168\n",
      "#Hisp             998.000\n",
      "FPR_Hisp            0.275\n",
      "FNR_Hisp            0.162\n",
      "#Other            725.000\n",
      "FPR_Other           0.176\n",
      "FNR_Other           0.201\n",
      "#Asian            407.000\n",
      "FPR_Asian           0.217\n",
      "FNR_Asian           0.134\n",
      "#American          41.000\n",
      "FPR_American        0.176\n",
      "FNR_American        0.246\n",
      "Name: mean, dtype: float64\n"
     ]
    }
   ],
   "source": [
    "print(\"FPR distribiution in races\")\n",
    "print(round(F_race_df.loc['mean'],3))"
   ]
  },
  {
   "cell_type": "code",
   "execution_count": 32,
   "metadata": {},
   "outputs": [
    {
     "data": {
      "text/plain": [
       "Unnamed: 0      0.000\n",
       "#White          0.000\n",
       "FPR_White       0.006\n",
       "FNR_White       0.006\n",
       "#Black          0.000\n",
       "FPR_Black       0.006\n",
       "FNR_Black       0.008\n",
       "#Hisp           0.000\n",
       "FPR_Hisp        0.012\n",
       "FNR_Hisp        0.012\n",
       "#Other          0.000\n",
       "FPR_Other       0.007\n",
       "FNR_Other       0.011\n",
       "#Asian          0.000\n",
       "FPR_Asian       0.007\n",
       "FNR_Asian       0.007\n",
       "#American       0.000\n",
       "FPR_American    0.032\n",
       "FNR_American    0.030\n",
       "Name: std, dtype: float64"
      ]
     },
     "execution_count": 32,
     "metadata": {},
     "output_type": "execute_result"
    }
   ],
   "source": [
    "round(1.96 * F_race_df.loc['std'] / np.sqrt(5),3)"
   ]
  },
  {
   "cell_type": "code",
   "execution_count": 33,
   "metadata": {},
   "outputs": [
    {
     "data": {
      "text/html": [
       "<div>\n",
       "<style scoped>\n",
       "    .dataframe tbody tr th:only-of-type {\n",
       "        vertical-align: middle;\n",
       "    }\n",
       "\n",
       "    .dataframe tbody tr th {\n",
       "        vertical-align: top;\n",
       "    }\n",
       "\n",
       "    .dataframe thead th {\n",
       "        text-align: right;\n",
       "    }\n",
       "</style>\n",
       "<table border=\"1\" class=\"dataframe\">\n",
       "  <thead>\n",
       "    <tr style=\"text-align: right;\">\n",
       "      <th></th>\n",
       "      <th>Race</th>\n",
       "      <th>#</th>\n",
       "      <th>FPR</th>\n",
       "      <th>CI_FPR</th>\n",
       "      <th>FNR</th>\n",
       "      <th>CI_FNR</th>\n",
       "    </tr>\n",
       "  </thead>\n",
       "  <tbody>\n",
       "    <tr>\n",
       "      <th>0</th>\n",
       "      <td>White</td>\n",
       "      <td>11620.0</td>\n",
       "      <td>0.170</td>\n",
       "      <td>0.006</td>\n",
       "      <td>0.253</td>\n",
       "      <td>0.006</td>\n",
       "    </tr>\n",
       "    <tr>\n",
       "      <th>1</th>\n",
       "      <td>Black</td>\n",
       "      <td>2924.0</td>\n",
       "      <td>0.276</td>\n",
       "      <td>0.006</td>\n",
       "      <td>0.168</td>\n",
       "      <td>0.008</td>\n",
       "    </tr>\n",
       "    <tr>\n",
       "      <th>2</th>\n",
       "      <td>Hisp</td>\n",
       "      <td>998.0</td>\n",
       "      <td>0.275</td>\n",
       "      <td>0.012</td>\n",
       "      <td>0.162</td>\n",
       "      <td>0.012</td>\n",
       "    </tr>\n",
       "    <tr>\n",
       "      <th>3</th>\n",
       "      <td>Other</td>\n",
       "      <td>725.0</td>\n",
       "      <td>0.176</td>\n",
       "      <td>0.007</td>\n",
       "      <td>0.201</td>\n",
       "      <td>0.011</td>\n",
       "    </tr>\n",
       "    <tr>\n",
       "      <th>4</th>\n",
       "      <td>Asian</td>\n",
       "      <td>407.0</td>\n",
       "      <td>0.217</td>\n",
       "      <td>0.007</td>\n",
       "      <td>0.134</td>\n",
       "      <td>0.007</td>\n",
       "    </tr>\n",
       "    <tr>\n",
       "      <th>5</th>\n",
       "      <td>American</td>\n",
       "      <td>41.0</td>\n",
       "      <td>0.176</td>\n",
       "      <td>0.032</td>\n",
       "      <td>0.246</td>\n",
       "      <td>0.030</td>\n",
       "    </tr>\n",
       "  </tbody>\n",
       "</table>\n",
       "</div>"
      ],
      "text/plain": [
       "       Race        #    FPR  CI_FPR    FNR  CI_FNR\n",
       "0     White  11620.0  0.170   0.006  0.253   0.006\n",
       "1     Black   2924.0  0.276   0.006  0.168   0.008\n",
       "2      Hisp    998.0  0.275   0.012  0.162   0.012\n",
       "3     Other    725.0  0.176   0.007  0.201   0.011\n",
       "4     Asian    407.0  0.217   0.007  0.134   0.007\n",
       "5  American     41.0  0.176   0.032  0.246   0.030"
      ]
     },
     "execution_count": 33,
     "metadata": {},
     "output_type": "execute_result"
    }
   ],
   "source": [
    "Race = ['White','Black','Hisp','Other','Asian','American' ]\n",
    "FPR_FNR_Race_df = pd.DataFrame(Race, columns=[\"Race\"])\n",
    "\n",
    "FPR_FNR_Race_df=FiveRunSubgroup(Race, F_race_df, FPR_FNR_Race_df)\n",
    "FPR_FNR_Race_df.to_csv('./results/Subgroun_FNR_FPR_Race.csv')\n",
    "FPR_FNR_Race_df"
   ]
  },
  {
   "cell_type": "markdown",
   "metadata": {},
   "source": [
    "## Insurance"
   ]
  },
  {
   "cell_type": "code",
   "execution_count": 34,
   "metadata": {},
   "outputs": [],
   "source": [
    "FP5_insurance = pd.read_csv(\"./results77/FPR_FNR_NF_insurance.csv\")\n",
    "FP4_insurance = pd.read_csv(\"./results19/FPR_FNR_NF_insurance.csv\")\n",
    "FP3_insurance = pd.read_csv(\"./results38/FPR_FNR_NF_insurance.csv\")\n",
    "FP2_insurance = pd.read_csv(\"./results47/FPR_FNR_NF_insurance.csv\")\n",
    "FP1_insurance = pd.read_csv(\"./results31/FPR_FNR_NF_insurance.csv\")\n",
    "FP_insurance = FP1_insurance.append([FP2_insurance, FP3_insurance,FP4_insurance, FP5_insurance])\n",
    "FP_insurance_df = FP_insurance.describe()"
   ]
  },
  {
   "cell_type": "code",
   "execution_count": 35,
   "metadata": {},
   "outputs": [
    {
     "name": "stdout",
     "output_type": "stream",
     "text": [
      "FPR distribiution in insurances\n",
      "Unnamed: 0         0.000\n",
      "#Medicare       8507.000\n",
      "FPR_Medicare       0.162\n",
      "FNR_Medicare       0.310\n",
      "#Other          7369.000\n",
      "FPR_Other          0.208\n",
      "FNR_Other          0.178\n",
      "#Medicaid       1591.000\n",
      "FPR_Medicaid       0.274\n",
      "FNR_Medicaid       0.166\n",
      "Name: mean, dtype: float64\n"
     ]
    }
   ],
   "source": [
    "print(\"FPR distribiution in insurances\")\n",
    "print(round(FP_insurance_df.loc['mean'],3))"
   ]
  },
  {
   "cell_type": "code",
   "execution_count": 36,
   "metadata": {},
   "outputs": [
    {
     "data": {
      "text/plain": [
       "Unnamed: 0      0.000\n",
       "#Medicare       0.000\n",
       "FPR_Medicare    0.007\n",
       "FNR_Medicare    0.007\n",
       "#Other          0.000\n",
       "FPR_Other       0.005\n",
       "FNR_Other       0.005\n",
       "#Medicaid       0.000\n",
       "FPR_Medicaid    0.011\n",
       "FNR_Medicaid    0.010\n",
       "Name: std, dtype: float64"
      ]
     },
     "execution_count": 36,
     "metadata": {},
     "output_type": "execute_result"
    }
   ],
   "source": [
    "round(1.96 * FP_insurance_df.loc['std'] / np.sqrt(5),3)"
   ]
  },
  {
   "cell_type": "code",
   "execution_count": 37,
   "metadata": {},
   "outputs": [
    {
     "data": {
      "text/plain": [
       "0.006692761462953838"
      ]
     },
     "execution_count": 37,
     "metadata": {},
     "output_type": "execute_result"
    }
   ],
   "source": [
    "ConfI = 1.96 * FP_insurance_df.loc['std'] / np.sqrt(5)\n",
    "ConfI.loc['FPR_Medicare']"
   ]
  },
  {
   "cell_type": "code",
   "execution_count": 38,
   "metadata": {},
   "outputs": [
    {
     "data": {
      "text/html": [
       "<div>\n",
       "<style scoped>\n",
       "    .dataframe tbody tr th:only-of-type {\n",
       "        vertical-align: middle;\n",
       "    }\n",
       "\n",
       "    .dataframe tbody tr th {\n",
       "        vertical-align: top;\n",
       "    }\n",
       "\n",
       "    .dataframe thead th {\n",
       "        text-align: right;\n",
       "    }\n",
       "</style>\n",
       "<table border=\"1\" class=\"dataframe\">\n",
       "  <thead>\n",
       "    <tr style=\"text-align: right;\">\n",
       "      <th></th>\n",
       "      <th>Insurance</th>\n",
       "      <th>#</th>\n",
       "      <th>FPR</th>\n",
       "      <th>CI_FPR</th>\n",
       "      <th>FNR</th>\n",
       "      <th>CI_FNR</th>\n",
       "    </tr>\n",
       "  </thead>\n",
       "  <tbody>\n",
       "    <tr>\n",
       "      <th>0</th>\n",
       "      <td>Medicare</td>\n",
       "      <td>8507.0</td>\n",
       "      <td>0.162</td>\n",
       "      <td>0.007</td>\n",
       "      <td>0.310</td>\n",
       "      <td>0.007</td>\n",
       "    </tr>\n",
       "    <tr>\n",
       "      <th>1</th>\n",
       "      <td>Other</td>\n",
       "      <td>7369.0</td>\n",
       "      <td>0.208</td>\n",
       "      <td>0.005</td>\n",
       "      <td>0.178</td>\n",
       "      <td>0.005</td>\n",
       "    </tr>\n",
       "    <tr>\n",
       "      <th>2</th>\n",
       "      <td>Medicaid</td>\n",
       "      <td>1591.0</td>\n",
       "      <td>0.274</td>\n",
       "      <td>0.011</td>\n",
       "      <td>0.166</td>\n",
       "      <td>0.010</td>\n",
       "    </tr>\n",
       "  </tbody>\n",
       "</table>\n",
       "</div>"
      ],
      "text/plain": [
       "  Insurance       #    FPR  CI_FPR    FNR  CI_FNR\n",
       "0  Medicare  8507.0  0.162   0.007  0.310   0.007\n",
       "1     Other  7369.0  0.208   0.005  0.178   0.005\n",
       "2  Medicaid  1591.0  0.274   0.011  0.166   0.010"
      ]
     },
     "execution_count": 38,
     "metadata": {},
     "output_type": "execute_result"
    }
   ],
   "source": [
    "Insurance = ['Medicare','Other','Medicaid' ]\n",
    "\n",
    "FPR_FNR_Ins_df = pd.DataFrame(Insurance, columns=[\"Insurance\"])\n",
    "\n",
    "FP_insurance_df=FiveRunSubgroup(Insurance, FP_insurance_df, FPR_FNR_Ins_df)\n",
    "FP_insurance_df.to_csv('./results/Subgroun_FNR_FPR_Insurance.csv')\n",
    "FP_insurance_df"
   ]
  },
  {
   "cell_type": "markdown",
   "metadata": {},
   "source": [
    "## Intersectional identity"
   ]
  },
  {
   "cell_type": "markdown",
   "metadata": {},
   "source": [
    "### Age-Sex"
   ]
  },
  {
   "cell_type": "code",
   "execution_count": 39,
   "metadata": {},
   "outputs": [],
   "source": [
    "FP5_agesex = pd.read_csv(\"./results77/FP_AgeSex.csv\")\n",
    "FP4_agesex= pd.read_csv(\"./results19/FP_AgeSex.csv\")\n",
    "FP3_agesex = pd.read_csv(\"./results38/FP_AgeSex.csv\")\n",
    "FP2_agesex = pd.read_csv(\"./results47/FP_AgeSex.csv\")\n",
    "FP1_agesex = pd.read_csv(\"./results31/FP_AgeSex.csv\")\n",
    "FP_agesex = FP1_agesex.append([FP2_agesex, FP3_agesex,FP4_agesex, FP5_agesex])\n",
    "FP_AgeSex =FP_agesex.groupby(\"Age\")   \n",
    "FP_AgSx_df = FP_AgeSex.describe()"
   ]
  },
  {
   "cell_type": "code",
   "execution_count": 40,
   "metadata": {},
   "outputs": [
    {
     "data": {
      "text/html": [
       "<div>\n",
       "<style scoped>\n",
       "    .dataframe tbody tr th:only-of-type {\n",
       "        vertical-align: middle;\n",
       "    }\n",
       "\n",
       "    .dataframe tbody tr th {\n",
       "        vertical-align: top;\n",
       "    }\n",
       "\n",
       "    .dataframe thead tr th {\n",
       "        text-align: left;\n",
       "    }\n",
       "\n",
       "    .dataframe thead tr:last-of-type th {\n",
       "        text-align: right;\n",
       "    }\n",
       "</style>\n",
       "<table border=\"1\" class=\"dataframe\">\n",
       "  <thead>\n",
       "    <tr>\n",
       "      <th></th>\n",
       "      <th colspan=\"8\" halign=\"left\">Unnamed: 0</th>\n",
       "      <th colspan=\"5\" halign=\"left\">M</th>\n",
       "      <th colspan=\"8\" halign=\"left\">F</th>\n",
       "    </tr>\n",
       "    <tr>\n",
       "      <th></th>\n",
       "      <th>count</th>\n",
       "      <th>mean</th>\n",
       "      <th>std</th>\n",
       "      <th>min</th>\n",
       "      <th>25%</th>\n",
       "      <th>50%</th>\n",
       "      <th>75%</th>\n",
       "      <th>max</th>\n",
       "      <th>count</th>\n",
       "      <th>mean</th>\n",
       "      <th>...</th>\n",
       "      <th>75%</th>\n",
       "      <th>max</th>\n",
       "      <th>count</th>\n",
       "      <th>mean</th>\n",
       "      <th>std</th>\n",
       "      <th>min</th>\n",
       "      <th>25%</th>\n",
       "      <th>50%</th>\n",
       "      <th>75%</th>\n",
       "      <th>max</th>\n",
       "    </tr>\n",
       "    <tr>\n",
       "      <th>Age</th>\n",
       "      <th></th>\n",
       "      <th></th>\n",
       "      <th></th>\n",
       "      <th></th>\n",
       "      <th></th>\n",
       "      <th></th>\n",
       "      <th></th>\n",
       "      <th></th>\n",
       "      <th></th>\n",
       "      <th></th>\n",
       "      <th></th>\n",
       "      <th></th>\n",
       "      <th></th>\n",
       "      <th></th>\n",
       "      <th></th>\n",
       "      <th></th>\n",
       "      <th></th>\n",
       "      <th></th>\n",
       "      <th></th>\n",
       "      <th></th>\n",
       "      <th></th>\n",
       "    </tr>\n",
       "  </thead>\n",
       "  <tbody>\n",
       "    <tr>\n",
       "      <th>0-20</th>\n",
       "      <td>5.0</td>\n",
       "      <td>4.0</td>\n",
       "      <td>0.0</td>\n",
       "      <td>4.0</td>\n",
       "      <td>4.0</td>\n",
       "      <td>4.0</td>\n",
       "      <td>4.0</td>\n",
       "      <td>4.0</td>\n",
       "      <td>5.0</td>\n",
       "      <td>0.4298</td>\n",
       "      <td>...</td>\n",
       "      <td>0.449</td>\n",
       "      <td>0.462</td>\n",
       "      <td>5.0</td>\n",
       "      <td>0.5842</td>\n",
       "      <td>0.026224</td>\n",
       "      <td>0.562</td>\n",
       "      <td>0.573</td>\n",
       "      <td>0.573</td>\n",
       "      <td>0.584</td>\n",
       "      <td>0.629</td>\n",
       "    </tr>\n",
       "    <tr>\n",
       "      <th>20-40</th>\n",
       "      <td>5.0</td>\n",
       "      <td>2.0</td>\n",
       "      <td>0.0</td>\n",
       "      <td>2.0</td>\n",
       "      <td>2.0</td>\n",
       "      <td>2.0</td>\n",
       "      <td>2.0</td>\n",
       "      <td>2.0</td>\n",
       "      <td>5.0</td>\n",
       "      <td>0.3078</td>\n",
       "      <td>...</td>\n",
       "      <td>0.312</td>\n",
       "      <td>0.332</td>\n",
       "      <td>5.0</td>\n",
       "      <td>0.5140</td>\n",
       "      <td>0.006782</td>\n",
       "      <td>0.507</td>\n",
       "      <td>0.511</td>\n",
       "      <td>0.512</td>\n",
       "      <td>0.515</td>\n",
       "      <td>0.525</td>\n",
       "    </tr>\n",
       "    <tr>\n",
       "      <th>40-60</th>\n",
       "      <td>5.0</td>\n",
       "      <td>1.0</td>\n",
       "      <td>0.0</td>\n",
       "      <td>1.0</td>\n",
       "      <td>1.0</td>\n",
       "      <td>1.0</td>\n",
       "      <td>1.0</td>\n",
       "      <td>1.0</td>\n",
       "      <td>5.0</td>\n",
       "      <td>0.2636</td>\n",
       "      <td>...</td>\n",
       "      <td>0.268</td>\n",
       "      <td>0.271</td>\n",
       "      <td>5.0</td>\n",
       "      <td>0.2852</td>\n",
       "      <td>0.008701</td>\n",
       "      <td>0.270</td>\n",
       "      <td>0.286</td>\n",
       "      <td>0.289</td>\n",
       "      <td>0.290</td>\n",
       "      <td>0.291</td>\n",
       "    </tr>\n",
       "    <tr>\n",
       "      <th>60-80</th>\n",
       "      <td>5.0</td>\n",
       "      <td>0.0</td>\n",
       "      <td>0.0</td>\n",
       "      <td>0.0</td>\n",
       "      <td>0.0</td>\n",
       "      <td>0.0</td>\n",
       "      <td>0.0</td>\n",
       "      <td>0.0</td>\n",
       "      <td>5.0</td>\n",
       "      <td>0.1590</td>\n",
       "      <td>...</td>\n",
       "      <td>0.165</td>\n",
       "      <td>0.166</td>\n",
       "      <td>5.0</td>\n",
       "      <td>0.1674</td>\n",
       "      <td>0.009127</td>\n",
       "      <td>0.153</td>\n",
       "      <td>0.164</td>\n",
       "      <td>0.171</td>\n",
       "      <td>0.174</td>\n",
       "      <td>0.175</td>\n",
       "    </tr>\n",
       "    <tr>\n",
       "      <th>80-</th>\n",
       "      <td>5.0</td>\n",
       "      <td>3.0</td>\n",
       "      <td>0.0</td>\n",
       "      <td>3.0</td>\n",
       "      <td>3.0</td>\n",
       "      <td>3.0</td>\n",
       "      <td>3.0</td>\n",
       "      <td>3.0</td>\n",
       "      <td>5.0</td>\n",
       "      <td>0.1030</td>\n",
       "      <td>...</td>\n",
       "      <td>0.107</td>\n",
       "      <td>0.108</td>\n",
       "      <td>5.0</td>\n",
       "      <td>0.1224</td>\n",
       "      <td>0.011283</td>\n",
       "      <td>0.108</td>\n",
       "      <td>0.116</td>\n",
       "      <td>0.121</td>\n",
       "      <td>0.131</td>\n",
       "      <td>0.136</td>\n",
       "    </tr>\n",
       "  </tbody>\n",
       "</table>\n",
       "<p>5 rows × 24 columns</p>\n",
       "</div>"
      ],
      "text/plain": [
       "      Unnamed: 0                                        M          ...         \\\n",
       "           count mean  std  min  25%  50%  75%  max count    mean  ...    75%   \n",
       "Age                                                                ...          \n",
       "0-20         5.0  4.0  0.0  4.0  4.0  4.0  4.0  4.0   5.0  0.4298  ...  0.449   \n",
       "20-40        5.0  2.0  0.0  2.0  2.0  2.0  2.0  2.0   5.0  0.3078  ...  0.312   \n",
       "40-60        5.0  1.0  0.0  1.0  1.0  1.0  1.0  1.0   5.0  0.2636  ...  0.268   \n",
       "60-80        5.0  0.0  0.0  0.0  0.0  0.0  0.0  0.0   5.0  0.1590  ...  0.165   \n",
       "80-          5.0  3.0  0.0  3.0  3.0  3.0  3.0  3.0   5.0  0.1030  ...  0.107   \n",
       "\n",
       "                 F                                                       \n",
       "         max count    mean       std    min    25%    50%    75%    max  \n",
       "Age                                                                      \n",
       "0-20   0.462   5.0  0.5842  0.026224  0.562  0.573  0.573  0.584  0.629  \n",
       "20-40  0.332   5.0  0.5140  0.006782  0.507  0.511  0.512  0.515  0.525  \n",
       "40-60  0.271   5.0  0.2852  0.008701  0.270  0.286  0.289  0.290  0.291  \n",
       "60-80  0.166   5.0  0.1674  0.009127  0.153  0.164  0.171  0.174  0.175  \n",
       "80-    0.108   5.0  0.1224  0.011283  0.108  0.116  0.121  0.131  0.136  \n",
       "\n",
       "[5 rows x 24 columns]"
      ]
     },
     "execution_count": 40,
     "metadata": {},
     "output_type": "execute_result"
    }
   ],
   "source": [
    "FP_AgSx_df"
   ]
  },
  {
   "cell_type": "code",
   "execution_count": 41,
   "metadata": {},
   "outputs": [
    {
     "name": "stdout",
     "output_type": "stream",
     "text": [
      "Age-Sex over male\n"
     ]
    },
    {
     "data": {
      "text/plain": [
       "Age\n",
       "0-20     0.430\n",
       "20-40    0.308\n",
       "40-60    0.264\n",
       "60-80    0.159\n",
       "80-      0.103\n",
       "Name: mean, dtype: float64"
      ]
     },
     "execution_count": 41,
     "metadata": {},
     "output_type": "execute_result"
    }
   ],
   "source": [
    "print(\"Age-Sex over male\")\n",
    "round(FP_AgSx_df['M']['mean'],3)"
   ]
  },
  {
   "cell_type": "code",
   "execution_count": 42,
   "metadata": {
    "scrolled": true
   },
   "outputs": [
    {
     "data": {
      "text/plain": [
       "Age\n",
       "0-20     0.032\n",
       "20-40    0.014\n",
       "40-60    0.006\n",
       "60-80    0.006\n",
       "80-      0.005\n",
       "Name: std, dtype: float64"
      ]
     },
     "execution_count": 42,
     "metadata": {},
     "output_type": "execute_result"
    }
   ],
   "source": [
    "round(1.96 * FP_AgSx_df['M'][\"std\"] / np.sqrt(5),3)"
   ]
  },
  {
   "cell_type": "code",
   "execution_count": 43,
   "metadata": {},
   "outputs": [
    {
     "name": "stdout",
     "output_type": "stream",
     "text": [
      "mean:  0.2528\n"
     ]
    }
   ],
   "source": [
    "print(\"mean: \", round(FP_AgSx_df['M']['mean'],3).mean() )"
   ]
  },
  {
   "cell_type": "code",
   "execution_count": 44,
   "metadata": {},
   "outputs": [
    {
     "data": {
      "text/plain": [
       "Age\n",
       "0-20     0.584\n",
       "20-40    0.514\n",
       "40-60    0.285\n",
       "60-80    0.167\n",
       "80-      0.122\n",
       "Name: mean, dtype: float64"
      ]
     },
     "execution_count": 44,
     "metadata": {},
     "output_type": "execute_result"
    }
   ],
   "source": [
    "round(FP_AgSx_df['F']['mean'],3)"
   ]
  },
  {
   "cell_type": "code",
   "execution_count": 45,
   "metadata": {},
   "outputs": [
    {
     "data": {
      "text/plain": [
       "Age\n",
       "0-20     0.023\n",
       "20-40    0.006\n",
       "40-60    0.008\n",
       "60-80    0.008\n",
       "80-      0.010\n",
       "Name: std, dtype: float64"
      ]
     },
     "execution_count": 45,
     "metadata": {},
     "output_type": "execute_result"
    }
   ],
   "source": [
    "round(1.96 * FP_AgSx_df['F'][\"std\"] / np.sqrt(5),3)"
   ]
  },
  {
   "cell_type": "code",
   "execution_count": 46,
   "metadata": {},
   "outputs": [],
   "source": [
    "CI = round(1.96 * FP_AgSx_df['F'][\"std\"] / np.sqrt(5),3)"
   ]
  },
  {
   "cell_type": "code",
   "execution_count": 47,
   "metadata": {},
   "outputs": [
    {
     "data": {
      "text/html": [
       "<div>\n",
       "<style scoped>\n",
       "    .dataframe tbody tr th:only-of-type {\n",
       "        vertical-align: middle;\n",
       "    }\n",
       "\n",
       "    .dataframe tbody tr th {\n",
       "        vertical-align: top;\n",
       "    }\n",
       "\n",
       "    .dataframe thead th {\n",
       "        text-align: right;\n",
       "    }\n",
       "</style>\n",
       "<table border=\"1\" class=\"dataframe\">\n",
       "  <thead>\n",
       "    <tr style=\"text-align: right;\">\n",
       "      <th></th>\n",
       "      <th>Age</th>\n",
       "      <th>F</th>\n",
       "      <th>CI_F</th>\n",
       "      <th>M</th>\n",
       "      <th>CI_M</th>\n",
       "      <th>Unnamed: 0</th>\n",
       "      <th>Num_F</th>\n",
       "      <th>Num_M</th>\n",
       "    </tr>\n",
       "  </thead>\n",
       "  <tbody>\n",
       "    <tr>\n",
       "      <th>0</th>\n",
       "      <td>0-20</td>\n",
       "      <td>0.584</td>\n",
       "      <td>0.023</td>\n",
       "      <td>0.430</td>\n",
       "      <td>0.032</td>\n",
       "      <td>4</td>\n",
       "      <td>89</td>\n",
       "      <td>156</td>\n",
       "    </tr>\n",
       "    <tr>\n",
       "      <th>1</th>\n",
       "      <td>20-40</td>\n",
       "      <td>0.514</td>\n",
       "      <td>0.006</td>\n",
       "      <td>0.308</td>\n",
       "      <td>0.014</td>\n",
       "      <td>2</td>\n",
       "      <td>1222</td>\n",
       "      <td>1838</td>\n",
       "    </tr>\n",
       "    <tr>\n",
       "      <th>2</th>\n",
       "      <td>40-60</td>\n",
       "      <td>0.285</td>\n",
       "      <td>0.008</td>\n",
       "      <td>0.264</td>\n",
       "      <td>0.006</td>\n",
       "      <td>1</td>\n",
       "      <td>3816</td>\n",
       "      <td>4371</td>\n",
       "    </tr>\n",
       "    <tr>\n",
       "      <th>3</th>\n",
       "      <td>60-80</td>\n",
       "      <td>0.167</td>\n",
       "      <td>0.008</td>\n",
       "      <td>0.159</td>\n",
       "      <td>0.006</td>\n",
       "      <td>0</td>\n",
       "      <td>4130</td>\n",
       "      <td>4876</td>\n",
       "    </tr>\n",
       "    <tr>\n",
       "      <th>4</th>\n",
       "      <td>80-</td>\n",
       "      <td>0.122</td>\n",
       "      <td>0.010</td>\n",
       "      <td>0.103</td>\n",
       "      <td>0.005</td>\n",
       "      <td>3</td>\n",
       "      <td>1163</td>\n",
       "      <td>853</td>\n",
       "    </tr>\n",
       "  </tbody>\n",
       "</table>\n",
       "</div>"
      ],
      "text/plain": [
       "     Age      F   CI_F      M   CI_M  Unnamed: 0  Num_F  Num_M\n",
       "0   0-20  0.584  0.023  0.430  0.032           4     89    156\n",
       "1  20-40  0.514  0.006  0.308  0.014           2   1222   1838\n",
       "2  40-60  0.285  0.008  0.264  0.006           1   3816   4371\n",
       "3  60-80  0.167  0.008  0.159  0.006           0   4130   4876\n",
       "4    80-  0.122  0.010  0.103  0.005           3   1163    853"
      ]
     },
     "execution_count": 47,
     "metadata": {},
     "output_type": "execute_result"
    }
   ],
   "source": [
    "factors = ['F', 'M']\n",
    "age =['0-20', '20-40', '40-60', '60-80','80-']\n",
    "AgeSex_df = pd.DataFrame(age, columns=[\"Age\"])\n",
    "Num_df =  pd.read_csv(\"./results77/Num_AgeSex.csv\")\n",
    "\n",
    "\n",
    "def FiveRun(factors,want_df,df,Num):\n",
    "    for factor in factors:    \n",
    "        dfM0 = round(df[factor]['mean'],3)\n",
    "        dfM2 = round(1.96 * df[factor][\"std\"] / np.sqrt(5),3)\n",
    "        want_df[factor] = pd.DataFrame(dfM0.values.tolist(),columns =[factor])\n",
    "        want_df['CI_'+factor] = pd.DataFrame(dfM2.values.tolist(),columns =['CI_'+factor])\n",
    "        \n",
    "        Num['Num_'+factor] = Num[factor]\n",
    "    \n",
    "    Num = Num.drop(factors,axis=1)\n",
    "    want_df = want_df.merge(Num,left_on=\"Age\", right_on=\"Age\")\n",
    "    \n",
    "    return want_df\n",
    "\n",
    "want = FiveRun(factors,AgeSex_df,FP_AgSx_df,Num_df)\n",
    "want.to_csv('./results/Inter_AgeSex.csv')\n",
    "want"
   ]
  },
  {
   "cell_type": "code",
   "execution_count": 48,
   "metadata": {},
   "outputs": [],
   "source": [
    "FP_NF_5_agesex = pd.read_csv(\"./results77/FP_FN_AgeSex.csv\")\n",
    "FP_NF_4_agesex= pd.read_csv(\"./results19/FP_FN_AgeSex.csv\")\n",
    "FP_NF_3_agesex = pd.read_csv(\"./results38/FP_FN_AgeSex.csv\")\n",
    "FP_NF_2_agesex = pd.read_csv(\"./results47/FP_FN_AgeSex.csv\")\n",
    "FP_NF_1_agesex = pd.read_csv(\"./results31/FP_FN_AgeSex.csv\")\n",
    "FP_NF_agesex = FP_NF_1_agesex.append([FP_NF_2_agesex, FP_NF_3_agesex,FP_NF_4_agesex, FP_NF_5_agesex])\n",
    "FP_NF_AgeSex =FP_NF_agesex.groupby(\"Age\")   \n",
    "FP_NF_AgSx_df = FP_NF_AgeSex.describe()"
   ]
  },
  {
   "cell_type": "code",
   "execution_count": 49,
   "metadata": {},
   "outputs": [
    {
     "data": {
      "text/html": [
       "<div>\n",
       "<style scoped>\n",
       "    .dataframe tbody tr th:only-of-type {\n",
       "        vertical-align: middle;\n",
       "    }\n",
       "\n",
       "    .dataframe tbody tr th {\n",
       "        vertical-align: top;\n",
       "    }\n",
       "\n",
       "    .dataframe thead th {\n",
       "        text-align: right;\n",
       "    }\n",
       "</style>\n",
       "<table border=\"1\" class=\"dataframe\">\n",
       "  <thead>\n",
       "    <tr style=\"text-align: right;\">\n",
       "      <th></th>\n",
       "      <th>Age</th>\n",
       "      <th>FPR_M</th>\n",
       "      <th>CI_FPR_M</th>\n",
       "      <th>FNR_M</th>\n",
       "      <th>CI_FNR_M</th>\n",
       "      <th>FPR_F</th>\n",
       "      <th>CI_FPR_F</th>\n",
       "      <th>FNR_F</th>\n",
       "      <th>CI_FNR_F</th>\n",
       "    </tr>\n",
       "  </thead>\n",
       "  <tbody>\n",
       "    <tr>\n",
       "      <th>0</th>\n",
       "      <td>0-20</td>\n",
       "      <td>0.430</td>\n",
       "      <td>0.032</td>\n",
       "      <td>0.032</td>\n",
       "      <td>0.009</td>\n",
       "      <td>0.584</td>\n",
       "      <td>0.023</td>\n",
       "      <td>0.026</td>\n",
       "      <td>0.007</td>\n",
       "    </tr>\n",
       "    <tr>\n",
       "      <th>1</th>\n",
       "      <td>20-40</td>\n",
       "      <td>0.308</td>\n",
       "      <td>0.014</td>\n",
       "      <td>0.099</td>\n",
       "      <td>0.006</td>\n",
       "      <td>0.514</td>\n",
       "      <td>0.006</td>\n",
       "      <td>0.037</td>\n",
       "      <td>0.002</td>\n",
       "    </tr>\n",
       "    <tr>\n",
       "      <th>2</th>\n",
       "      <td>40-60</td>\n",
       "      <td>0.264</td>\n",
       "      <td>0.006</td>\n",
       "      <td>0.171</td>\n",
       "      <td>0.008</td>\n",
       "      <td>0.285</td>\n",
       "      <td>0.008</td>\n",
       "      <td>0.157</td>\n",
       "      <td>0.006</td>\n",
       "    </tr>\n",
       "    <tr>\n",
       "      <th>3</th>\n",
       "      <td>60-80</td>\n",
       "      <td>0.159</td>\n",
       "      <td>0.006</td>\n",
       "      <td>0.338</td>\n",
       "      <td>0.013</td>\n",
       "      <td>0.167</td>\n",
       "      <td>0.008</td>\n",
       "      <td>0.317</td>\n",
       "      <td>0.013</td>\n",
       "    </tr>\n",
       "    <tr>\n",
       "      <th>4</th>\n",
       "      <td>80-</td>\n",
       "      <td>0.103</td>\n",
       "      <td>0.005</td>\n",
       "      <td>0.416</td>\n",
       "      <td>0.012</td>\n",
       "      <td>0.122</td>\n",
       "      <td>0.010</td>\n",
       "      <td>0.422</td>\n",
       "      <td>0.025</td>\n",
       "    </tr>\n",
       "  </tbody>\n",
       "</table>\n",
       "</div>"
      ],
      "text/plain": [
       "     Age  FPR_M  CI_FPR_M  FNR_M  CI_FNR_M  FPR_F  CI_FPR_F  FNR_F  CI_FNR_F\n",
       "0   0-20  0.430     0.032  0.032     0.009  0.584     0.023  0.026     0.007\n",
       "1  20-40  0.308     0.014  0.099     0.006  0.514     0.006  0.037     0.002\n",
       "2  40-60  0.264     0.006  0.171     0.008  0.285     0.008  0.157     0.006\n",
       "3  60-80  0.159     0.006  0.338     0.013  0.167     0.008  0.317     0.013\n",
       "4    80-  0.103     0.005  0.416     0.012  0.122     0.010  0.422     0.025"
      ]
     },
     "execution_count": 49,
     "metadata": {},
     "output_type": "execute_result"
    }
   ],
   "source": [
    "factors = ['FPR_M','FNR_M','FPR_F','FNR_F']\n",
    "age =['0-20', '20-40', '40-60', '60-80','80-']\n",
    "AgeSex_df = pd.DataFrame(age, columns=[\"Age\"])\n",
    "\n",
    "\n",
    "def FiveRun_FP_NF(factors,want_df,df):\n",
    "    \n",
    "    for factor in factors:    \n",
    "        dfM0 = round(df[factor]['mean'],3)\n",
    "        dfM2 = round(1.96 * df[factor][\"std\"] / np.sqrt(5),3)\n",
    "        want_df[factor] = pd.DataFrame(dfM0.values.tolist(),columns =[factor])\n",
    "        want_df['CI_'+factor] = pd.DataFrame(dfM2.values.tolist(),columns =['CI_'+factor])\n",
    "    \n",
    "    return want_df\n",
    "\n",
    "want = FiveRun_FP_NF(factors, AgeSex_df, FP_NF_AgSx_df)\n",
    "want.to_csv('./results/Inter_AgeSex_FNR_FPR.csv')\n",
    "\n",
    "want"
   ]
  },
  {
   "cell_type": "code",
   "execution_count": 8,
   "metadata": {},
   "outputs": [
    {
     "name": "stdout",
     "output_type": "stream",
     "text": [
      "Number of images in age sex intersection with actual NF=1\n"
     ]
    },
    {
     "data": {
      "text/html": [
       "<div>\n",
       "<style scoped>\n",
       "    .dataframe tbody tr th:only-of-type {\n",
       "        vertical-align: middle;\n",
       "    }\n",
       "\n",
       "    .dataframe tbody tr th {\n",
       "        vertical-align: top;\n",
       "    }\n",
       "\n",
       "    .dataframe thead th {\n",
       "        text-align: right;\n",
       "    }\n",
       "</style>\n",
       "<table border=\"1\" class=\"dataframe\">\n",
       "  <thead>\n",
       "    <tr style=\"text-align: right;\">\n",
       "      <th></th>\n",
       "      <th>Unnamed: 0</th>\n",
       "      <th>Age</th>\n",
       "      <th>M</th>\n",
       "      <th>F</th>\n",
       "    </tr>\n",
       "  </thead>\n",
       "  <tbody>\n",
       "    <tr>\n",
       "      <th>0</th>\n",
       "      <td>0</td>\n",
       "      <td>60-80</td>\n",
       "      <td>1691</td>\n",
       "      <td>1526</td>\n",
       "    </tr>\n",
       "    <tr>\n",
       "      <th>1</th>\n",
       "      <td>1</td>\n",
       "      <td>40-60</td>\n",
       "      <td>2659</td>\n",
       "      <td>2770</td>\n",
       "    </tr>\n",
       "    <tr>\n",
       "      <th>2</th>\n",
       "      <td>2</td>\n",
       "      <td>20-40</td>\n",
       "      <td>1828</td>\n",
       "      <td>2374</td>\n",
       "    </tr>\n",
       "    <tr>\n",
       "      <th>3</th>\n",
       "      <td>3</td>\n",
       "      <td>80-</td>\n",
       "      <td>185</td>\n",
       "      <td>316</td>\n",
       "    </tr>\n",
       "    <tr>\n",
       "      <th>4</th>\n",
       "      <td>4</td>\n",
       "      <td>0-20</td>\n",
       "      <td>155</td>\n",
       "      <td>397</td>\n",
       "    </tr>\n",
       "  </tbody>\n",
       "</table>\n",
       "</div>"
      ],
      "text/plain": [
       "   Unnamed: 0    Age     M     F\n",
       "0           0  60-80  1691  1526\n",
       "1           1  40-60  2659  2770\n",
       "2           2  20-40  1828  2374\n",
       "3           3    80-   185   316\n",
       "4           4   0-20   155   397"
      ]
     },
     "execution_count": 8,
     "metadata": {},
     "output_type": "execute_result"
    }
   ],
   "source": [
    "# code in fase_pos.py\n",
    "print('Number of images in age sex intersection with actual NF=1')\n",
    "pd.read_csv('./results47/Num_AgeSex_NF1.csv')"
   ]
  },
  {
   "cell_type": "code",
   "execution_count": 7,
   "metadata": {},
   "outputs": [
    {
     "name": "stdout",
     "output_type": "stream",
     "text": [
      "Number of images in age sex intersection with actual NF=0\n"
     ]
    },
    {
     "data": {
      "text/html": [
       "<div>\n",
       "<style scoped>\n",
       "    .dataframe tbody tr th:only-of-type {\n",
       "        vertical-align: middle;\n",
       "    }\n",
       "\n",
       "    .dataframe tbody tr th {\n",
       "        vertical-align: top;\n",
       "    }\n",
       "\n",
       "    .dataframe thead th {\n",
       "        text-align: right;\n",
       "    }\n",
       "</style>\n",
       "<table border=\"1\" class=\"dataframe\">\n",
       "  <thead>\n",
       "    <tr style=\"text-align: right;\">\n",
       "      <th></th>\n",
       "      <th>Unnamed: 0</th>\n",
       "      <th>Age</th>\n",
       "      <th>M</th>\n",
       "      <th>F</th>\n",
       "    </tr>\n",
       "  </thead>\n",
       "  <tbody>\n",
       "    <tr>\n",
       "      <th>0</th>\n",
       "      <td>0</td>\n",
       "      <td>60-80</td>\n",
       "      <td>4876</td>\n",
       "      <td>4130</td>\n",
       "    </tr>\n",
       "    <tr>\n",
       "      <th>1</th>\n",
       "      <td>1</td>\n",
       "      <td>40-60</td>\n",
       "      <td>4371</td>\n",
       "      <td>3816</td>\n",
       "    </tr>\n",
       "    <tr>\n",
       "      <th>2</th>\n",
       "      <td>2</td>\n",
       "      <td>20-40</td>\n",
       "      <td>1838</td>\n",
       "      <td>1222</td>\n",
       "    </tr>\n",
       "    <tr>\n",
       "      <th>3</th>\n",
       "      <td>3</td>\n",
       "      <td>80-</td>\n",
       "      <td>853</td>\n",
       "      <td>1163</td>\n",
       "    </tr>\n",
       "    <tr>\n",
       "      <th>4</th>\n",
       "      <td>4</td>\n",
       "      <td>0-20</td>\n",
       "      <td>156</td>\n",
       "      <td>89</td>\n",
       "    </tr>\n",
       "  </tbody>\n",
       "</table>\n",
       "</div>"
      ],
      "text/plain": [
       "   Unnamed: 0    Age     M     F\n",
       "0           0  60-80  4876  4130\n",
       "1           1  40-60  4371  3816\n",
       "2           2  20-40  1838  1222\n",
       "3           3    80-   853  1163\n",
       "4           4   0-20   156    89"
      ]
     },
     "execution_count": 7,
     "metadata": {},
     "output_type": "execute_result"
    }
   ],
   "source": [
    "print('Number of images in age sex intersection with actual NF=0')\n",
    "pd.read_csv('./results47/Num_AgeSex.csv')"
   ]
  },
  {
   "cell_type": "markdown",
   "metadata": {},
   "source": [
    "### Insurace -Sex"
   ]
  },
  {
   "cell_type": "code",
   "execution_count": 50,
   "metadata": {},
   "outputs": [],
   "source": [
    "FP5_InsSex = pd.read_csv(\"./results77/FP_InsSex.csv\")\n",
    "FP4_InsSex = pd.read_csv(\"./results19/FP_InsSex.csv\")\n",
    "FP3_InsSex = pd.read_csv(\"./results38/FP_InsSex.csv\")\n",
    "FP2_InsSex = pd.read_csv(\"./results47/FP_InsSex.csv\")\n",
    "FP1_InsSex = pd.read_csv(\"./results31/FP_InsSex.csv\")\n",
    "FP_InsSex = FP1_InsSex.append([FP2_InsSex, FP3_InsSex,FP4_InsSex, FP5_InsSex])\n",
    "FP_InSx =FP_InsSex.groupby(\"Insurance\")\n",
    "FP_InSx_df = FP_InSx.describe()"
   ]
  },
  {
   "cell_type": "code",
   "execution_count": 51,
   "metadata": {},
   "outputs": [
    {
     "data": {
      "text/plain": [
       "Insurance\n",
       "Medicaid    0.268\n",
       "Medicare    0.157\n",
       "Other       0.188\n",
       "Name: mean, dtype: float64"
      ]
     },
     "execution_count": 51,
     "metadata": {},
     "output_type": "execute_result"
    }
   ],
   "source": [
    "round(FP_InSx_df['M']['mean'],3)"
   ]
  },
  {
   "cell_type": "code",
   "execution_count": 52,
   "metadata": {},
   "outputs": [
    {
     "data": {
      "text/plain": [
       "Insurance\n",
       "Medicaid    0.006\n",
       "Medicare    0.007\n",
       "Other       0.006\n",
       "Name: std, dtype: float64"
      ]
     },
     "execution_count": 52,
     "metadata": {},
     "output_type": "execute_result"
    }
   ],
   "source": [
    "round(1.96 * FP_InSx_df['M'][\"std\"] / np.sqrt(5),3)"
   ]
  },
  {
   "cell_type": "code",
   "execution_count": 53,
   "metadata": {},
   "outputs": [
    {
     "data": {
      "text/plain": [
       "Insurance\n",
       "Medicaid    0.280\n",
       "Medicare    0.168\n",
       "Other       0.235\n",
       "Name: mean, dtype: float64"
      ]
     },
     "execution_count": 53,
     "metadata": {},
     "output_type": "execute_result"
    }
   ],
   "source": [
    "round(FP_InSx_df['F']['mean'],3)"
   ]
  },
  {
   "cell_type": "code",
   "execution_count": 54,
   "metadata": {},
   "outputs": [
    {
     "data": {
      "text/plain": [
       "0.015"
      ]
     },
     "execution_count": 54,
     "metadata": {},
     "output_type": "execute_result"
    }
   ],
   "source": [
    "CI=round(1.96 * FP_InSx_df['F'][\"std\"] / np.sqrt(5),3)\n",
    "CI.loc['Medicaid']"
   ]
  },
  {
   "cell_type": "code",
   "execution_count": 55,
   "metadata": {},
   "outputs": [
    {
     "data": {
      "text/plain": [
       "Insurance\n",
       "Medicaid    0.015\n",
       "Medicare    0.010\n",
       "Other       0.005\n",
       "Name: std, dtype: float64"
      ]
     },
     "execution_count": 55,
     "metadata": {},
     "output_type": "execute_result"
    }
   ],
   "source": [
    "round(1.96 * FP_InSx_df['F'][\"std\"] / np.sqrt(5),3)"
   ]
  },
  {
   "cell_type": "code",
   "execution_count": 56,
   "metadata": {},
   "outputs": [
    {
     "data": {
      "text/html": [
       "<div>\n",
       "<style scoped>\n",
       "    .dataframe tbody tr th:only-of-type {\n",
       "        vertical-align: middle;\n",
       "    }\n",
       "\n",
       "    .dataframe tbody tr th {\n",
       "        vertical-align: top;\n",
       "    }\n",
       "\n",
       "    .dataframe thead th {\n",
       "        text-align: right;\n",
       "    }\n",
       "</style>\n",
       "<table border=\"1\" class=\"dataframe\">\n",
       "  <thead>\n",
       "    <tr style=\"text-align: right;\">\n",
       "      <th></th>\n",
       "      <th>Insurance</th>\n",
       "      <th>F</th>\n",
       "      <th>CI_F</th>\n",
       "      <th>M</th>\n",
       "      <th>CI_M</th>\n",
       "      <th>Unnamed: 0</th>\n",
       "      <th>Num_F</th>\n",
       "      <th>Num_M</th>\n",
       "    </tr>\n",
       "  </thead>\n",
       "  <tbody>\n",
       "    <tr>\n",
       "      <th>0</th>\n",
       "      <td>Medicaid</td>\n",
       "      <td>0.280</td>\n",
       "      <td>0.015</td>\n",
       "      <td>0.268</td>\n",
       "      <td>0.006</td>\n",
       "      <td>2</td>\n",
       "      <td>834</td>\n",
       "      <td>757</td>\n",
       "    </tr>\n",
       "    <tr>\n",
       "      <th>1</th>\n",
       "      <td>Medicare</td>\n",
       "      <td>0.168</td>\n",
       "      <td>0.010</td>\n",
       "      <td>0.157</td>\n",
       "      <td>0.007</td>\n",
       "      <td>0</td>\n",
       "      <td>3981</td>\n",
       "      <td>4526</td>\n",
       "    </tr>\n",
       "    <tr>\n",
       "      <th>2</th>\n",
       "      <td>Other</td>\n",
       "      <td>0.235</td>\n",
       "      <td>0.005</td>\n",
       "      <td>0.188</td>\n",
       "      <td>0.006</td>\n",
       "      <td>1</td>\n",
       "      <td>3133</td>\n",
       "      <td>4232</td>\n",
       "    </tr>\n",
       "  </tbody>\n",
       "</table>\n",
       "</div>"
      ],
      "text/plain": [
       "  Insurance      F   CI_F      M   CI_M  Unnamed: 0  Num_F  Num_M\n",
       "0  Medicaid  0.280  0.015  0.268  0.006           2    834    757\n",
       "1  Medicare  0.168  0.010  0.157  0.007           0   3981   4526\n",
       "2     Other  0.235  0.005  0.188  0.006           1   3133   4232"
      ]
     },
     "execution_count": 56,
     "metadata": {},
     "output_type": "execute_result"
    }
   ],
   "source": [
    "factors = ['F', 'M']\n",
    "Insurance = ['Medicaid','Medicare','Other']\n",
    "SexIns_df = pd.DataFrame(Insurance, columns=[\"Insurance\"])\n",
    "Num_df =  pd.read_csv(\"./results77/Num_InsSex.csv\")\n",
    "\n",
    "\n",
    "def FiveRun(factors,want_df,df,Num):\n",
    "    for factor in factors:    \n",
    "        dfM0 = round(df[factor]['mean'],3)\n",
    "        dfM2 = round(1.96 * df[factor][\"std\"] / np.sqrt(5),3)\n",
    "        want_df[factor] = pd.DataFrame(dfM0.values.tolist(),columns =[factor])\n",
    "        want_df['CI_'+factor] = pd.DataFrame(dfM2.values.tolist(),columns =['CI_'+factor])        \n",
    "        Num['Num_'+factor] = Num[factor]\n",
    "    \n",
    "    Num = Num.drop(factors,axis=1)\n",
    "    want_df = want_df.merge(Num,left_on=\"Insurance\", right_on=\"Insurance\")\n",
    "\n",
    "    return want_df\n",
    "\n",
    "want = FiveRun(factors,SexIns_df,FP_InSx_df,Num_df)\n",
    "want.to_csv('./results/Inter_SexIns.csv')\n",
    "want"
   ]
  },
  {
   "cell_type": "code",
   "execution_count": 57,
   "metadata": {},
   "outputs": [],
   "source": [
    "FP5_InsSex = pd.read_csv(\"./results77/FP_FN_InsSex.csv\")\n",
    "FP4_InsSex = pd.read_csv(\"./results19/FP_FN_InsSex.csv\")\n",
    "FP3_InsSex = pd.read_csv(\"./results38/FP_FN_InsSex.csv\")\n",
    "FP2_InsSex = pd.read_csv(\"./results47/FP_FN_InsSex.csv\")\n",
    "FP1_InsSex = pd.read_csv(\"./results31/FP_FN_InsSex.csv\")\n",
    "FP_InsSex = FP1_InsSex.append([FP2_InsSex, FP3_InsSex,FP4_InsSex, FP5_InsSex])\n",
    "FP_InSx =FP_InsSex.groupby(\"Insurance\")\n",
    "FP_InSx_df = FP_InSx.describe()"
   ]
  },
  {
   "cell_type": "code",
   "execution_count": 58,
   "metadata": {},
   "outputs": [
    {
     "data": {
      "text/html": [
       "<div>\n",
       "<style scoped>\n",
       "    .dataframe tbody tr th:only-of-type {\n",
       "        vertical-align: middle;\n",
       "    }\n",
       "\n",
       "    .dataframe tbody tr th {\n",
       "        vertical-align: top;\n",
       "    }\n",
       "\n",
       "    .dataframe thead th {\n",
       "        text-align: right;\n",
       "    }\n",
       "</style>\n",
       "<table border=\"1\" class=\"dataframe\">\n",
       "  <thead>\n",
       "    <tr style=\"text-align: right;\">\n",
       "      <th></th>\n",
       "      <th>Insurance</th>\n",
       "      <th>FPR_M</th>\n",
       "      <th>CI_FPR_M</th>\n",
       "      <th>FNR_M</th>\n",
       "      <th>CI_FNR_M</th>\n",
       "      <th>FPR_F</th>\n",
       "      <th>CI_FPR_F</th>\n",
       "      <th>FNR_F</th>\n",
       "      <th>CI_FNR_F</th>\n",
       "    </tr>\n",
       "  </thead>\n",
       "  <tbody>\n",
       "    <tr>\n",
       "      <th>0</th>\n",
       "      <td>Medicaid</td>\n",
       "      <td>0.268</td>\n",
       "      <td>0.006</td>\n",
       "      <td>0.215</td>\n",
       "      <td>0.014</td>\n",
       "      <td>0.280</td>\n",
       "      <td>0.015</td>\n",
       "      <td>0.131</td>\n",
       "      <td>0.010</td>\n",
       "    </tr>\n",
       "    <tr>\n",
       "      <th>1</th>\n",
       "      <td>Medicare</td>\n",
       "      <td>0.157</td>\n",
       "      <td>0.007</td>\n",
       "      <td>0.322</td>\n",
       "      <td>0.011</td>\n",
       "      <td>0.168</td>\n",
       "      <td>0.010</td>\n",
       "      <td>0.297</td>\n",
       "      <td>0.012</td>\n",
       "    </tr>\n",
       "    <tr>\n",
       "      <th>2</th>\n",
       "      <td>Other</td>\n",
       "      <td>0.188</td>\n",
       "      <td>0.006</td>\n",
       "      <td>0.212</td>\n",
       "      <td>0.005</td>\n",
       "      <td>0.235</td>\n",
       "      <td>0.005</td>\n",
       "      <td>0.148</td>\n",
       "      <td>0.006</td>\n",
       "    </tr>\n",
       "  </tbody>\n",
       "</table>\n",
       "</div>"
      ],
      "text/plain": [
       "  Insurance  FPR_M  CI_FPR_M  FNR_M  CI_FNR_M  FPR_F  CI_FPR_F  FNR_F  \\\n",
       "0  Medicaid  0.268     0.006  0.215     0.014  0.280     0.015  0.131   \n",
       "1  Medicare  0.157     0.007  0.322     0.011  0.168     0.010  0.297   \n",
       "2     Other  0.188     0.006  0.212     0.005  0.235     0.005  0.148   \n",
       "\n",
       "   CI_FNR_F  \n",
       "0     0.010  \n",
       "1     0.012  \n",
       "2     0.006  "
      ]
     },
     "execution_count": 58,
     "metadata": {},
     "output_type": "execute_result"
    }
   ],
   "source": [
    "factors = ['FPR_M','FNR_M','FPR_F','FNR_F']\n",
    "Insurance = ['Medicaid','Medicare','Other']\n",
    "SexIns_df = pd.DataFrame(Insurance, columns=[\"Insurance\"])\n",
    "\n",
    "want = FiveRun_FP_NF(factors, SexIns_df, FP_InSx_df)\n",
    "want.to_csv('./results/Inter_SexIns_FNR_FPR.csv')\n",
    "want"
   ]
  },
  {
   "cell_type": "code",
   "execution_count": 23,
   "metadata": {},
   "outputs": [
    {
     "name": "stdout",
     "output_type": "stream",
     "text": [
      "Number of images in age sex intersection with actual NF=0\n"
     ]
    },
    {
     "data": {
      "text/html": [
       "<div>\n",
       "<style scoped>\n",
       "    .dataframe tbody tr th:only-of-type {\n",
       "        vertical-align: middle;\n",
       "    }\n",
       "\n",
       "    .dataframe tbody tr th {\n",
       "        vertical-align: top;\n",
       "    }\n",
       "\n",
       "    .dataframe thead th {\n",
       "        text-align: right;\n",
       "    }\n",
       "</style>\n",
       "<table border=\"1\" class=\"dataframe\">\n",
       "  <thead>\n",
       "    <tr style=\"text-align: right;\">\n",
       "      <th></th>\n",
       "      <th>Unnamed: 0</th>\n",
       "      <th>Insurance</th>\n",
       "      <th>M</th>\n",
       "      <th>F</th>\n",
       "    </tr>\n",
       "  </thead>\n",
       "  <tbody>\n",
       "    <tr>\n",
       "      <th>0</th>\n",
       "      <td>0</td>\n",
       "      <td>Medicare</td>\n",
       "      <td>4526</td>\n",
       "      <td>3981</td>\n",
       "    </tr>\n",
       "    <tr>\n",
       "      <th>1</th>\n",
       "      <td>1</td>\n",
       "      <td>Other</td>\n",
       "      <td>4232</td>\n",
       "      <td>3133</td>\n",
       "    </tr>\n",
       "    <tr>\n",
       "      <th>2</th>\n",
       "      <td>2</td>\n",
       "      <td>Medicaid</td>\n",
       "      <td>757</td>\n",
       "      <td>834</td>\n",
       "    </tr>\n",
       "  </tbody>\n",
       "</table>\n",
       "</div>"
      ],
      "text/plain": [
       "   Unnamed: 0 Insurance     M     F\n",
       "0           0  Medicare  4526  3981\n",
       "1           1     Other  4232  3133\n",
       "2           2  Medicaid   757   834"
      ]
     },
     "execution_count": 23,
     "metadata": {},
     "output_type": "execute_result"
    }
   ],
   "source": [
    "print('Number of images in age sex intersection with actual NF=0')\n",
    "pd.read_csv('./results47/Num_InsSex.csv')"
   ]
  },
  {
   "cell_type": "code",
   "execution_count": 24,
   "metadata": {},
   "outputs": [
    {
     "name": "stdout",
     "output_type": "stream",
     "text": [
      "Number of images in age sex intersection with actual NF=0\n"
     ]
    },
    {
     "data": {
      "text/html": [
       "<div>\n",
       "<style scoped>\n",
       "    .dataframe tbody tr th:only-of-type {\n",
       "        vertical-align: middle;\n",
       "    }\n",
       "\n",
       "    .dataframe tbody tr th {\n",
       "        vertical-align: top;\n",
       "    }\n",
       "\n",
       "    .dataframe thead th {\n",
       "        text-align: right;\n",
       "    }\n",
       "</style>\n",
       "<table border=\"1\" class=\"dataframe\">\n",
       "  <thead>\n",
       "    <tr style=\"text-align: right;\">\n",
       "      <th></th>\n",
       "      <th>Unnamed: 0</th>\n",
       "      <th>Insurance</th>\n",
       "      <th>M</th>\n",
       "      <th>F</th>\n",
       "    </tr>\n",
       "  </thead>\n",
       "  <tbody>\n",
       "    <tr>\n",
       "      <th>0</th>\n",
       "      <td>0</td>\n",
       "      <td>Medicare</td>\n",
       "      <td>1556</td>\n",
       "      <td>1574</td>\n",
       "    </tr>\n",
       "    <tr>\n",
       "      <th>1</th>\n",
       "      <td>1</td>\n",
       "      <td>Other</td>\n",
       "      <td>2097</td>\n",
       "      <td>2440</td>\n",
       "    </tr>\n",
       "    <tr>\n",
       "      <th>2</th>\n",
       "      <td>2</td>\n",
       "      <td>Medicaid</td>\n",
       "      <td>473</td>\n",
       "      <td>642</td>\n",
       "    </tr>\n",
       "  </tbody>\n",
       "</table>\n",
       "</div>"
      ],
      "text/plain": [
       "   Unnamed: 0 Insurance     M     F\n",
       "0           0  Medicare  1556  1574\n",
       "1           1     Other  2097  2440\n",
       "2           2  Medicaid   473   642"
      ]
     },
     "execution_count": 24,
     "metadata": {},
     "output_type": "execute_result"
    }
   ],
   "source": [
    "print('Number of images in Ins sex intersection with actual NF=1')\n",
    "pd.read_csv('./results47/Num_InsSex_NF1.csv')"
   ]
  },
  {
   "cell_type": "markdown",
   "metadata": {},
   "source": [
    "## Insurance-Race"
   ]
  },
  {
   "cell_type": "code",
   "execution_count": 59,
   "metadata": {},
   "outputs": [],
   "source": [
    "FP5_InsRace = pd.read_csv(\"./results77/FP_InsRace.csv\")\n",
    "FP4_InsRace = pd.read_csv(\"./results19/FP_InsRace.csv\")\n",
    "FP3_InsRace = pd.read_csv(\"./results38/FP_InsRace.csv\")\n",
    "FP2_InsRace = pd.read_csv(\"./results47/FP_InsRace.csv\")\n",
    "FP1_InsRace = pd.read_csv(\"./results31/FP_InsRace.csv\")\n",
    "FP_InsRace = FP1_InsRace.append([FP2_InsRace, FP3_InsRace,FP4_InsRace, FP5_InsRace])\n",
    "FP_InsRace =FP_InsRace.groupby(\"race\")\n",
    "FP_InRa_df =FP_InsRace.describe()"
   ]
  },
  {
   "cell_type": "code",
   "execution_count": 60,
   "metadata": {},
   "outputs": [
    {
     "data": {
      "text/plain": [
       "race\n",
       "AMERICAN INDIAN/ALASKA NATIVE    0.113\n",
       "ASIAN                            0.121\n",
       "BLACK/AFRICAN AMERICAN           0.250\n",
       "HISPANIC/LATINO                  0.292\n",
       "OTHER                            0.151\n",
       "WHITE                            0.149\n",
       "Name: mean, dtype: float64"
      ]
     },
     "execution_count": 60,
     "metadata": {},
     "output_type": "execute_result"
    }
   ],
   "source": [
    "round(FP_InRa_df['Medicare']['mean'],3)"
   ]
  },
  {
   "cell_type": "code",
   "execution_count": 61,
   "metadata": {},
   "outputs": [
    {
     "data": {
      "text/plain": [
       "race\n",
       "AMERICAN INDIAN/ALASKA NATIVE    0.033\n",
       "ASIAN                            0.012\n",
       "BLACK/AFRICAN AMERICAN           0.009\n",
       "HISPANIC/LATINO                  0.009\n",
       "OTHER                            0.011\n",
       "WHITE                            0.007\n",
       "Name: std, dtype: float64"
      ]
     },
     "execution_count": 61,
     "metadata": {},
     "output_type": "execute_result"
    }
   ],
   "source": [
    "round(1.96 * FP_InRa_df['Medicare'][\"std\"] / np.sqrt(5),3)"
   ]
  },
  {
   "cell_type": "code",
   "execution_count": 62,
   "metadata": {},
   "outputs": [
    {
     "data": {
      "text/plain": [
       "race\n",
       "AMERICAN INDIAN/ALASKA NATIVE      NaN\n",
       "ASIAN                            0.313\n",
       "BLACK/AFRICAN AMERICAN           0.370\n",
       "HISPANIC/LATINO                  0.228\n",
       "OTHER                            0.220\n",
       "WHITE                            0.232\n",
       "Name: mean, dtype: float64"
      ]
     },
     "execution_count": 62,
     "metadata": {},
     "output_type": "execute_result"
    }
   ],
   "source": [
    "round(FP_InRa_df['Medicaid']['mean'],3)"
   ]
  },
  {
   "cell_type": "code",
   "execution_count": 63,
   "metadata": {},
   "outputs": [
    {
     "data": {
      "text/plain": [
       "race\n",
       "AMERICAN INDIAN/ALASKA NATIVE      NaN\n",
       "ASIAN                            0.011\n",
       "BLACK/AFRICAN AMERICAN           0.015\n",
       "HISPANIC/LATINO                  0.019\n",
       "OTHER                            0.016\n",
       "WHITE                            0.010\n",
       "Name: std, dtype: float64"
      ]
     },
     "execution_count": 63,
     "metadata": {},
     "output_type": "execute_result"
    }
   ],
   "source": [
    "round(1.96 * FP_InRa_df['Medicaid'][\"std\"] / np.sqrt(5),3)"
   ]
  },
  {
   "cell_type": "code",
   "execution_count": 64,
   "metadata": {},
   "outputs": [
    {
     "data": {
      "text/plain": [
       "race\n",
       "AMERICAN INDIAN/ALASKA NATIVE    0.346\n",
       "ASIAN                            0.232\n",
       "BLACK/AFRICAN AMERICAN           0.266\n",
       "HISPANIC/LATINO                  0.296\n",
       "OTHER                            0.186\n",
       "WHITE                            0.191\n",
       "Name: mean, dtype: float64"
      ]
     },
     "execution_count": 64,
     "metadata": {},
     "output_type": "execute_result"
    }
   ],
   "source": [
    "round(FP_InRa_df['Other']['mean'],3)"
   ]
  },
  {
   "cell_type": "code",
   "execution_count": 65,
   "metadata": {},
   "outputs": [
    {
     "data": {
      "text/plain": [
       "race\n",
       "AMERICAN INDIAN/ALASKA NATIVE    0.036\n",
       "ASIAN                            0.014\n",
       "BLACK/AFRICAN AMERICAN           0.004\n",
       "HISPANIC/LATINO                  0.010\n",
       "OTHER                            0.008\n",
       "WHITE                            0.006\n",
       "Name: std, dtype: float64"
      ]
     },
     "execution_count": 65,
     "metadata": {},
     "output_type": "execute_result"
    }
   ],
   "source": [
    "round(1.96 * FP_InRa_df['Other'][\"std\"] / np.sqrt(5),3)"
   ]
  },
  {
   "cell_type": "code",
   "execution_count": 66,
   "metadata": {},
   "outputs": [
    {
     "data": {
      "text/html": [
       "<div>\n",
       "<style scoped>\n",
       "    .dataframe tbody tr th:only-of-type {\n",
       "        vertical-align: middle;\n",
       "    }\n",
       "\n",
       "    .dataframe tbody tr th {\n",
       "        vertical-align: top;\n",
       "    }\n",
       "\n",
       "    .dataframe thead th {\n",
       "        text-align: right;\n",
       "    }\n",
       "</style>\n",
       "<table border=\"1\" class=\"dataframe\">\n",
       "  <thead>\n",
       "    <tr style=\"text-align: right;\">\n",
       "      <th></th>\n",
       "      <th>race</th>\n",
       "      <th>Medicaid</th>\n",
       "      <th>CI_Medicaid</th>\n",
       "      <th>Other</th>\n",
       "      <th>CI_Other</th>\n",
       "      <th>Medicare</th>\n",
       "      <th>CI_Medicare</th>\n",
       "      <th>Unnamed: 0</th>\n",
       "      <th>Num_Medicaid</th>\n",
       "      <th>Num_Other</th>\n",
       "      <th>Num_Medicare</th>\n",
       "    </tr>\n",
       "  </thead>\n",
       "  <tbody>\n",
       "    <tr>\n",
       "      <th>0</th>\n",
       "      <td>AMERICAN INDIAN/ALASKA NATIVE</td>\n",
       "      <td>NaN</td>\n",
       "      <td>NaN</td>\n",
       "      <td>0.346</td>\n",
       "      <td>0.036</td>\n",
       "      <td>0.113</td>\n",
       "      <td>0.033</td>\n",
       "      <td>5</td>\n",
       "      <td>0</td>\n",
       "      <td>11</td>\n",
       "      <td>30</td>\n",
       "    </tr>\n",
       "    <tr>\n",
       "      <th>1</th>\n",
       "      <td>ASIAN</td>\n",
       "      <td>0.313</td>\n",
       "      <td>0.011</td>\n",
       "      <td>0.232</td>\n",
       "      <td>0.014</td>\n",
       "      <td>0.121</td>\n",
       "      <td>0.012</td>\n",
       "      <td>4</td>\n",
       "      <td>90</td>\n",
       "      <td>195</td>\n",
       "      <td>122</td>\n",
       "    </tr>\n",
       "    <tr>\n",
       "      <th>2</th>\n",
       "      <td>BLACK/AFRICAN AMERICAN</td>\n",
       "      <td>0.370</td>\n",
       "      <td>0.015</td>\n",
       "      <td>0.266</td>\n",
       "      <td>0.004</td>\n",
       "      <td>0.250</td>\n",
       "      <td>0.009</td>\n",
       "      <td>1</td>\n",
       "      <td>467</td>\n",
       "      <td>1276</td>\n",
       "      <td>1181</td>\n",
       "    </tr>\n",
       "    <tr>\n",
       "      <th>3</th>\n",
       "      <td>HISPANIC/LATINO</td>\n",
       "      <td>0.228</td>\n",
       "      <td>0.019</td>\n",
       "      <td>0.296</td>\n",
       "      <td>0.010</td>\n",
       "      <td>0.292</td>\n",
       "      <td>0.009</td>\n",
       "      <td>2</td>\n",
       "      <td>307</td>\n",
       "      <td>461</td>\n",
       "      <td>230</td>\n",
       "    </tr>\n",
       "    <tr>\n",
       "      <th>4</th>\n",
       "      <td>OTHER</td>\n",
       "      <td>0.220</td>\n",
       "      <td>0.016</td>\n",
       "      <td>0.186</td>\n",
       "      <td>0.008</td>\n",
       "      <td>0.151</td>\n",
       "      <td>0.011</td>\n",
       "      <td>3</td>\n",
       "      <td>61</td>\n",
       "      <td>397</td>\n",
       "      <td>267</td>\n",
       "    </tr>\n",
       "    <tr>\n",
       "      <th>5</th>\n",
       "      <td>WHITE</td>\n",
       "      <td>0.232</td>\n",
       "      <td>0.010</td>\n",
       "      <td>0.191</td>\n",
       "      <td>0.006</td>\n",
       "      <td>0.149</td>\n",
       "      <td>0.007</td>\n",
       "      <td>0</td>\n",
       "      <td>633</td>\n",
       "      <td>4701</td>\n",
       "      <td>6283</td>\n",
       "    </tr>\n",
       "  </tbody>\n",
       "</table>\n",
       "</div>"
      ],
      "text/plain": [
       "                            race  Medicaid  CI_Medicaid  Other  CI_Other  \\\n",
       "0  AMERICAN INDIAN/ALASKA NATIVE       NaN          NaN  0.346     0.036   \n",
       "1                          ASIAN     0.313        0.011  0.232     0.014   \n",
       "2         BLACK/AFRICAN AMERICAN     0.370        0.015  0.266     0.004   \n",
       "3                HISPANIC/LATINO     0.228        0.019  0.296     0.010   \n",
       "4                          OTHER     0.220        0.016  0.186     0.008   \n",
       "5                          WHITE     0.232        0.010  0.191     0.006   \n",
       "\n",
       "   Medicare  CI_Medicare  Unnamed: 0  Num_Medicaid  Num_Other  Num_Medicare  \n",
       "0     0.113        0.033           5             0         11            30  \n",
       "1     0.121        0.012           4            90        195           122  \n",
       "2     0.250        0.009           1           467       1276          1181  \n",
       "3     0.292        0.009           2           307        461           230  \n",
       "4     0.151        0.011           3            61        397           267  \n",
       "5     0.149        0.007           0           633       4701          6283  "
      ]
     },
     "execution_count": 66,
     "metadata": {},
     "output_type": "execute_result"
    }
   ],
   "source": [
    "factors = ['Medicaid', 'Other','Medicare']\n",
    "race = ['AMERICAN INDIAN/ALASKA NATIVE','ASIAN','BLACK/AFRICAN AMERICAN','HISPANIC/LATINO','OTHER','WHITE']\n",
    "RaceIns_df = pd.DataFrame(race, columns=[\"race\"])\n",
    "Num_df =  pd.read_csv(\"./results77/Num_InsRace.csv\")\n",
    "\n",
    "\n",
    "def FiveRun(factors,want_df,df,Num):\n",
    "    for factor in factors:    \n",
    "        dfM0 = round(df[factor]['mean'],3)\n",
    "        dfM2 = round(1.96 * df[factor][\"std\"] / np.sqrt(5),3)\n",
    "        want_df[factor] = pd.DataFrame(dfM0.values.tolist(),columns =[factor])\n",
    "        want_df['CI_'+factor] = pd.DataFrame(dfM2.values.tolist(),columns =['CI_'+factor])        \n",
    "        Num['Num_'+factor] = Num[factor]\n",
    "    \n",
    "    Num = Num.drop(factors,axis=1)\n",
    "    want_df = want_df.merge(Num,left_on=\"race\", right_on=\"race\")\n",
    "\n",
    "    return want_df\n",
    "\n",
    "want = FiveRun(factors,RaceIns_df,FP_InRa_df,Num_df)\n",
    "want.to_csv('./results/Inter_RaceIns.csv')\n",
    "want"
   ]
  },
  {
   "cell_type": "code",
   "execution_count": 67,
   "metadata": {},
   "outputs": [],
   "source": [
    "FP5_InsRace = pd.read_csv(\"./results77/FP_FN_InsRace.csv\")\n",
    "FP4_InsRace = pd.read_csv(\"./results19/FP_FN_InsRace.csv\")\n",
    "FP3_InsRace = pd.read_csv(\"./results38/FP_FN_InsRace.csv\")\n",
    "FP2_InsRace = pd.read_csv(\"./results47/FP_FN_InsRace.csv\")\n",
    "FP1_InsRace = pd.read_csv(\"./results31/FP_FN_InsRace.csv\")\n",
    "FP_InsRace = FP1_InsRace.append([FP2_InsRace, FP3_InsRace,FP4_InsRace, FP5_InsRace])\n",
    "FP_InsRace =FP_InsRace.groupby(\"race\")\n",
    "FP_InRa_df =FP_InsRace.describe()"
   ]
  },
  {
   "cell_type": "code",
   "execution_count": 68,
   "metadata": {},
   "outputs": [
    {
     "data": {
      "text/plain": [
       "MultiIndex(levels=[['Unnamed: 0', 'FPR_Medicare', 'FNR_Medicare', 'FPR_Other', 'FNR_Other', 'FPR_Medicaid', 'FNR_Medicaid'], ['count', 'mean', 'std', 'min', '25%', '50%', '75%', 'max']],\n",
       "           codes=[[0, 0, 0, 0, 0, 0, 0, 0, 1, 1, 1, 1, 1, 1, 1, 1, 2, 2, 2, 2, 2, 2, 2, 2, 3, 3, 3, 3, 3, 3, 3, 3, 4, 4, 4, 4, 4, 4, 4, 4, 5, 5, 5, 5, 5, 5, 5, 5, 6, 6, 6, 6, 6, 6, 6, 6], [0, 1, 2, 3, 4, 5, 6, 7, 0, 1, 2, 3, 4, 5, 6, 7, 0, 1, 2, 3, 4, 5, 6, 7, 0, 1, 2, 3, 4, 5, 6, 7, 0, 1, 2, 3, 4, 5, 6, 7, 0, 1, 2, 3, 4, 5, 6, 7, 0, 1, 2, 3, 4, 5, 6, 7]])"
      ]
     },
     "execution_count": 68,
     "metadata": {},
     "output_type": "execute_result"
    }
   ],
   "source": [
    "FP_InRa_df.columns"
   ]
  },
  {
   "cell_type": "code",
   "execution_count": 69,
   "metadata": {},
   "outputs": [
    {
     "data": {
      "text/html": [
       "<div>\n",
       "<style scoped>\n",
       "    .dataframe tbody tr th:only-of-type {\n",
       "        vertical-align: middle;\n",
       "    }\n",
       "\n",
       "    .dataframe tbody tr th {\n",
       "        vertical-align: top;\n",
       "    }\n",
       "\n",
       "    .dataframe thead th {\n",
       "        text-align: right;\n",
       "    }\n",
       "</style>\n",
       "<table border=\"1\" class=\"dataframe\">\n",
       "  <thead>\n",
       "    <tr style=\"text-align: right;\">\n",
       "      <th></th>\n",
       "      <th>race</th>\n",
       "      <th>FPR_Medicare</th>\n",
       "      <th>CI_FPR_Medicare</th>\n",
       "      <th>FNR_Medicare</th>\n",
       "      <th>CI_FNR_Medicare</th>\n",
       "      <th>FPR_Other</th>\n",
       "      <th>CI_FPR_Other</th>\n",
       "      <th>FNR_Other</th>\n",
       "      <th>CI_FNR_Other</th>\n",
       "      <th>FPR_Medicaid</th>\n",
       "      <th>CI_FPR_Medicaid</th>\n",
       "      <th>FNR_Medicaid</th>\n",
       "      <th>CI_FNR_Medicaid</th>\n",
       "    </tr>\n",
       "  </thead>\n",
       "  <tbody>\n",
       "    <tr>\n",
       "      <th>0</th>\n",
       "      <td>AMERICAN INDIAN/ALASKA NATIVE</td>\n",
       "      <td>0.113</td>\n",
       "      <td>0.033</td>\n",
       "      <td>1.000</td>\n",
       "      <td>0.000</td>\n",
       "      <td>0.346</td>\n",
       "      <td>0.036</td>\n",
       "      <td>0.133</td>\n",
       "      <td>0.044</td>\n",
       "      <td>NaN</td>\n",
       "      <td>NaN</td>\n",
       "      <td>0.000</td>\n",
       "      <td>0.000</td>\n",
       "    </tr>\n",
       "    <tr>\n",
       "      <th>1</th>\n",
       "      <td>ASIAN</td>\n",
       "      <td>0.121</td>\n",
       "      <td>0.012</td>\n",
       "      <td>0.215</td>\n",
       "      <td>0.018</td>\n",
       "      <td>0.232</td>\n",
       "      <td>0.014</td>\n",
       "      <td>0.119</td>\n",
       "      <td>0.005</td>\n",
       "      <td>0.313</td>\n",
       "      <td>0.011</td>\n",
       "      <td>0.123</td>\n",
       "      <td>0.023</td>\n",
       "    </tr>\n",
       "    <tr>\n",
       "      <th>2</th>\n",
       "      <td>BLACK/AFRICAN AMERICAN</td>\n",
       "      <td>0.250</td>\n",
       "      <td>0.009</td>\n",
       "      <td>0.257</td>\n",
       "      <td>0.014</td>\n",
       "      <td>0.266</td>\n",
       "      <td>0.004</td>\n",
       "      <td>0.130</td>\n",
       "      <td>0.005</td>\n",
       "      <td>0.370</td>\n",
       "      <td>0.015</td>\n",
       "      <td>0.128</td>\n",
       "      <td>0.008</td>\n",
       "    </tr>\n",
       "    <tr>\n",
       "      <th>3</th>\n",
       "      <td>HISPANIC/LATINO</td>\n",
       "      <td>0.292</td>\n",
       "      <td>0.009</td>\n",
       "      <td>0.190</td>\n",
       "      <td>0.019</td>\n",
       "      <td>0.296</td>\n",
       "      <td>0.010</td>\n",
       "      <td>0.123</td>\n",
       "      <td>0.006</td>\n",
       "      <td>0.228</td>\n",
       "      <td>0.019</td>\n",
       "      <td>0.223</td>\n",
       "      <td>0.025</td>\n",
       "    </tr>\n",
       "    <tr>\n",
       "      <th>4</th>\n",
       "      <td>OTHER</td>\n",
       "      <td>0.151</td>\n",
       "      <td>0.011</td>\n",
       "      <td>0.218</td>\n",
       "      <td>0.017</td>\n",
       "      <td>0.186</td>\n",
       "      <td>0.008</td>\n",
       "      <td>0.217</td>\n",
       "      <td>0.006</td>\n",
       "      <td>0.220</td>\n",
       "      <td>0.016</td>\n",
       "      <td>0.105</td>\n",
       "      <td>0.025</td>\n",
       "    </tr>\n",
       "    <tr>\n",
       "      <th>5</th>\n",
       "      <td>WHITE</td>\n",
       "      <td>0.149</td>\n",
       "      <td>0.007</td>\n",
       "      <td>0.327</td>\n",
       "      <td>0.006</td>\n",
       "      <td>0.191</td>\n",
       "      <td>0.006</td>\n",
       "      <td>0.202</td>\n",
       "      <td>0.007</td>\n",
       "      <td>0.232</td>\n",
       "      <td>0.010</td>\n",
       "      <td>0.187</td>\n",
       "      <td>0.008</td>\n",
       "    </tr>\n",
       "  </tbody>\n",
       "</table>\n",
       "</div>"
      ],
      "text/plain": [
       "                            race  FPR_Medicare  CI_FPR_Medicare  FNR_Medicare  \\\n",
       "0  AMERICAN INDIAN/ALASKA NATIVE         0.113            0.033         1.000   \n",
       "1                          ASIAN         0.121            0.012         0.215   \n",
       "2         BLACK/AFRICAN AMERICAN         0.250            0.009         0.257   \n",
       "3                HISPANIC/LATINO         0.292            0.009         0.190   \n",
       "4                          OTHER         0.151            0.011         0.218   \n",
       "5                          WHITE         0.149            0.007         0.327   \n",
       "\n",
       "   CI_FNR_Medicare  FPR_Other  CI_FPR_Other  FNR_Other  CI_FNR_Other  \\\n",
       "0            0.000      0.346         0.036      0.133         0.044   \n",
       "1            0.018      0.232         0.014      0.119         0.005   \n",
       "2            0.014      0.266         0.004      0.130         0.005   \n",
       "3            0.019      0.296         0.010      0.123         0.006   \n",
       "4            0.017      0.186         0.008      0.217         0.006   \n",
       "5            0.006      0.191         0.006      0.202         0.007   \n",
       "\n",
       "   FPR_Medicaid  CI_FPR_Medicaid  FNR_Medicaid  CI_FNR_Medicaid  \n",
       "0           NaN              NaN         0.000            0.000  \n",
       "1         0.313            0.011         0.123            0.023  \n",
       "2         0.370            0.015         0.128            0.008  \n",
       "3         0.228            0.019         0.223            0.025  \n",
       "4         0.220            0.016         0.105            0.025  \n",
       "5         0.232            0.010         0.187            0.008  "
      ]
     },
     "execution_count": 69,
     "metadata": {},
     "output_type": "execute_result"
    }
   ],
   "source": [
    "factors = ['FPR_Medicare','FNR_Medicare','FPR_Other','FNR_Other', 'FPR_Medicaid', 'FNR_Medicaid']\n",
    "race = ['AMERICAN INDIAN/ALASKA NATIVE','ASIAN','BLACK/AFRICAN AMERICAN','HISPANIC/LATINO','OTHER','WHITE']\n",
    "\n",
    "RaceIns_df = pd.DataFrame(race, columns=[\"race\"])\n",
    "\n",
    "want = FiveRun_FP_NF(factors, RaceIns_df, FP_InRa_df)\n",
    "want.to_csv('./results/Inter_RaceIns_FNR_FPR.csv')\n",
    "want"
   ]
  },
  {
   "cell_type": "code",
   "execution_count": 37,
   "metadata": {},
   "outputs": [
    {
     "name": "stdout",
     "output_type": "stream",
     "text": [
      "Number of images in Ins Rac intersection with actual NF=0\n"
     ]
    },
    {
     "data": {
      "text/html": [
       "<div>\n",
       "<style scoped>\n",
       "    .dataframe tbody tr th:only-of-type {\n",
       "        vertical-align: middle;\n",
       "    }\n",
       "\n",
       "    .dataframe tbody tr th {\n",
       "        vertical-align: top;\n",
       "    }\n",
       "\n",
       "    .dataframe thead th {\n",
       "        text-align: right;\n",
       "    }\n",
       "</style>\n",
       "<table border=\"1\" class=\"dataframe\">\n",
       "  <thead>\n",
       "    <tr style=\"text-align: right;\">\n",
       "      <th></th>\n",
       "      <th>Unnamed: 0</th>\n",
       "      <th>race</th>\n",
       "      <th>Medicare</th>\n",
       "      <th>Other</th>\n",
       "      <th>Medicaid</th>\n",
       "    </tr>\n",
       "  </thead>\n",
       "  <tbody>\n",
       "    <tr>\n",
       "      <th>0</th>\n",
       "      <td>0</td>\n",
       "      <td>WHITE</td>\n",
       "      <td>6283</td>\n",
       "      <td>4701</td>\n",
       "      <td>633</td>\n",
       "    </tr>\n",
       "    <tr>\n",
       "      <th>1</th>\n",
       "      <td>1</td>\n",
       "      <td>BLACK/AFRICAN AMERICAN</td>\n",
       "      <td>1181</td>\n",
       "      <td>1276</td>\n",
       "      <td>467</td>\n",
       "    </tr>\n",
       "    <tr>\n",
       "      <th>2</th>\n",
       "      <td>2</td>\n",
       "      <td>HISPANIC/LATINO</td>\n",
       "      <td>230</td>\n",
       "      <td>461</td>\n",
       "      <td>307</td>\n",
       "    </tr>\n",
       "    <tr>\n",
       "      <th>3</th>\n",
       "      <td>3</td>\n",
       "      <td>OTHER</td>\n",
       "      <td>267</td>\n",
       "      <td>397</td>\n",
       "      <td>61</td>\n",
       "    </tr>\n",
       "    <tr>\n",
       "      <th>4</th>\n",
       "      <td>4</td>\n",
       "      <td>ASIAN</td>\n",
       "      <td>122</td>\n",
       "      <td>195</td>\n",
       "      <td>90</td>\n",
       "    </tr>\n",
       "    <tr>\n",
       "      <th>5</th>\n",
       "      <td>5</td>\n",
       "      <td>AMERICAN INDIAN/ALASKA NATIVE</td>\n",
       "      <td>30</td>\n",
       "      <td>11</td>\n",
       "      <td>0</td>\n",
       "    </tr>\n",
       "  </tbody>\n",
       "</table>\n",
       "</div>"
      ],
      "text/plain": [
       "   Unnamed: 0                           race  Medicare  Other  Medicaid\n",
       "0           0                          WHITE      6283   4701       633\n",
       "1           1         BLACK/AFRICAN AMERICAN      1181   1276       467\n",
       "2           2                HISPANIC/LATINO       230    461       307\n",
       "3           3                          OTHER       267    397        61\n",
       "4           4                          ASIAN       122    195        90\n",
       "5           5  AMERICAN INDIAN/ALASKA NATIVE        30     11         0"
      ]
     },
     "execution_count": 37,
     "metadata": {},
     "output_type": "execute_result"
    }
   ],
   "source": [
    "print('Number of images in Ins Rac intersection with actual NF=0')\n",
    "pd.read_csv('./results47/Num_InsRace.csv')"
   ]
  },
  {
   "cell_type": "code",
   "execution_count": 39,
   "metadata": {},
   "outputs": [
    {
     "name": "stdout",
     "output_type": "stream",
     "text": [
      "Number of images in Ins Rac intersection with actual NF=1\n"
     ]
    },
    {
     "data": {
      "text/html": [
       "<div>\n",
       "<style scoped>\n",
       "    .dataframe tbody tr th:only-of-type {\n",
       "        vertical-align: middle;\n",
       "    }\n",
       "\n",
       "    .dataframe tbody tr th {\n",
       "        vertical-align: top;\n",
       "    }\n",
       "\n",
       "    .dataframe thead th {\n",
       "        text-align: right;\n",
       "    }\n",
       "</style>\n",
       "<table border=\"1\" class=\"dataframe\">\n",
       "  <thead>\n",
       "    <tr style=\"text-align: right;\">\n",
       "      <th></th>\n",
       "      <th>Unnamed: 0</th>\n",
       "      <th>race</th>\n",
       "      <th>Medicare</th>\n",
       "      <th>Other</th>\n",
       "      <th>Medicaid</th>\n",
       "    </tr>\n",
       "  </thead>\n",
       "  <tbody>\n",
       "    <tr>\n",
       "      <th>0</th>\n",
       "      <td>0</td>\n",
       "      <td>WHITE</td>\n",
       "      <td>2181</td>\n",
       "      <td>2548</td>\n",
       "      <td>398</td>\n",
       "    </tr>\n",
       "    <tr>\n",
       "      <th>1</th>\n",
       "      <td>1</td>\n",
       "      <td>BLACK/AFRICAN AMERICAN</td>\n",
       "      <td>614</td>\n",
       "      <td>1079</td>\n",
       "      <td>375</td>\n",
       "    </tr>\n",
       "    <tr>\n",
       "      <th>2</th>\n",
       "      <td>2</td>\n",
       "      <td>HISPANIC/LATINO</td>\n",
       "      <td>126</td>\n",
       "      <td>435</td>\n",
       "      <td>221</td>\n",
       "    </tr>\n",
       "    <tr>\n",
       "      <th>3</th>\n",
       "      <td>3</td>\n",
       "      <td>OTHER</td>\n",
       "      <td>97</td>\n",
       "      <td>205</td>\n",
       "      <td>53</td>\n",
       "    </tr>\n",
       "    <tr>\n",
       "      <th>4</th>\n",
       "      <td>4</td>\n",
       "      <td>ASIAN</td>\n",
       "      <td>41</td>\n",
       "      <td>174</td>\n",
       "      <td>52</td>\n",
       "    </tr>\n",
       "    <tr>\n",
       "      <th>5</th>\n",
       "      <td>5</td>\n",
       "      <td>AMERICAN INDIAN/ALASKA NATIVE</td>\n",
       "      <td>2</td>\n",
       "      <td>9</td>\n",
       "      <td>2</td>\n",
       "    </tr>\n",
       "  </tbody>\n",
       "</table>\n",
       "</div>"
      ],
      "text/plain": [
       "   Unnamed: 0                           race  Medicare  Other  Medicaid\n",
       "0           0                          WHITE      2181   2548       398\n",
       "1           1         BLACK/AFRICAN AMERICAN       614   1079       375\n",
       "2           2                HISPANIC/LATINO       126    435       221\n",
       "3           3                          OTHER        97    205        53\n",
       "4           4                          ASIAN        41    174        52\n",
       "5           5  AMERICAN INDIAN/ALASKA NATIVE         2      9         2"
      ]
     },
     "execution_count": 39,
     "metadata": {},
     "output_type": "execute_result"
    }
   ],
   "source": [
    "print('Number of images in Ins Rac intersection with actual NF=1')\n",
    "pd.read_csv('./results47/Num_InsRace_NF1.csv')\n"
   ]
  },
  {
   "cell_type": "code",
   "execution_count": null,
   "metadata": {},
   "outputs": [],
   "source": []
  },
  {
   "cell_type": "markdown",
   "metadata": {},
   "source": [
    "### Race- Sex"
   ]
  },
  {
   "cell_type": "code",
   "execution_count": 70,
   "metadata": {},
   "outputs": [],
   "source": [
    "FP5_RaceSex = pd.read_csv(\"./results77/FP_RaceSex.csv\")\n",
    "FP4_RaceSex = pd.read_csv(\"./results19/FP_RaceSex.csv\")\n",
    "FP3_RaceSex = pd.read_csv(\"./results38/FP_RaceSex.csv\")\n",
    "FP2_RaceSex = pd.read_csv(\"./results47/FP_RaceSex.csv\")\n",
    "FP1_RaceSex = pd.read_csv(\"./results31/FP_RaceSex.csv\")\n",
    "FP_IRaceSex = FP1_RaceSex.append([FP2_RaceSex, FP3_RaceSex,FP4_RaceSex, FP5_RaceSex])\n",
    "FP_RaceSex =FP_IRaceSex.groupby(\"race\")\n",
    "FP_RaceSex_df =FP_RaceSex.describe()"
   ]
  },
  {
   "cell_type": "code",
   "execution_count": 71,
   "metadata": {},
   "outputs": [
    {
     "data": {
      "text/plain": [
       "race\n",
       "AMERICAN INDIAN/ALASKA NATIVE    0.165\n",
       "ASIAN                            0.149\n",
       "BLACK/AFRICAN AMERICAN           0.256\n",
       "HISPANIC/LATINO                  0.206\n",
       "OTHER                            0.167\n",
       "WHITE                            0.172\n",
       "Name: mean, dtype: float64"
      ]
     },
     "execution_count": 71,
     "metadata": {},
     "output_type": "execute_result"
    }
   ],
   "source": [
    "round(FP_RaceSex_df['M']['mean'],3)"
   ]
  },
  {
   "cell_type": "code",
   "execution_count": 72,
   "metadata": {},
   "outputs": [
    {
     "data": {
      "text/plain": [
       "race\n",
       "AMERICAN INDIAN/ALASKA NATIVE    0.050\n",
       "ASIAN                            0.010\n",
       "BLACK/AFRICAN AMERICAN           0.007\n",
       "HISPANIC/LATINO                  0.010\n",
       "OTHER                            0.007\n",
       "WHITE                            0.007\n",
       "Name: std, dtype: float64"
      ]
     },
     "execution_count": 72,
     "metadata": {},
     "output_type": "execute_result"
    }
   ],
   "source": [
    "round(1.96 * FP_RaceSex_df['M'][\"std\"] / np.sqrt(5),3)"
   ]
  },
  {
   "cell_type": "code",
   "execution_count": 73,
   "metadata": {},
   "outputs": [
    {
     "data": {
      "text/plain": [
       "race\n",
       "AMERICAN INDIAN/ALASKA NATIVE    0.189\n",
       "ASIAN                            0.301\n",
       "BLACK/AFRICAN AMERICAN           0.289\n",
       "HISPANIC/LATINO                  0.356\n",
       "OTHER                            0.187\n",
       "WHITE                            0.167\n",
       "Name: mean, dtype: float64"
      ]
     },
     "execution_count": 73,
     "metadata": {},
     "output_type": "execute_result"
    }
   ],
   "source": [
    "round(FP_RaceSex_df['F']['mean'],3)"
   ]
  },
  {
   "cell_type": "code",
   "execution_count": 74,
   "metadata": {},
   "outputs": [
    {
     "data": {
      "text/plain": [
       "race\n",
       "AMERICAN INDIAN/ALASKA NATIVE    0.026\n",
       "ASIAN                            0.011\n",
       "BLACK/AFRICAN AMERICAN           0.008\n",
       "HISPANIC/LATINO                  0.016\n",
       "OTHER                            0.008\n",
       "WHITE                            0.007\n",
       "Name: std, dtype: float64"
      ]
     },
     "execution_count": 74,
     "metadata": {},
     "output_type": "execute_result"
    }
   ],
   "source": [
    "round(1.96 * FP_RaceSex_df['F'][\"std\"] / np.sqrt(5),3)"
   ]
  },
  {
   "cell_type": "code",
   "execution_count": 75,
   "metadata": {},
   "outputs": [
    {
     "data": {
      "text/html": [
       "<div>\n",
       "<style scoped>\n",
       "    .dataframe tbody tr th:only-of-type {\n",
       "        vertical-align: middle;\n",
       "    }\n",
       "\n",
       "    .dataframe tbody tr th {\n",
       "        vertical-align: top;\n",
       "    }\n",
       "\n",
       "    .dataframe thead th {\n",
       "        text-align: right;\n",
       "    }\n",
       "</style>\n",
       "<table border=\"1\" class=\"dataframe\">\n",
       "  <thead>\n",
       "    <tr style=\"text-align: right;\">\n",
       "      <th></th>\n",
       "      <th>race</th>\n",
       "      <th>F</th>\n",
       "      <th>CI_F</th>\n",
       "      <th>M</th>\n",
       "      <th>CI_M</th>\n",
       "      <th>Unnamed: 0</th>\n",
       "      <th>Num_F</th>\n",
       "      <th>Num_M</th>\n",
       "    </tr>\n",
       "  </thead>\n",
       "  <tbody>\n",
       "    <tr>\n",
       "      <th>0</th>\n",
       "      <td>AMERICAN INDIAN/ALASKA NATIVE</td>\n",
       "      <td>0.189</td>\n",
       "      <td>0.026</td>\n",
       "      <td>0.165</td>\n",
       "      <td>0.050</td>\n",
       "      <td>5</td>\n",
       "      <td>18</td>\n",
       "      <td>23</td>\n",
       "    </tr>\n",
       "    <tr>\n",
       "      <th>1</th>\n",
       "      <td>ASIAN</td>\n",
       "      <td>0.301</td>\n",
       "      <td>0.011</td>\n",
       "      <td>0.149</td>\n",
       "      <td>0.010</td>\n",
       "      <td>4</td>\n",
       "      <td>182</td>\n",
       "      <td>225</td>\n",
       "    </tr>\n",
       "    <tr>\n",
       "      <th>2</th>\n",
       "      <td>BLACK/AFRICAN AMERICAN</td>\n",
       "      <td>0.289</td>\n",
       "      <td>0.008</td>\n",
       "      <td>0.256</td>\n",
       "      <td>0.007</td>\n",
       "      <td>1</td>\n",
       "      <td>1772</td>\n",
       "      <td>1152</td>\n",
       "    </tr>\n",
       "    <tr>\n",
       "      <th>3</th>\n",
       "      <td>HISPANIC/LATINO</td>\n",
       "      <td>0.356</td>\n",
       "      <td>0.016</td>\n",
       "      <td>0.206</td>\n",
       "      <td>0.010</td>\n",
       "      <td>2</td>\n",
       "      <td>451</td>\n",
       "      <td>547</td>\n",
       "    </tr>\n",
       "    <tr>\n",
       "      <th>4</th>\n",
       "      <td>OTHER</td>\n",
       "      <td>0.187</td>\n",
       "      <td>0.008</td>\n",
       "      <td>0.167</td>\n",
       "      <td>0.007</td>\n",
       "      <td>3</td>\n",
       "      <td>251</td>\n",
       "      <td>472</td>\n",
       "    </tr>\n",
       "    <tr>\n",
       "      <th>5</th>\n",
       "      <td>WHITE</td>\n",
       "      <td>0.167</td>\n",
       "      <td>0.007</td>\n",
       "      <td>0.172</td>\n",
       "      <td>0.007</td>\n",
       "      <td>0</td>\n",
       "      <td>4930</td>\n",
       "      <td>6688</td>\n",
       "    </tr>\n",
       "  </tbody>\n",
       "</table>\n",
       "</div>"
      ],
      "text/plain": [
       "                            race      F   CI_F      M   CI_M  Unnamed: 0  \\\n",
       "0  AMERICAN INDIAN/ALASKA NATIVE  0.189  0.026  0.165  0.050           5   \n",
       "1                          ASIAN  0.301  0.011  0.149  0.010           4   \n",
       "2         BLACK/AFRICAN AMERICAN  0.289  0.008  0.256  0.007           1   \n",
       "3                HISPANIC/LATINO  0.356  0.016  0.206  0.010           2   \n",
       "4                          OTHER  0.187  0.008  0.167  0.007           3   \n",
       "5                          WHITE  0.167  0.007  0.172  0.007           0   \n",
       "\n",
       "   Num_F  Num_M  \n",
       "0     18     23  \n",
       "1    182    225  \n",
       "2   1772   1152  \n",
       "3    451    547  \n",
       "4    251    472  \n",
       "5   4930   6688  "
      ]
     },
     "execution_count": 75,
     "metadata": {},
     "output_type": "execute_result"
    }
   ],
   "source": [
    "factors = ['F', 'M']\n",
    "race =['AMERICAN INDIAN/ALASKA NATIVE', 'ASIAN', 'BLACK/AFRICAN AMERICAN',\n",
    "       'HISPANIC/LATINO','OTHER','WHITE']\n",
    "RaceSex_df = pd.DataFrame(race, columns=[\"race\"])\n",
    "Num_df =  pd.read_csv(\"./results77/Num_RaceSex.csv\")\n",
    "\n",
    "def FiveRun(factors,want_df,df,Num):\n",
    "    for factor in factors:    \n",
    "        dfM0 = round(df[factor]['mean'],3)\n",
    "        dfM2 = round(1.96 * df[factor][\"std\"] / np.sqrt(5),3)\n",
    "        want_df[factor] = pd.DataFrame(dfM0.values.tolist(),columns =[factor])\n",
    "        want_df['CI_'+factor] = pd.DataFrame(dfM2.values.tolist(),columns =['CI_'+factor])\n",
    "        \n",
    "        Num['Num_'+factor] = Num[factor]\n",
    "    \n",
    "    Num = Num.drop(factors,axis=1)\n",
    "    want_df = want_df.merge(Num,left_on=\"race\", right_on=\"race\")\n",
    "    \n",
    "    return want_df\n",
    "\n",
    "want = FiveRun(factors,RaceSex_df,FP_RaceSex_df,Num_df)\n",
    "want.to_csv('./results/Inter_RaceSex.csv')\n",
    "want"
   ]
  },
  {
   "cell_type": "code",
   "execution_count": 76,
   "metadata": {},
   "outputs": [
    {
     "data": {
      "text/plain": [
       "3    0.01\n",
       "Name: CI_M, dtype: float64"
      ]
     },
     "execution_count": 76,
     "metadata": {},
     "output_type": "execute_result"
    }
   ],
   "source": [
    "want.loc[want['race']=='HISPANIC/LATINO','CI_M']"
   ]
  },
  {
   "cell_type": "code",
   "execution_count": 77,
   "metadata": {},
   "outputs": [
    {
     "data": {
      "text/plain": [
       "0.01"
      ]
     },
     "execution_count": 77,
     "metadata": {},
     "output_type": "execute_result"
    }
   ],
   "source": [
    "want[want['race']=='HISPANIC/LATINO']['CI_M'].tolist()[0]"
   ]
  },
  {
   "cell_type": "code",
   "execution_count": 78,
   "metadata": {},
   "outputs": [],
   "source": [
    "FP5_RaceSex = pd.read_csv(\"./results77/FP_FN_RaceSex.csv\")\n",
    "FP4_RaceSex = pd.read_csv(\"./results19/FP_FN_RaceSex.csv\")\n",
    "FP3_RaceSex = pd.read_csv(\"./results38/FP_FN_RaceSex.csv\")\n",
    "FP2_RaceSex = pd.read_csv(\"./results47/FP_FN_RaceSex.csv\")\n",
    "FP1_RaceSex = pd.read_csv(\"./results31/FP_FN_RaceSex.csv\")\n",
    "FP_IRaceSex = FP1_RaceSex.append([FP2_RaceSex, FP3_RaceSex,FP4_RaceSex, FP5_RaceSex])\n",
    "FP_RaceSex =FP_IRaceSex.groupby(\"race\")\n",
    "FP_RaceSex_df =FP_RaceSex.describe()"
   ]
  },
  {
   "cell_type": "code",
   "execution_count": 79,
   "metadata": {},
   "outputs": [
    {
     "data": {
      "text/plain": [
       "MultiIndex(levels=[['Unnamed: 0', 'FPR_M', 'FNR_M', 'FPR_F', 'FNR_F'], ['count', 'mean', 'std', 'min', '25%', '50%', '75%', 'max']],\n",
       "           codes=[[0, 0, 0, 0, 0, 0, 0, 0, 1, 1, 1, 1, 1, 1, 1, 1, 2, 2, 2, 2, 2, 2, 2, 2, 3, 3, 3, 3, 3, 3, 3, 3, 4, 4, 4, 4, 4, 4, 4, 4], [0, 1, 2, 3, 4, 5, 6, 7, 0, 1, 2, 3, 4, 5, 6, 7, 0, 1, 2, 3, 4, 5, 6, 7, 0, 1, 2, 3, 4, 5, 6, 7, 0, 1, 2, 3, 4, 5, 6, 7]])"
      ]
     },
     "execution_count": 79,
     "metadata": {},
     "output_type": "execute_result"
    }
   ],
   "source": [
    "FP_RaceSex_df.columns"
   ]
  },
  {
   "cell_type": "code",
   "execution_count": 80,
   "metadata": {},
   "outputs": [
    {
     "data": {
      "text/html": [
       "<div>\n",
       "<style scoped>\n",
       "    .dataframe tbody tr th:only-of-type {\n",
       "        vertical-align: middle;\n",
       "    }\n",
       "\n",
       "    .dataframe tbody tr th {\n",
       "        vertical-align: top;\n",
       "    }\n",
       "\n",
       "    .dataframe thead th {\n",
       "        text-align: right;\n",
       "    }\n",
       "</style>\n",
       "<table border=\"1\" class=\"dataframe\">\n",
       "  <thead>\n",
       "    <tr style=\"text-align: right;\">\n",
       "      <th></th>\n",
       "      <th>race</th>\n",
       "      <th>FPR_M</th>\n",
       "      <th>CI_FPR_M</th>\n",
       "      <th>FNR_M</th>\n",
       "      <th>CI_FNR_M</th>\n",
       "      <th>FPR_F</th>\n",
       "      <th>CI_FPR_F</th>\n",
       "      <th>FNR_F</th>\n",
       "      <th>CI_FNR_F</th>\n",
       "    </tr>\n",
       "  </thead>\n",
       "  <tbody>\n",
       "    <tr>\n",
       "      <th>0</th>\n",
       "      <td>AMERICAN INDIAN/ALASKA NATIVE</td>\n",
       "      <td>0.165</td>\n",
       "      <td>0.050</td>\n",
       "      <td>0.533</td>\n",
       "      <td>0.065</td>\n",
       "      <td>0.189</td>\n",
       "      <td>0.026</td>\n",
       "      <td>0.000</td>\n",
       "      <td>0.000</td>\n",
       "    </tr>\n",
       "    <tr>\n",
       "      <th>1</th>\n",
       "      <td>ASIAN</td>\n",
       "      <td>0.149</td>\n",
       "      <td>0.010</td>\n",
       "      <td>0.181</td>\n",
       "      <td>0.008</td>\n",
       "      <td>0.301</td>\n",
       "      <td>0.011</td>\n",
       "      <td>0.098</td>\n",
       "      <td>0.014</td>\n",
       "    </tr>\n",
       "    <tr>\n",
       "      <th>2</th>\n",
       "      <td>BLACK/AFRICAN AMERICAN</td>\n",
       "      <td>0.256</td>\n",
       "      <td>0.007</td>\n",
       "      <td>0.207</td>\n",
       "      <td>0.010</td>\n",
       "      <td>0.289</td>\n",
       "      <td>0.008</td>\n",
       "      <td>0.149</td>\n",
       "      <td>0.009</td>\n",
       "    </tr>\n",
       "    <tr>\n",
       "      <th>3</th>\n",
       "      <td>HISPANIC/LATINO</td>\n",
       "      <td>0.206</td>\n",
       "      <td>0.010</td>\n",
       "      <td>0.194</td>\n",
       "      <td>0.009</td>\n",
       "      <td>0.356</td>\n",
       "      <td>0.016</td>\n",
       "      <td>0.141</td>\n",
       "      <td>0.016</td>\n",
       "    </tr>\n",
       "    <tr>\n",
       "      <th>4</th>\n",
       "      <td>OTHER</td>\n",
       "      <td>0.167</td>\n",
       "      <td>0.007</td>\n",
       "      <td>0.165</td>\n",
       "      <td>0.014</td>\n",
       "      <td>0.187</td>\n",
       "      <td>0.008</td>\n",
       "      <td>0.259</td>\n",
       "      <td>0.011</td>\n",
       "    </tr>\n",
       "    <tr>\n",
       "      <th>5</th>\n",
       "      <td>WHITE</td>\n",
       "      <td>0.172</td>\n",
       "      <td>0.007</td>\n",
       "      <td>0.273</td>\n",
       "      <td>0.007</td>\n",
       "      <td>0.167</td>\n",
       "      <td>0.007</td>\n",
       "      <td>0.231</td>\n",
       "      <td>0.008</td>\n",
       "    </tr>\n",
       "  </tbody>\n",
       "</table>\n",
       "</div>"
      ],
      "text/plain": [
       "                            race  FPR_M  CI_FPR_M  FNR_M  CI_FNR_M  FPR_F  \\\n",
       "0  AMERICAN INDIAN/ALASKA NATIVE  0.165     0.050  0.533     0.065  0.189   \n",
       "1                          ASIAN  0.149     0.010  0.181     0.008  0.301   \n",
       "2         BLACK/AFRICAN AMERICAN  0.256     0.007  0.207     0.010  0.289   \n",
       "3                HISPANIC/LATINO  0.206     0.010  0.194     0.009  0.356   \n",
       "4                          OTHER  0.167     0.007  0.165     0.014  0.187   \n",
       "5                          WHITE  0.172     0.007  0.273     0.007  0.167   \n",
       "\n",
       "   CI_FPR_F  FNR_F  CI_FNR_F  \n",
       "0     0.026  0.000     0.000  \n",
       "1     0.011  0.098     0.014  \n",
       "2     0.008  0.149     0.009  \n",
       "3     0.016  0.141     0.016  \n",
       "4     0.008  0.259     0.011  \n",
       "5     0.007  0.231     0.008  "
      ]
     },
     "execution_count": 80,
     "metadata": {},
     "output_type": "execute_result"
    }
   ],
   "source": [
    "factors = ['FPR_M','FNR_M','FPR_F','FNR_F']\n",
    "race = ['AMERICAN INDIAN/ALASKA NATIVE','ASIAN','BLACK/AFRICAN AMERICAN','HISPANIC/LATINO','OTHER','WHITE']\n",
    "\n",
    "RaceSex_df = pd.DataFrame(race, columns=[\"race\"])\n",
    "\n",
    "want = FiveRun_FP_NF(factors, RaceSex_df, FP_RaceSex_df)\n",
    "want.to_csv('./results/Inter_RaceSex_FNR_FPR.csv')\n",
    "want"
   ]
  },
  {
   "cell_type": "code",
   "execution_count": 62,
   "metadata": {},
   "outputs": [
    {
     "name": "stdout",
     "output_type": "stream",
     "text": [
      "Number of images in Ins Rac intersection with actual NF=0\n"
     ]
    },
    {
     "data": {
      "text/html": [
       "<div>\n",
       "<style scoped>\n",
       "    .dataframe tbody tr th:only-of-type {\n",
       "        vertical-align: middle;\n",
       "    }\n",
       "\n",
       "    .dataframe tbody tr th {\n",
       "        vertical-align: top;\n",
       "    }\n",
       "\n",
       "    .dataframe thead th {\n",
       "        text-align: right;\n",
       "    }\n",
       "</style>\n",
       "<table border=\"1\" class=\"dataframe\">\n",
       "  <thead>\n",
       "    <tr style=\"text-align: right;\">\n",
       "      <th></th>\n",
       "      <th>Unnamed: 0</th>\n",
       "      <th>race</th>\n",
       "      <th>M</th>\n",
       "      <th>F</th>\n",
       "    </tr>\n",
       "  </thead>\n",
       "  <tbody>\n",
       "    <tr>\n",
       "      <th>0</th>\n",
       "      <td>0</td>\n",
       "      <td>WHITE</td>\n",
       "      <td>6688</td>\n",
       "      <td>4930</td>\n",
       "    </tr>\n",
       "    <tr>\n",
       "      <th>1</th>\n",
       "      <td>1</td>\n",
       "      <td>BLACK/AFRICAN AMERICAN</td>\n",
       "      <td>1152</td>\n",
       "      <td>1772</td>\n",
       "    </tr>\n",
       "    <tr>\n",
       "      <th>2</th>\n",
       "      <td>2</td>\n",
       "      <td>HISPANIC/LATINO</td>\n",
       "      <td>547</td>\n",
       "      <td>451</td>\n",
       "    </tr>\n",
       "    <tr>\n",
       "      <th>3</th>\n",
       "      <td>3</td>\n",
       "      <td>OTHER</td>\n",
       "      <td>472</td>\n",
       "      <td>251</td>\n",
       "    </tr>\n",
       "    <tr>\n",
       "      <th>4</th>\n",
       "      <td>4</td>\n",
       "      <td>ASIAN</td>\n",
       "      <td>225</td>\n",
       "      <td>182</td>\n",
       "    </tr>\n",
       "    <tr>\n",
       "      <th>5</th>\n",
       "      <td>5</td>\n",
       "      <td>AMERICAN INDIAN/ALASKA NATIVE</td>\n",
       "      <td>23</td>\n",
       "      <td>18</td>\n",
       "    </tr>\n",
       "  </tbody>\n",
       "</table>\n",
       "</div>"
      ],
      "text/plain": [
       "   Unnamed: 0                           race     M     F\n",
       "0           0                          WHITE  6688  4930\n",
       "1           1         BLACK/AFRICAN AMERICAN  1152  1772\n",
       "2           2                HISPANIC/LATINO   547   451\n",
       "3           3                          OTHER   472   251\n",
       "4           4                          ASIAN   225   182\n",
       "5           5  AMERICAN INDIAN/ALASKA NATIVE    23    18"
      ]
     },
     "execution_count": 62,
     "metadata": {},
     "output_type": "execute_result"
    }
   ],
   "source": [
    "print('Number of images in Ins Rac intersection with actual NF=0')\n",
    "df=pd.read_csv('./results47/Num_RaceSex.csv')"
   ]
  },
  {
   "cell_type": "code",
   "execution_count": 64,
   "metadata": {},
   "outputs": [],
   "source": [
    "df2=df.drop(['Unnamed: 0'], axis=1)"
   ]
  },
  {
   "cell_type": "code",
   "execution_count": 65,
   "metadata": {},
   "outputs": [
    {
     "data": {
      "text/plain": [
       "0    11618\n",
       "1     2924\n",
       "2      998\n",
       "3      723\n",
       "4      407\n",
       "5       41\n",
       "dtype: int64"
      ]
     },
     "execution_count": 65,
     "metadata": {},
     "output_type": "execute_result"
    }
   ],
   "source": [
    "df2.sum(axis=1)"
   ]
  },
  {
   "cell_type": "code",
   "execution_count": 3,
   "metadata": {},
   "outputs": [
    {
     "name": "stdout",
     "output_type": "stream",
     "text": [
      "Number of images in Ins Rac intersection with actual NF=1\n"
     ]
    },
    {
     "data": {
      "text/html": [
       "<div>\n",
       "<style scoped>\n",
       "    .dataframe tbody tr th:only-of-type {\n",
       "        vertical-align: middle;\n",
       "    }\n",
       "\n",
       "    .dataframe tbody tr th {\n",
       "        vertical-align: top;\n",
       "    }\n",
       "\n",
       "    .dataframe thead th {\n",
       "        text-align: right;\n",
       "    }\n",
       "</style>\n",
       "<table border=\"1\" class=\"dataframe\">\n",
       "  <thead>\n",
       "    <tr style=\"text-align: right;\">\n",
       "      <th></th>\n",
       "      <th>Unnamed: 0</th>\n",
       "      <th>race</th>\n",
       "      <th>M</th>\n",
       "      <th>F</th>\n",
       "    </tr>\n",
       "  </thead>\n",
       "  <tbody>\n",
       "    <tr>\n",
       "      <th>0</th>\n",
       "      <td>0</td>\n",
       "      <td>WHITE</td>\n",
       "      <td>2717</td>\n",
       "      <td>2419</td>\n",
       "    </tr>\n",
       "    <tr>\n",
       "      <th>1</th>\n",
       "      <td>1</td>\n",
       "      <td>BLACK/AFRICAN AMERICAN</td>\n",
       "      <td>659</td>\n",
       "      <td>1411</td>\n",
       "    </tr>\n",
       "    <tr>\n",
       "      <th>2</th>\n",
       "      <td>2</td>\n",
       "      <td>HISPANIC/LATINO</td>\n",
       "      <td>308</td>\n",
       "      <td>474</td>\n",
       "    </tr>\n",
       "    <tr>\n",
       "      <th>3</th>\n",
       "      <td>3</td>\n",
       "      <td>OTHER</td>\n",
       "      <td>220</td>\n",
       "      <td>135</td>\n",
       "    </tr>\n",
       "    <tr>\n",
       "      <th>4</th>\n",
       "      <td>4</td>\n",
       "      <td>ASIAN</td>\n",
       "      <td>116</td>\n",
       "      <td>151</td>\n",
       "    </tr>\n",
       "    <tr>\n",
       "      <th>5</th>\n",
       "      <td>5</td>\n",
       "      <td>AMERICAN INDIAN/ALASKA NATIVE</td>\n",
       "      <td>6</td>\n",
       "      <td>7</td>\n",
       "    </tr>\n",
       "  </tbody>\n",
       "</table>\n",
       "</div>"
      ],
      "text/plain": [
       "   Unnamed: 0                           race     M     F\n",
       "0           0                          WHITE  2717  2419\n",
       "1           1         BLACK/AFRICAN AMERICAN   659  1411\n",
       "2           2                HISPANIC/LATINO   308   474\n",
       "3           3                          OTHER   220   135\n",
       "4           4                          ASIAN   116   151\n",
       "5           5  AMERICAN INDIAN/ALASKA NATIVE     6     7"
      ]
     },
     "execution_count": 3,
     "metadata": {},
     "output_type": "execute_result"
    }
   ],
   "source": [
    "print('Number of images in Ins Rac intersection with actual NF=1')\n",
    "pd.read_csv('./results47/Num_RaceSex_NF1.csv')"
   ]
  },
  {
   "cell_type": "code",
   "execution_count": 66,
   "metadata": {},
   "outputs": [
    {
     "data": {
      "text/plain": [
       "0    5136\n",
       "1    2070\n",
       "2     782\n",
       "3     355\n",
       "4     267\n",
       "5      13\n",
       "dtype: int64"
      ]
     },
     "execution_count": 66,
     "metadata": {},
     "output_type": "execute_result"
    }
   ],
   "source": [
    "df=pd.read_csv('./results47/Num_RaceSex_NF1.csv')\n",
    "df2=df.drop(['Unnamed: 0'], axis=1)\n",
    "df2.sum(axis=1)"
   ]
  },
  {
   "cell_type": "markdown",
   "metadata": {},
   "source": [
    "### Insurance-Age"
   ]
  },
  {
   "cell_type": "code",
   "execution_count": 81,
   "metadata": {},
   "outputs": [],
   "source": [
    "FP5_InsAge = pd.read_csv(\"./results77/FP_InsAge.csv\")\n",
    "FP4_InsAge = pd.read_csv(\"./results19/FP_InsAge.csv\")\n",
    "FP3_InsAge = pd.read_csv(\"./results38/FP_InsAge.csv\")\n",
    "FP2_InsAge = pd.read_csv(\"./results47/FP_InsAge.csv\")\n",
    "FP1_InsAge = pd.read_csv(\"./results31/FP_InsAge.csv\")\n",
    "FP_InsAge = FP1_InsAge.append([FP2_InsAge, FP3_InsAge,FP4_InsAge, FP5_InsAge])\n",
    "FP_InsAge =FP_InsAge.groupby(\"age\")\n",
    "FP_InsAge_df =FP_InsAge.describe()"
   ]
  },
  {
   "cell_type": "code",
   "execution_count": 82,
   "metadata": {},
   "outputs": [
    {
     "data": {
      "text/plain": [
       "age\n",
       "0-20     0.303\n",
       "20-40    0.406\n",
       "40-60    0.238\n",
       "60-80    0.124\n",
       "80-      0.098\n",
       "Name: mean, dtype: float64"
      ]
     },
     "execution_count": 82,
     "metadata": {},
     "output_type": "execute_result"
    }
   ],
   "source": [
    "round(FP_InsAge_df['Medicare']['mean'],3)"
   ]
  },
  {
   "cell_type": "code",
   "execution_count": 83,
   "metadata": {},
   "outputs": [
    {
     "data": {
      "text/plain": [
       "age\n",
       "0-20     0.051\n",
       "20-40    0.012\n",
       "40-60    0.008\n",
       "60-80    0.007\n",
       "80-      0.008\n",
       "Name: std, dtype: float64"
      ]
     },
     "execution_count": 83,
     "metadata": {},
     "output_type": "execute_result"
    }
   ],
   "source": [
    "round(1.96 * FP_InsAge_df['Medicare'][\"std\"] / np.sqrt(5),3)"
   ]
  },
  {
   "cell_type": "code",
   "execution_count": 84,
   "metadata": {},
   "outputs": [
    {
     "data": {
      "text/plain": [
       "age\n",
       "0-20     0.341\n",
       "20-40    0.268\n",
       "40-60    0.233\n",
       "60-80    0.148\n",
       "80-      0.098\n",
       "Name: mean, dtype: float64"
      ]
     },
     "execution_count": 84,
     "metadata": {},
     "output_type": "execute_result"
    }
   ],
   "source": [
    "round(FP_InsAge_df['Other']['mean'],3)"
   ]
  },
  {
   "cell_type": "code",
   "execution_count": 85,
   "metadata": {},
   "outputs": [
    {
     "data": {
      "text/plain": [
       "age\n",
       "0-20     0.019\n",
       "20-40    0.012\n",
       "40-60    0.005\n",
       "60-80    0.004\n",
       "80-      0.009\n",
       "Name: std, dtype: float64"
      ]
     },
     "execution_count": 85,
     "metadata": {},
     "output_type": "execute_result"
    }
   ],
   "source": [
    "round(1.96 * FP_InsAge_df['Other'][\"std\"] / np.sqrt(5),3)"
   ]
  },
  {
   "cell_type": "code",
   "execution_count": 86,
   "metadata": {},
   "outputs": [
    {
     "data": {
      "text/plain": [
       "age\n",
       "0-20     0.729\n",
       "20-40    0.431\n",
       "40-60    0.258\n",
       "60-80    0.128\n",
       "80-      0.012\n",
       "Name: mean, dtype: float64"
      ]
     },
     "execution_count": 86,
     "metadata": {},
     "output_type": "execute_result"
    }
   ],
   "source": [
    "round(FP_InsAge_df['Medicaid']['mean'],3)"
   ]
  },
  {
   "cell_type": "code",
   "execution_count": 87,
   "metadata": {},
   "outputs": [
    {
     "data": {
      "text/plain": [
       "age\n",
       "0-20     0.052\n",
       "20-40    0.018\n",
       "40-60    0.008\n",
       "60-80    0.011\n",
       "80-      0.014\n",
       "Name: std, dtype: float64"
      ]
     },
     "execution_count": 87,
     "metadata": {},
     "output_type": "execute_result"
    }
   ],
   "source": [
    "round(1.96 * FP_InsAge_df['Medicaid'][\"std\"] / np.sqrt(5),3)"
   ]
  },
  {
   "cell_type": "code",
   "execution_count": 88,
   "metadata": {},
   "outputs": [],
   "source": [
    "factors = ['Medicaid', 'Other','Medicare']\n",
    "age =['0-20', '20-40', '40-60', '60-80','80-']\n",
    "AgeIns_df = pd.DataFrame(age, columns=[\"age\"])\n",
    "Num_df =  pd.read_csv(\"./results77/Num_InsAge.csv\")\n",
    "\n",
    "\n",
    "def FiveRun(factors,want_df,df,Num):\n",
    "    for factor in factors:    \n",
    "        dfM0 = round(df[factor]['mean'],3)\n",
    "        dfM2 = round(1.96 * df[factor][\"std\"] / np.sqrt(5),3)\n",
    "        want_df[factor] = pd.DataFrame(dfM0.values.tolist(),columns =[factor])\n",
    "        want_df['CI_'+factor] = pd.DataFrame(dfM2.values.tolist(),columns =['CI_'+factor])\n",
    "        \n",
    "        Num['Num_'+factor] = Num[factor]\n",
    "    \n",
    "    Num = Num.drop(factors,axis=1)\n",
    "    want_df = want_df.merge(Num,left_on=\"age\", right_on=\"age\")\n",
    "    \n",
    "    return want_df\n",
    "\n",
    "want = FiveRun(factors,AgeIns_df,FP_InsAge_df,Num_df)\n",
    "want.to_csv('./results/Inter_AgeIns.csv')"
   ]
  },
  {
   "cell_type": "code",
   "execution_count": 89,
   "metadata": {},
   "outputs": [
    {
     "data": {
      "text/html": [
       "<div>\n",
       "<style scoped>\n",
       "    .dataframe tbody tr th:only-of-type {\n",
       "        vertical-align: middle;\n",
       "    }\n",
       "\n",
       "    .dataframe tbody tr th {\n",
       "        vertical-align: top;\n",
       "    }\n",
       "\n",
       "    .dataframe thead th {\n",
       "        text-align: right;\n",
       "    }\n",
       "</style>\n",
       "<table border=\"1\" class=\"dataframe\">\n",
       "  <thead>\n",
       "    <tr style=\"text-align: right;\">\n",
       "      <th></th>\n",
       "      <th>age</th>\n",
       "      <th>Medicaid</th>\n",
       "      <th>CI_Medicaid</th>\n",
       "      <th>Other</th>\n",
       "      <th>CI_Other</th>\n",
       "      <th>Medicare</th>\n",
       "      <th>CI_Medicare</th>\n",
       "      <th>Unnamed: 0</th>\n",
       "      <th>Num_Medicaid</th>\n",
       "      <th>Num_Other</th>\n",
       "      <th>Num_Medicare</th>\n",
       "    </tr>\n",
       "  </thead>\n",
       "  <tbody>\n",
       "    <tr>\n",
       "      <th>0</th>\n",
       "      <td>0-20</td>\n",
       "      <td>0.729</td>\n",
       "      <td>0.052</td>\n",
       "      <td>0.341</td>\n",
       "      <td>0.019</td>\n",
       "      <td>0.303</td>\n",
       "      <td>0.051</td>\n",
       "      <td>4</td>\n",
       "      <td>14</td>\n",
       "      <td>85</td>\n",
       "      <td>39</td>\n",
       "    </tr>\n",
       "    <tr>\n",
       "      <th>1</th>\n",
       "      <td>20-40</td>\n",
       "      <td>0.431</td>\n",
       "      <td>0.018</td>\n",
       "      <td>0.268</td>\n",
       "      <td>0.012</td>\n",
       "      <td>0.406</td>\n",
       "      <td>0.012</td>\n",
       "      <td>2</td>\n",
       "      <td>359</td>\n",
       "      <td>1447</td>\n",
       "      <td>263</td>\n",
       "    </tr>\n",
       "    <tr>\n",
       "      <th>2</th>\n",
       "      <td>40-60</td>\n",
       "      <td>0.258</td>\n",
       "      <td>0.008</td>\n",
       "      <td>0.233</td>\n",
       "      <td>0.005</td>\n",
       "      <td>0.238</td>\n",
       "      <td>0.008</td>\n",
       "      <td>1</td>\n",
       "      <td>920</td>\n",
       "      <td>3153</td>\n",
       "      <td>2378</td>\n",
       "    </tr>\n",
       "    <tr>\n",
       "      <th>3</th>\n",
       "      <td>60-80</td>\n",
       "      <td>0.128</td>\n",
       "      <td>0.011</td>\n",
       "      <td>0.148</td>\n",
       "      <td>0.004</td>\n",
       "      <td>0.124</td>\n",
       "      <td>0.007</td>\n",
       "      <td>0</td>\n",
       "      <td>265</td>\n",
       "      <td>2270</td>\n",
       "      <td>4736</td>\n",
       "    </tr>\n",
       "    <tr>\n",
       "      <th>4</th>\n",
       "      <td>80-</td>\n",
       "      <td>0.012</td>\n",
       "      <td>0.014</td>\n",
       "      <td>0.098</td>\n",
       "      <td>0.009</td>\n",
       "      <td>0.098</td>\n",
       "      <td>0.008</td>\n",
       "      <td>3</td>\n",
       "      <td>33</td>\n",
       "      <td>410</td>\n",
       "      <td>1091</td>\n",
       "    </tr>\n",
       "  </tbody>\n",
       "</table>\n",
       "</div>"
      ],
      "text/plain": [
       "     age  Medicaid  CI_Medicaid  Other  CI_Other  Medicare  CI_Medicare  \\\n",
       "0   0-20     0.729        0.052  0.341     0.019     0.303        0.051   \n",
       "1  20-40     0.431        0.018  0.268     0.012     0.406        0.012   \n",
       "2  40-60     0.258        0.008  0.233     0.005     0.238        0.008   \n",
       "3  60-80     0.128        0.011  0.148     0.004     0.124        0.007   \n",
       "4    80-     0.012        0.014  0.098     0.009     0.098        0.008   \n",
       "\n",
       "   Unnamed: 0  Num_Medicaid  Num_Other  Num_Medicare  \n",
       "0           4            14         85            39  \n",
       "1           2           359       1447           263  \n",
       "2           1           920       3153          2378  \n",
       "3           0           265       2270          4736  \n",
       "4           3            33        410          1091  "
      ]
     },
     "execution_count": 89,
     "metadata": {},
     "output_type": "execute_result"
    }
   ],
   "source": [
    "want"
   ]
  },
  {
   "cell_type": "code",
   "execution_count": 90,
   "metadata": {},
   "outputs": [],
   "source": [
    "FP5_InsAge = pd.read_csv(\"./results77/FP_FN_InsAge.csv\")\n",
    "FP4_InsAge = pd.read_csv(\"./results19/FP_FN_InsAge.csv\")\n",
    "FP3_InsAge = pd.read_csv(\"./results38/FP_FN_InsAge.csv\")\n",
    "FP2_InsAge = pd.read_csv(\"./results47/FP_FN_InsAge.csv\")\n",
    "FP1_InsAge = pd.read_csv(\"./results31/FP_FN_InsAge.csv\")\n",
    "FP_InsAge = FP1_InsAge.append([FP2_InsAge, FP3_InsAge,FP4_InsAge, FP5_InsAge])\n",
    "FP_InsAge =FP_InsAge.groupby(\"age\")\n",
    "FP_InsAge_df =FP_InsAge.describe()"
   ]
  },
  {
   "cell_type": "code",
   "execution_count": 91,
   "metadata": {},
   "outputs": [
    {
     "data": {
      "text/plain": [
       "MultiIndex(levels=[['Unnamed: 0', 'FPR_Medicare', 'FNR_Medicare', 'FPR_Other', 'FNR_Other', 'FPR_Medicaid', 'FNR_Medicaid'], ['count', 'mean', 'std', 'min', '25%', '50%', '75%', 'max']],\n",
       "           codes=[[0, 0, 0, 0, 0, 0, 0, 0, 1, 1, 1, 1, 1, 1, 1, 1, 2, 2, 2, 2, 2, 2, 2, 2, 3, 3, 3, 3, 3, 3, 3, 3, 4, 4, 4, 4, 4, 4, 4, 4, 5, 5, 5, 5, 5, 5, 5, 5, 6, 6, 6, 6, 6, 6, 6, 6], [0, 1, 2, 3, 4, 5, 6, 7, 0, 1, 2, 3, 4, 5, 6, 7, 0, 1, 2, 3, 4, 5, 6, 7, 0, 1, 2, 3, 4, 5, 6, 7, 0, 1, 2, 3, 4, 5, 6, 7, 0, 1, 2, 3, 4, 5, 6, 7, 0, 1, 2, 3, 4, 5, 6, 7]])"
      ]
     },
     "execution_count": 91,
     "metadata": {},
     "output_type": "execute_result"
    }
   ],
   "source": [
    "FP_InsAge_df.columns"
   ]
  },
  {
   "cell_type": "code",
   "execution_count": 92,
   "metadata": {},
   "outputs": [
    {
     "data": {
      "text/html": [
       "<div>\n",
       "<style scoped>\n",
       "    .dataframe tbody tr th:only-of-type {\n",
       "        vertical-align: middle;\n",
       "    }\n",
       "\n",
       "    .dataframe tbody tr th {\n",
       "        vertical-align: top;\n",
       "    }\n",
       "\n",
       "    .dataframe thead th {\n",
       "        text-align: right;\n",
       "    }\n",
       "</style>\n",
       "<table border=\"1\" class=\"dataframe\">\n",
       "  <thead>\n",
       "    <tr style=\"text-align: right;\">\n",
       "      <th></th>\n",
       "      <th>age</th>\n",
       "      <th>FPR_Medicare</th>\n",
       "      <th>CI_FPR_Medicare</th>\n",
       "      <th>FNR_Medicare</th>\n",
       "      <th>CI_FNR_Medicare</th>\n",
       "      <th>FPR_Other</th>\n",
       "      <th>CI_FPR_Other</th>\n",
       "      <th>FNR_Other</th>\n",
       "      <th>CI_FNR_Other</th>\n",
       "      <th>FPR_Medicaid</th>\n",
       "      <th>CI_FPR_Medicaid</th>\n",
       "      <th>FNR_Medicaid</th>\n",
       "      <th>CI_FNR_Medicaid</th>\n",
       "    </tr>\n",
       "  </thead>\n",
       "  <tbody>\n",
       "    <tr>\n",
       "      <th>0</th>\n",
       "      <td>0-20</td>\n",
       "      <td>0.303</td>\n",
       "      <td>0.051</td>\n",
       "      <td>0.178</td>\n",
       "      <td>0.087</td>\n",
       "      <td>0.341</td>\n",
       "      <td>0.019</td>\n",
       "      <td>0.043</td>\n",
       "      <td>0.009</td>\n",
       "      <td>0.729</td>\n",
       "      <td>0.052</td>\n",
       "      <td>0.014</td>\n",
       "      <td>0.016</td>\n",
       "    </tr>\n",
       "    <tr>\n",
       "      <th>1</th>\n",
       "      <td>20-40</td>\n",
       "      <td>0.406</td>\n",
       "      <td>0.012</td>\n",
       "      <td>0.054</td>\n",
       "      <td>0.006</td>\n",
       "      <td>0.268</td>\n",
       "      <td>0.012</td>\n",
       "      <td>0.101</td>\n",
       "      <td>0.004</td>\n",
       "      <td>0.431</td>\n",
       "      <td>0.018</td>\n",
       "      <td>0.075</td>\n",
       "      <td>0.008</td>\n",
       "    </tr>\n",
       "    <tr>\n",
       "      <th>2</th>\n",
       "      <td>40-60</td>\n",
       "      <td>0.238</td>\n",
       "      <td>0.008</td>\n",
       "      <td>0.231</td>\n",
       "      <td>0.005</td>\n",
       "      <td>0.233</td>\n",
       "      <td>0.005</td>\n",
       "      <td>0.173</td>\n",
       "      <td>0.005</td>\n",
       "      <td>0.258</td>\n",
       "      <td>0.008</td>\n",
       "      <td>0.235</td>\n",
       "      <td>0.016</td>\n",
       "    </tr>\n",
       "    <tr>\n",
       "      <th>3</th>\n",
       "      <td>60-80</td>\n",
       "      <td>0.124</td>\n",
       "      <td>0.007</td>\n",
       "      <td>0.411</td>\n",
       "      <td>0.014</td>\n",
       "      <td>0.148</td>\n",
       "      <td>0.004</td>\n",
       "      <td>0.321</td>\n",
       "      <td>0.014</td>\n",
       "      <td>0.128</td>\n",
       "      <td>0.011</td>\n",
       "      <td>0.314</td>\n",
       "      <td>0.024</td>\n",
       "    </tr>\n",
       "    <tr>\n",
       "      <th>4</th>\n",
       "      <td>80-</td>\n",
       "      <td>0.098</td>\n",
       "      <td>0.008</td>\n",
       "      <td>0.486</td>\n",
       "      <td>0.017</td>\n",
       "      <td>0.098</td>\n",
       "      <td>0.009</td>\n",
       "      <td>0.468</td>\n",
       "      <td>0.038</td>\n",
       "      <td>0.012</td>\n",
       "      <td>0.014</td>\n",
       "      <td>1.000</td>\n",
       "      <td>0.000</td>\n",
       "    </tr>\n",
       "  </tbody>\n",
       "</table>\n",
       "</div>"
      ],
      "text/plain": [
       "     age  FPR_Medicare  CI_FPR_Medicare  FNR_Medicare  CI_FNR_Medicare  \\\n",
       "0   0-20         0.303            0.051         0.178            0.087   \n",
       "1  20-40         0.406            0.012         0.054            0.006   \n",
       "2  40-60         0.238            0.008         0.231            0.005   \n",
       "3  60-80         0.124            0.007         0.411            0.014   \n",
       "4    80-         0.098            0.008         0.486            0.017   \n",
       "\n",
       "   FPR_Other  CI_FPR_Other  FNR_Other  CI_FNR_Other  FPR_Medicaid  \\\n",
       "0      0.341         0.019      0.043         0.009         0.729   \n",
       "1      0.268         0.012      0.101         0.004         0.431   \n",
       "2      0.233         0.005      0.173         0.005         0.258   \n",
       "3      0.148         0.004      0.321         0.014         0.128   \n",
       "4      0.098         0.009      0.468         0.038         0.012   \n",
       "\n",
       "   CI_FPR_Medicaid  FNR_Medicaid  CI_FNR_Medicaid  \n",
       "0            0.052         0.014            0.016  \n",
       "1            0.018         0.075            0.008  \n",
       "2            0.008         0.235            0.016  \n",
       "3            0.011         0.314            0.024  \n",
       "4            0.014         1.000            0.000  "
      ]
     },
     "execution_count": 92,
     "metadata": {},
     "output_type": "execute_result"
    }
   ],
   "source": [
    "factors = ['FPR_Medicare','FNR_Medicare','FPR_Other','FNR_Other', 'FPR_Medicaid', 'FNR_Medicaid']\n",
    "age = ['0-20','20-40','40-60','60-80','80-']\n",
    "\n",
    "AgeIns_df = pd.DataFrame(age, columns=[\"age\"])\n",
    "\n",
    "want = FiveRun_FP_NF(factors, AgeIns_df, FP_InsAge_df)\n",
    "want.to_csv('./results/Inter_AgeIns_FNR_FPR.csv')\n",
    "want"
   ]
  },
  {
   "cell_type": "code",
   "execution_count": 67,
   "metadata": {},
   "outputs": [
    {
     "name": "stdout",
     "output_type": "stream",
     "text": [
      "Number of images in Ins Age intersection with actual NF=0\n"
     ]
    },
    {
     "data": {
      "text/html": [
       "<div>\n",
       "<style scoped>\n",
       "    .dataframe tbody tr th:only-of-type {\n",
       "        vertical-align: middle;\n",
       "    }\n",
       "\n",
       "    .dataframe tbody tr th {\n",
       "        vertical-align: top;\n",
       "    }\n",
       "\n",
       "    .dataframe thead th {\n",
       "        text-align: right;\n",
       "    }\n",
       "</style>\n",
       "<table border=\"1\" class=\"dataframe\">\n",
       "  <thead>\n",
       "    <tr style=\"text-align: right;\">\n",
       "      <th></th>\n",
       "      <th>Unnamed: 0</th>\n",
       "      <th>age</th>\n",
       "      <th>Medicare</th>\n",
       "      <th>Other</th>\n",
       "      <th>Medicaid</th>\n",
       "    </tr>\n",
       "  </thead>\n",
       "  <tbody>\n",
       "    <tr>\n",
       "      <th>0</th>\n",
       "      <td>0</td>\n",
       "      <td>60-80</td>\n",
       "      <td>4736</td>\n",
       "      <td>2270</td>\n",
       "      <td>265</td>\n",
       "    </tr>\n",
       "    <tr>\n",
       "      <th>1</th>\n",
       "      <td>1</td>\n",
       "      <td>40-60</td>\n",
       "      <td>2378</td>\n",
       "      <td>3153</td>\n",
       "      <td>920</td>\n",
       "    </tr>\n",
       "    <tr>\n",
       "      <th>2</th>\n",
       "      <td>2</td>\n",
       "      <td>20-40</td>\n",
       "      <td>263</td>\n",
       "      <td>1447</td>\n",
       "      <td>359</td>\n",
       "    </tr>\n",
       "    <tr>\n",
       "      <th>3</th>\n",
       "      <td>3</td>\n",
       "      <td>80-</td>\n",
       "      <td>1091</td>\n",
       "      <td>410</td>\n",
       "      <td>33</td>\n",
       "    </tr>\n",
       "    <tr>\n",
       "      <th>4</th>\n",
       "      <td>4</td>\n",
       "      <td>0-20</td>\n",
       "      <td>39</td>\n",
       "      <td>85</td>\n",
       "      <td>14</td>\n",
       "    </tr>\n",
       "  </tbody>\n",
       "</table>\n",
       "</div>"
      ],
      "text/plain": [
       "   Unnamed: 0    age  Medicare  Other  Medicaid\n",
       "0           0  60-80      4736   2270       265\n",
       "1           1  40-60      2378   3153       920\n",
       "2           2  20-40       263   1447       359\n",
       "3           3    80-      1091    410        33\n",
       "4           4   0-20        39     85        14"
      ]
     },
     "execution_count": 67,
     "metadata": {},
     "output_type": "execute_result"
    }
   ],
   "source": [
    "print('Number of images in Ins Age intersection with actual NF=0')\n",
    "pd.read_csv('./results47/Num_InsAge.csv')"
   ]
  },
  {
   "cell_type": "code",
   "execution_count": 68,
   "metadata": {},
   "outputs": [
    {
     "data": {
      "text/plain": [
       "age         60-8040-6020-4080-0-20\n",
       "Medicare                      8507\n",
       "Other                         7365\n",
       "Medicaid                      1591\n",
       "dtype: object"
      ]
     },
     "execution_count": 68,
     "metadata": {},
     "output_type": "execute_result"
    }
   ],
   "source": [
    "df=pd.read_csv('./results47/Num_InsAge.csv')\n",
    "df2=df.drop(['Unnamed: 0'], axis=1)\n",
    "df2.sum(axis=0)"
   ]
  },
  {
   "cell_type": "code",
   "execution_count": 58,
   "metadata": {},
   "outputs": [
    {
     "name": "stdout",
     "output_type": "stream",
     "text": [
      "Number of images in Ins Age intersection with actual NF=1\n"
     ]
    },
    {
     "data": {
      "text/html": [
       "<div>\n",
       "<style scoped>\n",
       "    .dataframe tbody tr th:only-of-type {\n",
       "        vertical-align: middle;\n",
       "    }\n",
       "\n",
       "    .dataframe tbody tr th {\n",
       "        vertical-align: top;\n",
       "    }\n",
       "\n",
       "    .dataframe thead th {\n",
       "        text-align: right;\n",
       "    }\n",
       "</style>\n",
       "<table border=\"1\" class=\"dataframe\">\n",
       "  <thead>\n",
       "    <tr style=\"text-align: right;\">\n",
       "      <th></th>\n",
       "      <th>Unnamed: 0</th>\n",
       "      <th>age</th>\n",
       "      <th>Medicare</th>\n",
       "      <th>Other</th>\n",
       "      <th>Medicaid</th>\n",
       "    </tr>\n",
       "  </thead>\n",
       "  <tbody>\n",
       "    <tr>\n",
       "      <th>0</th>\n",
       "      <td>0</td>\n",
       "      <td>60-80</td>\n",
       "      <td>1339</td>\n",
       "      <td>825</td>\n",
       "      <td>93</td>\n",
       "    </tr>\n",
       "    <tr>\n",
       "      <th>1</th>\n",
       "      <td>1</td>\n",
       "      <td>40-60</td>\n",
       "      <td>1232</td>\n",
       "      <td>1947</td>\n",
       "      <td>495</td>\n",
       "    </tr>\n",
       "    <tr>\n",
       "      <th>2</th>\n",
       "      <td>2</td>\n",
       "      <td>20-40</td>\n",
       "      <td>312</td>\n",
       "      <td>1468</td>\n",
       "      <td>496</td>\n",
       "    </tr>\n",
       "    <tr>\n",
       "      <th>3</th>\n",
       "      <td>3</td>\n",
       "      <td>80-</td>\n",
       "      <td>238</td>\n",
       "      <td>103</td>\n",
       "      <td>2</td>\n",
       "    </tr>\n",
       "    <tr>\n",
       "      <th>4</th>\n",
       "      <td>4</td>\n",
       "      <td>0-20</td>\n",
       "      <td>9</td>\n",
       "      <td>194</td>\n",
       "      <td>29</td>\n",
       "    </tr>\n",
       "  </tbody>\n",
       "</table>\n",
       "</div>"
      ],
      "text/plain": [
       "   Unnamed: 0    age  Medicare  Other  Medicaid\n",
       "0           0  60-80      1339    825        93\n",
       "1           1  40-60      1232   1947       495\n",
       "2           2  20-40       312   1468       496\n",
       "3           3    80-       238    103         2\n",
       "4           4   0-20         9    194        29"
      ]
     },
     "execution_count": 58,
     "metadata": {},
     "output_type": "execute_result"
    }
   ],
   "source": [
    "print('Number of images in Ins Age intersection with actual NF=1')\n",
    "pd.read_csv('./results47/Num_InsAge_NF1.csv')\n",
    "\n"
   ]
  },
  {
   "cell_type": "code",
   "execution_count": 69,
   "metadata": {},
   "outputs": [
    {
     "data": {
      "text/plain": [
       "age         60-8040-6020-4080-0-20\n",
       "Medicare                      3130\n",
       "Other                         4537\n",
       "Medicaid                      1115\n",
       "dtype: object"
      ]
     },
     "execution_count": 69,
     "metadata": {},
     "output_type": "execute_result"
    }
   ],
   "source": [
    "df=pd.read_csv('./results47/Num_InsAge_NF1.csv')\n",
    "df2=df.drop(['Unnamed: 0'], axis=1)\n",
    "df2.sum(axis=0)\n",
    "\n"
   ]
  },
  {
   "cell_type": "markdown",
   "metadata": {},
   "source": [
    "### Race-Age"
   ]
  },
  {
   "cell_type": "code",
   "execution_count": 93,
   "metadata": {},
   "outputs": [],
   "source": [
    "FP5_RaceAge = pd.read_csv(\"./results77/FP_RaceAge.csv\")\n",
    "FP4_RaceAge = pd.read_csv(\"./results19/FP_RaceAge.csv\")\n",
    "FP3_RaceAge = pd.read_csv(\"./results38/FP_RaceAge.csv\")\n",
    "FP2_RaceAge = pd.read_csv(\"./results47/FP_RaceAge.csv\")\n",
    "FP1_RaceAge = pd.read_csv(\"./results31/FP_RaceAge.csv\")\n",
    "FP_RaceAge = FP1_RaceAge.append([FP2_RaceAge, FP3_RaceAge,FP4_RaceAge, FP5_RaceAge])\n",
    "FP_RaceAge = FP_RaceAge.groupby(\"age\")\n",
    "FP_RaceAge_df =FP_RaceAge.describe()"
   ]
  },
  {
   "cell_type": "code",
   "execution_count": 94,
   "metadata": {
    "scrolled": true
   },
   "outputs": [
    {
     "data": {
      "text/html": [
       "<div>\n",
       "<style scoped>\n",
       "    .dataframe tbody tr th:only-of-type {\n",
       "        vertical-align: middle;\n",
       "    }\n",
       "\n",
       "    .dataframe tbody tr th {\n",
       "        vertical-align: top;\n",
       "    }\n",
       "\n",
       "    .dataframe thead th {\n",
       "        text-align: right;\n",
       "    }\n",
       "</style>\n",
       "<table border=\"1\" class=\"dataframe\">\n",
       "  <thead>\n",
       "    <tr style=\"text-align: right;\">\n",
       "      <th></th>\n",
       "      <th>age</th>\n",
       "      <th>White</th>\n",
       "      <th>CI_White</th>\n",
       "      <th>Black</th>\n",
       "      <th>CI_Black</th>\n",
       "      <th>Hisp</th>\n",
       "      <th>CI_Hisp</th>\n",
       "      <th>Other</th>\n",
       "      <th>CI_Other</th>\n",
       "      <th>Asian</th>\n",
       "      <th>CI_Asian</th>\n",
       "      <th>American</th>\n",
       "      <th>CI_American</th>\n",
       "      <th>Unnamed: 0</th>\n",
       "      <th>Num_White</th>\n",
       "      <th>Num_Black</th>\n",
       "      <th>Num_Hisp</th>\n",
       "      <th>Num_Other</th>\n",
       "      <th>Num_Asian</th>\n",
       "      <th>Num_American</th>\n",
       "    </tr>\n",
       "  </thead>\n",
       "  <tbody>\n",
       "    <tr>\n",
       "      <th>0</th>\n",
       "      <td>0-20</td>\n",
       "      <td>0.302</td>\n",
       "      <td>0.027</td>\n",
       "      <td>0.737</td>\n",
       "      <td>0.033</td>\n",
       "      <td>0.200</td>\n",
       "      <td>0.240</td>\n",
       "      <td>1.000</td>\n",
       "      <td>0.000</td>\n",
       "      <td>0.000</td>\n",
       "      <td>0.000</td>\n",
       "      <td>NaN</td>\n",
       "      <td>NaN</td>\n",
       "      <td>4</td>\n",
       "      <td>108</td>\n",
       "      <td>19</td>\n",
       "      <td>2</td>\n",
       "      <td>4</td>\n",
       "      <td>2</td>\n",
       "      <td>0</td>\n",
       "    </tr>\n",
       "    <tr>\n",
       "      <th>1</th>\n",
       "      <td>20-40</td>\n",
       "      <td>0.331</td>\n",
       "      <td>0.014</td>\n",
       "      <td>0.346</td>\n",
       "      <td>0.011</td>\n",
       "      <td>0.231</td>\n",
       "      <td>0.012</td>\n",
       "      <td>0.300</td>\n",
       "      <td>0.024</td>\n",
       "      <td>0.269</td>\n",
       "      <td>0.018</td>\n",
       "      <td>0.200</td>\n",
       "      <td>0.044</td>\n",
       "      <td>2</td>\n",
       "      <td>930</td>\n",
       "      <td>617</td>\n",
       "      <td>315</td>\n",
       "      <td>70</td>\n",
       "      <td>64</td>\n",
       "      <td>9</td>\n",
       "    </tr>\n",
       "    <tr>\n",
       "      <th>2</th>\n",
       "      <td>40-60</td>\n",
       "      <td>0.213</td>\n",
       "      <td>0.006</td>\n",
       "      <td>0.308</td>\n",
       "      <td>0.009</td>\n",
       "      <td>0.342</td>\n",
       "      <td>0.014</td>\n",
       "      <td>0.222</td>\n",
       "      <td>0.007</td>\n",
       "      <td>0.322</td>\n",
       "      <td>0.012</td>\n",
       "      <td>1.000</td>\n",
       "      <td>0.000</td>\n",
       "      <td>1</td>\n",
       "      <td>4278</td>\n",
       "      <td>1225</td>\n",
       "      <td>399</td>\n",
       "      <td>230</td>\n",
       "      <td>115</td>\n",
       "      <td>2</td>\n",
       "    </tr>\n",
       "    <tr>\n",
       "      <th>3</th>\n",
       "      <td>60-80</td>\n",
       "      <td>0.117</td>\n",
       "      <td>0.007</td>\n",
       "      <td>0.200</td>\n",
       "      <td>0.005</td>\n",
       "      <td>0.232</td>\n",
       "      <td>0.014</td>\n",
       "      <td>0.123</td>\n",
       "      <td>0.009</td>\n",
       "      <td>0.200</td>\n",
       "      <td>0.005</td>\n",
       "      <td>0.113</td>\n",
       "      <td>0.033</td>\n",
       "      <td>0</td>\n",
       "      <td>5143</td>\n",
       "      <td>942</td>\n",
       "      <td>268</td>\n",
       "      <td>364</td>\n",
       "      <td>160</td>\n",
       "      <td>30</td>\n",
       "    </tr>\n",
       "    <tr>\n",
       "      <th>4</th>\n",
       "      <td>80-</td>\n",
       "      <td>0.102</td>\n",
       "      <td>0.009</td>\n",
       "      <td>0.117</td>\n",
       "      <td>0.012</td>\n",
       "      <td>0.143</td>\n",
       "      <td>0.000</td>\n",
       "      <td>0.095</td>\n",
       "      <td>0.013</td>\n",
       "      <td>0.030</td>\n",
       "      <td>0.009</td>\n",
       "      <td>NaN</td>\n",
       "      <td>NaN</td>\n",
       "      <td>3</td>\n",
       "      <td>1159</td>\n",
       "      <td>121</td>\n",
       "      <td>14</td>\n",
       "      <td>55</td>\n",
       "      <td>66</td>\n",
       "      <td>0</td>\n",
       "    </tr>\n",
       "  </tbody>\n",
       "</table>\n",
       "</div>"
      ],
      "text/plain": [
       "     age  White  CI_White  Black  CI_Black   Hisp  CI_Hisp  Other  CI_Other  \\\n",
       "0   0-20  0.302     0.027  0.737     0.033  0.200    0.240  1.000     0.000   \n",
       "1  20-40  0.331     0.014  0.346     0.011  0.231    0.012  0.300     0.024   \n",
       "2  40-60  0.213     0.006  0.308     0.009  0.342    0.014  0.222     0.007   \n",
       "3  60-80  0.117     0.007  0.200     0.005  0.232    0.014  0.123     0.009   \n",
       "4    80-  0.102     0.009  0.117     0.012  0.143    0.000  0.095     0.013   \n",
       "\n",
       "   Asian  CI_Asian  American  CI_American  Unnamed: 0  Num_White  Num_Black  \\\n",
       "0  0.000     0.000       NaN          NaN           4        108         19   \n",
       "1  0.269     0.018     0.200        0.044           2        930        617   \n",
       "2  0.322     0.012     1.000        0.000           1       4278       1225   \n",
       "3  0.200     0.005     0.113        0.033           0       5143        942   \n",
       "4  0.030     0.009       NaN          NaN           3       1159        121   \n",
       "\n",
       "   Num_Hisp  Num_Other  Num_Asian  Num_American  \n",
       "0         2          4          2             0  \n",
       "1       315         70         64             9  \n",
       "2       399        230        115             2  \n",
       "3       268        364        160            30  \n",
       "4        14         55         66             0  "
      ]
     },
     "execution_count": 94,
     "metadata": {},
     "output_type": "execute_result"
    }
   ],
   "source": [
    "factors = ['White', 'Black','Hisp','Other','Asian','American']\n",
    "age =['0-20', '20-40', '40-60', '60-80','80-']\n",
    "RaceAge_df = pd.DataFrame(age, columns=[\"age\"])\n",
    "Num_df =  pd.read_csv(\"./results77/Num_RaceAge.csv\")\n",
    "\n",
    "\n",
    "\n",
    "\n",
    "\n",
    "want = FiveRun(factors,RaceAge_df,FP_RaceAge_df,Num_df)\n",
    "want.to_csv('./results/Inter_RaceAge.csv')\n",
    "want"
   ]
  },
  {
   "cell_type": "code",
   "execution_count": 95,
   "metadata": {},
   "outputs": [
    {
     "data": {
      "text/plain": [
       "0    0.2\n",
       "Name: Hisp, dtype: float64"
      ]
     },
     "execution_count": 95,
     "metadata": {},
     "output_type": "execute_result"
    }
   ],
   "source": [
    "want.loc[want['age']=='0-20','Hisp']"
   ]
  },
  {
   "cell_type": "code",
   "execution_count": 96,
   "metadata": {},
   "outputs": [],
   "source": [
    "FP5_RaceAge = pd.read_csv(\"./results77/FP_FN_RaceAge.csv\")\n",
    "FP4_RaceAge = pd.read_csv(\"./results19/FP_FN_RaceAge.csv\")\n",
    "FP3_RaceAge = pd.read_csv(\"./results38/FP_FN_RaceAge.csv\")\n",
    "FP2_RaceAge = pd.read_csv(\"./results47/FP_FN_RaceAge.csv\")\n",
    "FP1_RaceAge = pd.read_csv(\"./results31/FP_FN_RaceAge.csv\")\n",
    "FP_RaceAge = FP1_RaceAge.append([FP2_RaceAge, FP3_RaceAge,FP4_RaceAge, FP5_RaceAge])\n",
    "FP_RaceAge = FP_RaceAge.groupby(\"age\")\n",
    "FP_RaceAge_df =FP_RaceAge.describe()"
   ]
  },
  {
   "cell_type": "code",
   "execution_count": 97,
   "metadata": {},
   "outputs": [
    {
     "data": {
      "text/plain": [
       "MultiIndex(levels=[['Unnamed: 0', 'FPR_White', 'FNR_White', 'FPR_Black', 'FNR_Black', 'FPR_Hisp', 'FNR_Hisp', 'FPR_Other', 'FNR_Other', 'FPR_Asian', 'FNR_Asian', 'FPR_American', 'FNR_American'], ['count', 'mean', 'std', 'min', '25%', '50%', '75%', 'max']],\n",
       "           codes=[[0, 0, 0, 0, 0, 0, 0, 0, 1, 1, 1, 1, 1, 1, 1, 1, 2, 2, 2, 2, 2, 2, 2, 2, 3, 3, 3, 3, 3, 3, 3, 3, 4, 4, 4, 4, 4, 4, 4, 4, 5, 5, 5, 5, 5, 5, 5, 5, 6, 6, 6, 6, 6, 6, 6, 6, 7, 7, 7, 7, 7, 7, 7, 7, 8, 8, 8, 8, 8, 8, 8, 8, 9, 9, 9, 9, 9, 9, 9, 9, 10, 10, 10, 10, 10, 10, 10, 10, 11, 11, 11, 11, 11, 11, 11, 11, 12, 12, 12, 12, 12, 12, 12, 12], [0, 1, 2, 3, 4, 5, 6, 7, 0, 1, 2, 3, 4, 5, 6, 7, 0, 1, 2, 3, 4, 5, 6, 7, 0, 1, 2, 3, 4, 5, 6, 7, 0, 1, 2, 3, 4, 5, 6, 7, 0, 1, 2, 3, 4, 5, 6, 7, 0, 1, 2, 3, 4, 5, 6, 7, 0, 1, 2, 3, 4, 5, 6, 7, 0, 1, 2, 3, 4, 5, 6, 7, 0, 1, 2, 3, 4, 5, 6, 7, 0, 1, 2, 3, 4, 5, 6, 7, 0, 1, 2, 3, 4, 5, 6, 7, 0, 1, 2, 3, 4, 5, 6, 7]])"
      ]
     },
     "execution_count": 97,
     "metadata": {},
     "output_type": "execute_result"
    }
   ],
   "source": [
    "FP_RaceAge_df.columns"
   ]
  },
  {
   "cell_type": "code",
   "execution_count": 98,
   "metadata": {},
   "outputs": [
    {
     "data": {
      "text/html": [
       "<div>\n",
       "<style scoped>\n",
       "    .dataframe tbody tr th:only-of-type {\n",
       "        vertical-align: middle;\n",
       "    }\n",
       "\n",
       "    .dataframe tbody tr th {\n",
       "        vertical-align: top;\n",
       "    }\n",
       "\n",
       "    .dataframe thead th {\n",
       "        text-align: right;\n",
       "    }\n",
       "</style>\n",
       "<table border=\"1\" class=\"dataframe\">\n",
       "  <thead>\n",
       "    <tr style=\"text-align: right;\">\n",
       "      <th></th>\n",
       "      <th>age</th>\n",
       "      <th>FPR_White</th>\n",
       "      <th>CI_FPR_White</th>\n",
       "      <th>FNR_White</th>\n",
       "      <th>CI_FNR_White</th>\n",
       "      <th>FPR_Black</th>\n",
       "      <th>CI_FPR_Black</th>\n",
       "      <th>FNR_Black</th>\n",
       "      <th>CI_FNR_Black</th>\n",
       "      <th>FPR_Hisp</th>\n",
       "      <th>...</th>\n",
       "      <th>FNR_Other</th>\n",
       "      <th>CI_FNR_Other</th>\n",
       "      <th>FPR_Asian</th>\n",
       "      <th>CI_FPR_Asian</th>\n",
       "      <th>FNR_Asian</th>\n",
       "      <th>CI_FNR_Asian</th>\n",
       "      <th>FPR_American</th>\n",
       "      <th>CI_FPR_American</th>\n",
       "      <th>FNR_American</th>\n",
       "      <th>CI_FNR_American</th>\n",
       "    </tr>\n",
       "  </thead>\n",
       "  <tbody>\n",
       "    <tr>\n",
       "      <th>0</th>\n",
       "      <td>0-20</td>\n",
       "      <td>0.302</td>\n",
       "      <td>0.027</td>\n",
       "      <td>0.063</td>\n",
       "      <td>0.014</td>\n",
       "      <td>0.737</td>\n",
       "      <td>0.033</td>\n",
       "      <td>0.000</td>\n",
       "      <td>0.000</td>\n",
       "      <td>0.200</td>\n",
       "      <td>...</td>\n",
       "      <td>0.027</td>\n",
       "      <td>0.032</td>\n",
       "      <td>0.000</td>\n",
       "      <td>0.000</td>\n",
       "      <td>0.042</td>\n",
       "      <td>0.039</td>\n",
       "      <td>NaN</td>\n",
       "      <td>NaN</td>\n",
       "      <td>NaN</td>\n",
       "      <td>NaN</td>\n",
       "    </tr>\n",
       "    <tr>\n",
       "      <th>1</th>\n",
       "      <td>20-40</td>\n",
       "      <td>0.331</td>\n",
       "      <td>0.014</td>\n",
       "      <td>0.084</td>\n",
       "      <td>0.007</td>\n",
       "      <td>0.346</td>\n",
       "      <td>0.011</td>\n",
       "      <td>0.071</td>\n",
       "      <td>0.003</td>\n",
       "      <td>0.231</td>\n",
       "      <td>...</td>\n",
       "      <td>0.119</td>\n",
       "      <td>0.019</td>\n",
       "      <td>0.269</td>\n",
       "      <td>0.018</td>\n",
       "      <td>0.180</td>\n",
       "      <td>0.018</td>\n",
       "      <td>0.200</td>\n",
       "      <td>0.044</td>\n",
       "      <td>0.2</td>\n",
       "      <td>0.065</td>\n",
       "    </tr>\n",
       "    <tr>\n",
       "      <th>2</th>\n",
       "      <td>40-60</td>\n",
       "      <td>0.213</td>\n",
       "      <td>0.006</td>\n",
       "      <td>0.220</td>\n",
       "      <td>0.005</td>\n",
       "      <td>0.308</td>\n",
       "      <td>0.009</td>\n",
       "      <td>0.177</td>\n",
       "      <td>0.009</td>\n",
       "      <td>0.342</td>\n",
       "      <td>...</td>\n",
       "      <td>0.175</td>\n",
       "      <td>0.019</td>\n",
       "      <td>0.322</td>\n",
       "      <td>0.012</td>\n",
       "      <td>0.082</td>\n",
       "      <td>0.007</td>\n",
       "      <td>1.000</td>\n",
       "      <td>0.000</td>\n",
       "      <td>0.0</td>\n",
       "      <td>0.000</td>\n",
       "    </tr>\n",
       "    <tr>\n",
       "      <th>3</th>\n",
       "      <td>60-80</td>\n",
       "      <td>0.117</td>\n",
       "      <td>0.007</td>\n",
       "      <td>0.394</td>\n",
       "      <td>0.014</td>\n",
       "      <td>0.200</td>\n",
       "      <td>0.005</td>\n",
       "      <td>0.357</td>\n",
       "      <td>0.020</td>\n",
       "      <td>0.232</td>\n",
       "      <td>...</td>\n",
       "      <td>0.301</td>\n",
       "      <td>0.016</td>\n",
       "      <td>0.200</td>\n",
       "      <td>0.005</td>\n",
       "      <td>0.191</td>\n",
       "      <td>0.007</td>\n",
       "      <td>0.113</td>\n",
       "      <td>0.033</td>\n",
       "      <td>1.0</td>\n",
       "      <td>0.000</td>\n",
       "    </tr>\n",
       "    <tr>\n",
       "      <th>4</th>\n",
       "      <td>80-</td>\n",
       "      <td>0.102</td>\n",
       "      <td>0.009</td>\n",
       "      <td>0.492</td>\n",
       "      <td>0.016</td>\n",
       "      <td>0.117</td>\n",
       "      <td>0.012</td>\n",
       "      <td>0.382</td>\n",
       "      <td>0.021</td>\n",
       "      <td>0.143</td>\n",
       "      <td>...</td>\n",
       "      <td>NaN</td>\n",
       "      <td>NaN</td>\n",
       "      <td>0.030</td>\n",
       "      <td>0.009</td>\n",
       "      <td>0.100</td>\n",
       "      <td>0.196</td>\n",
       "      <td>NaN</td>\n",
       "      <td>NaN</td>\n",
       "      <td>NaN</td>\n",
       "      <td>NaN</td>\n",
       "    </tr>\n",
       "  </tbody>\n",
       "</table>\n",
       "<p>5 rows × 25 columns</p>\n",
       "</div>"
      ],
      "text/plain": [
       "     age  FPR_White  CI_FPR_White  FNR_White  CI_FNR_White  FPR_Black  \\\n",
       "0   0-20      0.302         0.027      0.063         0.014      0.737   \n",
       "1  20-40      0.331         0.014      0.084         0.007      0.346   \n",
       "2  40-60      0.213         0.006      0.220         0.005      0.308   \n",
       "3  60-80      0.117         0.007      0.394         0.014      0.200   \n",
       "4    80-      0.102         0.009      0.492         0.016      0.117   \n",
       "\n",
       "   CI_FPR_Black  FNR_Black  CI_FNR_Black  FPR_Hisp  ...  FNR_Other  \\\n",
       "0         0.033      0.000         0.000     0.200  ...      0.027   \n",
       "1         0.011      0.071         0.003     0.231  ...      0.119   \n",
       "2         0.009      0.177         0.009     0.342  ...      0.175   \n",
       "3         0.005      0.357         0.020     0.232  ...      0.301   \n",
       "4         0.012      0.382         0.021     0.143  ...        NaN   \n",
       "\n",
       "   CI_FNR_Other  FPR_Asian  CI_FPR_Asian  FNR_Asian  CI_FNR_Asian  \\\n",
       "0         0.032      0.000         0.000      0.042         0.039   \n",
       "1         0.019      0.269         0.018      0.180         0.018   \n",
       "2         0.019      0.322         0.012      0.082         0.007   \n",
       "3         0.016      0.200         0.005      0.191         0.007   \n",
       "4           NaN      0.030         0.009      0.100         0.196   \n",
       "\n",
       "   FPR_American  CI_FPR_American  FNR_American  CI_FNR_American  \n",
       "0           NaN              NaN           NaN              NaN  \n",
       "1         0.200            0.044           0.2            0.065  \n",
       "2         1.000            0.000           0.0            0.000  \n",
       "3         0.113            0.033           1.0            0.000  \n",
       "4           NaN              NaN           NaN              NaN  \n",
       "\n",
       "[5 rows x 25 columns]"
      ]
     },
     "execution_count": 98,
     "metadata": {},
     "output_type": "execute_result"
    }
   ],
   "source": [
    "factors = ['FPR_White', 'FNR_White', 'FPR_Black', 'FNR_Black', 'FPR_Hisp', 'FNR_Hisp', 'FPR_Other', 'FNR_Other', 'FPR_Asian', 'FNR_Asian', 'FPR_American', 'FNR_American']\n",
    "age =['0-20', '20-40', '40-60', '60-80','80-']\n",
    "\n",
    "AgeRace_df = pd.DataFrame(age, columns=[\"age\"])\n",
    "\n",
    "want = FiveRun_FP_NF(factors, AgeRace_df, FP_RaceAge_df)\n",
    "want.to_csv('./results/Inter_AgeRace_FNR_FPR.csv')\n",
    "want\n"
   ]
  },
  {
   "cell_type": "code",
   "execution_count": 49,
   "metadata": {},
   "outputs": [
    {
     "name": "stdout",
     "output_type": "stream",
     "text": [
      "Number of images in Race Age intersection with actual NF=0\n"
     ]
    },
    {
     "data": {
      "text/html": [
       "<div>\n",
       "<style scoped>\n",
       "    .dataframe tbody tr th:only-of-type {\n",
       "        vertical-align: middle;\n",
       "    }\n",
       "\n",
       "    .dataframe tbody tr th {\n",
       "        vertical-align: top;\n",
       "    }\n",
       "\n",
       "    .dataframe thead th {\n",
       "        text-align: right;\n",
       "    }\n",
       "</style>\n",
       "<table border=\"1\" class=\"dataframe\">\n",
       "  <thead>\n",
       "    <tr style=\"text-align: right;\">\n",
       "      <th></th>\n",
       "      <th>age</th>\n",
       "      <th>White</th>\n",
       "      <th>Black</th>\n",
       "      <th>Hisp</th>\n",
       "      <th>Other</th>\n",
       "      <th>Asian</th>\n",
       "      <th>American</th>\n",
       "    </tr>\n",
       "  </thead>\n",
       "  <tbody>\n",
       "    <tr>\n",
       "      <th>0</th>\n",
       "      <td>60-80</td>\n",
       "      <td>5143</td>\n",
       "      <td>942</td>\n",
       "      <td>268</td>\n",
       "      <td>364</td>\n",
       "      <td>160</td>\n",
       "      <td>30</td>\n",
       "    </tr>\n",
       "    <tr>\n",
       "      <th>1</th>\n",
       "      <td>40-60</td>\n",
       "      <td>4278</td>\n",
       "      <td>1225</td>\n",
       "      <td>399</td>\n",
       "      <td>230</td>\n",
       "      <td>115</td>\n",
       "      <td>2</td>\n",
       "    </tr>\n",
       "    <tr>\n",
       "      <th>2</th>\n",
       "      <td>20-40</td>\n",
       "      <td>930</td>\n",
       "      <td>617</td>\n",
       "      <td>315</td>\n",
       "      <td>70</td>\n",
       "      <td>64</td>\n",
       "      <td>9</td>\n",
       "    </tr>\n",
       "    <tr>\n",
       "      <th>3</th>\n",
       "      <td>80-</td>\n",
       "      <td>1159</td>\n",
       "      <td>121</td>\n",
       "      <td>14</td>\n",
       "      <td>55</td>\n",
       "      <td>66</td>\n",
       "      <td>0</td>\n",
       "    </tr>\n",
       "    <tr>\n",
       "      <th>4</th>\n",
       "      <td>0-20</td>\n",
       "      <td>108</td>\n",
       "      <td>19</td>\n",
       "      <td>2</td>\n",
       "      <td>4</td>\n",
       "      <td>2</td>\n",
       "      <td>0</td>\n",
       "    </tr>\n",
       "  </tbody>\n",
       "</table>\n",
       "</div>"
      ],
      "text/plain": [
       "     age  White  Black  Hisp  Other  Asian  American\n",
       "0  60-80   5143    942   268    364    160        30\n",
       "1  40-60   4278   1225   399    230    115         2\n",
       "2  20-40    930    617   315     70     64         9\n",
       "3    80-   1159    121    14     55     66         0\n",
       "4   0-20    108     19     2      4      2         0"
      ]
     },
     "execution_count": 49,
     "metadata": {},
     "output_type": "execute_result"
    }
   ],
   "source": [
    "print('Number of images in Race Age intersection with actual NF=0')\n",
    "df=pd.read_csv('./results47/Num_RaceAge.csv')\n",
    "df2=df.drop(['Unnamed: 0'], axis=1)\n",
    "df2"
   ]
  },
  {
   "cell_type": "code",
   "execution_count": 50,
   "metadata": {},
   "outputs": [
    {
     "data": {
      "text/plain": [
       "0    6907\n",
       "1    6249\n",
       "2    2005\n",
       "3    1415\n",
       "4     135\n",
       "dtype: int64"
      ]
     },
     "execution_count": 50,
     "metadata": {},
     "output_type": "execute_result"
    }
   ],
   "source": [
    "df2.sum(axis=1)"
   ]
  },
  {
   "cell_type": "code",
   "execution_count": 47,
   "metadata": {},
   "outputs": [
    {
     "name": "stdout",
     "output_type": "stream",
     "text": [
      "Number of images in Ins Age intersection with actual NF=1\n"
     ]
    },
    {
     "data": {
      "text/html": [
       "<div>\n",
       "<style scoped>\n",
       "    .dataframe tbody tr th:only-of-type {\n",
       "        vertical-align: middle;\n",
       "    }\n",
       "\n",
       "    .dataframe tbody tr th {\n",
       "        vertical-align: top;\n",
       "    }\n",
       "\n",
       "    .dataframe thead th {\n",
       "        text-align: right;\n",
       "    }\n",
       "</style>\n",
       "<table border=\"1\" class=\"dataframe\">\n",
       "  <thead>\n",
       "    <tr style=\"text-align: right;\">\n",
       "      <th></th>\n",
       "      <th>age</th>\n",
       "      <th>White</th>\n",
       "      <th>Black</th>\n",
       "      <th>Hisp</th>\n",
       "      <th>Other</th>\n",
       "      <th>Asian</th>\n",
       "      <th>American</th>\n",
       "    </tr>\n",
       "  </thead>\n",
       "  <tbody>\n",
       "    <tr>\n",
       "      <th>0</th>\n",
       "      <td>60-80</td>\n",
       "      <td>1532</td>\n",
       "      <td>343</td>\n",
       "      <td>118</td>\n",
       "      <td>119</td>\n",
       "      <td>89</td>\n",
       "      <td>2</td>\n",
       "    </tr>\n",
       "    <tr>\n",
       "      <th>1</th>\n",
       "      <td>40-60</td>\n",
       "      <td>2156</td>\n",
       "      <td>853</td>\n",
       "      <td>347</td>\n",
       "      <td>157</td>\n",
       "      <td>107</td>\n",
       "      <td>5</td>\n",
       "    </tr>\n",
       "    <tr>\n",
       "      <th>2</th>\n",
       "      <td>20-40</td>\n",
       "      <td>1043</td>\n",
       "      <td>783</td>\n",
       "      <td>306</td>\n",
       "      <td>64</td>\n",
       "      <td>50</td>\n",
       "      <td>6</td>\n",
       "    </tr>\n",
       "    <tr>\n",
       "      <th>3</th>\n",
       "      <td>80-</td>\n",
       "      <td>260</td>\n",
       "      <td>45</td>\n",
       "      <td>7</td>\n",
       "      <td>0</td>\n",
       "      <td>2</td>\n",
       "      <td>0</td>\n",
       "    </tr>\n",
       "    <tr>\n",
       "      <th>4</th>\n",
       "      <td>0-20</td>\n",
       "      <td>145</td>\n",
       "      <td>46</td>\n",
       "      <td>4</td>\n",
       "      <td>15</td>\n",
       "      <td>19</td>\n",
       "      <td>0</td>\n",
       "    </tr>\n",
       "  </tbody>\n",
       "</table>\n",
       "</div>"
      ],
      "text/plain": [
       "     age  White  Black  Hisp  Other  Asian  American\n",
       "0  60-80   1532    343   118    119     89         2\n",
       "1  40-60   2156    853   347    157    107         5\n",
       "2  20-40   1043    783   306     64     50         6\n",
       "3    80-    260     45     7      0      2         0\n",
       "4   0-20    145     46     4     15     19         0"
      ]
     },
     "execution_count": 47,
     "metadata": {},
     "output_type": "execute_result"
    }
   ],
   "source": [
    "print('Number of images in Ins Age intersection with actual NF=1')\n",
    "df=pd.read_csv('./results47/Num_RaceAge_NF1.csv')\n",
    "df2=df.drop(['Unnamed: 0'], axis=1)\n",
    "df2\n"
   ]
  },
  {
   "cell_type": "code",
   "execution_count": 48,
   "metadata": {},
   "outputs": [
    {
     "data": {
      "text/plain": [
       "0    2203\n",
       "1    3625\n",
       "2    2252\n",
       "3     314\n",
       "4     229\n",
       "dtype: int64"
      ]
     },
     "execution_count": 48,
     "metadata": {},
     "output_type": "execute_result"
    }
   ],
   "source": [
    "df2.sum(axis=1)\n",
    "\n"
   ]
  },
  {
   "cell_type": "code",
   "execution_count": 39,
   "metadata": {},
   "outputs": [
    {
     "data": {
      "text/plain": [
       "3620"
      ]
     },
     "execution_count": 39,
     "metadata": {},
     "output_type": "execute_result"
    }
   ],
   "source": [
    "2156+853+347+157+107\n"
   ]
  },
  {
   "cell_type": "markdown",
   "metadata": {},
   "source": [
    "## AUC Performance confidence interval "
   ]
  },
  {
   "cell_type": "code",
   "execution_count": null,
   "metadata": {},
   "outputs": [],
   "source": []
  },
  {
   "cell_type": "code",
   "execution_count": 99,
   "metadata": {},
   "outputs": [],
   "source": [
    "Eval5 = pd.read_csv(\"./results77/Eval.csv\")\n",
    "Eval4 = pd.read_csv(\"./results19/Eval.csv\")\n",
    "Eval3 = pd.read_csv(\"./results38/Eval.csv\")\n",
    "Eval2 = pd.read_csv(\"./results47/Eval.csv\")\n",
    "Eval1 = pd.read_csv(\"./results31/Eval.csv\")"
   ]
  },
  {
   "cell_type": "code",
   "execution_count": 100,
   "metadata": {},
   "outputs": [
    {
     "data": {
      "text/html": [
       "<div>\n",
       "<style scoped>\n",
       "    .dataframe tbody tr th:only-of-type {\n",
       "        vertical-align: middle;\n",
       "    }\n",
       "\n",
       "    .dataframe tbody tr th {\n",
       "        vertical-align: top;\n",
       "    }\n",
       "\n",
       "    .dataframe thead th {\n",
       "        text-align: right;\n",
       "    }\n",
       "</style>\n",
       "<table border=\"1\" class=\"dataframe\">\n",
       "  <thead>\n",
       "    <tr style=\"text-align: right;\">\n",
       "      <th></th>\n",
       "      <th>label</th>\n",
       "      <th>auc</th>\n",
       "      <th>auc2</th>\n",
       "      <th>auc3</th>\n",
       "      <th>auc4</th>\n",
       "      <th>auc5</th>\n",
       "    </tr>\n",
       "  </thead>\n",
       "  <tbody>\n",
       "    <tr>\n",
       "      <th>0</th>\n",
       "      <td>Airspace Opacity</td>\n",
       "      <td>0.784405</td>\n",
       "      <td>0.783839</td>\n",
       "      <td>0.781926</td>\n",
       "      <td>0.780642</td>\n",
       "      <td>0.780812</td>\n",
       "    </tr>\n",
       "    <tr>\n",
       "      <th>1</th>\n",
       "      <td>Atelectasis</td>\n",
       "      <td>0.837631</td>\n",
       "      <td>0.837549</td>\n",
       "      <td>0.836750</td>\n",
       "      <td>0.835749</td>\n",
       "      <td>0.835974</td>\n",
       "    </tr>\n",
       "    <tr>\n",
       "      <th>2</th>\n",
       "      <td>Cardiomegaly</td>\n",
       "      <td>0.829379</td>\n",
       "      <td>0.829341</td>\n",
       "      <td>0.826660</td>\n",
       "      <td>0.827601</td>\n",
       "      <td>0.824610</td>\n",
       "    </tr>\n",
       "    <tr>\n",
       "      <th>3</th>\n",
       "      <td>Consolidation</td>\n",
       "      <td>0.844549</td>\n",
       "      <td>0.845112</td>\n",
       "      <td>0.843367</td>\n",
       "      <td>0.843544</td>\n",
       "      <td>0.842740</td>\n",
       "    </tr>\n",
       "    <tr>\n",
       "      <th>4</th>\n",
       "      <td>Edema</td>\n",
       "      <td>0.905035</td>\n",
       "      <td>0.905858</td>\n",
       "      <td>0.904471</td>\n",
       "      <td>0.903695</td>\n",
       "      <td>0.900561</td>\n",
       "    </tr>\n",
       "    <tr>\n",
       "      <th>5</th>\n",
       "      <td>Enlarged Cardiomediastinum</td>\n",
       "      <td>0.760054</td>\n",
       "      <td>0.752302</td>\n",
       "      <td>0.759163</td>\n",
       "      <td>0.753896</td>\n",
       "      <td>0.760663</td>\n",
       "    </tr>\n",
       "    <tr>\n",
       "      <th>6</th>\n",
       "      <td>Fracture</td>\n",
       "      <td>0.719671</td>\n",
       "      <td>0.707227</td>\n",
       "      <td>0.717175</td>\n",
       "      <td>0.729794</td>\n",
       "      <td>0.718162</td>\n",
       "    </tr>\n",
       "    <tr>\n",
       "      <th>7</th>\n",
       "      <td>Lung Lesion</td>\n",
       "      <td>0.770842</td>\n",
       "      <td>0.779997</td>\n",
       "      <td>0.777454</td>\n",
       "      <td>0.767263</td>\n",
       "      <td>0.764300</td>\n",
       "    </tr>\n",
       "    <tr>\n",
       "      <th>8</th>\n",
       "      <td>No Finding</td>\n",
       "      <td>0.870459</td>\n",
       "      <td>0.869439</td>\n",
       "      <td>0.868266</td>\n",
       "      <td>0.868240</td>\n",
       "      <td>0.865947</td>\n",
       "    </tr>\n",
       "    <tr>\n",
       "      <th>9</th>\n",
       "      <td>Pleural Effusion</td>\n",
       "      <td>0.934543</td>\n",
       "      <td>0.933334</td>\n",
       "      <td>0.933444</td>\n",
       "      <td>0.932899</td>\n",
       "      <td>0.932870</td>\n",
       "    </tr>\n",
       "    <tr>\n",
       "      <th>10</th>\n",
       "      <td>Pleural Other</td>\n",
       "      <td>0.846678</td>\n",
       "      <td>0.844375</td>\n",
       "      <td>0.844465</td>\n",
       "      <td>0.850399</td>\n",
       "      <td>0.851938</td>\n",
       "    </tr>\n",
       "    <tr>\n",
       "      <th>11</th>\n",
       "      <td>Pneumonia</td>\n",
       "      <td>0.756371</td>\n",
       "      <td>0.752520</td>\n",
       "      <td>0.743133</td>\n",
       "      <td>0.744188</td>\n",
       "      <td>0.744526</td>\n",
       "    </tr>\n",
       "    <tr>\n",
       "      <th>12</th>\n",
       "      <td>Pneumothorax</td>\n",
       "      <td>0.904925</td>\n",
       "      <td>0.902275</td>\n",
       "      <td>0.904440</td>\n",
       "      <td>0.899509</td>\n",
       "      <td>0.902842</td>\n",
       "    </tr>\n",
       "    <tr>\n",
       "      <th>13</th>\n",
       "      <td>Support Devices</td>\n",
       "      <td>0.927627</td>\n",
       "      <td>0.927442</td>\n",
       "      <td>0.927050</td>\n",
       "      <td>0.926168</td>\n",
       "      <td>0.925919</td>\n",
       "    </tr>\n",
       "  </tbody>\n",
       "</table>\n",
       "</div>"
      ],
      "text/plain": [
       "                         label       auc      auc2      auc3      auc4  \\\n",
       "0             Airspace Opacity  0.784405  0.783839  0.781926  0.780642   \n",
       "1                  Atelectasis  0.837631  0.837549  0.836750  0.835749   \n",
       "2                 Cardiomegaly  0.829379  0.829341  0.826660  0.827601   \n",
       "3                Consolidation  0.844549  0.845112  0.843367  0.843544   \n",
       "4                        Edema  0.905035  0.905858  0.904471  0.903695   \n",
       "5   Enlarged Cardiomediastinum  0.760054  0.752302  0.759163  0.753896   \n",
       "6                     Fracture  0.719671  0.707227  0.717175  0.729794   \n",
       "7                  Lung Lesion  0.770842  0.779997  0.777454  0.767263   \n",
       "8                   No Finding  0.870459  0.869439  0.868266  0.868240   \n",
       "9             Pleural Effusion  0.934543  0.933334  0.933444  0.932899   \n",
       "10               Pleural Other  0.846678  0.844375  0.844465  0.850399   \n",
       "11                   Pneumonia  0.756371  0.752520  0.743133  0.744188   \n",
       "12                Pneumothorax  0.904925  0.902275  0.904440  0.899509   \n",
       "13             Support Devices  0.927627  0.927442  0.927050  0.926168   \n",
       "\n",
       "        auc5  \n",
       "0   0.780812  \n",
       "1   0.835974  \n",
       "2   0.824610  \n",
       "3   0.842740  \n",
       "4   0.900561  \n",
       "5   0.760663  \n",
       "6   0.718162  \n",
       "7   0.764300  \n",
       "8   0.865947  \n",
       "9   0.932870  \n",
       "10  0.851938  \n",
       "11  0.744526  \n",
       "12  0.902842  \n",
       "13  0.925919  "
      ]
     },
     "execution_count": 100,
     "metadata": {},
     "output_type": "execute_result"
    }
   ],
   "source": [
    "\n",
    "Evalall = Eval1[['label','auc']]\n",
    "\n",
    "Evalall[\"auc2\"]=Eval2['auc']\n",
    "Evalall[\"auc3\"]=Eval3['auc']\n",
    "Evalall[\"auc4\"]=Eval4['auc']\n",
    "Evalall[\"auc5\"]=Eval5['auc']\n",
    "Evalall"
   ]
  },
  {
   "cell_type": "code",
   "execution_count": 101,
   "metadata": {},
   "outputs": [],
   "source": [
    "Evala_dis =Evalall.groupby(\"label\")"
   ]
  },
  {
   "cell_type": "code",
   "execution_count": 102,
   "metadata": {},
   "outputs": [
    {
     "data": {
      "text/plain": [
       "auc     0.835\n",
       "auc2    0.834\n",
       "auc3    0.833\n",
       "auc4    0.833\n",
       "auc5    0.832\n",
       "dtype: float64"
      ]
     },
     "execution_count": 102,
     "metadata": {},
     "output_type": "execute_result"
    }
   ],
   "source": [
    "round(Evalall.mean(axis=0),3)"
   ]
  },
  {
   "cell_type": "code",
   "execution_count": 103,
   "metadata": {},
   "outputs": [
    {
     "name": "stdout",
     "output_type": "stream",
     "text": [
      "MIMIC Mean of 14 aucs mean over 5 run:      0.834\n",
      "MIMIC Confidence interval of 14 aucs mean over 5 run:    0.001\n"
     ]
    }
   ],
   "source": [
    "print(\"MIMIC Mean of 14 aucs mean over 5 run:     \",round(Evalall.mean(axis=0).mean(),3))\n",
    "print(\"MIMIC Confidence interval of 14 aucs mean over 5 run:   \",round(1.96 * Evalall.mean(axis=0).std()/np.sqrt(5) ,3 ) )"
   ]
  },
  {
   "cell_type": "code",
   "execution_count": 104,
   "metadata": {},
   "outputs": [
    {
     "name": "stdout",
     "output_type": "stream",
     "text": [
      "MIMIC Mean of auce per disease over 5 run:     \n"
     ]
    },
    {
     "data": {
      "text/plain": [
       "0     0.782\n",
       "1     0.837\n",
       "2     0.828\n",
       "3     0.844\n",
       "4     0.904\n",
       "5     0.757\n",
       "6     0.718\n",
       "7     0.772\n",
       "8     0.868\n",
       "9     0.933\n",
       "10    0.848\n",
       "11    0.748\n",
       "12    0.903\n",
       "13    0.927\n",
       "dtype: float64"
      ]
     },
     "execution_count": 104,
     "metadata": {},
     "output_type": "execute_result"
    }
   ],
   "source": [
    "print(\"MIMIC Mean of auce per disease over 5 run:     \")\n",
    "round(Evalall.mean(axis=1),3)"
   ]
  },
  {
   "cell_type": "code",
   "execution_count": 105,
   "metadata": {},
   "outputs": [
    {
     "name": "stdout",
     "output_type": "stream",
     "text": [
      "MIMIC Confidence interval of auce per disease over 5 run:     \n"
     ]
    },
    {
     "data": {
      "text/plain": [
       "0     0.002\n",
       "1     0.001\n",
       "2     0.002\n",
       "3     0.001\n",
       "4     0.002\n",
       "5     0.003\n",
       "6     0.007\n",
       "7     0.006\n",
       "8     0.001\n",
       "9     0.001\n",
       "10    0.003\n",
       "11    0.005\n",
       "12    0.002\n",
       "13    0.001\n",
       "dtype: float64"
      ]
     },
     "execution_count": 105,
     "metadata": {},
     "output_type": "execute_result"
    }
   ],
   "source": [
    "print(\"MIMIC Confidence interval of auce per disease over 5 run:     \")\n",
    "round(1.96 * Evalall.std(axis=1)/ np.sqrt(5),3)"
   ]
  },
  {
   "cell_type": "code",
   "execution_count": null,
   "metadata": {},
   "outputs": [],
   "source": []
  }
 ],
 "metadata": {
  "kernelspec": {
   "display_name": "Python 3",
   "language": "python",
   "name": "python3"
  },
  "language_info": {
   "codemirror_mode": {
    "name": "ipython",
    "version": 3
   },
   "file_extension": ".py",
   "mimetype": "text/x-python",
   "name": "python",
   "nbconvert_exporter": "python",
   "pygments_lexer": "ipython3",
   "version": "3.7.3"
  }
 },
 "nbformat": 4,
 "nbformat_minor": 2
}
