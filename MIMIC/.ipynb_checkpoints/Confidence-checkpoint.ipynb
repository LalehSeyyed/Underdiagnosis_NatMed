{
 "cells": [
  {
   "cell_type": "markdown",
   "metadata": {},
   "source": [
    "## TPR confidence interval plots"
   ]
  },
  {
   "cell_type": "code",
   "execution_count": 1,
   "metadata": {},
   "outputs": [],
   "source": [
    "import pandas as pd\n",
    "import numpy as np\n",
    "from statistics import mean\n",
    "\n",
    "import matplotlib.pyplot as plt\n",
    "\n",
    "diseases = ['Airspace Opacity', 'Atelectasis', 'Cardiomegaly',\n",
    "       'Consolidation', 'Edema', 'Enlarged Cardiomediastinum', 'Fracture',\n",
    "       'Lung Lesion', 'No Finding', 'Pleural Effusion', 'Pleural Other',\n",
    "       'Pneumonia', 'Pneumothorax', 'Support Devices']\n",
    "\n",
    "diseases_abbr = {'Cardiomegaly': 'Cd',\n",
    "                'Effusion': 'Ef',\n",
    "                'Enlarged Cardiomediastinum': 'EC',\n",
    "                'Lung Lesion': 'LL',\n",
    "                'Atelectasis': 'A',\n",
    "                'Pneumonia': 'Pa',\n",
    "                'Pneumothorax': 'Px',\n",
    "                'Consolidation': 'Co',\n",
    "                'Edema': 'Ed',\n",
    "                'Pleural Effusion': 'Ef',\n",
    "                'Pleural Other': 'PO',\n",
    "                'Fracture': 'Fr',\n",
    "                'Support Devices': 'SD',\n",
    "                'Airspace Opacity': 'AO',\n",
    "                'No Finding': 'NF'\n",
    "                }"
   ]
  },
  {
   "cell_type": "markdown",
   "metadata": {},
   "source": [
    "## Percentages"
   ]
  },
  {
   "cell_type": "code",
   "execution_count": 2,
   "metadata": {},
   "outputs": [],
   "source": [
    "train_df_path =\"/scratch/gobi2/projects/ml4h/datasets/new_split/8-1-1/new_train.csv\"\n",
    "test_df_path =\"/scratch/gobi2/projects/ml4h/datasets/new_split/8-1-1/new_test.csv\"\n",
    "val_df_path = \"/scratch/gobi2/projects/ml4h/datasets/new_split/8-1-1/new_valid.csv\"\n",
    "val_df = pd.read_csv(val_df_path)\n",
    "train_df = pd.read_csv(train_df_path)\n",
    "test_df = pd.read_csv(test_df_path)"
   ]
  },
  {
   "cell_type": "code",
   "execution_count": 3,
   "metadata": {},
   "outputs": [],
   "source": [
    "WholeData = test_df.append([val_df, train_df])\n"
   ]
  },
  {
   "cell_type": "code",
   "execution_count": 4,
   "metadata": {
    "scrolled": false
   },
   "outputs": [
    {
     "data": {
      "text/html": [
       "<div>\n",
       "<style scoped>\n",
       "    .dataframe tbody tr th:only-of-type {\n",
       "        vertical-align: middle;\n",
       "    }\n",
       "\n",
       "    .dataframe tbody tr th {\n",
       "        vertical-align: top;\n",
       "    }\n",
       "\n",
       "    .dataframe thead th {\n",
       "        text-align: right;\n",
       "    }\n",
       "</style>\n",
       "<table border=\"1\" class=\"dataframe\">\n",
       "  <thead>\n",
       "    <tr style=\"text-align: right;\">\n",
       "      <th></th>\n",
       "      <th>subject_id</th>\n",
       "      <th>gender</th>\n",
       "      <th>path</th>\n",
       "      <th>view</th>\n",
       "      <th>No Finding</th>\n",
       "      <th>Enlarged Cardiomediastinum</th>\n",
       "      <th>Cardiomegaly</th>\n",
       "      <th>Airspace Opacity</th>\n",
       "      <th>Lung Lesion</th>\n",
       "      <th>Edema</th>\n",
       "      <th>Consolidation</th>\n",
       "      <th>Pneumonia</th>\n",
       "      <th>Atelectasis</th>\n",
       "      <th>Pneumothorax</th>\n",
       "      <th>Pleural Effusion</th>\n",
       "      <th>Pleural Other</th>\n",
       "      <th>Fracture</th>\n",
       "      <th>Support Devices</th>\n",
       "    </tr>\n",
       "  </thead>\n",
       "  <tbody>\n",
       "    <tr>\n",
       "      <th>0</th>\n",
       "      <td>10002559</td>\n",
       "      <td>M</td>\n",
       "      <td>train/p10002559/s01/view1_frontal.jpg</td>\n",
       "      <td>frontal</td>\n",
       "      <td>NaN</td>\n",
       "      <td>NaN</td>\n",
       "      <td>0.0</td>\n",
       "      <td>NaN</td>\n",
       "      <td>NaN</td>\n",
       "      <td>-1.0</td>\n",
       "      <td>NaN</td>\n",
       "      <td>-1.0</td>\n",
       "      <td>NaN</td>\n",
       "      <td>0.0</td>\n",
       "      <td>0.0</td>\n",
       "      <td>NaN</td>\n",
       "      <td>NaN</td>\n",
       "      <td>NaN</td>\n",
       "    </tr>\n",
       "    <tr>\n",
       "      <th>1</th>\n",
       "      <td>10002559</td>\n",
       "      <td>M</td>\n",
       "      <td>train/p10002559/s01/view2_lateral.jpg</td>\n",
       "      <td>lateral</td>\n",
       "      <td>NaN</td>\n",
       "      <td>NaN</td>\n",
       "      <td>0.0</td>\n",
       "      <td>NaN</td>\n",
       "      <td>NaN</td>\n",
       "      <td>-1.0</td>\n",
       "      <td>NaN</td>\n",
       "      <td>-1.0</td>\n",
       "      <td>NaN</td>\n",
       "      <td>0.0</td>\n",
       "      <td>0.0</td>\n",
       "      <td>NaN</td>\n",
       "      <td>NaN</td>\n",
       "      <td>NaN</td>\n",
       "    </tr>\n",
       "    <tr>\n",
       "      <th>2</th>\n",
       "      <td>10002559</td>\n",
       "      <td>M</td>\n",
       "      <td>train/p10002559/s01/view3_lateral.jpg</td>\n",
       "      <td>lateral</td>\n",
       "      <td>NaN</td>\n",
       "      <td>NaN</td>\n",
       "      <td>0.0</td>\n",
       "      <td>NaN</td>\n",
       "      <td>NaN</td>\n",
       "      <td>-1.0</td>\n",
       "      <td>NaN</td>\n",
       "      <td>-1.0</td>\n",
       "      <td>NaN</td>\n",
       "      <td>0.0</td>\n",
       "      <td>0.0</td>\n",
       "      <td>NaN</td>\n",
       "      <td>NaN</td>\n",
       "      <td>NaN</td>\n",
       "    </tr>\n",
       "    <tr>\n",
       "      <th>3</th>\n",
       "      <td>10002559</td>\n",
       "      <td>M</td>\n",
       "      <td>train/p10002559/s02/view1_frontal.jpg</td>\n",
       "      <td>frontal</td>\n",
       "      <td>1.0</td>\n",
       "      <td>NaN</td>\n",
       "      <td>NaN</td>\n",
       "      <td>NaN</td>\n",
       "      <td>NaN</td>\n",
       "      <td>0.0</td>\n",
       "      <td>NaN</td>\n",
       "      <td>0.0</td>\n",
       "      <td>NaN</td>\n",
       "      <td>NaN</td>\n",
       "      <td>0.0</td>\n",
       "      <td>NaN</td>\n",
       "      <td>NaN</td>\n",
       "      <td>NaN</td>\n",
       "    </tr>\n",
       "    <tr>\n",
       "      <th>4</th>\n",
       "      <td>10002559</td>\n",
       "      <td>M</td>\n",
       "      <td>train/p10002559/s02/view2_lateral.jpg</td>\n",
       "      <td>lateral</td>\n",
       "      <td>1.0</td>\n",
       "      <td>NaN</td>\n",
       "      <td>NaN</td>\n",
       "      <td>NaN</td>\n",
       "      <td>NaN</td>\n",
       "      <td>0.0</td>\n",
       "      <td>NaN</td>\n",
       "      <td>0.0</td>\n",
       "      <td>NaN</td>\n",
       "      <td>NaN</td>\n",
       "      <td>0.0</td>\n",
       "      <td>NaN</td>\n",
       "      <td>NaN</td>\n",
       "      <td>NaN</td>\n",
       "    </tr>\n",
       "  </tbody>\n",
       "</table>\n",
       "</div>"
      ],
      "text/plain": [
       "   subject_id gender                                   path     view  \\\n",
       "0    10002559      M  train/p10002559/s01/view1_frontal.jpg  frontal   \n",
       "1    10002559      M  train/p10002559/s01/view2_lateral.jpg  lateral   \n",
       "2    10002559      M  train/p10002559/s01/view3_lateral.jpg  lateral   \n",
       "3    10002559      M  train/p10002559/s02/view1_frontal.jpg  frontal   \n",
       "4    10002559      M  train/p10002559/s02/view2_lateral.jpg  lateral   \n",
       "\n",
       "   No Finding  Enlarged Cardiomediastinum  Cardiomegaly  Airspace Opacity  \\\n",
       "0         NaN                         NaN           0.0               NaN   \n",
       "1         NaN                         NaN           0.0               NaN   \n",
       "2         NaN                         NaN           0.0               NaN   \n",
       "3         1.0                         NaN           NaN               NaN   \n",
       "4         1.0                         NaN           NaN               NaN   \n",
       "\n",
       "   Lung Lesion  Edema  Consolidation  Pneumonia  Atelectasis  Pneumothorax  \\\n",
       "0          NaN   -1.0            NaN       -1.0          NaN           0.0   \n",
       "1          NaN   -1.0            NaN       -1.0          NaN           0.0   \n",
       "2          NaN   -1.0            NaN       -1.0          NaN           0.0   \n",
       "3          NaN    0.0            NaN        0.0          NaN           NaN   \n",
       "4          NaN    0.0            NaN        0.0          NaN           NaN   \n",
       "\n",
       "   Pleural Effusion  Pleural Other  Fracture  Support Devices  \n",
       "0               0.0            NaN       NaN              NaN  \n",
       "1               0.0            NaN       NaN              NaN  \n",
       "2               0.0            NaN       NaN              NaN  \n",
       "3               0.0            NaN       NaN              NaN  \n",
       "4               0.0            NaN       NaN              NaN  "
      ]
     },
     "execution_count": 4,
     "metadata": {},
     "output_type": "execute_result"
    }
   ],
   "source": [
    "WholeData.head(5)"
   ]
  },
  {
   "cell_type": "code",
   "execution_count": 5,
   "metadata": {},
   "outputs": [
    {
     "name": "stdout",
     "output_type": "stream",
     "text": [
      "Number of images: 371858\n",
      "Number of unique patients: 65079\n"
     ]
    }
   ],
   "source": [
    "print(\"Number of images:\",len(WholeData) )\n",
    "Whole =WholeData.groupby(\"subject_id\")\n",
    "print(\"Number of unique patients:\",len(Whole.count()) )\n"
   ]
  },
  {
   "cell_type": "code",
   "execution_count": 6,
   "metadata": {},
   "outputs": [
    {
     "data": {
      "text/html": [
       "<div>\n",
       "<style scoped>\n",
       "    .dataframe tbody tr th:only-of-type {\n",
       "        vertical-align: middle;\n",
       "    }\n",
       "\n",
       "    .dataframe tbody tr th {\n",
       "        vertical-align: top;\n",
       "    }\n",
       "\n",
       "    .dataframe thead tr th {\n",
       "        text-align: left;\n",
       "    }\n",
       "\n",
       "    .dataframe thead tr:last-of-type th {\n",
       "        text-align: right;\n",
       "    }\n",
       "</style>\n",
       "<table border=\"1\" class=\"dataframe\">\n",
       "  <thead>\n",
       "    <tr>\n",
       "      <th></th>\n",
       "      <th colspan=\"8\" halign=\"left\">subject_id</th>\n",
       "      <th colspan=\"2\" halign=\"left\">No Finding</th>\n",
       "      <th>...</th>\n",
       "      <th colspan=\"2\" halign=\"left\">Fracture</th>\n",
       "      <th colspan=\"8\" halign=\"left\">Support Devices</th>\n",
       "    </tr>\n",
       "    <tr>\n",
       "      <th></th>\n",
       "      <th>count</th>\n",
       "      <th>mean</th>\n",
       "      <th>std</th>\n",
       "      <th>min</th>\n",
       "      <th>25%</th>\n",
       "      <th>50%</th>\n",
       "      <th>75%</th>\n",
       "      <th>max</th>\n",
       "      <th>count</th>\n",
       "      <th>mean</th>\n",
       "      <th>...</th>\n",
       "      <th>75%</th>\n",
       "      <th>max</th>\n",
       "      <th>count</th>\n",
       "      <th>mean</th>\n",
       "      <th>std</th>\n",
       "      <th>min</th>\n",
       "      <th>25%</th>\n",
       "      <th>50%</th>\n",
       "      <th>75%</th>\n",
       "      <th>max</th>\n",
       "    </tr>\n",
       "    <tr>\n",
       "      <th>gender</th>\n",
       "      <th></th>\n",
       "      <th></th>\n",
       "      <th></th>\n",
       "      <th></th>\n",
       "      <th></th>\n",
       "      <th></th>\n",
       "      <th></th>\n",
       "      <th></th>\n",
       "      <th></th>\n",
       "      <th></th>\n",
       "      <th></th>\n",
       "      <th></th>\n",
       "      <th></th>\n",
       "      <th></th>\n",
       "      <th></th>\n",
       "      <th></th>\n",
       "      <th></th>\n",
       "      <th></th>\n",
       "      <th></th>\n",
       "      <th></th>\n",
       "      <th></th>\n",
       "    </tr>\n",
       "  </thead>\n",
       "  <tbody>\n",
       "    <tr>\n",
       "      <th>F</th>\n",
       "      <td>177853.0</td>\n",
       "      <td>1.499090e+07</td>\n",
       "      <td>2.883554e+06</td>\n",
       "      <td>10000032.0</td>\n",
       "      <td>12489621.0</td>\n",
       "      <td>14985054.0</td>\n",
       "      <td>17503573.0</td>\n",
       "      <td>19999987.0</td>\n",
       "      <td>72846.0</td>\n",
       "      <td>1.0</td>\n",
       "      <td>...</td>\n",
       "      <td>1.0</td>\n",
       "      <td>1.0</td>\n",
       "      <td>36680.0</td>\n",
       "      <td>0.932361</td>\n",
       "      <td>0.267733</td>\n",
       "      <td>-1.0</td>\n",
       "      <td>1.0</td>\n",
       "      <td>1.0</td>\n",
       "      <td>1.0</td>\n",
       "      <td>1.0</td>\n",
       "    </tr>\n",
       "    <tr>\n",
       "      <th>M</th>\n",
       "      <td>194005.0</td>\n",
       "      <td>1.501641e+07</td>\n",
       "      <td>2.879538e+06</td>\n",
       "      <td>10000764.0</td>\n",
       "      <td>12493783.0</td>\n",
       "      <td>15053729.0</td>\n",
       "      <td>17487765.0</td>\n",
       "      <td>19999442.0</td>\n",
       "      <td>68734.0</td>\n",
       "      <td>1.0</td>\n",
       "      <td>...</td>\n",
       "      <td>1.0</td>\n",
       "      <td>1.0</td>\n",
       "      <td>52231.0</td>\n",
       "      <td>0.938044</td>\n",
       "      <td>0.257066</td>\n",
       "      <td>-1.0</td>\n",
       "      <td>1.0</td>\n",
       "      <td>1.0</td>\n",
       "      <td>1.0</td>\n",
       "      <td>1.0</td>\n",
       "    </tr>\n",
       "  </tbody>\n",
       "</table>\n",
       "<p>2 rows × 120 columns</p>\n",
       "</div>"
      ],
      "text/plain": [
       "       subject_id                                                      \\\n",
       "            count          mean           std         min         25%   \n",
       "gender                                                                  \n",
       "F        177853.0  1.499090e+07  2.883554e+06  10000032.0  12489621.0   \n",
       "M        194005.0  1.501641e+07  2.879538e+06  10000764.0  12493783.0   \n",
       "\n",
       "                                           No Finding       ... Fracture       \\\n",
       "               50%         75%         max      count mean  ...      75%  max   \n",
       "gender                                                      ...                 \n",
       "F       14985054.0  17503573.0  19999987.0    72846.0  1.0  ...      1.0  1.0   \n",
       "M       15053729.0  17487765.0  19999442.0    68734.0  1.0  ...      1.0  1.0   \n",
       "\n",
       "       Support Devices                                               \n",
       "                 count      mean       std  min  25%  50%  75%  max  \n",
       "gender                                                               \n",
       "F              36680.0  0.932361  0.267733 -1.0  1.0  1.0  1.0  1.0  \n",
       "M              52231.0  0.938044  0.257066 -1.0  1.0  1.0  1.0  1.0  \n",
       "\n",
       "[2 rows x 120 columns]"
      ]
     },
     "execution_count": 6,
     "metadata": {},
     "output_type": "execute_result"
    }
   ],
   "source": [
    "WholeDataX =WholeData.groupby(\"gender\")\n",
    "WholeDataX_df = WholeDataX.describe()\n",
    "WholeDataX_df"
   ]
  },
  {
   "cell_type": "code",
   "execution_count": 7,
   "metadata": {},
   "outputs": [
    {
     "name": "stdout",
     "output_type": "stream",
     "text": [
      "Male Percent:   52.17179676112925\n",
      "female Percent:   47.82820323887075\n",
      "#images 371858.0\n"
     ]
    }
   ],
   "source": [
    "dfWhole_Sex = WholeDataX_df[\"subject_id\"]['count']\n",
    "total_CXP= dfWhole_Sex[\"F\"]+dfWhole_Sex[\"M\"]\n",
    "Male_percent = 100*dfWhole_Sex[\"M\"]/total_CXP\n",
    "print(\"Male Percent:  \",Male_percent)\n",
    "\n",
    "print(\"female Percent:  \",100*dfWhole_Sex[\"F\"]/total_CXP)\n",
    "print(\"#images\",total_CXP) "
   ]
  },
  {
   "cell_type": "code",
   "execution_count": 8,
   "metadata": {},
   "outputs": [
    {
     "data": {
      "text/plain": [
       "M    194005\n",
       "F    177853\n",
       "Name: gender, dtype: int64"
      ]
     },
     "execution_count": 8,
     "metadata": {},
     "output_type": "execute_result"
    }
   ],
   "source": [
    "WholeData['gender'].value_counts()"
   ]
  },
  {
   "cell_type": "code",
   "execution_count": 9,
   "metadata": {},
   "outputs": [],
   "source": [
    "train_df_path =\"/scratch/gobi2/projects/ml4h/datasets/new_split/8-1-1/new_train.csv\"\n",
    "test_df_path =\"/scratch/gobi2/projects/ml4h/datasets/new_split/8-1-1/new_test.csv\"\n",
    "val_df_path = \"/scratch/gobi2/projects/ml4h/datasets/new_split/8-1-1/new_valid.csv\"\n",
    "val_df = pd.read_csv(val_df_path)\n",
    "train_df = pd.read_csv(train_df_path)\n",
    "test_df = pd.read_csv(test_df_path)\n"
   ]
  },
  {
   "cell_type": "code",
   "execution_count": 10,
   "metadata": {},
   "outputs": [],
   "source": [
    "def preprocess_MIMIC(split):\n",
    "    \n",
    "    details = pd.read_csv(\"/scratch/gobi2/projects/ml4h/datasets/new_split/mimic-cxr-metadata-detail.csv\")\n",
    "    details = details.drop(columns=['dicom_id', 'study_id', 'religion', 'marital_status', 'gender'])\n",
    "    details.drop_duplicates(subset=\"subject_id\", keep=\"first\", inplace=True)\n",
    "    df = pd.merge(split, details)\n",
    "    \n",
    "    copy_sunbjectid = df['subject_id'] \n",
    "    df.drop(columns = ['subject_id'])\n",
    "    \n",
    "    df = df.replace(\n",
    "            [[None], -1, \"[False]\", \"[True]\", \"[ True]\", 'UNABLE TO OBTAIN', 'UNKNOWN', 'MARRIED', 'LIFE PARTNER',\n",
    "             'DIVORCED', 'SEPARATED', '0-10', '10-20', '20-30', '30-40', '40-50', '50-60', '60-70', '70-80', '80-90',\n",
    "             '>=90'],\n",
    "            [0, 0, 0, 1, 1, 0, 0, 'MARRIED/LIFE PARTNER', 'MARRIED/LIFE PARTNER', 'DIVORCED/SEPARATED',\n",
    "             'DIVORCED/SEPARATED', '0-20', '0-20', '20-40', '20-40', '40-60', '40-60', '60-80', '60-80', '80-', '80-'])\n",
    "    \n",
    "    df['subject_id'] = copy_sunbjectid\n",
    "    df['Age'] = df[\"age_decile\"]\n",
    "    df['Sex'] = df[\"gender\"]\n",
    "    df = df.drop(columns=[\"age_decile\", 'gender'])\n",
    "\n",
    "    \n",
    "    return df"
   ]
  },
  {
   "cell_type": "code",
   "execution_count": 11,
   "metadata": {},
   "outputs": [],
   "source": [
    "test_df = preprocess_MIMIC(test_df)\n",
    "train_df = preprocess_MIMIC(train_df)\n",
    "val_df = preprocess_MIMIC(val_df)\n",
    "WholeData = test_df.append([val_df, train_df])"
   ]
  },
  {
   "cell_type": "code",
   "execution_count": 12,
   "metadata": {},
   "outputs": [
    {
     "data": {
      "text/html": [
       "<div>\n",
       "<style scoped>\n",
       "    .dataframe tbody tr th:only-of-type {\n",
       "        vertical-align: middle;\n",
       "    }\n",
       "\n",
       "    .dataframe tbody tr th {\n",
       "        vertical-align: top;\n",
       "    }\n",
       "\n",
       "    .dataframe thead tr th {\n",
       "        text-align: left;\n",
       "    }\n",
       "\n",
       "    .dataframe thead tr:last-of-type th {\n",
       "        text-align: right;\n",
       "    }\n",
       "</style>\n",
       "<table border=\"1\" class=\"dataframe\">\n",
       "  <thead>\n",
       "    <tr>\n",
       "      <th></th>\n",
       "      <th colspan=\"8\" halign=\"left\">subject_id</th>\n",
       "      <th colspan=\"2\" halign=\"left\">No Finding</th>\n",
       "      <th>...</th>\n",
       "      <th colspan=\"2\" halign=\"left\">Fracture</th>\n",
       "      <th colspan=\"8\" halign=\"left\">Support Devices</th>\n",
       "    </tr>\n",
       "    <tr>\n",
       "      <th></th>\n",
       "      <th>count</th>\n",
       "      <th>mean</th>\n",
       "      <th>std</th>\n",
       "      <th>min</th>\n",
       "      <th>25%</th>\n",
       "      <th>50%</th>\n",
       "      <th>75%</th>\n",
       "      <th>max</th>\n",
       "      <th>count</th>\n",
       "      <th>mean</th>\n",
       "      <th>...</th>\n",
       "      <th>75%</th>\n",
       "      <th>max</th>\n",
       "      <th>count</th>\n",
       "      <th>mean</th>\n",
       "      <th>std</th>\n",
       "      <th>min</th>\n",
       "      <th>25%</th>\n",
       "      <th>50%</th>\n",
       "      <th>75%</th>\n",
       "      <th>max</th>\n",
       "    </tr>\n",
       "    <tr>\n",
       "      <th>Sex</th>\n",
       "      <th></th>\n",
       "      <th></th>\n",
       "      <th></th>\n",
       "      <th></th>\n",
       "      <th></th>\n",
       "      <th></th>\n",
       "      <th></th>\n",
       "      <th></th>\n",
       "      <th></th>\n",
       "      <th></th>\n",
       "      <th></th>\n",
       "      <th></th>\n",
       "      <th></th>\n",
       "      <th></th>\n",
       "      <th></th>\n",
       "      <th></th>\n",
       "      <th></th>\n",
       "      <th></th>\n",
       "      <th></th>\n",
       "      <th></th>\n",
       "      <th></th>\n",
       "    </tr>\n",
       "  </thead>\n",
       "  <tbody>\n",
       "    <tr>\n",
       "      <th>F</th>\n",
       "      <td>177853.0</td>\n",
       "      <td>1.499090e+07</td>\n",
       "      <td>2.883554e+06</td>\n",
       "      <td>10000032.0</td>\n",
       "      <td>12489621.0</td>\n",
       "      <td>14985054.0</td>\n",
       "      <td>17503573.0</td>\n",
       "      <td>19999987.0</td>\n",
       "      <td>177853.0</td>\n",
       "      <td>0.409585</td>\n",
       "      <td>...</td>\n",
       "      <td>0.0</td>\n",
       "      <td>1.0</td>\n",
       "      <td>177853.0</td>\n",
       "      <td>0.193176</td>\n",
       "      <td>0.394791</td>\n",
       "      <td>0.0</td>\n",
       "      <td>0.0</td>\n",
       "      <td>0.0</td>\n",
       "      <td>0.0</td>\n",
       "      <td>1.0</td>\n",
       "    </tr>\n",
       "    <tr>\n",
       "      <th>M</th>\n",
       "      <td>194005.0</td>\n",
       "      <td>1.501641e+07</td>\n",
       "      <td>2.879538e+06</td>\n",
       "      <td>10000764.0</td>\n",
       "      <td>12493783.0</td>\n",
       "      <td>15053729.0</td>\n",
       "      <td>17487765.0</td>\n",
       "      <td>19999442.0</td>\n",
       "      <td>194005.0</td>\n",
       "      <td>0.354290</td>\n",
       "      <td>...</td>\n",
       "      <td>0.0</td>\n",
       "      <td>1.0</td>\n",
       "      <td>194005.0</td>\n",
       "      <td>0.253617</td>\n",
       "      <td>0.435082</td>\n",
       "      <td>0.0</td>\n",
       "      <td>0.0</td>\n",
       "      <td>0.0</td>\n",
       "      <td>1.0</td>\n",
       "      <td>1.0</td>\n",
       "    </tr>\n",
       "  </tbody>\n",
       "</table>\n",
       "<p>2 rows × 120 columns</p>\n",
       "</div>"
      ],
      "text/plain": [
       "    subject_id                                                      \\\n",
       "         count          mean           std         min         25%   \n",
       "Sex                                                                  \n",
       "F     177853.0  1.499090e+07  2.883554e+06  10000032.0  12489621.0   \n",
       "M     194005.0  1.501641e+07  2.879538e+06  10000764.0  12493783.0   \n",
       "\n",
       "                                        No Finding            ... Fracture  \\\n",
       "            50%         75%         max      count      mean  ...      75%   \n",
       "Sex                                                           ...            \n",
       "F    14985054.0  17503573.0  19999987.0   177853.0  0.409585  ...      0.0   \n",
       "M    15053729.0  17487765.0  19999442.0   194005.0  0.354290  ...      0.0   \n",
       "\n",
       "         Support Devices                                               \n",
       "     max           count      mean       std  min  25%  50%  75%  max  \n",
       "Sex                                                                    \n",
       "F    1.0        177853.0  0.193176  0.394791  0.0  0.0  0.0  0.0  1.0  \n",
       "M    1.0        194005.0  0.253617  0.435082  0.0  0.0  0.0  1.0  1.0  \n",
       "\n",
       "[2 rows x 120 columns]"
      ]
     },
     "execution_count": 12,
     "metadata": {},
     "output_type": "execute_result"
    }
   ],
   "source": [
    "WholeDataX =WholeData.groupby(\"Sex\")\n",
    "WholeDataX_df = WholeDataX.describe()\n",
    "WholeDataX_df"
   ]
  },
  {
   "cell_type": "code",
   "execution_count": 13,
   "metadata": {},
   "outputs": [
    {
     "name": "stdout",
     "output_type": "stream",
     "text": [
      "Male Percent:   52.17179676112925\n",
      "female Percent:   47.82820323887075\n",
      "#images 371858.0\n"
     ]
    }
   ],
   "source": [
    "dfWhole_Sex = WholeDataX_df[\"subject_id\"]['count']\n",
    "total_CXP= dfWhole_Sex[\"F\"]+dfWhole_Sex[\"M\"]\n",
    "Male_percent = 100*dfWhole_Sex[\"M\"]/total_CXP\n",
    "print(\"Male Percent:  \",Male_percent)\n",
    "\n",
    "print(\"female Percent:  \",100*dfWhole_Sex[\"F\"]/total_CXP)\n",
    "print(\"#images\",total_CXP) "
   ]
  },
  {
   "cell_type": "code",
   "execution_count": 28,
   "metadata": {},
   "outputs": [
    {
     "data": {
      "text/html": [
       "<div>\n",
       "<style scoped>\n",
       "    .dataframe tbody tr th:only-of-type {\n",
       "        vertical-align: middle;\n",
       "    }\n",
       "\n",
       "    .dataframe tbody tr th {\n",
       "        vertical-align: top;\n",
       "    }\n",
       "\n",
       "    .dataframe thead tr th {\n",
       "        text-align: left;\n",
       "    }\n",
       "\n",
       "    .dataframe thead tr:last-of-type th {\n",
       "        text-align: right;\n",
       "    }\n",
       "</style>\n",
       "<table border=\"1\" class=\"dataframe\">\n",
       "  <thead>\n",
       "    <tr>\n",
       "      <th></th>\n",
       "      <th colspan=\"8\" halign=\"left\">subject_id</th>\n",
       "      <th colspan=\"2\" halign=\"left\">No Finding</th>\n",
       "      <th>...</th>\n",
       "      <th colspan=\"2\" halign=\"left\">Fracture</th>\n",
       "      <th colspan=\"8\" halign=\"left\">Support Devices</th>\n",
       "    </tr>\n",
       "    <tr>\n",
       "      <th></th>\n",
       "      <th>count</th>\n",
       "      <th>mean</th>\n",
       "      <th>std</th>\n",
       "      <th>min</th>\n",
       "      <th>25%</th>\n",
       "      <th>50%</th>\n",
       "      <th>75%</th>\n",
       "      <th>max</th>\n",
       "      <th>count</th>\n",
       "      <th>mean</th>\n",
       "      <th>...</th>\n",
       "      <th>75%</th>\n",
       "      <th>max</th>\n",
       "      <th>count</th>\n",
       "      <th>mean</th>\n",
       "      <th>std</th>\n",
       "      <th>min</th>\n",
       "      <th>25%</th>\n",
       "      <th>50%</th>\n",
       "      <th>75%</th>\n",
       "      <th>max</th>\n",
       "    </tr>\n",
       "    <tr>\n",
       "      <th>Age</th>\n",
       "      <th></th>\n",
       "      <th></th>\n",
       "      <th></th>\n",
       "      <th></th>\n",
       "      <th></th>\n",
       "      <th></th>\n",
       "      <th></th>\n",
       "      <th></th>\n",
       "      <th></th>\n",
       "      <th></th>\n",
       "      <th></th>\n",
       "      <th></th>\n",
       "      <th></th>\n",
       "      <th></th>\n",
       "      <th></th>\n",
       "      <th></th>\n",
       "      <th></th>\n",
       "      <th></th>\n",
       "      <th></th>\n",
       "      <th></th>\n",
       "      <th></th>\n",
       "    </tr>\n",
       "  </thead>\n",
       "  <tbody>\n",
       "    <tr>\n",
       "      <th>0-20</th>\n",
       "      <td>8181.0</td>\n",
       "      <td>1.508950e+07</td>\n",
       "      <td>2.894724e+06</td>\n",
       "      <td>10002157.0</td>\n",
       "      <td>12641071.0</td>\n",
       "      <td>15172839.0</td>\n",
       "      <td>17632697.0</td>\n",
       "      <td>19999733.0</td>\n",
       "      <td>8181.0</td>\n",
       "      <td>0.705293</td>\n",
       "      <td>...</td>\n",
       "      <td>0.0</td>\n",
       "      <td>1.0</td>\n",
       "      <td>8181.0</td>\n",
       "      <td>0.089353</td>\n",
       "      <td>0.285271</td>\n",
       "      <td>0.0</td>\n",
       "      <td>0.0</td>\n",
       "      <td>0.0</td>\n",
       "      <td>0.0</td>\n",
       "      <td>1.0</td>\n",
       "    </tr>\n",
       "    <tr>\n",
       "      <th>20-40</th>\n",
       "      <td>72516.0</td>\n",
       "      <td>1.502293e+07</td>\n",
       "      <td>2.891342e+06</td>\n",
       "      <td>10001038.0</td>\n",
       "      <td>12532170.0</td>\n",
       "      <td>14993854.0</td>\n",
       "      <td>17518261.5</td>\n",
       "      <td>19999270.0</td>\n",
       "      <td>72516.0</td>\n",
       "      <td>0.580065</td>\n",
       "      <td>...</td>\n",
       "      <td>0.0</td>\n",
       "      <td>1.0</td>\n",
       "      <td>72516.0</td>\n",
       "      <td>0.157703</td>\n",
       "      <td>0.364465</td>\n",
       "      <td>0.0</td>\n",
       "      <td>0.0</td>\n",
       "      <td>0.0</td>\n",
       "      <td>0.0</td>\n",
       "      <td>1.0</td>\n",
       "    </tr>\n",
       "    <tr>\n",
       "      <th>40-60</th>\n",
       "      <td>138247.0</td>\n",
       "      <td>1.497541e+07</td>\n",
       "      <td>2.865755e+06</td>\n",
       "      <td>10000032.0</td>\n",
       "      <td>12473093.0</td>\n",
       "      <td>14976423.0</td>\n",
       "      <td>17421577.0</td>\n",
       "      <td>19999987.0</td>\n",
       "      <td>138247.0</td>\n",
       "      <td>0.403379</td>\n",
       "      <td>...</td>\n",
       "      <td>0.0</td>\n",
       "      <td>1.0</td>\n",
       "      <td>138247.0</td>\n",
       "      <td>0.218826</td>\n",
       "      <td>0.413452</td>\n",
       "      <td>0.0</td>\n",
       "      <td>0.0</td>\n",
       "      <td>0.0</td>\n",
       "      <td>0.0</td>\n",
       "      <td>1.0</td>\n",
       "    </tr>\n",
       "    <tr>\n",
       "      <th>60-80</th>\n",
       "      <td>126799.0</td>\n",
       "      <td>1.501545e+07</td>\n",
       "      <td>2.894507e+06</td>\n",
       "      <td>10000898.0</td>\n",
       "      <td>12457153.0</td>\n",
       "      <td>15056964.0</td>\n",
       "      <td>17536303.0</td>\n",
       "      <td>19999287.0</td>\n",
       "      <td>126799.0</td>\n",
       "      <td>0.261524</td>\n",
       "      <td>...</td>\n",
       "      <td>0.0</td>\n",
       "      <td>1.0</td>\n",
       "      <td>126799.0</td>\n",
       "      <td>0.267636</td>\n",
       "      <td>0.442729</td>\n",
       "      <td>0.0</td>\n",
       "      <td>0.0</td>\n",
       "      <td>0.0</td>\n",
       "      <td>1.0</td>\n",
       "      <td>1.0</td>\n",
       "    </tr>\n",
       "    <tr>\n",
       "      <th>80-</th>\n",
       "      <td>25877.0</td>\n",
       "      <td>1.501857e+07</td>\n",
       "      <td>2.869053e+06</td>\n",
       "      <td>10000764.0</td>\n",
       "      <td>12591968.0</td>\n",
       "      <td>15093387.0</td>\n",
       "      <td>17530381.0</td>\n",
       "      <td>19998497.0</td>\n",
       "      <td>25877.0</td>\n",
       "      <td>0.183329</td>\n",
       "      <td>...</td>\n",
       "      <td>0.0</td>\n",
       "      <td>1.0</td>\n",
       "      <td>25877.0</td>\n",
       "      <td>0.275843</td>\n",
       "      <td>0.446947</td>\n",
       "      <td>0.0</td>\n",
       "      <td>0.0</td>\n",
       "      <td>0.0</td>\n",
       "      <td>1.0</td>\n",
       "      <td>1.0</td>\n",
       "    </tr>\n",
       "  </tbody>\n",
       "</table>\n",
       "<p>5 rows × 120 columns</p>\n",
       "</div>"
      ],
      "text/plain": [
       "      subject_id                                                      \\\n",
       "           count          mean           std         min         25%   \n",
       "Age                                                                    \n",
       "0-20      8181.0  1.508950e+07  2.894724e+06  10002157.0  12641071.0   \n",
       "20-40    72516.0  1.502293e+07  2.891342e+06  10001038.0  12532170.0   \n",
       "40-60   138247.0  1.497541e+07  2.865755e+06  10000032.0  12473093.0   \n",
       "60-80   126799.0  1.501545e+07  2.894507e+06  10000898.0  12457153.0   \n",
       "80-      25877.0  1.501857e+07  2.869053e+06  10000764.0  12591968.0   \n",
       "\n",
       "                                          No Finding            ... Fracture  \\\n",
       "              50%         75%         max      count      mean  ...      75%   \n",
       "Age                                                             ...            \n",
       "0-20   15172839.0  17632697.0  19999733.0     8181.0  0.705293  ...      0.0   \n",
       "20-40  14993854.0  17518261.5  19999270.0    72516.0  0.580065  ...      0.0   \n",
       "40-60  14976423.0  17421577.0  19999987.0   138247.0  0.403379  ...      0.0   \n",
       "60-80  15056964.0  17536303.0  19999287.0   126799.0  0.261524  ...      0.0   \n",
       "80-    15093387.0  17530381.0  19998497.0    25877.0  0.183329  ...      0.0   \n",
       "\n",
       "           Support Devices                                               \n",
       "       max           count      mean       std  min  25%  50%  75%  max  \n",
       "Age                                                                      \n",
       "0-20   1.0          8181.0  0.089353  0.285271  0.0  0.0  0.0  0.0  1.0  \n",
       "20-40  1.0         72516.0  0.157703  0.364465  0.0  0.0  0.0  0.0  1.0  \n",
       "40-60  1.0        138247.0  0.218826  0.413452  0.0  0.0  0.0  0.0  1.0  \n",
       "60-80  1.0        126799.0  0.267636  0.442729  0.0  0.0  0.0  1.0  1.0  \n",
       "80-    1.0         25877.0  0.275843  0.446947  0.0  0.0  0.0  1.0  1.0  \n",
       "\n",
       "[5 rows x 120 columns]"
      ]
     },
     "execution_count": 28,
     "metadata": {},
     "output_type": "execute_result"
    }
   ],
   "source": [
    "WholeData_Age = WholeData[WholeData.Age != 0]\n",
    "WholeDataAge =WholeData_Age.groupby(\"Age\")\n",
    "WholeDataAge_df = WholeDataAge.describe()\n",
    "WholeDataAge_df"
   ]
  },
  {
   "cell_type": "code",
   "execution_count": 30,
   "metadata": {},
   "outputs": [
    {
     "name": "stdout",
     "output_type": "stream",
     "text": [
      "0-20 Percent:   2.2\n",
      "20-40 Percent:   19.51\n",
      "40-60 Percent:   37.2\n",
      "60-80 Percent:   34.12\n",
      "80- Percent:   6.96\n"
     ]
    },
    {
     "data": {
      "text/plain": [
       "99.99"
      ]
     },
     "execution_count": 30,
     "metadata": {},
     "output_type": "execute_result"
    }
   ],
   "source": [
    "dfWhole_Age1 = WholeDataAge_df[\"subject_id\"]['count']\n",
    "total_CXR = WholeDataAge_df[\"subject_id\"]['count'].sum()\n",
    "Age1 = round(100*(dfWhole_Age1[\"0-20\"])/total_CXR,2)\n",
    "Age2 = round(100*(dfWhole_Age1[\"20-40\"])/total_CXR,2)\n",
    "Age3 = round(100*(dfWhole_Age1[\"40-60\"])/total_CXR,2)\n",
    "Age4 = round(100*(dfWhole_Age1[\"60-80\"])/total_CXR,2)\n",
    "Age5 = round(100*(dfWhole_Age1[\"80-\"])/total_CXR,2)\n",
    "print(\"0-20 Percent:  \",Age1)\n",
    "print(\"20-40 Percent:  \",Age2)\n",
    "print(\"40-60 Percent:  \",Age3)\n",
    "print(\"60-80 Percent:  \",Age4)\n",
    "print(\"80- Percent:  \",Age5)\n",
    "2.2+ 19.51+37.20+34.12+6.96"
   ]
  },
  {
   "cell_type": "code",
   "execution_count": 27,
   "metadata": {},
   "outputs": [
    {
     "data": {
      "text/plain": [
       "99.99"
      ]
     },
     "execution_count": 27,
     "metadata": {},
     "output_type": "execute_result"
    }
   ],
   "source": [
    "2.2+ 19.51+37.20+34.12+6.96"
   ]
  },
  {
   "cell_type": "code",
   "execution_count": 16,
   "metadata": {},
   "outputs": [
    {
     "name": "stdout",
     "output_type": "stream",
     "text": [
      "Medicare Percent:   46.07218293015006\n",
      "Medicaid Percent:   8.977604745468328\n",
      "Other Percent:   44.95021232438161\n"
     ]
    },
    {
     "data": {
      "text/plain": [
       "100.0"
      ]
     },
     "execution_count": 16,
     "metadata": {},
     "output_type": "execute_result"
    }
   ],
   "source": [
    "WholeData_ins = WholeData[WholeData.insurance != 0]\n",
    "WholeDataI =WholeData_ins.groupby(\"insurance\")\n",
    "WholeDataI_df = WholeDataI.describe()\n",
    "total_CXR = WholeDataI_df[\"subject_id\"]['count'].sum()\n",
    "dfWhole_Ins = WholeDataI_df[\"subject_id\"]['count']\n",
    "Ins1 = 100*(dfWhole_Ins[\"Medicare\"])/total_CXR\n",
    "Ins2 = 100*(dfWhole_Ins[\"Medicaid\"])/total_CXR\n",
    "Ins3 = 100*(dfWhole_Ins[\"Other\"])/total_CXR\n",
    "\n",
    "print(\"Medicare Percent:  \",Ins1)\n",
    "print(\"Medicaid Percent:  \",Ins2)\n",
    "print(\"Other Percent:  \",Ins3)\n",
    "\n",
    "46.07 + 8.98 + 44.95"
   ]
  },
  {
   "cell_type": "code",
   "execution_count": 17,
   "metadata": {},
   "outputs": [
    {
     "data": {
      "text/html": [
       "<div>\n",
       "<style scoped>\n",
       "    .dataframe tbody tr th:only-of-type {\n",
       "        vertical-align: middle;\n",
       "    }\n",
       "\n",
       "    .dataframe tbody tr th {\n",
       "        vertical-align: top;\n",
       "    }\n",
       "\n",
       "    .dataframe thead th {\n",
       "        text-align: right;\n",
       "    }\n",
       "</style>\n",
       "<table border=\"1\" class=\"dataframe\">\n",
       "  <thead>\n",
       "    <tr style=\"text-align: right;\">\n",
       "      <th></th>\n",
       "      <th>subject_id</th>\n",
       "      <th>path</th>\n",
       "      <th>view</th>\n",
       "      <th>No Finding</th>\n",
       "      <th>Enlarged Cardiomediastinum</th>\n",
       "      <th>Cardiomegaly</th>\n",
       "      <th>Airspace Opacity</th>\n",
       "      <th>Lung Lesion</th>\n",
       "      <th>Edema</th>\n",
       "      <th>Consolidation</th>\n",
       "      <th>...</th>\n",
       "      <th>Atelectasis</th>\n",
       "      <th>Pneumothorax</th>\n",
       "      <th>Pleural Effusion</th>\n",
       "      <th>Pleural Other</th>\n",
       "      <th>Fracture</th>\n",
       "      <th>Support Devices</th>\n",
       "      <th>race</th>\n",
       "      <th>insurance</th>\n",
       "      <th>Age</th>\n",
       "      <th>Sex</th>\n",
       "    </tr>\n",
       "  </thead>\n",
       "  <tbody>\n",
       "    <tr>\n",
       "      <th>0</th>\n",
       "      <td>10002559</td>\n",
       "      <td>train/p10002559/s01/view1_frontal.jpg</td>\n",
       "      <td>frontal</td>\n",
       "      <td>0.0</td>\n",
       "      <td>0.0</td>\n",
       "      <td>0.0</td>\n",
       "      <td>0.0</td>\n",
       "      <td>0.0</td>\n",
       "      <td>0.0</td>\n",
       "      <td>0.0</td>\n",
       "      <td>...</td>\n",
       "      <td>0.0</td>\n",
       "      <td>0.0</td>\n",
       "      <td>0.0</td>\n",
       "      <td>0.0</td>\n",
       "      <td>0.0</td>\n",
       "      <td>0.0</td>\n",
       "      <td>0</td>\n",
       "      <td>0</td>\n",
       "      <td>20-40</td>\n",
       "      <td>M</td>\n",
       "    </tr>\n",
       "    <tr>\n",
       "      <th>1</th>\n",
       "      <td>10002559</td>\n",
       "      <td>train/p10002559/s01/view2_lateral.jpg</td>\n",
       "      <td>lateral</td>\n",
       "      <td>0.0</td>\n",
       "      <td>0.0</td>\n",
       "      <td>0.0</td>\n",
       "      <td>0.0</td>\n",
       "      <td>0.0</td>\n",
       "      <td>0.0</td>\n",
       "      <td>0.0</td>\n",
       "      <td>...</td>\n",
       "      <td>0.0</td>\n",
       "      <td>0.0</td>\n",
       "      <td>0.0</td>\n",
       "      <td>0.0</td>\n",
       "      <td>0.0</td>\n",
       "      <td>0.0</td>\n",
       "      <td>0</td>\n",
       "      <td>0</td>\n",
       "      <td>20-40</td>\n",
       "      <td>M</td>\n",
       "    </tr>\n",
       "    <tr>\n",
       "      <th>2</th>\n",
       "      <td>10002559</td>\n",
       "      <td>train/p10002559/s01/view3_lateral.jpg</td>\n",
       "      <td>lateral</td>\n",
       "      <td>0.0</td>\n",
       "      <td>0.0</td>\n",
       "      <td>0.0</td>\n",
       "      <td>0.0</td>\n",
       "      <td>0.0</td>\n",
       "      <td>0.0</td>\n",
       "      <td>0.0</td>\n",
       "      <td>...</td>\n",
       "      <td>0.0</td>\n",
       "      <td>0.0</td>\n",
       "      <td>0.0</td>\n",
       "      <td>0.0</td>\n",
       "      <td>0.0</td>\n",
       "      <td>0.0</td>\n",
       "      <td>0</td>\n",
       "      <td>0</td>\n",
       "      <td>20-40</td>\n",
       "      <td>M</td>\n",
       "    </tr>\n",
       "    <tr>\n",
       "      <th>3</th>\n",
       "      <td>10002559</td>\n",
       "      <td>train/p10002559/s02/view1_frontal.jpg</td>\n",
       "      <td>frontal</td>\n",
       "      <td>1.0</td>\n",
       "      <td>0.0</td>\n",
       "      <td>0.0</td>\n",
       "      <td>0.0</td>\n",
       "      <td>0.0</td>\n",
       "      <td>0.0</td>\n",
       "      <td>0.0</td>\n",
       "      <td>...</td>\n",
       "      <td>0.0</td>\n",
       "      <td>0.0</td>\n",
       "      <td>0.0</td>\n",
       "      <td>0.0</td>\n",
       "      <td>0.0</td>\n",
       "      <td>0.0</td>\n",
       "      <td>0</td>\n",
       "      <td>0</td>\n",
       "      <td>20-40</td>\n",
       "      <td>M</td>\n",
       "    </tr>\n",
       "    <tr>\n",
       "      <th>4</th>\n",
       "      <td>10002559</td>\n",
       "      <td>train/p10002559/s02/view2_lateral.jpg</td>\n",
       "      <td>lateral</td>\n",
       "      <td>1.0</td>\n",
       "      <td>0.0</td>\n",
       "      <td>0.0</td>\n",
       "      <td>0.0</td>\n",
       "      <td>0.0</td>\n",
       "      <td>0.0</td>\n",
       "      <td>0.0</td>\n",
       "      <td>...</td>\n",
       "      <td>0.0</td>\n",
       "      <td>0.0</td>\n",
       "      <td>0.0</td>\n",
       "      <td>0.0</td>\n",
       "      <td>0.0</td>\n",
       "      <td>0.0</td>\n",
       "      <td>0</td>\n",
       "      <td>0</td>\n",
       "      <td>20-40</td>\n",
       "      <td>M</td>\n",
       "    </tr>\n",
       "  </tbody>\n",
       "</table>\n",
       "<p>5 rows × 21 columns</p>\n",
       "</div>"
      ],
      "text/plain": [
       "   subject_id                                   path     view  No Finding  \\\n",
       "0    10002559  train/p10002559/s01/view1_frontal.jpg  frontal         0.0   \n",
       "1    10002559  train/p10002559/s01/view2_lateral.jpg  lateral         0.0   \n",
       "2    10002559  train/p10002559/s01/view3_lateral.jpg  lateral         0.0   \n",
       "3    10002559  train/p10002559/s02/view1_frontal.jpg  frontal         1.0   \n",
       "4    10002559  train/p10002559/s02/view2_lateral.jpg  lateral         1.0   \n",
       "\n",
       "   Enlarged Cardiomediastinum  Cardiomegaly  Airspace Opacity  Lung Lesion  \\\n",
       "0                         0.0           0.0               0.0          0.0   \n",
       "1                         0.0           0.0               0.0          0.0   \n",
       "2                         0.0           0.0               0.0          0.0   \n",
       "3                         0.0           0.0               0.0          0.0   \n",
       "4                         0.0           0.0               0.0          0.0   \n",
       "\n",
       "   Edema  Consolidation  ...  Atelectasis  Pneumothorax  Pleural Effusion  \\\n",
       "0    0.0            0.0  ...          0.0           0.0               0.0   \n",
       "1    0.0            0.0  ...          0.0           0.0               0.0   \n",
       "2    0.0            0.0  ...          0.0           0.0               0.0   \n",
       "3    0.0            0.0  ...          0.0           0.0               0.0   \n",
       "4    0.0            0.0  ...          0.0           0.0               0.0   \n",
       "\n",
       "   Pleural Other  Fracture  Support Devices  race insurance    Age Sex  \n",
       "0            0.0       0.0              0.0     0         0  20-40   M  \n",
       "1            0.0       0.0              0.0     0         0  20-40   M  \n",
       "2            0.0       0.0              0.0     0         0  20-40   M  \n",
       "3            0.0       0.0              0.0     0         0  20-40   M  \n",
       "4            0.0       0.0              0.0     0         0  20-40   M  \n",
       "\n",
       "[5 rows x 21 columns]"
      ]
     },
     "execution_count": 17,
     "metadata": {},
     "output_type": "execute_result"
    }
   ],
   "source": [
    "WholeData.head()"
   ]
  },
  {
   "cell_type": "code",
   "execution_count": 18,
   "metadata": {},
   "outputs": [
    {
     "data": {
      "text/html": [
       "<div>\n",
       "<style scoped>\n",
       "    .dataframe tbody tr th:only-of-type {\n",
       "        vertical-align: middle;\n",
       "    }\n",
       "\n",
       "    .dataframe tbody tr th {\n",
       "        vertical-align: top;\n",
       "    }\n",
       "\n",
       "    .dataframe thead tr th {\n",
       "        text-align: left;\n",
       "    }\n",
       "\n",
       "    .dataframe thead tr:last-of-type th {\n",
       "        text-align: right;\n",
       "    }\n",
       "</style>\n",
       "<table border=\"1\" class=\"dataframe\">\n",
       "  <thead>\n",
       "    <tr>\n",
       "      <th></th>\n",
       "      <th colspan=\"8\" halign=\"left\">subject_id</th>\n",
       "      <th colspan=\"2\" halign=\"left\">No Finding</th>\n",
       "      <th>...</th>\n",
       "      <th colspan=\"2\" halign=\"left\">Fracture</th>\n",
       "      <th colspan=\"8\" halign=\"left\">Support Devices</th>\n",
       "    </tr>\n",
       "    <tr>\n",
       "      <th></th>\n",
       "      <th>count</th>\n",
       "      <th>mean</th>\n",
       "      <th>std</th>\n",
       "      <th>min</th>\n",
       "      <th>25%</th>\n",
       "      <th>50%</th>\n",
       "      <th>75%</th>\n",
       "      <th>max</th>\n",
       "      <th>count</th>\n",
       "      <th>mean</th>\n",
       "      <th>...</th>\n",
       "      <th>75%</th>\n",
       "      <th>max</th>\n",
       "      <th>count</th>\n",
       "      <th>mean</th>\n",
       "      <th>std</th>\n",
       "      <th>min</th>\n",
       "      <th>25%</th>\n",
       "      <th>50%</th>\n",
       "      <th>75%</th>\n",
       "      <th>max</th>\n",
       "    </tr>\n",
       "    <tr>\n",
       "      <th>race</th>\n",
       "      <th></th>\n",
       "      <th></th>\n",
       "      <th></th>\n",
       "      <th></th>\n",
       "      <th></th>\n",
       "      <th></th>\n",
       "      <th></th>\n",
       "      <th></th>\n",
       "      <th></th>\n",
       "      <th></th>\n",
       "      <th></th>\n",
       "      <th></th>\n",
       "      <th></th>\n",
       "      <th></th>\n",
       "      <th></th>\n",
       "      <th></th>\n",
       "      <th></th>\n",
       "      <th></th>\n",
       "      <th></th>\n",
       "      <th></th>\n",
       "      <th></th>\n",
       "    </tr>\n",
       "  </thead>\n",
       "  <tbody>\n",
       "    <tr>\n",
       "      <th>AMERICAN INDIAN/ALASKA NATIVE</th>\n",
       "      <td>761.0</td>\n",
       "      <td>1.501666e+07</td>\n",
       "      <td>2.823667e+06</td>\n",
       "      <td>10248673.0</td>\n",
       "      <td>12493668.0</td>\n",
       "      <td>14382048.0</td>\n",
       "      <td>18116591.0</td>\n",
       "      <td>19998198.0</td>\n",
       "      <td>761.0</td>\n",
       "      <td>0.314060</td>\n",
       "      <td>...</td>\n",
       "      <td>0.0</td>\n",
       "      <td>1.0</td>\n",
       "      <td>761.0</td>\n",
       "      <td>0.392904</td>\n",
       "      <td>0.488717</td>\n",
       "      <td>0.0</td>\n",
       "      <td>0.0</td>\n",
       "      <td>0.0</td>\n",
       "      <td>1.0</td>\n",
       "      <td>1.0</td>\n",
       "    </tr>\n",
       "    <tr>\n",
       "      <th>ASIAN</th>\n",
       "      <td>8479.0</td>\n",
       "      <td>1.508827e+07</td>\n",
       "      <td>2.851218e+06</td>\n",
       "      <td>10005329.0</td>\n",
       "      <td>12567919.0</td>\n",
       "      <td>15206209.0</td>\n",
       "      <td>17651038.0</td>\n",
       "      <td>19990563.0</td>\n",
       "      <td>8479.0</td>\n",
       "      <td>0.326454</td>\n",
       "      <td>...</td>\n",
       "      <td>0.0</td>\n",
       "      <td>1.0</td>\n",
       "      <td>8479.0</td>\n",
       "      <td>0.286472</td>\n",
       "      <td>0.452139</td>\n",
       "      <td>0.0</td>\n",
       "      <td>0.0</td>\n",
       "      <td>0.0</td>\n",
       "      <td>1.0</td>\n",
       "      <td>1.0</td>\n",
       "    </tr>\n",
       "    <tr>\n",
       "      <th>BLACK/AFRICAN AMERICAN</th>\n",
       "      <td>48595.0</td>\n",
       "      <td>1.497838e+07</td>\n",
       "      <td>2.896457e+06</td>\n",
       "      <td>10000935.0</td>\n",
       "      <td>12468956.0</td>\n",
       "      <td>14936098.0</td>\n",
       "      <td>17479533.0</td>\n",
       "      <td>19999287.0</td>\n",
       "      <td>48595.0</td>\n",
       "      <td>0.413787</td>\n",
       "      <td>...</td>\n",
       "      <td>0.0</td>\n",
       "      <td>1.0</td>\n",
       "      <td>48595.0</td>\n",
       "      <td>0.182426</td>\n",
       "      <td>0.386199</td>\n",
       "      <td>0.0</td>\n",
       "      <td>0.0</td>\n",
       "      <td>0.0</td>\n",
       "      <td>0.0</td>\n",
       "      <td>1.0</td>\n",
       "    </tr>\n",
       "    <tr>\n",
       "      <th>HISPANIC/LATINO</th>\n",
       "      <td>16760.0</td>\n",
       "      <td>1.498038e+07</td>\n",
       "      <td>2.887127e+06</td>\n",
       "      <td>10011607.0</td>\n",
       "      <td>12373624.0</td>\n",
       "      <td>15056964.0</td>\n",
       "      <td>17421215.0</td>\n",
       "      <td>19983948.0</td>\n",
       "      <td>16760.0</td>\n",
       "      <td>0.451014</td>\n",
       "      <td>...</td>\n",
       "      <td>0.0</td>\n",
       "      <td>1.0</td>\n",
       "      <td>16760.0</td>\n",
       "      <td>0.186277</td>\n",
       "      <td>0.389342</td>\n",
       "      <td>0.0</td>\n",
       "      <td>0.0</td>\n",
       "      <td>0.0</td>\n",
       "      <td>0.0</td>\n",
       "      <td>1.0</td>\n",
       "    </tr>\n",
       "    <tr>\n",
       "      <th>OTHER</th>\n",
       "      <td>10010.0</td>\n",
       "      <td>1.508103e+07</td>\n",
       "      <td>2.991056e+06</td>\n",
       "      <td>10003637.0</td>\n",
       "      <td>12408654.0</td>\n",
       "      <td>15014371.0</td>\n",
       "      <td>17792682.0</td>\n",
       "      <td>19979173.0</td>\n",
       "      <td>10010.0</td>\n",
       "      <td>0.329870</td>\n",
       "      <td>...</td>\n",
       "      <td>0.0</td>\n",
       "      <td>1.0</td>\n",
       "      <td>10010.0</td>\n",
       "      <td>0.307592</td>\n",
       "      <td>0.461520</td>\n",
       "      <td>0.0</td>\n",
       "      <td>0.0</td>\n",
       "      <td>0.0</td>\n",
       "      <td>1.0</td>\n",
       "      <td>1.0</td>\n",
       "    </tr>\n",
       "    <tr>\n",
       "      <th>WHITE</th>\n",
       "      <td>176837.0</td>\n",
       "      <td>1.501440e+07</td>\n",
       "      <td>2.877738e+06</td>\n",
       "      <td>10000032.0</td>\n",
       "      <td>12515419.0</td>\n",
       "      <td>15067471.0</td>\n",
       "      <td>17481338.0</td>\n",
       "      <td>19999733.0</td>\n",
       "      <td>176837.0</td>\n",
       "      <td>0.305954</td>\n",
       "      <td>...</td>\n",
       "      <td>0.0</td>\n",
       "      <td>1.0</td>\n",
       "      <td>176837.0</td>\n",
       "      <td>0.281219</td>\n",
       "      <td>0.449596</td>\n",
       "      <td>0.0</td>\n",
       "      <td>0.0</td>\n",
       "      <td>0.0</td>\n",
       "      <td>1.0</td>\n",
       "      <td>1.0</td>\n",
       "    </tr>\n",
       "  </tbody>\n",
       "</table>\n",
       "<p>6 rows × 120 columns</p>\n",
       "</div>"
      ],
      "text/plain": [
       "                              subject_id                              \\\n",
       "                                   count          mean           std   \n",
       "race                                                                   \n",
       "AMERICAN INDIAN/ALASKA NATIVE      761.0  1.501666e+07  2.823667e+06   \n",
       "ASIAN                             8479.0  1.508827e+07  2.851218e+06   \n",
       "BLACK/AFRICAN AMERICAN           48595.0  1.497838e+07  2.896457e+06   \n",
       "HISPANIC/LATINO                  16760.0  1.498038e+07  2.887127e+06   \n",
       "OTHER                            10010.0  1.508103e+07  2.991056e+06   \n",
       "WHITE                           176837.0  1.501440e+07  2.877738e+06   \n",
       "\n",
       "                                                                               \\\n",
       "                                      min         25%         50%         75%   \n",
       "race                                                                            \n",
       "AMERICAN INDIAN/ALASKA NATIVE  10248673.0  12493668.0  14382048.0  18116591.0   \n",
       "ASIAN                          10005329.0  12567919.0  15206209.0  17651038.0   \n",
       "BLACK/AFRICAN AMERICAN         10000935.0  12468956.0  14936098.0  17479533.0   \n",
       "HISPANIC/LATINO                10011607.0  12373624.0  15056964.0  17421215.0   \n",
       "OTHER                          10003637.0  12408654.0  15014371.0  17792682.0   \n",
       "WHITE                          10000032.0  12515419.0  15067471.0  17481338.0   \n",
       "\n",
       "                                          No Finding            ... Fracture  \\\n",
       "                                      max      count      mean  ...      75%   \n",
       "race                                                            ...            \n",
       "AMERICAN INDIAN/ALASKA NATIVE  19998198.0      761.0  0.314060  ...      0.0   \n",
       "ASIAN                          19990563.0     8479.0  0.326454  ...      0.0   \n",
       "BLACK/AFRICAN AMERICAN         19999287.0    48595.0  0.413787  ...      0.0   \n",
       "HISPANIC/LATINO                19983948.0    16760.0  0.451014  ...      0.0   \n",
       "OTHER                          19979173.0    10010.0  0.329870  ...      0.0   \n",
       "WHITE                          19999733.0   176837.0  0.305954  ...      0.0   \n",
       "\n",
       "                                   Support Devices                           \\\n",
       "                               max           count      mean       std  min   \n",
       "race                                                                          \n",
       "AMERICAN INDIAN/ALASKA NATIVE  1.0           761.0  0.392904  0.488717  0.0   \n",
       "ASIAN                          1.0          8479.0  0.286472  0.452139  0.0   \n",
       "BLACK/AFRICAN AMERICAN         1.0         48595.0  0.182426  0.386199  0.0   \n",
       "HISPANIC/LATINO                1.0         16760.0  0.186277  0.389342  0.0   \n",
       "OTHER                          1.0         10010.0  0.307592  0.461520  0.0   \n",
       "WHITE                          1.0        176837.0  0.281219  0.449596  0.0   \n",
       "\n",
       "                                                   \n",
       "                               25%  50%  75%  max  \n",
       "race                                               \n",
       "AMERICAN INDIAN/ALASKA NATIVE  0.0  0.0  1.0  1.0  \n",
       "ASIAN                          0.0  0.0  1.0  1.0  \n",
       "BLACK/AFRICAN AMERICAN         0.0  0.0  0.0  1.0  \n",
       "HISPANIC/LATINO                0.0  0.0  0.0  1.0  \n",
       "OTHER                          0.0  0.0  1.0  1.0  \n",
       "WHITE                          0.0  0.0  1.0  1.0  \n",
       "\n",
       "[6 rows x 120 columns]"
      ]
     },
     "execution_count": 18,
     "metadata": {},
     "output_type": "execute_result"
    }
   ],
   "source": [
    "WholeData_Rac = WholeData[WholeData.race != 0]\n",
    "WholeDataR =WholeData_Rac.groupby(\"race\")\n",
    "WholeDataR_df = WholeDataR.describe()\n",
    "WholeDataR_df"
   ]
  },
  {
   "cell_type": "code",
   "execution_count": 19,
   "metadata": {},
   "outputs": [
    {
     "name": "stdout",
     "output_type": "stream",
     "text": [
      "WHITE Percent:   67.64\n",
      "BLACK/AFRICAN AMERICAN Percent:   18.59\n",
      "OTHER Percent:   3.83\n",
      "ASIAN Percent:   3.24\n",
      "HISPANIC/LATINO Percent:   6.41\n",
      "AMERICAN INDIAN/ALASKA NATIVE Percent:   0.29\n",
      "Unkhonwn or unable to obtain Percent:   0.0\n"
     ]
    },
    {
     "data": {
      "text/plain": [
       "99.99999999999999"
      ]
     },
     "execution_count": 19,
     "metadata": {},
     "output_type": "execute_result"
    }
   ],
   "source": [
    "WholeData_Rac = WholeData[WholeData.race != 0]\n",
    "WholeDataR =WholeData_Rac.groupby(\"race\")\n",
    "WholeDataR_df = WholeDataR.describe()\n",
    "total_CXR = WholeDataR_df[\"subject_id\"]['count'].sum()\n",
    "dfWhole_Race = WholeDataR_df[\"subject_id\"]['count']\n",
    "Rac1 = 100*(dfWhole_Race[\"WHITE\"])/total_CXR\n",
    "Rac2 = 100*(dfWhole_Race[\"BLACK/AFRICAN AMERICAN\"])/total_CXR\n",
    "Rac3 = 100*(dfWhole_Race[\"OTHER\"])/total_CXR\n",
    "Rac4 = 100*(dfWhole_Race[\"ASIAN\"])/total_CXR\n",
    "Rac5 = 100*(dfWhole_Race[\"HISPANIC/LATINO\"])/total_CXR\n",
    "Rac6 = 100*(dfWhole_Race[\"AMERICAN INDIAN/ALASKA NATIVE\"])/total_CXR\n",
    "\n",
    "print(\"WHITE Percent:  \",round( Rac1,2))\n",
    "print(\"BLACK/AFRICAN AMERICAN Percent:  \",round(Rac2,2))\n",
    "print(\"OTHER Percent:  \",round(Rac3,2))\n",
    "print(\"ASIAN Percent:  \",round(Rac4,2))\n",
    "print(\"HISPANIC/LATINO Percent:  \",round(Rac5,2))\n",
    "print(\"AMERICAN INDIAN/ALASKA NATIVE Percent:  \",round(Rac6,2))\n",
    "print(\"Unkhonwn or unable to obtain Percent:  \",round(100- (Rac1 + Rac2 + Rac3 +Rac4 + Rac5 + Rac6),2))\n",
    "\n",
    "Rac1 + Rac2 + Rac3 +Rac4 + Rac5 + Rac6"
   ]
  },
  {
   "cell_type": "markdown",
   "metadata": {},
   "source": [
    "## Subgroup-specific underdiagnosis rate"
   ]
  },
  {
   "cell_type": "markdown",
   "metadata": {},
   "source": [
    "### Sex"
   ]
  },
  {
   "cell_type": "code",
   "execution_count": 151,
   "metadata": {},
   "outputs": [],
   "source": [
    "FP5_sex = pd.read_csv(\"./results77/FPR5_FNR_NF_sex.csv\")\n",
    "FP4_sex = pd.read_csv(\"./results19/FPR4_FNR_NF_sex.csv\")\n",
    "FP3_sex = pd.read_csv(\"./results38/FPR3_FNR_NF_sex.csv\")\n",
    "FP2_sex = pd.read_csv(\"./results47/FPR2_FNR_NF_sex.csv\")\n",
    "FP1_sex = pd.read_csv(\"./results31/FPR1_FNR_NF_sex.csv\")\n",
    "FP_sex = FP1_sex.append([FP2_sex, FP3_sex,FP4_sex, FP5_sex])\n",
    "F_sex_df = FP_sex.describe()"
   ]
  },
  {
   "cell_type": "code",
   "execution_count": 152,
   "metadata": {},
   "outputs": [
    {
     "name": "stdout",
     "output_type": "stream",
     "text": [
      "FPR and FNR distribiution in sexes\n",
      "Unnamed: 0        0.000\n",
      "#M            12094.000\n",
      "FPR_M             0.219\n",
      "FNR_M             0.198\n",
      "#F            10420.000\n",
      "FPR_F             0.250\n",
      "FNR_F             0.155\n",
      "Name: mean, dtype: float64\n"
     ]
    }
   ],
   "source": [
    "print(\"FPR and FNR distribiution in sexes\")\n",
    "print(round(F_sex_df.loc['mean'],3))"
   ]
  },
  {
   "cell_type": "code",
   "execution_count": 153,
   "metadata": {},
   "outputs": [
    {
     "name": "stdout",
     "output_type": "stream",
     "text": [
      "FPR and FNR distribiution in sexes Confidence interval\n"
     ]
    },
    {
     "data": {
      "text/plain": [
       "Unnamed: 0    0.000\n",
       "#M            0.000\n",
       "FPR_M         0.007\n",
       "FNR_M         0.007\n",
       "#F            0.000\n",
       "FPR_F         0.007\n",
       "FNR_F         0.005\n",
       "Name: std, dtype: float64"
      ]
     },
     "execution_count": 153,
     "metadata": {},
     "output_type": "execute_result"
    }
   ],
   "source": [
    "print(\"FPR and FNR distribiution in sexes Confidence interval\")\n",
    "round(1.96 * F_sex_df.loc['std'] / np.sqrt(5),3)"
   ]
  },
  {
   "cell_type": "code",
   "execution_count": 154,
   "metadata": {},
   "outputs": [
    {
     "name": "stdout",
     "output_type": "stream",
     "text": [
      "MIMIC: Mean FPR distribiution over sexes\n"
     ]
    },
    {
     "data": {
      "text/plain": [
       "0.2343"
      ]
     },
     "execution_count": 154,
     "metadata": {},
     "output_type": "execute_result"
    }
   ],
   "source": [
    "print(\"MIMIC: Mean FPR distribiution over sexes\")\n",
    "mean([F_sex_df.loc['mean'][\"FPR_F\"], F_sex_df.loc['mean'][\"FPR_M\"]])"
   ]
  },
  {
   "cell_type": "code",
   "execution_count": 174,
   "metadata": {},
   "outputs": [
    {
     "data": {
      "text/html": [
       "<div>\n",
       "<style scoped>\n",
       "    .dataframe tbody tr th:only-of-type {\n",
       "        vertical-align: middle;\n",
       "    }\n",
       "\n",
       "    .dataframe tbody tr th {\n",
       "        vertical-align: top;\n",
       "    }\n",
       "\n",
       "    .dataframe thead th {\n",
       "        text-align: right;\n",
       "    }\n",
       "</style>\n",
       "<table border=\"1\" class=\"dataframe\">\n",
       "  <thead>\n",
       "    <tr style=\"text-align: right;\">\n",
       "      <th></th>\n",
       "      <th>sex</th>\n",
       "      <th>#</th>\n",
       "      <th>FPR</th>\n",
       "      <th>CI_FPR</th>\n",
       "      <th>FNR</th>\n",
       "      <th>CI_FNR</th>\n",
       "    </tr>\n",
       "  </thead>\n",
       "  <tbody>\n",
       "    <tr>\n",
       "      <th>0</th>\n",
       "      <td>M</td>\n",
       "      <td>12094.0</td>\n",
       "      <td>0.219</td>\n",
       "      <td>0.007</td>\n",
       "      <td>0.198</td>\n",
       "      <td>0.007</td>\n",
       "    </tr>\n",
       "    <tr>\n",
       "      <th>1</th>\n",
       "      <td>F</td>\n",
       "      <td>10420.0</td>\n",
       "      <td>0.250</td>\n",
       "      <td>0.007</td>\n",
       "      <td>0.155</td>\n",
       "      <td>0.005</td>\n",
       "    </tr>\n",
       "  </tbody>\n",
       "</table>\n",
       "</div>"
      ],
      "text/plain": [
       "  sex        #    FPR  CI_FPR    FNR  CI_FNR\n",
       "0   M  12094.0  0.219   0.007  0.198   0.007\n",
       "1   F  10420.0  0.250   0.007  0.155   0.005"
      ]
     },
     "execution_count": 174,
     "metadata": {},
     "output_type": "execute_result"
    }
   ],
   "source": [
    "Sex = ['M','F' ]\n",
    "FPR_FNR_sex_df = pd.DataFrame(Sex, columns=[\"sex\"])\n",
    "\n",
    "def FiveRunSubgroup(factors, df_in, df_out):\n",
    "    FPR = []\n",
    "    FNR = []\n",
    "    Percent = []\n",
    "    CI_FPR =[]\n",
    "    CI_FNR =[]\n",
    "    ConfI = 1.96 * df_in.loc['std'] / np.sqrt(5)\n",
    "    \n",
    "    for fact in factors:\n",
    "        Percent.append(round(df_in.loc['mean']['#'+fact],3))\n",
    "        FPR.append(round(df_in.loc['mean']['FPR_'+fact],3))\n",
    "        FNR.append(round(df_in.loc['mean']['FNR_'+fact],3))\n",
    "        CI_FPR.append(round(ConfI.loc['FPR_'+fact],3))\n",
    "        CI_FNR.append(round(ConfI.loc['FNR_'+fact],3))     \n",
    "        \n",
    "    df_out['#'] = Percent    \n",
    "    df_out['FPR']=FPR \n",
    "    df_out['CI_FPR']=CI_FPR  \n",
    "\n",
    "    df_out['FNR']=FNR \n",
    "    df_out['CI_FNR']=CI_FNR\n",
    "\n",
    "    return df_out\n",
    "\n",
    "FPR_FNR_sex_df=FiveRunSubgroup(Sex, F_sex_df, FPR_FNR_sex_df)\n",
    "FPR_FNR_sex_df.to_csv('./results/Subgroun_FNR_FPR_Sex.csv')\n",
    "FPR_FNR_sex_df"
   ]
  },
  {
   "cell_type": "markdown",
   "metadata": {},
   "source": [
    "### Age"
   ]
  },
  {
   "cell_type": "code",
   "execution_count": 175,
   "metadata": {},
   "outputs": [],
   "source": [
    "FP5_age = pd.read_csv(\"./results77/FPR5_FNR_NF_age.csv\")\n",
    "FP4_age = pd.read_csv(\"./results19/FPR4_FNR_NF_age.csv\")\n",
    "FP3_age = pd.read_csv(\"./results38/FPR3_FNR_NF_age.csv\")\n",
    "FP2_age = pd.read_csv(\"./results47/FPR2_FNR_NF_age.csv\")\n",
    "FP1_age = pd.read_csv(\"./results31/FPR1_FNR_NF_age.csv\")\n",
    "FP_age = FP1_age.append([FP2_age, FP3_age,FP4_age, FP5_age])\n",
    "F_age_df = FP_age.describe()\n"
   ]
  },
  {
   "cell_type": "code",
   "execution_count": 176,
   "metadata": {},
   "outputs": [
    {
     "name": "stdout",
     "output_type": "stream",
     "text": [
      "FPR distribiution in ages\n",
      "Unnamed: 0       0.000\n",
      "#60-80        9006.000\n",
      "FPR_60-80        0.163\n",
      "FNR_60-80        0.328\n",
      "#40-60        8187.000\n",
      "FPR_40-60        0.274\n",
      "FNR_40-60        0.163\n",
      "#20-40        3060.000\n",
      "FPR_20-40        0.390\n",
      "FNR_20-40        0.064\n",
      "#80-          2016.000\n",
      "FPR_80-          0.114\n",
      "FNR_80-          0.420\n",
      "#0-20          245.000\n",
      "FPR_0-20         0.486\n",
      "FNR_0-20         0.028\n",
      "Name: mean, dtype: float64\n"
     ]
    }
   ],
   "source": [
    "print(\"FPR distribiution in ages\")\n",
    "print(round(F_age_df.loc['mean'],3))"
   ]
  },
  {
   "cell_type": "code",
   "execution_count": 177,
   "metadata": {},
   "outputs": [
    {
     "name": "stdout",
     "output_type": "stream",
     "text": [
      "MIMIC: Mean FPR distribiution over ages\n"
     ]
    },
    {
     "data": {
      "text/plain": [
       "0.28532"
      ]
     },
     "execution_count": 177,
     "metadata": {},
     "output_type": "execute_result"
    }
   ],
   "source": [
    "print(\"MIMIC: Mean FPR distribiution over ages\")\n",
    "mean([F_age_df.loc['mean'][\"FPR_60-80\"], F_age_df.loc['mean'][\"FPR_40-60\"],\n",
    "       F_age_df.loc['mean'][\"FPR_20-40\"], F_age_df.loc['mean'][\"FPR_0-20\"],\n",
    "       F_age_df.loc['mean'][\"FPR_80-\"]])"
   ]
  },
  {
   "cell_type": "code",
   "execution_count": 178,
   "metadata": {},
   "outputs": [
    {
     "data": {
      "text/plain": [
       "Unnamed: 0    0.000\n",
       "#60-80        0.000\n",
       "FPR_60-80     0.007\n",
       "FNR_60-80     0.012\n",
       "#40-60        0.000\n",
       "FPR_40-60     0.007\n",
       "FNR_40-60     0.006\n",
       "#20-40        0.000\n",
       "FPR_20-40     0.010\n",
       "FNR_20-40     0.003\n",
       "#80-          0.000\n",
       "FPR_80-       0.007\n",
       "FNR_80-       0.020\n",
       "#0-20         0.000\n",
       "FPR_0-20      0.024\n",
       "FNR_0-20      0.007\n",
       "Name: std, dtype: float64"
      ]
     },
     "execution_count": 178,
     "metadata": {},
     "output_type": "execute_result"
    }
   ],
   "source": [
    "round(1.96 * F_age_df.loc['std'] / np.sqrt(5),3)"
   ]
  },
  {
   "cell_type": "code",
   "execution_count": 180,
   "metadata": {},
   "outputs": [
    {
     "data": {
      "text/html": [
       "<div>\n",
       "<style scoped>\n",
       "    .dataframe tbody tr th:only-of-type {\n",
       "        vertical-align: middle;\n",
       "    }\n",
       "\n",
       "    .dataframe tbody tr th {\n",
       "        vertical-align: top;\n",
       "    }\n",
       "\n",
       "    .dataframe thead th {\n",
       "        text-align: right;\n",
       "    }\n",
       "</style>\n",
       "<table border=\"1\" class=\"dataframe\">\n",
       "  <thead>\n",
       "    <tr style=\"text-align: right;\">\n",
       "      <th></th>\n",
       "      <th>Age</th>\n",
       "      <th>#</th>\n",
       "      <th>FPR</th>\n",
       "      <th>CI_FPR</th>\n",
       "      <th>FNR</th>\n",
       "      <th>CI_FNR</th>\n",
       "    </tr>\n",
       "  </thead>\n",
       "  <tbody>\n",
       "    <tr>\n",
       "      <th>0</th>\n",
       "      <td>0-20</td>\n",
       "      <td>245.0</td>\n",
       "      <td>0.486</td>\n",
       "      <td>0.024</td>\n",
       "      <td>0.028</td>\n",
       "      <td>0.007</td>\n",
       "    </tr>\n",
       "    <tr>\n",
       "      <th>1</th>\n",
       "      <td>20-40</td>\n",
       "      <td>3060.0</td>\n",
       "      <td>0.390</td>\n",
       "      <td>0.010</td>\n",
       "      <td>0.064</td>\n",
       "      <td>0.003</td>\n",
       "    </tr>\n",
       "    <tr>\n",
       "      <th>2</th>\n",
       "      <td>40-60</td>\n",
       "      <td>8187.0</td>\n",
       "      <td>0.274</td>\n",
       "      <td>0.007</td>\n",
       "      <td>0.163</td>\n",
       "      <td>0.006</td>\n",
       "    </tr>\n",
       "    <tr>\n",
       "      <th>3</th>\n",
       "      <td>60-80</td>\n",
       "      <td>9006.0</td>\n",
       "      <td>0.163</td>\n",
       "      <td>0.007</td>\n",
       "      <td>0.328</td>\n",
       "      <td>0.012</td>\n",
       "    </tr>\n",
       "    <tr>\n",
       "      <th>4</th>\n",
       "      <td>80-</td>\n",
       "      <td>2016.0</td>\n",
       "      <td>0.114</td>\n",
       "      <td>0.007</td>\n",
       "      <td>0.420</td>\n",
       "      <td>0.020</td>\n",
       "    </tr>\n",
       "  </tbody>\n",
       "</table>\n",
       "</div>"
      ],
      "text/plain": [
       "     Age       #    FPR  CI_FPR    FNR  CI_FNR\n",
       "0   0-20   245.0  0.486   0.024  0.028   0.007\n",
       "1  20-40  3060.0  0.390   0.010  0.064   0.003\n",
       "2  40-60  8187.0  0.274   0.007  0.163   0.006\n",
       "3  60-80  9006.0  0.163   0.007  0.328   0.012\n",
       "4    80-  2016.0  0.114   0.007  0.420   0.020"
      ]
     },
     "execution_count": 180,
     "metadata": {},
     "output_type": "execute_result"
    }
   ],
   "source": [
    "Age = ['0-20','20-40','40-60','60-80','80-' ]\n",
    "FPR_FNR_Age_df = pd.DataFrame(Age, columns=[\"Age\"])\n",
    "\n",
    "FPR_FNR_Age_df=FiveRunSubgroup(Age, F_age_df, FPR_FNR_Age_df)\n",
    "FPR_FNR_Age_df.to_csv('./results/Subgroun_FNR_FPR_Age.csv')\n",
    "FPR_FNR_Age_df"
   ]
  },
  {
   "cell_type": "markdown",
   "metadata": {},
   "source": [
    "### Race"
   ]
  },
  {
   "cell_type": "code",
   "execution_count": 165,
   "metadata": {},
   "outputs": [],
   "source": [
    "FP5_race = pd.read_csv(\"./results77/FPR5_FNR_NF_race.csv\")\n",
    "FP4_race = pd.read_csv(\"./results19/FPR4_FNR_NF_race.csv\")\n",
    "FP3_race = pd.read_csv(\"./results38/FPR3_FNR_NF_race.csv\")\n",
    "FP2_race = pd.read_csv(\"./results47/FPR2_FNR_NF_race.csv\")\n",
    "FP1_race = pd.read_csv(\"./results31/FPR1_FNR_NF_race.csv\")\n",
    "\n",
    "FP_race = FP1_race.append([FP2_race, FP3_race,FP4_race, FP5_race])\n",
    "F_race_df = FP_race.describe()"
   ]
  },
  {
   "cell_type": "code",
   "execution_count": 166,
   "metadata": {},
   "outputs": [
    {
     "name": "stdout",
     "output_type": "stream",
     "text": [
      "FPR distribiution in races\n",
      "Unnamed: 0          0.000\n",
      "#White          11620.000\n",
      "FPR_White           0.170\n",
      "FNR_White           0.253\n",
      "#Black           2924.000\n",
      "FPR_Black           0.276\n",
      "FNR_Black           0.168\n",
      "#Hisp             998.000\n",
      "FPR_Hisp            0.275\n",
      "FNR_Hisp            0.162\n",
      "#Other            725.000\n",
      "FPR_Other           0.176\n",
      "FNR_Other           0.201\n",
      "#Asian            407.000\n",
      "FPR_Asian           0.217\n",
      "FNR_Asian           0.134\n",
      "#American          41.000\n",
      "FPR_American        0.176\n",
      "FNR_American        0.246\n",
      "Name: mean, dtype: float64\n"
     ]
    }
   ],
   "source": [
    "print(\"FPR distribiution in races\")\n",
    "print(round(F_race_df.loc['mean'],3))"
   ]
  },
  {
   "cell_type": "code",
   "execution_count": 167,
   "metadata": {},
   "outputs": [
    {
     "data": {
      "text/plain": [
       "Unnamed: 0      0.000\n",
       "#White          0.000\n",
       "FPR_White       0.006\n",
       "FNR_White       0.006\n",
       "#Black          0.000\n",
       "FPR_Black       0.006\n",
       "FNR_Black       0.008\n",
       "#Hisp           0.000\n",
       "FPR_Hisp        0.012\n",
       "FNR_Hisp        0.012\n",
       "#Other          0.000\n",
       "FPR_Other       0.007\n",
       "FNR_Other       0.011\n",
       "#Asian          0.000\n",
       "FPR_Asian       0.007\n",
       "FNR_Asian       0.007\n",
       "#American       0.000\n",
       "FPR_American    0.032\n",
       "FNR_American    0.030\n",
       "Name: std, dtype: float64"
      ]
     },
     "execution_count": 167,
     "metadata": {},
     "output_type": "execute_result"
    }
   ],
   "source": [
    "round(1.96 * F_race_df.loc['std'] / np.sqrt(5),3)"
   ]
  },
  {
   "cell_type": "code",
   "execution_count": 181,
   "metadata": {},
   "outputs": [
    {
     "data": {
      "text/html": [
       "<div>\n",
       "<style scoped>\n",
       "    .dataframe tbody tr th:only-of-type {\n",
       "        vertical-align: middle;\n",
       "    }\n",
       "\n",
       "    .dataframe tbody tr th {\n",
       "        vertical-align: top;\n",
       "    }\n",
       "\n",
       "    .dataframe thead th {\n",
       "        text-align: right;\n",
       "    }\n",
       "</style>\n",
       "<table border=\"1\" class=\"dataframe\">\n",
       "  <thead>\n",
       "    <tr style=\"text-align: right;\">\n",
       "      <th></th>\n",
       "      <th>Race</th>\n",
       "      <th>#</th>\n",
       "      <th>FPR</th>\n",
       "      <th>CI_FPR</th>\n",
       "      <th>FNR</th>\n",
       "      <th>CI_FNR</th>\n",
       "    </tr>\n",
       "  </thead>\n",
       "  <tbody>\n",
       "    <tr>\n",
       "      <th>0</th>\n",
       "      <td>White</td>\n",
       "      <td>11620.0</td>\n",
       "      <td>0.170</td>\n",
       "      <td>0.006</td>\n",
       "      <td>0.253</td>\n",
       "      <td>0.006</td>\n",
       "    </tr>\n",
       "    <tr>\n",
       "      <th>1</th>\n",
       "      <td>Black</td>\n",
       "      <td>2924.0</td>\n",
       "      <td>0.276</td>\n",
       "      <td>0.006</td>\n",
       "      <td>0.168</td>\n",
       "      <td>0.008</td>\n",
       "    </tr>\n",
       "    <tr>\n",
       "      <th>2</th>\n",
       "      <td>Hisp</td>\n",
       "      <td>998.0</td>\n",
       "      <td>0.275</td>\n",
       "      <td>0.012</td>\n",
       "      <td>0.162</td>\n",
       "      <td>0.012</td>\n",
       "    </tr>\n",
       "    <tr>\n",
       "      <th>3</th>\n",
       "      <td>Other</td>\n",
       "      <td>725.0</td>\n",
       "      <td>0.176</td>\n",
       "      <td>0.007</td>\n",
       "      <td>0.201</td>\n",
       "      <td>0.011</td>\n",
       "    </tr>\n",
       "    <tr>\n",
       "      <th>4</th>\n",
       "      <td>Asian</td>\n",
       "      <td>407.0</td>\n",
       "      <td>0.217</td>\n",
       "      <td>0.007</td>\n",
       "      <td>0.134</td>\n",
       "      <td>0.007</td>\n",
       "    </tr>\n",
       "    <tr>\n",
       "      <th>5</th>\n",
       "      <td>American</td>\n",
       "      <td>41.0</td>\n",
       "      <td>0.176</td>\n",
       "      <td>0.032</td>\n",
       "      <td>0.246</td>\n",
       "      <td>0.030</td>\n",
       "    </tr>\n",
       "  </tbody>\n",
       "</table>\n",
       "</div>"
      ],
      "text/plain": [
       "       Race        #    FPR  CI_FPR    FNR  CI_FNR\n",
       "0     White  11620.0  0.170   0.006  0.253   0.006\n",
       "1     Black   2924.0  0.276   0.006  0.168   0.008\n",
       "2      Hisp    998.0  0.275   0.012  0.162   0.012\n",
       "3     Other    725.0  0.176   0.007  0.201   0.011\n",
       "4     Asian    407.0  0.217   0.007  0.134   0.007\n",
       "5  American     41.0  0.176   0.032  0.246   0.030"
      ]
     },
     "execution_count": 181,
     "metadata": {},
     "output_type": "execute_result"
    }
   ],
   "source": [
    "Race = ['White','Black','Hisp','Other','Asian','American' ]\n",
    "FPR_FNR_Race_df = pd.DataFrame(Race, columns=[\"Race\"])\n",
    "\n",
    "FPR_FNR_Race_df=FiveRunSubgroup(Race, F_race_df, FPR_FNR_Race_df)\n",
    "FPR_FNR_Race_df.to_csv('./results/Subgroun_FNR_FPR_Race.csv')\n",
    "FPR_FNR_Race_df"
   ]
  },
  {
   "cell_type": "markdown",
   "metadata": {},
   "source": [
    "## Insurance"
   ]
  },
  {
   "cell_type": "code",
   "execution_count": 184,
   "metadata": {},
   "outputs": [],
   "source": [
    "FP5_insurance = pd.read_csv(\"./results77/FPR5_FNR_NF_insurance.csv\")\n",
    "FP4_insurance = pd.read_csv(\"./results19/FPR4_FNR_NF_insurance.csv\")\n",
    "FP3_insurance = pd.read_csv(\"./results38/FPR3_FNR_NF_insurance.csv\")\n",
    "FP2_insurance = pd.read_csv(\"./results47/FPR2_FNR_NF_insurance.csv\")\n",
    "FP1_insurance = pd.read_csv(\"./results31/FPR1_FNR_NF_insurance.csv\")\n",
    "FP_insurance = FP1_insurance.append([FP2_insurance, FP3_insurance,FP4_insurance, FP5_insurance])\n",
    "FP_insurance_df = FP_insurance.describe()"
   ]
  },
  {
   "cell_type": "code",
   "execution_count": 185,
   "metadata": {},
   "outputs": [
    {
     "name": "stdout",
     "output_type": "stream",
     "text": [
      "FPR distribiution in insurances\n",
      "Unnamed: 0         0.000\n",
      "#Medicare       8507.000\n",
      "FPR_Medicare       0.162\n",
      "FNR_Medicare       0.310\n",
      "#Other          7369.000\n",
      "FPR_Other          0.208\n",
      "FNR_Other          0.178\n",
      "#Medicaid       1591.000\n",
      "FPR_Medicaid       0.274\n",
      "FNR_Medicaid       0.166\n",
      "Name: mean, dtype: float64\n"
     ]
    }
   ],
   "source": [
    "print(\"FPR distribiution in insurances\")\n",
    "print(round(FP_insurance_df.loc['mean'],3))"
   ]
  },
  {
   "cell_type": "code",
   "execution_count": 186,
   "metadata": {},
   "outputs": [
    {
     "data": {
      "text/plain": [
       "Unnamed: 0      0.000\n",
       "#Medicare       0.000\n",
       "FPR_Medicare    0.007\n",
       "FNR_Medicare    0.007\n",
       "#Other          0.000\n",
       "FPR_Other       0.005\n",
       "FNR_Other       0.005\n",
       "#Medicaid       0.000\n",
       "FPR_Medicaid    0.011\n",
       "FNR_Medicaid    0.010\n",
       "Name: std, dtype: float64"
      ]
     },
     "execution_count": 186,
     "metadata": {},
     "output_type": "execute_result"
    }
   ],
   "source": [
    "round(1.96 * FP_insurance_df.loc['std'] / np.sqrt(5),3)"
   ]
  },
  {
   "cell_type": "code",
   "execution_count": 187,
   "metadata": {},
   "outputs": [
    {
     "data": {
      "text/plain": [
       "0.006692761462953838"
      ]
     },
     "execution_count": 187,
     "metadata": {},
     "output_type": "execute_result"
    }
   ],
   "source": [
    "ConfI = 1.96 * FP_insurance_df.loc['std'] / np.sqrt(5)\n",
    "ConfI.loc['FPR_Medicare']"
   ]
  },
  {
   "cell_type": "code",
   "execution_count": 188,
   "metadata": {},
   "outputs": [
    {
     "data": {
      "text/html": [
       "<div>\n",
       "<style scoped>\n",
       "    .dataframe tbody tr th:only-of-type {\n",
       "        vertical-align: middle;\n",
       "    }\n",
       "\n",
       "    .dataframe tbody tr th {\n",
       "        vertical-align: top;\n",
       "    }\n",
       "\n",
       "    .dataframe thead th {\n",
       "        text-align: right;\n",
       "    }\n",
       "</style>\n",
       "<table border=\"1\" class=\"dataframe\">\n",
       "  <thead>\n",
       "    <tr style=\"text-align: right;\">\n",
       "      <th></th>\n",
       "      <th>Insurance</th>\n",
       "      <th>#</th>\n",
       "      <th>FPR</th>\n",
       "      <th>CI_FPR</th>\n",
       "      <th>FNR</th>\n",
       "      <th>CI_FNR</th>\n",
       "    </tr>\n",
       "  </thead>\n",
       "  <tbody>\n",
       "    <tr>\n",
       "      <th>0</th>\n",
       "      <td>Medicare</td>\n",
       "      <td>8507.0</td>\n",
       "      <td>0.162</td>\n",
       "      <td>0.007</td>\n",
       "      <td>0.310</td>\n",
       "      <td>0.007</td>\n",
       "    </tr>\n",
       "    <tr>\n",
       "      <th>1</th>\n",
       "      <td>Other</td>\n",
       "      <td>7369.0</td>\n",
       "      <td>0.208</td>\n",
       "      <td>0.005</td>\n",
       "      <td>0.178</td>\n",
       "      <td>0.005</td>\n",
       "    </tr>\n",
       "    <tr>\n",
       "      <th>2</th>\n",
       "      <td>Medicaid</td>\n",
       "      <td>1591.0</td>\n",
       "      <td>0.274</td>\n",
       "      <td>0.011</td>\n",
       "      <td>0.166</td>\n",
       "      <td>0.010</td>\n",
       "    </tr>\n",
       "  </tbody>\n",
       "</table>\n",
       "</div>"
      ],
      "text/plain": [
       "  Insurance       #    FPR  CI_FPR    FNR  CI_FNR\n",
       "0  Medicare  8507.0  0.162   0.007  0.310   0.007\n",
       "1     Other  7369.0  0.208   0.005  0.178   0.005\n",
       "2  Medicaid  1591.0  0.274   0.011  0.166   0.010"
      ]
     },
     "execution_count": 188,
     "metadata": {},
     "output_type": "execute_result"
    }
   ],
   "source": [
    "Insurance = ['Medicare','Other','Medicaid' ]\n",
    "\n",
    "FPR_FNR_Ins_df = pd.DataFrame(Insurance, columns=[\"Insurance\"])\n",
    "\n",
    "FP_insurance_df=FiveRunSubgroup(Insurance, FP_insurance_df, FPR_FNR_Ins_df)\n",
    "FP_insurance_df.to_csv('./results/Subgroun_FNR_FPR_Insurance.csv')\n",
    "FP_insurance_df"
   ]
  },
  {
   "cell_type": "markdown",
   "metadata": {},
   "source": [
    "## Intersectional identity"
   ]
  },
  {
   "cell_type": "markdown",
   "metadata": {},
   "source": [
    "### Age-Sex"
   ]
  },
  {
   "cell_type": "code",
   "execution_count": 112,
   "metadata": {},
   "outputs": [],
   "source": [
    "FP5_agesex = pd.read_csv(\"./results77/FP5_AgeSex.csv\")\n",
    "FP4_agesex= pd.read_csv(\"./results19/FP4_AgeSex.csv\")\n",
    "FP3_agesex = pd.read_csv(\"./results38/FP3_AgeSex.csv\")\n",
    "FP2_agesex = pd.read_csv(\"./results47/FP2_AgeSex.csv\")\n",
    "FP1_agesex = pd.read_csv(\"./results31/FP1_AgeSex.csv\")\n",
    "FP_agesex = FP1_agesex.append([FP2_agesex, FP3_agesex,FP4_agesex, FP5_agesex])\n",
    "FP_AgeSex =FP_agesex.groupby(\"Age\")   \n",
    "FP_AgSx_df = FP_AgeSex.describe()"
   ]
  },
  {
   "cell_type": "code",
   "execution_count": 113,
   "metadata": {},
   "outputs": [
    {
     "name": "stdout",
     "output_type": "stream",
     "text": [
      "Age-Sex over male\n"
     ]
    },
    {
     "data": {
      "text/plain": [
       "Age\n",
       "0-20     0.430\n",
       "20-40    0.308\n",
       "40-60    0.264\n",
       "60-80    0.159\n",
       "80-      0.103\n",
       "Name: mean, dtype: float64"
      ]
     },
     "execution_count": 113,
     "metadata": {},
     "output_type": "execute_result"
    }
   ],
   "source": [
    "print(\"Age-Sex over male\")\n",
    "round(FP_AgSx_df['M']['mean'],3)"
   ]
  },
  {
   "cell_type": "code",
   "execution_count": 114,
   "metadata": {
    "scrolled": true
   },
   "outputs": [
    {
     "data": {
      "text/plain": [
       "Age\n",
       "0-20     0.032\n",
       "20-40    0.014\n",
       "40-60    0.006\n",
       "60-80    0.006\n",
       "80-      0.005\n",
       "Name: std, dtype: float64"
      ]
     },
     "execution_count": 114,
     "metadata": {},
     "output_type": "execute_result"
    }
   ],
   "source": [
    "round(1.96 * FP_AgSx_df['M'][\"std\"] / np.sqrt(5),3)"
   ]
  },
  {
   "cell_type": "code",
   "execution_count": 115,
   "metadata": {},
   "outputs": [
    {
     "name": "stdout",
     "output_type": "stream",
     "text": [
      "mean:  0.2528\n"
     ]
    }
   ],
   "source": [
    "print(\"mean: \", round(FP_AgSx_df['M']['mean'],3).mean() )"
   ]
  },
  {
   "cell_type": "code",
   "execution_count": 116,
   "metadata": {},
   "outputs": [
    {
     "data": {
      "text/plain": [
       "Age\n",
       "0-20     0.584\n",
       "20-40    0.514\n",
       "40-60    0.285\n",
       "60-80    0.167\n",
       "80-      0.122\n",
       "Name: mean, dtype: float64"
      ]
     },
     "execution_count": 116,
     "metadata": {},
     "output_type": "execute_result"
    }
   ],
   "source": [
    "round(FP_AgSx_df['F']['mean'],3)"
   ]
  },
  {
   "cell_type": "code",
   "execution_count": 117,
   "metadata": {},
   "outputs": [
    {
     "data": {
      "text/plain": [
       "Age\n",
       "0-20     0.023\n",
       "20-40    0.006\n",
       "40-60    0.008\n",
       "60-80    0.008\n",
       "80-      0.010\n",
       "Name: std, dtype: float64"
      ]
     },
     "execution_count": 117,
     "metadata": {},
     "output_type": "execute_result"
    }
   ],
   "source": [
    "round(1.96 * FP_AgSx_df['F'][\"std\"] / np.sqrt(5),3)"
   ]
  },
  {
   "cell_type": "code",
   "execution_count": 118,
   "metadata": {},
   "outputs": [],
   "source": [
    "CI = round(1.96 * FP_AgSx_df['F'][\"std\"] / np.sqrt(5),3)"
   ]
  },
  {
   "cell_type": "code",
   "execution_count": 125,
   "metadata": {},
   "outputs": [
    {
     "data": {
      "text/html": [
       "<div>\n",
       "<style scoped>\n",
       "    .dataframe tbody tr th:only-of-type {\n",
       "        vertical-align: middle;\n",
       "    }\n",
       "\n",
       "    .dataframe tbody tr th {\n",
       "        vertical-align: top;\n",
       "    }\n",
       "\n",
       "    .dataframe thead th {\n",
       "        text-align: right;\n",
       "    }\n",
       "</style>\n",
       "<table border=\"1\" class=\"dataframe\">\n",
       "  <thead>\n",
       "    <tr style=\"text-align: right;\">\n",
       "      <th></th>\n",
       "      <th>Age</th>\n",
       "      <th>F</th>\n",
       "      <th>CI_F</th>\n",
       "      <th>M</th>\n",
       "      <th>CI_M</th>\n",
       "      <th>Unnamed: 0</th>\n",
       "      <th>Num_F</th>\n",
       "      <th>Num_M</th>\n",
       "    </tr>\n",
       "  </thead>\n",
       "  <tbody>\n",
       "    <tr>\n",
       "      <th>0</th>\n",
       "      <td>0-20</td>\n",
       "      <td>0.584</td>\n",
       "      <td>0.023</td>\n",
       "      <td>0.430</td>\n",
       "      <td>0.032</td>\n",
       "      <td>4</td>\n",
       "      <td>89</td>\n",
       "      <td>156</td>\n",
       "    </tr>\n",
       "    <tr>\n",
       "      <th>1</th>\n",
       "      <td>20-40</td>\n",
       "      <td>0.514</td>\n",
       "      <td>0.006</td>\n",
       "      <td>0.308</td>\n",
       "      <td>0.014</td>\n",
       "      <td>2</td>\n",
       "      <td>1222</td>\n",
       "      <td>1838</td>\n",
       "    </tr>\n",
       "    <tr>\n",
       "      <th>2</th>\n",
       "      <td>40-60</td>\n",
       "      <td>0.285</td>\n",
       "      <td>0.008</td>\n",
       "      <td>0.264</td>\n",
       "      <td>0.006</td>\n",
       "      <td>1</td>\n",
       "      <td>3816</td>\n",
       "      <td>4371</td>\n",
       "    </tr>\n",
       "    <tr>\n",
       "      <th>3</th>\n",
       "      <td>60-80</td>\n",
       "      <td>0.167</td>\n",
       "      <td>0.008</td>\n",
       "      <td>0.159</td>\n",
       "      <td>0.006</td>\n",
       "      <td>0</td>\n",
       "      <td>4130</td>\n",
       "      <td>4876</td>\n",
       "    </tr>\n",
       "    <tr>\n",
       "      <th>4</th>\n",
       "      <td>80-</td>\n",
       "      <td>0.122</td>\n",
       "      <td>0.010</td>\n",
       "      <td>0.103</td>\n",
       "      <td>0.005</td>\n",
       "      <td>3</td>\n",
       "      <td>1163</td>\n",
       "      <td>853</td>\n",
       "    </tr>\n",
       "  </tbody>\n",
       "</table>\n",
       "</div>"
      ],
      "text/plain": [
       "     Age      F   CI_F      M   CI_M  Unnamed: 0  Num_F  Num_M\n",
       "0   0-20  0.584  0.023  0.430  0.032           4     89    156\n",
       "1  20-40  0.514  0.006  0.308  0.014           2   1222   1838\n",
       "2  40-60  0.285  0.008  0.264  0.006           1   3816   4371\n",
       "3  60-80  0.167  0.008  0.159  0.006           0   4130   4876\n",
       "4    80-  0.122  0.010  0.103  0.005           3   1163    853"
      ]
     },
     "execution_count": 125,
     "metadata": {},
     "output_type": "execute_result"
    }
   ],
   "source": [
    "factors = ['F', 'M']\n",
    "age =['0-20', '20-40', '40-60', '60-80','80-']\n",
    "AgeSex_df = pd.DataFrame(age, columns=[\"Age\"])\n",
    "Num_df =  pd.read_csv(\"./results77/Num_AgeSex.csv\")\n",
    "\n",
    "\n",
    "def FiveRun(factors,want_df,df,Num):\n",
    "    for factor in factors:    \n",
    "        dfM0 = round(df[factor]['mean'],3)\n",
    "        dfM2 = round(1.96 * df[factor][\"std\"] / np.sqrt(5),3)\n",
    "        want_df[factor] = pd.DataFrame(dfM0.values.tolist(),columns =[factor])\n",
    "        want_df['CI_'+factor] = pd.DataFrame(dfM2.values.tolist(),columns =['CI_'+factor])\n",
    "        \n",
    "        Num['Num_'+factor] = Num[factor]\n",
    "    \n",
    "    Num = Num.drop(factors,axis=1)\n",
    "    want_df = want_df.merge(Num,left_on=\"Age\", right_on=\"Age\")\n",
    "    \n",
    "    return want_df\n",
    "\n",
    "want = FiveRun(factors,AgeSex_df,FP_AgSx_df,Num_df)\n",
    "want.to_csv('./results/Inter_AgeSex.csv')\n",
    "want"
   ]
  },
  {
   "cell_type": "markdown",
   "metadata": {},
   "source": [
    "### Insurace -Sex"
   ]
  },
  {
   "cell_type": "code",
   "execution_count": 103,
   "metadata": {},
   "outputs": [],
   "source": [
    "FP5_InsSex = pd.read_csv(\"./results77/FP5_InsSex.csv\")\n",
    "FP4_InsSex = pd.read_csv(\"./results19/FP4_InsSex.csv\")\n",
    "FP3_InsSex = pd.read_csv(\"./results38/FP3_InsSex.csv\")\n",
    "FP2_InsSex = pd.read_csv(\"./results47/FP2_InsSex.csv\")\n",
    "FP1_InsSex = pd.read_csv(\"./results31/FP1_InsSex.csv\")\n",
    "FP_InsSex = FP1_InsSex.append([FP2_InsSex, FP3_InsSex,FP4_InsSex, FP5_InsSex])\n",
    "FP_InSx =FP_InsSex.groupby(\"Insurance\")\n",
    "FP_InSx_df = FP_InSx.describe()"
   ]
  },
  {
   "cell_type": "code",
   "execution_count": 104,
   "metadata": {},
   "outputs": [
    {
     "data": {
      "text/plain": [
       "Insurance\n",
       "Medicaid    0.268\n",
       "Medicare    0.157\n",
       "Other       0.188\n",
       "Name: mean, dtype: float64"
      ]
     },
     "execution_count": 104,
     "metadata": {},
     "output_type": "execute_result"
    }
   ],
   "source": [
    "round(FP_InSx_df['M']['mean'],3)"
   ]
  },
  {
   "cell_type": "code",
   "execution_count": 105,
   "metadata": {},
   "outputs": [
    {
     "data": {
      "text/plain": [
       "Insurance\n",
       "Medicaid    0.006\n",
       "Medicare    0.007\n",
       "Other       0.006\n",
       "Name: std, dtype: float64"
      ]
     },
     "execution_count": 105,
     "metadata": {},
     "output_type": "execute_result"
    }
   ],
   "source": [
    "round(1.96 * FP_InSx_df['M'][\"std\"] / np.sqrt(5),3)"
   ]
  },
  {
   "cell_type": "code",
   "execution_count": 106,
   "metadata": {},
   "outputs": [
    {
     "data": {
      "text/plain": [
       "Insurance\n",
       "Medicaid    0.280\n",
       "Medicare    0.168\n",
       "Other       0.235\n",
       "Name: mean, dtype: float64"
      ]
     },
     "execution_count": 106,
     "metadata": {},
     "output_type": "execute_result"
    }
   ],
   "source": [
    "round(FP_InSx_df['F']['mean'],3)"
   ]
  },
  {
   "cell_type": "code",
   "execution_count": 107,
   "metadata": {},
   "outputs": [
    {
     "data": {
      "text/plain": [
       "0.015"
      ]
     },
     "execution_count": 107,
     "metadata": {},
     "output_type": "execute_result"
    }
   ],
   "source": [
    "CI=round(1.96 * FP_InSx_df['F'][\"std\"] / np.sqrt(5),3)\n",
    "CI.loc['Medicaid']"
   ]
  },
  {
   "cell_type": "code",
   "execution_count": 108,
   "metadata": {},
   "outputs": [
    {
     "data": {
      "text/plain": [
       "Insurance\n",
       "Medicaid    0.015\n",
       "Medicare    0.010\n",
       "Other       0.005\n",
       "Name: std, dtype: float64"
      ]
     },
     "execution_count": 108,
     "metadata": {},
     "output_type": "execute_result"
    }
   ],
   "source": [
    "round(1.96 * FP_InSx_df['F'][\"std\"] / np.sqrt(5),3)"
   ]
  },
  {
   "cell_type": "code",
   "execution_count": 111,
   "metadata": {},
   "outputs": [
    {
     "data": {
      "text/html": [
       "<div>\n",
       "<style scoped>\n",
       "    .dataframe tbody tr th:only-of-type {\n",
       "        vertical-align: middle;\n",
       "    }\n",
       "\n",
       "    .dataframe tbody tr th {\n",
       "        vertical-align: top;\n",
       "    }\n",
       "\n",
       "    .dataframe thead th {\n",
       "        text-align: right;\n",
       "    }\n",
       "</style>\n",
       "<table border=\"1\" class=\"dataframe\">\n",
       "  <thead>\n",
       "    <tr style=\"text-align: right;\">\n",
       "      <th></th>\n",
       "      <th>Insurance</th>\n",
       "      <th>F</th>\n",
       "      <th>CI_F</th>\n",
       "      <th>M</th>\n",
       "      <th>CI_M</th>\n",
       "      <th>Unnamed: 0</th>\n",
       "      <th>Num_F</th>\n",
       "      <th>Num_M</th>\n",
       "    </tr>\n",
       "  </thead>\n",
       "  <tbody>\n",
       "    <tr>\n",
       "      <th>0</th>\n",
       "      <td>Medicaid</td>\n",
       "      <td>0.280</td>\n",
       "      <td>0.015</td>\n",
       "      <td>0.268</td>\n",
       "      <td>0.006</td>\n",
       "      <td>2</td>\n",
       "      <td>834</td>\n",
       "      <td>757</td>\n",
       "    </tr>\n",
       "    <tr>\n",
       "      <th>1</th>\n",
       "      <td>Medicare</td>\n",
       "      <td>0.168</td>\n",
       "      <td>0.010</td>\n",
       "      <td>0.157</td>\n",
       "      <td>0.007</td>\n",
       "      <td>0</td>\n",
       "      <td>3981</td>\n",
       "      <td>4526</td>\n",
       "    </tr>\n",
       "    <tr>\n",
       "      <th>2</th>\n",
       "      <td>Other</td>\n",
       "      <td>0.235</td>\n",
       "      <td>0.005</td>\n",
       "      <td>0.188</td>\n",
       "      <td>0.006</td>\n",
       "      <td>1</td>\n",
       "      <td>3133</td>\n",
       "      <td>4232</td>\n",
       "    </tr>\n",
       "  </tbody>\n",
       "</table>\n",
       "</div>"
      ],
      "text/plain": [
       "  Insurance      F   CI_F      M   CI_M  Unnamed: 0  Num_F  Num_M\n",
       "0  Medicaid  0.280  0.015  0.268  0.006           2    834    757\n",
       "1  Medicare  0.168  0.010  0.157  0.007           0   3981   4526\n",
       "2     Other  0.235  0.005  0.188  0.006           1   3133   4232"
      ]
     },
     "execution_count": 111,
     "metadata": {},
     "output_type": "execute_result"
    }
   ],
   "source": [
    "factors = ['F', 'M']\n",
    "Insurance = ['Medicaid','Medicare','Other']\n",
    "SexIns_df = pd.DataFrame(Insurance, columns=[\"Insurance\"])\n",
    "Num_df =  pd.read_csv(\"./results77/Num_InsSex.csv\")\n",
    "\n",
    "\n",
    "def FiveRun(factors,want_df,df,Num):\n",
    "    for factor in factors:    \n",
    "        dfM0 = round(df[factor]['mean'],3)\n",
    "        dfM2 = round(1.96 * df[factor][\"std\"] / np.sqrt(5),3)\n",
    "        want_df[factor] = pd.DataFrame(dfM0.values.tolist(),columns =[factor])\n",
    "        want_df['CI_'+factor] = pd.DataFrame(dfM2.values.tolist(),columns =['CI_'+factor])        \n",
    "        Num['Num_'+factor] = Num[factor]\n",
    "    \n",
    "    Num = Num.drop(factors,axis=1)\n",
    "    want_df = want_df.merge(Num,left_on=\"Insurance\", right_on=\"Insurance\")\n",
    "\n",
    "    return want_df\n",
    "\n",
    "want = FiveRun(factors,SexIns_df,FP_InSx_df,Num_df)\n",
    "want.to_csv('./results/Inter_SexIns.csv')\n",
    "want"
   ]
  },
  {
   "cell_type": "markdown",
   "metadata": {},
   "source": [
    "## Insurance-Race"
   ]
  },
  {
   "cell_type": "code",
   "execution_count": 59,
   "metadata": {},
   "outputs": [],
   "source": [
    "FP5_InsRace = pd.read_csv(\"./results77/FP5_InsRace.csv\")\n",
    "FP4_InsRace = pd.read_csv(\"./results19/FP4_InsRace.csv\")\n",
    "FP3_InsRace = pd.read_csv(\"./results38/FP3_InsRace.csv\")\n",
    "FP2_InsRace = pd.read_csv(\"./results47/FP2_InsRace.csv\")\n",
    "FP1_InsRace = pd.read_csv(\"./results31/FP1_InsRace.csv\")\n",
    "FP_InsRace = FP1_InsRace.append([FP2_InsRace, FP3_InsRace,FP4_InsRace, FP5_InsRace])\n",
    "FP_InsRace =FP_InsRace.groupby(\"race\")\n",
    "FP_InRa_df =FP_InsRace.describe()"
   ]
  },
  {
   "cell_type": "code",
   "execution_count": 60,
   "metadata": {},
   "outputs": [
    {
     "data": {
      "text/plain": [
       "race\n",
       "AMERICAN INDIAN/ALASKA NATIVE    0.113\n",
       "ASIAN                            0.121\n",
       "BLACK/AFRICAN AMERICAN           0.250\n",
       "HISPANIC/LATINO                  0.292\n",
       "OTHER                            0.151\n",
       "WHITE                            0.149\n",
       "Name: mean, dtype: float64"
      ]
     },
     "execution_count": 60,
     "metadata": {},
     "output_type": "execute_result"
    }
   ],
   "source": [
    "round(FP_InRa_df['Medicare']['mean'],3)"
   ]
  },
  {
   "cell_type": "code",
   "execution_count": 61,
   "metadata": {},
   "outputs": [
    {
     "data": {
      "text/plain": [
       "race\n",
       "AMERICAN INDIAN/ALASKA NATIVE    0.033\n",
       "ASIAN                            0.012\n",
       "BLACK/AFRICAN AMERICAN           0.009\n",
       "HISPANIC/LATINO                  0.009\n",
       "OTHER                            0.011\n",
       "WHITE                            0.007\n",
       "Name: std, dtype: float64"
      ]
     },
     "execution_count": 61,
     "metadata": {},
     "output_type": "execute_result"
    }
   ],
   "source": [
    "round(1.96 * FP_InRa_df['Medicare'][\"std\"] / np.sqrt(5),3)"
   ]
  },
  {
   "cell_type": "code",
   "execution_count": 62,
   "metadata": {},
   "outputs": [
    {
     "data": {
      "text/plain": [
       "race\n",
       "AMERICAN INDIAN/ALASKA NATIVE      NaN\n",
       "ASIAN                            0.313\n",
       "BLACK/AFRICAN AMERICAN           0.370\n",
       "HISPANIC/LATINO                  0.228\n",
       "OTHER                            0.220\n",
       "WHITE                            0.232\n",
       "Name: mean, dtype: float64"
      ]
     },
     "execution_count": 62,
     "metadata": {},
     "output_type": "execute_result"
    }
   ],
   "source": [
    "round(FP_InRa_df['Medicaid']['mean'],3)"
   ]
  },
  {
   "cell_type": "code",
   "execution_count": 63,
   "metadata": {},
   "outputs": [
    {
     "data": {
      "text/plain": [
       "race\n",
       "AMERICAN INDIAN/ALASKA NATIVE      NaN\n",
       "ASIAN                            0.011\n",
       "BLACK/AFRICAN AMERICAN           0.015\n",
       "HISPANIC/LATINO                  0.019\n",
       "OTHER                            0.016\n",
       "WHITE                            0.010\n",
       "Name: std, dtype: float64"
      ]
     },
     "execution_count": 63,
     "metadata": {},
     "output_type": "execute_result"
    }
   ],
   "source": [
    "round(1.96 * FP_InRa_df['Medicaid'][\"std\"] / np.sqrt(5),3)"
   ]
  },
  {
   "cell_type": "code",
   "execution_count": 64,
   "metadata": {},
   "outputs": [
    {
     "data": {
      "text/plain": [
       "race\n",
       "AMERICAN INDIAN/ALASKA NATIVE    0.346\n",
       "ASIAN                            0.232\n",
       "BLACK/AFRICAN AMERICAN           0.266\n",
       "HISPANIC/LATINO                  0.296\n",
       "OTHER                            0.186\n",
       "WHITE                            0.191\n",
       "Name: mean, dtype: float64"
      ]
     },
     "execution_count": 64,
     "metadata": {},
     "output_type": "execute_result"
    }
   ],
   "source": [
    "round(FP_InRa_df['Other']['mean'],3)"
   ]
  },
  {
   "cell_type": "code",
   "execution_count": 65,
   "metadata": {},
   "outputs": [
    {
     "data": {
      "text/plain": [
       "race\n",
       "AMERICAN INDIAN/ALASKA NATIVE    0.036\n",
       "ASIAN                            0.014\n",
       "BLACK/AFRICAN AMERICAN           0.004\n",
       "HISPANIC/LATINO                  0.010\n",
       "OTHER                            0.008\n",
       "WHITE                            0.006\n",
       "Name: std, dtype: float64"
      ]
     },
     "execution_count": 65,
     "metadata": {},
     "output_type": "execute_result"
    }
   ],
   "source": [
    "round(1.96 * FP_InRa_df['Other'][\"std\"] / np.sqrt(5),3)"
   ]
  },
  {
   "cell_type": "code",
   "execution_count": 67,
   "metadata": {},
   "outputs": [
    {
     "data": {
      "text/html": [
       "<div>\n",
       "<style scoped>\n",
       "    .dataframe tbody tr th:only-of-type {\n",
       "        vertical-align: middle;\n",
       "    }\n",
       "\n",
       "    .dataframe tbody tr th {\n",
       "        vertical-align: top;\n",
       "    }\n",
       "\n",
       "    .dataframe thead th {\n",
       "        text-align: right;\n",
       "    }\n",
       "</style>\n",
       "<table border=\"1\" class=\"dataframe\">\n",
       "  <thead>\n",
       "    <tr style=\"text-align: right;\">\n",
       "      <th></th>\n",
       "      <th>race</th>\n",
       "      <th>Medicaid</th>\n",
       "      <th>CI_Medicaid</th>\n",
       "      <th>Other</th>\n",
       "      <th>CI_Other</th>\n",
       "      <th>Medicare</th>\n",
       "      <th>CI_Medicare</th>\n",
       "      <th>Unnamed: 0</th>\n",
       "      <th>Num_Medicaid</th>\n",
       "      <th>Num_Other</th>\n",
       "      <th>Num_Medicare</th>\n",
       "    </tr>\n",
       "  </thead>\n",
       "  <tbody>\n",
       "    <tr>\n",
       "      <th>0</th>\n",
       "      <td>AMERICAN INDIAN/ALASKA NATIVE</td>\n",
       "      <td>NaN</td>\n",
       "      <td>NaN</td>\n",
       "      <td>0.346</td>\n",
       "      <td>0.036</td>\n",
       "      <td>0.113</td>\n",
       "      <td>0.033</td>\n",
       "      <td>5</td>\n",
       "      <td>0</td>\n",
       "      <td>11</td>\n",
       "      <td>30</td>\n",
       "    </tr>\n",
       "    <tr>\n",
       "      <th>1</th>\n",
       "      <td>ASIAN</td>\n",
       "      <td>0.313</td>\n",
       "      <td>0.011</td>\n",
       "      <td>0.232</td>\n",
       "      <td>0.014</td>\n",
       "      <td>0.121</td>\n",
       "      <td>0.012</td>\n",
       "      <td>4</td>\n",
       "      <td>90</td>\n",
       "      <td>195</td>\n",
       "      <td>122</td>\n",
       "    </tr>\n",
       "    <tr>\n",
       "      <th>2</th>\n",
       "      <td>BLACK/AFRICAN AMERICAN</td>\n",
       "      <td>0.370</td>\n",
       "      <td>0.015</td>\n",
       "      <td>0.266</td>\n",
       "      <td>0.004</td>\n",
       "      <td>0.250</td>\n",
       "      <td>0.009</td>\n",
       "      <td>1</td>\n",
       "      <td>467</td>\n",
       "      <td>1276</td>\n",
       "      <td>1181</td>\n",
       "    </tr>\n",
       "    <tr>\n",
       "      <th>3</th>\n",
       "      <td>HISPANIC/LATINO</td>\n",
       "      <td>0.228</td>\n",
       "      <td>0.019</td>\n",
       "      <td>0.296</td>\n",
       "      <td>0.010</td>\n",
       "      <td>0.292</td>\n",
       "      <td>0.009</td>\n",
       "      <td>2</td>\n",
       "      <td>307</td>\n",
       "      <td>461</td>\n",
       "      <td>230</td>\n",
       "    </tr>\n",
       "    <tr>\n",
       "      <th>4</th>\n",
       "      <td>OTHER</td>\n",
       "      <td>0.220</td>\n",
       "      <td>0.016</td>\n",
       "      <td>0.186</td>\n",
       "      <td>0.008</td>\n",
       "      <td>0.151</td>\n",
       "      <td>0.011</td>\n",
       "      <td>3</td>\n",
       "      <td>61</td>\n",
       "      <td>397</td>\n",
       "      <td>267</td>\n",
       "    </tr>\n",
       "    <tr>\n",
       "      <th>5</th>\n",
       "      <td>WHITE</td>\n",
       "      <td>0.232</td>\n",
       "      <td>0.010</td>\n",
       "      <td>0.191</td>\n",
       "      <td>0.006</td>\n",
       "      <td>0.149</td>\n",
       "      <td>0.007</td>\n",
       "      <td>0</td>\n",
       "      <td>633</td>\n",
       "      <td>4701</td>\n",
       "      <td>6283</td>\n",
       "    </tr>\n",
       "  </tbody>\n",
       "</table>\n",
       "</div>"
      ],
      "text/plain": [
       "                            race  Medicaid  CI_Medicaid  Other  CI_Other  \\\n",
       "0  AMERICAN INDIAN/ALASKA NATIVE       NaN          NaN  0.346     0.036   \n",
       "1                          ASIAN     0.313        0.011  0.232     0.014   \n",
       "2         BLACK/AFRICAN AMERICAN     0.370        0.015  0.266     0.004   \n",
       "3                HISPANIC/LATINO     0.228        0.019  0.296     0.010   \n",
       "4                          OTHER     0.220        0.016  0.186     0.008   \n",
       "5                          WHITE     0.232        0.010  0.191     0.006   \n",
       "\n",
       "   Medicare  CI_Medicare  Unnamed: 0  Num_Medicaid  Num_Other  Num_Medicare  \n",
       "0     0.113        0.033           5             0         11            30  \n",
       "1     0.121        0.012           4            90        195           122  \n",
       "2     0.250        0.009           1           467       1276          1181  \n",
       "3     0.292        0.009           2           307        461           230  \n",
       "4     0.151        0.011           3            61        397           267  \n",
       "5     0.149        0.007           0           633       4701          6283  "
      ]
     },
     "execution_count": 67,
     "metadata": {},
     "output_type": "execute_result"
    }
   ],
   "source": [
    "factors = ['Medicaid', 'Other','Medicare']\n",
    "race = ['AMERICAN INDIAN/ALASKA NATIVE','ASIAN','BLACK/AFRICAN AMERICAN','HISPANIC/LATINO','OTHER','WHITE']\n",
    "RaceIns_df = pd.DataFrame(race, columns=[\"race\"])\n",
    "Num_df =  pd.read_csv(\"./results77/Num_InsRace.csv\")\n",
    "\n",
    "\n",
    "def FiveRun(factors,want_df,df,Num):\n",
    "    for factor in factors:    \n",
    "        dfM0 = round(df[factor]['mean'],3)\n",
    "        dfM2 = round(1.96 * df[factor][\"std\"] / np.sqrt(5),3)\n",
    "        want_df[factor] = pd.DataFrame(dfM0.values.tolist(),columns =[factor])\n",
    "        want_df['CI_'+factor] = pd.DataFrame(dfM2.values.tolist(),columns =['CI_'+factor])        \n",
    "        Num['Num_'+factor] = Num[factor]\n",
    "    \n",
    "    Num = Num.drop(factors,axis=1)\n",
    "    want_df = want_df.merge(Num,left_on=\"race\", right_on=\"race\")\n",
    "\n",
    "    return want_df\n",
    "\n",
    "want = FiveRun(factors,RaceIns_df,FP_InRa_df,Num_df)\n",
    "want.to_csv('./results/Inter_RaceIns.csv')\n",
    "want"
   ]
  },
  {
   "cell_type": "code",
   "execution_count": null,
   "metadata": {},
   "outputs": [],
   "source": []
  },
  {
   "cell_type": "code",
   "execution_count": null,
   "metadata": {},
   "outputs": [],
   "source": []
  },
  {
   "cell_type": "markdown",
   "metadata": {},
   "source": [
    "### Race- Sex"
   ]
  },
  {
   "cell_type": "code",
   "execution_count": 68,
   "metadata": {},
   "outputs": [],
   "source": [
    "FP5_RaceSex = pd.read_csv(\"./results77/FP5_RaceSex.csv\")\n",
    "FP4_RaceSex = pd.read_csv(\"./results19/FP4_RaceSex.csv\")\n",
    "FP3_RaceSex = pd.read_csv(\"./results38/FP3_RaceSex.csv\")\n",
    "FP2_RaceSex = pd.read_csv(\"./results47/FP2_RaceSex.csv\")\n",
    "FP1_RaceSex = pd.read_csv(\"./results31/FP1_RaceSex.csv\")\n",
    "FP_IRaceSex = FP1_RaceSex.append([FP2_RaceSex, FP3_RaceSex,FP4_RaceSex, FP5_RaceSex])\n",
    "FP_RaceSex =FP_IRaceSex.groupby(\"race\")\n",
    "FP_RaceSex_df =FP_RaceSex.describe()"
   ]
  },
  {
   "cell_type": "code",
   "execution_count": 70,
   "metadata": {},
   "outputs": [
    {
     "data": {
      "text/plain": [
       "race\n",
       "AMERICAN INDIAN/ALASKA NATIVE    0.165\n",
       "ASIAN                            0.149\n",
       "BLACK/AFRICAN AMERICAN           0.256\n",
       "HISPANIC/LATINO                  0.206\n",
       "OTHER                            0.167\n",
       "WHITE                            0.172\n",
       "Name: mean, dtype: float64"
      ]
     },
     "execution_count": 70,
     "metadata": {},
     "output_type": "execute_result"
    }
   ],
   "source": [
    "round(FP_RaceSex_df['M']['mean'],3)"
   ]
  },
  {
   "cell_type": "code",
   "execution_count": 71,
   "metadata": {},
   "outputs": [
    {
     "data": {
      "text/plain": [
       "race\n",
       "AMERICAN INDIAN/ALASKA NATIVE    0.050\n",
       "ASIAN                            0.010\n",
       "BLACK/AFRICAN AMERICAN           0.007\n",
       "HISPANIC/LATINO                  0.010\n",
       "OTHER                            0.007\n",
       "WHITE                            0.007\n",
       "Name: std, dtype: float64"
      ]
     },
     "execution_count": 71,
     "metadata": {},
     "output_type": "execute_result"
    }
   ],
   "source": [
    "round(1.96 * FP_RaceSex_df['M'][\"std\"] / np.sqrt(5),3)"
   ]
  },
  {
   "cell_type": "code",
   "execution_count": 72,
   "metadata": {},
   "outputs": [
    {
     "data": {
      "text/plain": [
       "race\n",
       "AMERICAN INDIAN/ALASKA NATIVE    0.189\n",
       "ASIAN                            0.301\n",
       "BLACK/AFRICAN AMERICAN           0.289\n",
       "HISPANIC/LATINO                  0.356\n",
       "OTHER                            0.187\n",
       "WHITE                            0.167\n",
       "Name: mean, dtype: float64"
      ]
     },
     "execution_count": 72,
     "metadata": {},
     "output_type": "execute_result"
    }
   ],
   "source": [
    "round(FP_RaceSex_df['F']['mean'],3)"
   ]
  },
  {
   "cell_type": "code",
   "execution_count": 73,
   "metadata": {},
   "outputs": [
    {
     "data": {
      "text/plain": [
       "race\n",
       "AMERICAN INDIAN/ALASKA NATIVE    0.026\n",
       "ASIAN                            0.011\n",
       "BLACK/AFRICAN AMERICAN           0.008\n",
       "HISPANIC/LATINO                  0.016\n",
       "OTHER                            0.008\n",
       "WHITE                            0.007\n",
       "Name: std, dtype: float64"
      ]
     },
     "execution_count": 73,
     "metadata": {},
     "output_type": "execute_result"
    }
   ],
   "source": [
    "round(1.96 * FP_RaceSex_df['F'][\"std\"] / np.sqrt(5),3)"
   ]
  },
  {
   "cell_type": "code",
   "execution_count": 75,
   "metadata": {},
   "outputs": [
    {
     "data": {
      "text/html": [
       "<div>\n",
       "<style scoped>\n",
       "    .dataframe tbody tr th:only-of-type {\n",
       "        vertical-align: middle;\n",
       "    }\n",
       "\n",
       "    .dataframe tbody tr th {\n",
       "        vertical-align: top;\n",
       "    }\n",
       "\n",
       "    .dataframe thead th {\n",
       "        text-align: right;\n",
       "    }\n",
       "</style>\n",
       "<table border=\"1\" class=\"dataframe\">\n",
       "  <thead>\n",
       "    <tr style=\"text-align: right;\">\n",
       "      <th></th>\n",
       "      <th>race</th>\n",
       "      <th>F</th>\n",
       "      <th>CI_F</th>\n",
       "      <th>M</th>\n",
       "      <th>CI_M</th>\n",
       "      <th>Unnamed: 0</th>\n",
       "      <th>Num_F</th>\n",
       "      <th>Num_M</th>\n",
       "    </tr>\n",
       "  </thead>\n",
       "  <tbody>\n",
       "    <tr>\n",
       "      <th>0</th>\n",
       "      <td>AMERICAN INDIAN/ALASKA NATIVE</td>\n",
       "      <td>0.189</td>\n",
       "      <td>0.026</td>\n",
       "      <td>0.165</td>\n",
       "      <td>0.050</td>\n",
       "      <td>5</td>\n",
       "      <td>18</td>\n",
       "      <td>23</td>\n",
       "    </tr>\n",
       "    <tr>\n",
       "      <th>1</th>\n",
       "      <td>ASIAN</td>\n",
       "      <td>0.301</td>\n",
       "      <td>0.011</td>\n",
       "      <td>0.149</td>\n",
       "      <td>0.010</td>\n",
       "      <td>4</td>\n",
       "      <td>182</td>\n",
       "      <td>225</td>\n",
       "    </tr>\n",
       "    <tr>\n",
       "      <th>2</th>\n",
       "      <td>BLACK/AFRICAN AMERICAN</td>\n",
       "      <td>0.289</td>\n",
       "      <td>0.008</td>\n",
       "      <td>0.256</td>\n",
       "      <td>0.007</td>\n",
       "      <td>1</td>\n",
       "      <td>1772</td>\n",
       "      <td>1152</td>\n",
       "    </tr>\n",
       "    <tr>\n",
       "      <th>3</th>\n",
       "      <td>HISPANIC/LATINO</td>\n",
       "      <td>0.356</td>\n",
       "      <td>0.016</td>\n",
       "      <td>0.206</td>\n",
       "      <td>0.010</td>\n",
       "      <td>2</td>\n",
       "      <td>451</td>\n",
       "      <td>547</td>\n",
       "    </tr>\n",
       "    <tr>\n",
       "      <th>4</th>\n",
       "      <td>OTHER</td>\n",
       "      <td>0.187</td>\n",
       "      <td>0.008</td>\n",
       "      <td>0.167</td>\n",
       "      <td>0.007</td>\n",
       "      <td>3</td>\n",
       "      <td>251</td>\n",
       "      <td>472</td>\n",
       "    </tr>\n",
       "    <tr>\n",
       "      <th>5</th>\n",
       "      <td>WHITE</td>\n",
       "      <td>0.167</td>\n",
       "      <td>0.007</td>\n",
       "      <td>0.172</td>\n",
       "      <td>0.007</td>\n",
       "      <td>0</td>\n",
       "      <td>4930</td>\n",
       "      <td>6688</td>\n",
       "    </tr>\n",
       "  </tbody>\n",
       "</table>\n",
       "</div>"
      ],
      "text/plain": [
       "                            race      F   CI_F      M   CI_M  Unnamed: 0  \\\n",
       "0  AMERICAN INDIAN/ALASKA NATIVE  0.189  0.026  0.165  0.050           5   \n",
       "1                          ASIAN  0.301  0.011  0.149  0.010           4   \n",
       "2         BLACK/AFRICAN AMERICAN  0.289  0.008  0.256  0.007           1   \n",
       "3                HISPANIC/LATINO  0.356  0.016  0.206  0.010           2   \n",
       "4                          OTHER  0.187  0.008  0.167  0.007           3   \n",
       "5                          WHITE  0.167  0.007  0.172  0.007           0   \n",
       "\n",
       "   Num_F  Num_M  \n",
       "0     18     23  \n",
       "1    182    225  \n",
       "2   1772   1152  \n",
       "3    451    547  \n",
       "4    251    472  \n",
       "5   4930   6688  "
      ]
     },
     "execution_count": 75,
     "metadata": {},
     "output_type": "execute_result"
    }
   ],
   "source": [
    "factors = ['F', 'M']\n",
    "race =['AMERICAN INDIAN/ALASKA NATIVE', 'ASIAN', 'BLACK/AFRICAN AMERICAN',\n",
    "       'HISPANIC/LATINO','OTHER','WHITE']\n",
    "RaceSex_df = pd.DataFrame(race, columns=[\"race\"])\n",
    "Num_df =  pd.read_csv(\"./results77/Num_RaceSex.csv\")\n",
    "\n",
    "def FiveRun(factors,want_df,df,Num):\n",
    "    for factor in factors:    \n",
    "        dfM0 = round(df[factor]['mean'],3)\n",
    "        dfM2 = round(1.96 * df[factor][\"std\"] / np.sqrt(5),3)\n",
    "        want_df[factor] = pd.DataFrame(dfM0.values.tolist(),columns =[factor])\n",
    "        want_df['CI_'+factor] = pd.DataFrame(dfM2.values.tolist(),columns =['CI_'+factor])\n",
    "        \n",
    "        Num['Num_'+factor] = Num[factor]\n",
    "    \n",
    "    Num = Num.drop(factors,axis=1)\n",
    "    want_df = want_df.merge(Num,left_on=\"race\", right_on=\"race\")\n",
    "    \n",
    "    return want_df\n",
    "\n",
    "want = FiveRun(factors,RaceSex_df,FP_RaceSex_df,Num_df)\n",
    "want.to_csv('./results/Inter_RaceSex.csv')\n",
    "want"
   ]
  },
  {
   "cell_type": "code",
   "execution_count": 76,
   "metadata": {},
   "outputs": [
    {
     "data": {
      "text/plain": [
       "3    0.01\n",
       "Name: CI_M, dtype: float64"
      ]
     },
     "execution_count": 76,
     "metadata": {},
     "output_type": "execute_result"
    }
   ],
   "source": [
    "want.loc[want['race']=='HISPANIC/LATINO','CI_M']"
   ]
  },
  {
   "cell_type": "code",
   "execution_count": 77,
   "metadata": {},
   "outputs": [
    {
     "data": {
      "text/plain": [
       "0.01"
      ]
     },
     "execution_count": 77,
     "metadata": {},
     "output_type": "execute_result"
    }
   ],
   "source": [
    "want[want['race']=='HISPANIC/LATINO']['CI_M'].tolist()[0]"
   ]
  },
  {
   "cell_type": "markdown",
   "metadata": {},
   "source": [
    "### Insurance-Age"
   ]
  },
  {
   "cell_type": "code",
   "execution_count": 94,
   "metadata": {},
   "outputs": [],
   "source": [
    "FP5_InsAge = pd.read_csv(\"./results77/FP5_InsAge.csv\")\n",
    "FP4_InsAge = pd.read_csv(\"./results19/FP4_InsAge.csv\")\n",
    "FP3_InsAge = pd.read_csv(\"./results38/FP3_InsAge.csv\")\n",
    "FP2_InsAge = pd.read_csv(\"./results47/FP2_InsAge.csv\")\n",
    "FP1_InsAge = pd.read_csv(\"./results31/FP1_InsAge.csv\")\n",
    "FP_InsAge = FP1_InsAge.append([FP2_InsAge, FP3_InsAge,FP4_InsAge, FP5_InsAge])\n",
    "FP_InsAge =FP_InsAge.groupby(\"age\")\n",
    "FP_InsAge_df =FP_InsAge.describe()"
   ]
  },
  {
   "cell_type": "code",
   "execution_count": 95,
   "metadata": {},
   "outputs": [
    {
     "data": {
      "text/plain": [
       "age\n",
       "0-20     0.303\n",
       "20-40    0.406\n",
       "40-60    0.238\n",
       "60-80    0.124\n",
       "80-      0.098\n",
       "Name: mean, dtype: float64"
      ]
     },
     "execution_count": 95,
     "metadata": {},
     "output_type": "execute_result"
    }
   ],
   "source": [
    "round(FP_InsAge_df['Medicare']['mean'],3)"
   ]
  },
  {
   "cell_type": "code",
   "execution_count": 96,
   "metadata": {},
   "outputs": [
    {
     "data": {
      "text/plain": [
       "age\n",
       "0-20     0.051\n",
       "20-40    0.012\n",
       "40-60    0.008\n",
       "60-80    0.007\n",
       "80-      0.008\n",
       "Name: std, dtype: float64"
      ]
     },
     "execution_count": 96,
     "metadata": {},
     "output_type": "execute_result"
    }
   ],
   "source": [
    "round(1.96 * FP_InsAge_df['Medicare'][\"std\"] / np.sqrt(5),3)"
   ]
  },
  {
   "cell_type": "code",
   "execution_count": 97,
   "metadata": {},
   "outputs": [
    {
     "data": {
      "text/plain": [
       "age\n",
       "0-20     0.341\n",
       "20-40    0.268\n",
       "40-60    0.233\n",
       "60-80    0.148\n",
       "80-      0.098\n",
       "Name: mean, dtype: float64"
      ]
     },
     "execution_count": 97,
     "metadata": {},
     "output_type": "execute_result"
    }
   ],
   "source": [
    "round(FP_InsAge_df['Other']['mean'],3)"
   ]
  },
  {
   "cell_type": "code",
   "execution_count": 98,
   "metadata": {},
   "outputs": [
    {
     "data": {
      "text/plain": [
       "age\n",
       "0-20     0.019\n",
       "20-40    0.012\n",
       "40-60    0.005\n",
       "60-80    0.004\n",
       "80-      0.009\n",
       "Name: std, dtype: float64"
      ]
     },
     "execution_count": 98,
     "metadata": {},
     "output_type": "execute_result"
    }
   ],
   "source": [
    "round(1.96 * FP_InsAge_df['Other'][\"std\"] / np.sqrt(5),3)"
   ]
  },
  {
   "cell_type": "code",
   "execution_count": 99,
   "metadata": {},
   "outputs": [
    {
     "data": {
      "text/plain": [
       "age\n",
       "0-20     0.729\n",
       "20-40    0.431\n",
       "40-60    0.258\n",
       "60-80    0.128\n",
       "80-      0.012\n",
       "Name: mean, dtype: float64"
      ]
     },
     "execution_count": 99,
     "metadata": {},
     "output_type": "execute_result"
    }
   ],
   "source": [
    "round(FP_InsAge_df['Medicaid']['mean'],3)"
   ]
  },
  {
   "cell_type": "code",
   "execution_count": 100,
   "metadata": {},
   "outputs": [
    {
     "data": {
      "text/plain": [
       "age\n",
       "0-20     0.052\n",
       "20-40    0.018\n",
       "40-60    0.008\n",
       "60-80    0.011\n",
       "80-      0.014\n",
       "Name: std, dtype: float64"
      ]
     },
     "execution_count": 100,
     "metadata": {},
     "output_type": "execute_result"
    }
   ],
   "source": [
    "round(1.96 * FP_InsAge_df['Medicaid'][\"std\"] / np.sqrt(5),3)"
   ]
  },
  {
   "cell_type": "code",
   "execution_count": 101,
   "metadata": {},
   "outputs": [],
   "source": [
    "factors = ['Medicaid', 'Other','Medicare']\n",
    "age =['0-20', '20-40', '40-60', '60-80','80-']\n",
    "AgeIns_df = pd.DataFrame(age, columns=[\"age\"])\n",
    "Num_df =  pd.read_csv(\"./results77/Num_InsAge.csv\")\n",
    "\n",
    "\n",
    "def FiveRun(factors,want_df,df,Num):\n",
    "    for factor in factors:    \n",
    "        dfM0 = round(df[factor]['mean'],3)\n",
    "        dfM2 = round(1.96 * df[factor][\"std\"] / np.sqrt(5),3)\n",
    "        want_df[factor] = pd.DataFrame(dfM0.values.tolist(),columns =[factor])\n",
    "        want_df['CI_'+factor] = pd.DataFrame(dfM2.values.tolist(),columns =['CI_'+factor])\n",
    "        \n",
    "        Num['Num_'+factor] = Num[factor]\n",
    "    \n",
    "    Num = Num.drop(factors,axis=1)\n",
    "    want_df = want_df.merge(Num,left_on=\"age\", right_on=\"age\")\n",
    "    \n",
    "    return want_df\n",
    "\n",
    "want = FiveRun(factors,AgeIns_df,FP_InsAge_df,Num_df)\n",
    "want.to_csv('./results/Inter_AgeIns.csv')"
   ]
  },
  {
   "cell_type": "code",
   "execution_count": 102,
   "metadata": {},
   "outputs": [
    {
     "data": {
      "text/html": [
       "<div>\n",
       "<style scoped>\n",
       "    .dataframe tbody tr th:only-of-type {\n",
       "        vertical-align: middle;\n",
       "    }\n",
       "\n",
       "    .dataframe tbody tr th {\n",
       "        vertical-align: top;\n",
       "    }\n",
       "\n",
       "    .dataframe thead th {\n",
       "        text-align: right;\n",
       "    }\n",
       "</style>\n",
       "<table border=\"1\" class=\"dataframe\">\n",
       "  <thead>\n",
       "    <tr style=\"text-align: right;\">\n",
       "      <th></th>\n",
       "      <th>age</th>\n",
       "      <th>Medicaid</th>\n",
       "      <th>CI_Medicaid</th>\n",
       "      <th>Other</th>\n",
       "      <th>CI_Other</th>\n",
       "      <th>Medicare</th>\n",
       "      <th>CI_Medicare</th>\n",
       "      <th>Unnamed: 0</th>\n",
       "      <th>Num_Medicaid</th>\n",
       "      <th>Num_Other</th>\n",
       "      <th>Num_Medicare</th>\n",
       "    </tr>\n",
       "  </thead>\n",
       "  <tbody>\n",
       "    <tr>\n",
       "      <th>0</th>\n",
       "      <td>0-20</td>\n",
       "      <td>0.729</td>\n",
       "      <td>0.052</td>\n",
       "      <td>0.341</td>\n",
       "      <td>0.019</td>\n",
       "      <td>0.303</td>\n",
       "      <td>0.051</td>\n",
       "      <td>4</td>\n",
       "      <td>14</td>\n",
       "      <td>85</td>\n",
       "      <td>39</td>\n",
       "    </tr>\n",
       "    <tr>\n",
       "      <th>1</th>\n",
       "      <td>20-40</td>\n",
       "      <td>0.431</td>\n",
       "      <td>0.018</td>\n",
       "      <td>0.268</td>\n",
       "      <td>0.012</td>\n",
       "      <td>0.406</td>\n",
       "      <td>0.012</td>\n",
       "      <td>2</td>\n",
       "      <td>359</td>\n",
       "      <td>1447</td>\n",
       "      <td>263</td>\n",
       "    </tr>\n",
       "    <tr>\n",
       "      <th>2</th>\n",
       "      <td>40-60</td>\n",
       "      <td>0.258</td>\n",
       "      <td>0.008</td>\n",
       "      <td>0.233</td>\n",
       "      <td>0.005</td>\n",
       "      <td>0.238</td>\n",
       "      <td>0.008</td>\n",
       "      <td>1</td>\n",
       "      <td>920</td>\n",
       "      <td>3153</td>\n",
       "      <td>2378</td>\n",
       "    </tr>\n",
       "    <tr>\n",
       "      <th>3</th>\n",
       "      <td>60-80</td>\n",
       "      <td>0.128</td>\n",
       "      <td>0.011</td>\n",
       "      <td>0.148</td>\n",
       "      <td>0.004</td>\n",
       "      <td>0.124</td>\n",
       "      <td>0.007</td>\n",
       "      <td>0</td>\n",
       "      <td>265</td>\n",
       "      <td>2270</td>\n",
       "      <td>4736</td>\n",
       "    </tr>\n",
       "    <tr>\n",
       "      <th>4</th>\n",
       "      <td>80-</td>\n",
       "      <td>0.012</td>\n",
       "      <td>0.014</td>\n",
       "      <td>0.098</td>\n",
       "      <td>0.009</td>\n",
       "      <td>0.098</td>\n",
       "      <td>0.008</td>\n",
       "      <td>3</td>\n",
       "      <td>33</td>\n",
       "      <td>410</td>\n",
       "      <td>1091</td>\n",
       "    </tr>\n",
       "  </tbody>\n",
       "</table>\n",
       "</div>"
      ],
      "text/plain": [
       "     age  Medicaid  CI_Medicaid  Other  CI_Other  Medicare  CI_Medicare  \\\n",
       "0   0-20     0.729        0.052  0.341     0.019     0.303        0.051   \n",
       "1  20-40     0.431        0.018  0.268     0.012     0.406        0.012   \n",
       "2  40-60     0.258        0.008  0.233     0.005     0.238        0.008   \n",
       "3  60-80     0.128        0.011  0.148     0.004     0.124        0.007   \n",
       "4    80-     0.012        0.014  0.098     0.009     0.098        0.008   \n",
       "\n",
       "   Unnamed: 0  Num_Medicaid  Num_Other  Num_Medicare  \n",
       "0           4            14         85            39  \n",
       "1           2           359       1447           263  \n",
       "2           1           920       3153          2378  \n",
       "3           0           265       2270          4736  \n",
       "4           3            33        410          1091  "
      ]
     },
     "execution_count": 102,
     "metadata": {},
     "output_type": "execute_result"
    }
   ],
   "source": [
    "want"
   ]
  },
  {
   "cell_type": "markdown",
   "metadata": {},
   "source": [
    "### Race-Age"
   ]
  },
  {
   "cell_type": "code",
   "execution_count": 90,
   "metadata": {},
   "outputs": [],
   "source": [
    "FP5_RaceAge = pd.read_csv(\"./results77/FP5_RaceAge.csv\")\n",
    "FP4_RaceAge = pd.read_csv(\"./results19/FP4_RaceAge.csv\")\n",
    "FP3_RaceAge = pd.read_csv(\"./results38/FP3_RaceAge.csv\")\n",
    "FP2_RaceAge = pd.read_csv(\"./results47/FP2_RaceAge.csv\")\n",
    "FP1_RaceAge = pd.read_csv(\"./results31/FP1_RaceAge.csv\")\n",
    "FP_RaceAge = FP1_RaceAge.append([FP2_RaceAge, FP3_RaceAge,FP4_RaceAge, FP5_RaceAge])\n",
    "FP_RaceAge = FP_RaceAge.groupby(\"age\")\n",
    "FP_RaceAge_df =FP_RaceAge.describe()"
   ]
  },
  {
   "cell_type": "code",
   "execution_count": 93,
   "metadata": {
    "scrolled": true
   },
   "outputs": [
    {
     "data": {
      "text/html": [
       "<div>\n",
       "<style scoped>\n",
       "    .dataframe tbody tr th:only-of-type {\n",
       "        vertical-align: middle;\n",
       "    }\n",
       "\n",
       "    .dataframe tbody tr th {\n",
       "        vertical-align: top;\n",
       "    }\n",
       "\n",
       "    .dataframe thead th {\n",
       "        text-align: right;\n",
       "    }\n",
       "</style>\n",
       "<table border=\"1\" class=\"dataframe\">\n",
       "  <thead>\n",
       "    <tr style=\"text-align: right;\">\n",
       "      <th></th>\n",
       "      <th>age</th>\n",
       "      <th>White</th>\n",
       "      <th>CI_White</th>\n",
       "      <th>Black</th>\n",
       "      <th>CI_Black</th>\n",
       "      <th>Hisp</th>\n",
       "      <th>CI_Hisp</th>\n",
       "      <th>Other</th>\n",
       "      <th>CI_Other</th>\n",
       "      <th>Asian</th>\n",
       "      <th>CI_Asian</th>\n",
       "      <th>American</th>\n",
       "      <th>CI_American</th>\n",
       "      <th>Unnamed: 0</th>\n",
       "      <th>Num_White</th>\n",
       "      <th>Num_Black</th>\n",
       "      <th>Num_Hisp</th>\n",
       "      <th>Num_Other</th>\n",
       "      <th>Num_Asian</th>\n",
       "      <th>Num_American</th>\n",
       "    </tr>\n",
       "  </thead>\n",
       "  <tbody>\n",
       "    <tr>\n",
       "      <th>0</th>\n",
       "      <td>0-20</td>\n",
       "      <td>0.302</td>\n",
       "      <td>0.027</td>\n",
       "      <td>0.737</td>\n",
       "      <td>0.033</td>\n",
       "      <td>0.200</td>\n",
       "      <td>0.240</td>\n",
       "      <td>1.000</td>\n",
       "      <td>0.000</td>\n",
       "      <td>0.000</td>\n",
       "      <td>0.000</td>\n",
       "      <td>NaN</td>\n",
       "      <td>NaN</td>\n",
       "      <td>4</td>\n",
       "      <td>108</td>\n",
       "      <td>19</td>\n",
       "      <td>2</td>\n",
       "      <td>4</td>\n",
       "      <td>2</td>\n",
       "      <td>0</td>\n",
       "    </tr>\n",
       "    <tr>\n",
       "      <th>1</th>\n",
       "      <td>20-40</td>\n",
       "      <td>0.331</td>\n",
       "      <td>0.014</td>\n",
       "      <td>0.346</td>\n",
       "      <td>0.011</td>\n",
       "      <td>0.231</td>\n",
       "      <td>0.012</td>\n",
       "      <td>0.300</td>\n",
       "      <td>0.024</td>\n",
       "      <td>0.269</td>\n",
       "      <td>0.018</td>\n",
       "      <td>0.200</td>\n",
       "      <td>0.044</td>\n",
       "      <td>2</td>\n",
       "      <td>930</td>\n",
       "      <td>617</td>\n",
       "      <td>315</td>\n",
       "      <td>70</td>\n",
       "      <td>64</td>\n",
       "      <td>9</td>\n",
       "    </tr>\n",
       "    <tr>\n",
       "      <th>2</th>\n",
       "      <td>40-60</td>\n",
       "      <td>0.213</td>\n",
       "      <td>0.006</td>\n",
       "      <td>0.308</td>\n",
       "      <td>0.009</td>\n",
       "      <td>0.342</td>\n",
       "      <td>0.014</td>\n",
       "      <td>0.222</td>\n",
       "      <td>0.007</td>\n",
       "      <td>0.322</td>\n",
       "      <td>0.012</td>\n",
       "      <td>1.000</td>\n",
       "      <td>0.000</td>\n",
       "      <td>1</td>\n",
       "      <td>4278</td>\n",
       "      <td>1225</td>\n",
       "      <td>399</td>\n",
       "      <td>230</td>\n",
       "      <td>115</td>\n",
       "      <td>2</td>\n",
       "    </tr>\n",
       "    <tr>\n",
       "      <th>3</th>\n",
       "      <td>60-80</td>\n",
       "      <td>0.117</td>\n",
       "      <td>0.007</td>\n",
       "      <td>0.200</td>\n",
       "      <td>0.005</td>\n",
       "      <td>0.232</td>\n",
       "      <td>0.014</td>\n",
       "      <td>0.123</td>\n",
       "      <td>0.009</td>\n",
       "      <td>0.200</td>\n",
       "      <td>0.005</td>\n",
       "      <td>0.113</td>\n",
       "      <td>0.033</td>\n",
       "      <td>0</td>\n",
       "      <td>5143</td>\n",
       "      <td>942</td>\n",
       "      <td>268</td>\n",
       "      <td>364</td>\n",
       "      <td>160</td>\n",
       "      <td>30</td>\n",
       "    </tr>\n",
       "    <tr>\n",
       "      <th>4</th>\n",
       "      <td>80-</td>\n",
       "      <td>0.102</td>\n",
       "      <td>0.009</td>\n",
       "      <td>0.117</td>\n",
       "      <td>0.012</td>\n",
       "      <td>0.143</td>\n",
       "      <td>0.000</td>\n",
       "      <td>0.095</td>\n",
       "      <td>0.013</td>\n",
       "      <td>0.030</td>\n",
       "      <td>0.009</td>\n",
       "      <td>NaN</td>\n",
       "      <td>NaN</td>\n",
       "      <td>3</td>\n",
       "      <td>1159</td>\n",
       "      <td>121</td>\n",
       "      <td>14</td>\n",
       "      <td>55</td>\n",
       "      <td>66</td>\n",
       "      <td>0</td>\n",
       "    </tr>\n",
       "  </tbody>\n",
       "</table>\n",
       "</div>"
      ],
      "text/plain": [
       "     age  White  CI_White  Black  CI_Black   Hisp  CI_Hisp  Other  CI_Other  \\\n",
       "0   0-20  0.302     0.027  0.737     0.033  0.200    0.240  1.000     0.000   \n",
       "1  20-40  0.331     0.014  0.346     0.011  0.231    0.012  0.300     0.024   \n",
       "2  40-60  0.213     0.006  0.308     0.009  0.342    0.014  0.222     0.007   \n",
       "3  60-80  0.117     0.007  0.200     0.005  0.232    0.014  0.123     0.009   \n",
       "4    80-  0.102     0.009  0.117     0.012  0.143    0.000  0.095     0.013   \n",
       "\n",
       "   Asian  CI_Asian  American  CI_American  Unnamed: 0  Num_White  Num_Black  \\\n",
       "0  0.000     0.000       NaN          NaN           4        108         19   \n",
       "1  0.269     0.018     0.200        0.044           2        930        617   \n",
       "2  0.322     0.012     1.000        0.000           1       4278       1225   \n",
       "3  0.200     0.005     0.113        0.033           0       5143        942   \n",
       "4  0.030     0.009       NaN          NaN           3       1159        121   \n",
       "\n",
       "   Num_Hisp  Num_Other  Num_Asian  Num_American  \n",
       "0         2          4          2             0  \n",
       "1       315         70         64             9  \n",
       "2       399        230        115             2  \n",
       "3       268        364        160            30  \n",
       "4        14         55         66             0  "
      ]
     },
     "execution_count": 93,
     "metadata": {},
     "output_type": "execute_result"
    }
   ],
   "source": [
    "factors = ['White', 'Black','Hisp','Other','Asian','American']\n",
    "age =['0-20', '20-40', '40-60', '60-80','80-']\n",
    "RaceAge_df = pd.DataFrame(age, columns=[\"age\"])\n",
    "Num_df =  pd.read_csv(\"./results77/Num_RaceAge.csv\")\n",
    "\n",
    "\n",
    "\n",
    "\n",
    "\n",
    "want = FiveRun(factors,RaceAge_df,FP_RaceAge_df,Num_df)\n",
    "want.to_csv('./results/Inter_RaceAge.csv')\n",
    "want"
   ]
  },
  {
   "cell_type": "code",
   "execution_count": null,
   "metadata": {},
   "outputs": [],
   "source": [
    "want.loc[want['age']=='0-20','Hisp']"
   ]
  },
  {
   "cell_type": "markdown",
   "metadata": {},
   "source": [
    "## AUC Performance confidence interval "
   ]
  },
  {
   "cell_type": "code",
   "execution_count": null,
   "metadata": {},
   "outputs": [],
   "source": [
    "Eval5 = pd.read_csv(\"./results77/Eval5.csv\")\n",
    "Eval4 = pd.read_csv(\"./results19/Eval4.csv\")\n",
    "Eval3 = pd.read_csv(\"./results38/Eval3.csv\")\n",
    "Eval2 = pd.read_csv(\"./results47/Eval2.csv\")\n",
    "Eval1 = pd.read_csv(\"./results31/Eval1.csv\")"
   ]
  },
  {
   "cell_type": "code",
   "execution_count": null,
   "metadata": {},
   "outputs": [],
   "source": [
    "\n",
    "Evalall = Eval1[['label','auc']]\n",
    "\n",
    "Evalall[\"auc2\"]=Eval2['auc']\n",
    "Evalall[\"auc3\"]=Eval3['auc']\n",
    "Evalall[\"auc4\"]=Eval4['auc']\n",
    "Evalall[\"auc5\"]=Eval5['auc']\n",
    "Evalall"
   ]
  },
  {
   "cell_type": "code",
   "execution_count": null,
   "metadata": {},
   "outputs": [],
   "source": [
    "Evala_dis =Evalall.groupby(\"label\")"
   ]
  },
  {
   "cell_type": "code",
   "execution_count": null,
   "metadata": {},
   "outputs": [],
   "source": [
    "round(Evalall.mean(axis=0),3)"
   ]
  },
  {
   "cell_type": "code",
   "execution_count": null,
   "metadata": {},
   "outputs": [],
   "source": [
    "print(\"MIMIC Mean of 14 aucs mean over 5 run:     \",round(Evalall.mean(axis=0).mean(),3))\n",
    "print(\"MIMIC Confidence interval of 14 aucs mean over 5 run:   \",round(1.96 * Evalall.mean(axis=0).std()/np.sqrt(5) ,3 ) )"
   ]
  },
  {
   "cell_type": "code",
   "execution_count": null,
   "metadata": {},
   "outputs": [],
   "source": [
    "print(\"MIMIC Mean of auce per disease over 5 run:     \")\n",
    "round(Evalall.mean(axis=1),3)"
   ]
  },
  {
   "cell_type": "code",
   "execution_count": null,
   "metadata": {},
   "outputs": [],
   "source": [
    "print(\"MIMIC Confidence interval of auce per disease over 5 run:     \")\n",
    "round(1.96 * Evalall.std(axis=1)/ np.sqrt(5),3)"
   ]
  },
  {
   "cell_type": "code",
   "execution_count": null,
   "metadata": {},
   "outputs": [],
   "source": []
  }
 ],
 "metadata": {
  "kernelspec": {
   "display_name": "Python 3",
   "language": "python",
   "name": "python3"
  },
  "language_info": {
   "codemirror_mode": {
    "name": "ipython",
    "version": 3
   },
   "file_extension": ".py",
   "mimetype": "text/x-python",
   "name": "python",
   "nbconvert_exporter": "python",
   "pygments_lexer": "ipython3",
   "version": "3.7.3"
  }
 },
 "nbformat": 4,
 "nbformat_minor": 2
}
